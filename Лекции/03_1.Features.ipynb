{
 "cells": [
  {
   "cell_type": "markdown",
   "id": "sapphire-cancellation",
   "metadata": {},
   "source": [
    "# 3.1. Формирование факторных признаков для моделирования"
   ]
  },
  {
   "cell_type": "code",
   "execution_count": 1,
   "id": "provincial-christianity",
   "metadata": {},
   "outputs": [],
   "source": [
    "import os\n",
    "from pandas import read_csv\n",
    "from pandas import DataFrame\n",
    "from pandas import concat"
   ]
  },
  {
   "cell_type": "code",
   "execution_count": 2,
   "id": "cloudy-fossil",
   "metadata": {},
   "outputs": [],
   "source": [
    "os.chdir(\"C:/Users/HP/Documents/analysis/TS/data/\")"
   ]
  },
  {
   "cell_type": "markdown",
   "id": "traditional-oakland",
   "metadata": {},
   "source": [
    "# Basic Feature Engineering"
   ]
  },
  {
   "cell_type": "code",
   "execution_count": 3,
   "id": "modular-calculator",
   "metadata": {},
   "outputs": [
    {
     "name": "stdout",
     "output_type": "stream",
     "text": [
      "   month  day  temperature\n",
      "0      1    1         20.7\n",
      "1      1    2         17.9\n",
      "2      1    3         18.8\n",
      "3      1    4         14.6\n",
      "4      1    5         15.8\n"
     ]
    }
   ],
   "source": [
    "# create date time features of a dataset\n",
    "series = read_csv('daily-minimum-temperatures.csv', header=0, index_col=0, parse_dates=True, squeeze=True)\n",
    "dataframe = DataFrame()\n",
    "dataframe['month'] = [series.index[i].month for i in range(len(series))]\n",
    "dataframe['day'] = [series.index[i].day for i in range(len(series))]\n",
    "dataframe['temperature'] = [series[i] for i in range(len(series))]\n",
    "print(dataframe.head(5))"
   ]
  },
  {
   "cell_type": "code",
   "execution_count": 4,
   "id": "victorian-nurse",
   "metadata": {},
   "outputs": [
    {
     "name": "stdout",
     "output_type": "stream",
     "text": [
      "      t   t+1\n",
      "0   NaN  20.7\n",
      "1  20.7  17.9\n",
      "2  17.9  18.8\n",
      "3  18.8  14.6\n",
      "4  14.6  15.8\n"
     ]
    }
   ],
   "source": [
    "# create a lag feature\n",
    "temps = DataFrame(series.values)\n",
    "dataframe = concat([temps.shift(1), temps], axis=1)\n",
    "dataframe.columns = ['t', 't+1']\n",
    "print(dataframe.head(5))"
   ]
  },
  {
   "cell_type": "code",
   "execution_count": 5,
   "id": "underlying-owner",
   "metadata": {},
   "outputs": [
    {
     "name": "stdout",
     "output_type": "stream",
     "text": [
      "    t-2   t-1     t   t+1\n",
      "0   NaN   NaN   NaN  20.7\n",
      "1   NaN   NaN  20.7  17.9\n",
      "2   NaN  20.7  17.9  18.8\n",
      "3  20.7  17.9  18.8  14.6\n",
      "4  17.9  18.8  14.6  15.8\n"
     ]
    }
   ],
   "source": [
    "# create lag features\n",
    "temps = DataFrame(series.values)\n",
    "dataframe = concat([temps.shift(3), temps.shift(2), temps.shift(1), temps], axis=1)\n",
    "dataframe.columns = ['t-2', 't-1', 't', 't+1']\n",
    "print(dataframe.head(5))"
   ]
  },
  {
   "cell_type": "code",
   "execution_count": 6,
   "id": "foreign-pickup",
   "metadata": {},
   "outputs": [
    {
     "name": "stdout",
     "output_type": "stream",
     "text": [
      "   mean(t-1,t)   t+1\n",
      "0          NaN  20.7\n",
      "1          NaN  17.9\n",
      "2        19.30  18.8\n",
      "3        18.35  14.6\n",
      "4        16.70  15.8\n"
     ]
    }
   ],
   "source": [
    "# create a rolling mean feature\n",
    "temps = DataFrame(series.values)\n",
    "shifted = temps.shift(1)\n",
    "window = shifted.rolling(window=2)\n",
    "means = window.mean()\n",
    "dataframe = concat([means, temps], axis=1)\n",
    "dataframe.columns = ['mean(t-1,t)', 't+1']\n",
    "print(dataframe.head(5))"
   ]
  },
  {
   "cell_type": "code",
   "execution_count": 7,
   "id": "danish-female",
   "metadata": {},
   "outputs": [
    {
     "name": "stdout",
     "output_type": "stream",
     "text": [
      "    min       mean   max   t+1\n",
      "0   NaN        NaN   NaN  20.7\n",
      "1   NaN        NaN   NaN  17.9\n",
      "2   NaN        NaN   NaN  18.8\n",
      "3  17.9  19.133333  20.7  14.6\n",
      "4  14.6  17.100000  18.8  15.8\n"
     ]
    }
   ],
   "source": [
    "# create rolling statistics features\n",
    "temps = DataFrame(series.values)\n",
    "width = 3\n",
    "shifted = temps.shift(width - 2)\n",
    "window = shifted.rolling(window=width)\n",
    "dataframe = concat([window.min(), window.mean(), window.max(), temps], axis=1)\n",
    "dataframe.columns = ['min', 'mean', 'max', 't+1']\n",
    "print(dataframe.head(5))"
   ]
  },
  {
   "cell_type": "code",
   "execution_count": 8,
   "id": "controversial-ability",
   "metadata": {},
   "outputs": [
    {
     "name": "stdout",
     "output_type": "stream",
     "text": [
      "    min       mean   max   t+1\n",
      "0  20.7  20.700000  20.7  20.7\n",
      "1  17.9  19.300000  20.7  17.9\n",
      "2  17.9  19.133333  20.7  18.8\n",
      "3  14.6  18.000000  20.7  14.6\n",
      "4  14.6  17.560000  20.7  15.8\n"
     ]
    }
   ],
   "source": [
    "# create expanding window features\n",
    "temps = DataFrame(series.values)\n",
    "window = temps.expanding()\n",
    "dataframe = concat([window.min(), window.mean(), window.max(), temps], axis=1)\n",
    "dataframe.columns = ['min', 'mean', 'max', 't+1']\n",
    "print(dataframe.head(5))"
   ]
  },
  {
   "cell_type": "code",
   "execution_count": null,
   "id": "known-custody",
   "metadata": {},
   "outputs": [],
   "source": []
  }
 ],
 "metadata": {
  "kernelspec": {
   "display_name": "Python 3",
   "language": "python",
   "name": "python3"
  },
  "language_info": {
   "codemirror_mode": {
    "name": "ipython",
    "version": 3
   },
   "file_extension": ".py",
   "mimetype": "text/x-python",
   "name": "python",
   "nbconvert_exporter": "python",
   "pygments_lexer": "ipython3",
   "version": "3.7.4"
  }
 },
 "nbformat": 4,
 "nbformat_minor": 5
}
