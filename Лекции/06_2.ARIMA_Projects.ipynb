{
 "cells": [
  {
   "cell_type": "markdown",
   "id": "right-kansas",
   "metadata": {},
   "source": [
    "# 6.2. Проекты по применению ARIMA"
   ]
  },
  {
   "cell_type": "code",
   "execution_count": 53,
   "id": "frequent-seminar",
   "metadata": {},
   "outputs": [],
   "source": [
    "import os\n",
    "import numpy\n",
    "from pandas import read_csv\n",
    "from sklearn.metrics import mean_squared_error\n",
    "from math import sqrt\n",
    "from pandas import DataFrame\n",
    "from pandas import Grouper\n",
    "from pandas import Series\n",
    "from statsmodels.tsa.stattools import adfuller\n",
    "from statsmodels.graphics.tsaplots import plot_acf\n",
    "from statsmodels.graphics.tsaplots import plot_pacf\n",
    "from statsmodels.tsa.arima.model import ARIMA\n",
    "from scipy.stats import boxcox\n",
    "from statsmodels.graphics.gofplots import qqplot\n",
    "from math import log\n",
    "from math import exp\n",
    "from scipy.stats import boxcox\n",
    "import warnings\n",
    "from statsmodels.tsa.arima.model import ARIMAResults\n",
    "from matplotlib import pyplot"
   ]
  },
  {
   "cell_type": "code",
   "execution_count": 54,
   "id": "conventional-radical",
   "metadata": {},
   "outputs": [],
   "source": [
    "os.chdir(\"C:/Users/HP/Documents/analysis/TS/data/\")"
   ]
  },
  {
   "cell_type": "markdown",
   "id": "graphic-oracle",
   "metadata": {},
   "source": [
    "# Project: Monthly Armed Robberies in Boston"
   ]
  },
  {
   "cell_type": "code",
   "execution_count": 55,
   "id": "bound-flash",
   "metadata": {},
   "outputs": [
    {
     "name": "stdout",
     "output_type": "stream",
     "text": [
      "Dataset 106, Validation 12\n"
     ]
    }
   ],
   "source": [
    "# split into a training and validation dataset\n",
    "series = read_csv('robberies.csv', header=0, index_col=0, parse_dates=True, squeeze=True)\n",
    "split_point = len(series) - 12\n",
    "dataset, validation = series[0:split_point], series[split_point:]\n",
    "print('Dataset %d, Validation %d' % (len(dataset), len(validation)))\n",
    "dataset.to_csv('dataset.csv', header=False)\n",
    "validation.to_csv('validation.csv', header=False)"
   ]
  },
  {
   "cell_type": "code",
   "execution_count": 56,
   "id": "pharmaceutical-chester",
   "metadata": {
    "tags": []
   },
   "outputs": [
    {
     "name": "stdout",
     "output_type": "stream",
     "text": [
      ">Predicted=98.000, Expected=125.000\n",
      ">Predicted=125.000, Expected=155.000\n",
      ">Predicted=155.000, Expected=190.000\n",
      ">Predicted=190.000, Expected=236.000\n",
      ">Predicted=236.000, Expected=189.000\n",
      ">Predicted=189.000, Expected=174.000\n",
      ">Predicted=174.000, Expected=178.000\n",
      ">Predicted=178.000, Expected=136.000\n",
      ">Predicted=136.000, Expected=161.000\n",
      ">Predicted=161.000, Expected=171.000\n",
      ">Predicted=171.000, Expected=149.000\n",
      ">Predicted=149.000, Expected=184.000\n",
      ">Predicted=184.000, Expected=155.000\n",
      ">Predicted=155.000, Expected=276.000\n",
      ">Predicted=276.000, Expected=224.000\n",
      ">Predicted=224.000, Expected=213.000\n",
      ">Predicted=213.000, Expected=279.000\n",
      ">Predicted=279.000, Expected=268.000\n",
      ">Predicted=268.000, Expected=287.000\n",
      ">Predicted=287.000, Expected=238.000\n",
      ">Predicted=238.000, Expected=213.000\n",
      ">Predicted=213.000, Expected=257.000\n",
      ">Predicted=257.000, Expected=293.000\n",
      ">Predicted=293.000, Expected=212.000\n",
      ">Predicted=212.000, Expected=246.000\n",
      ">Predicted=246.000, Expected=353.000\n",
      ">Predicted=353.000, Expected=339.000\n",
      ">Predicted=339.000, Expected=308.000\n",
      ">Predicted=308.000, Expected=247.000\n",
      ">Predicted=247.000, Expected=257.000\n",
      ">Predicted=257.000, Expected=322.000\n",
      ">Predicted=322.000, Expected=298.000\n",
      ">Predicted=298.000, Expected=273.000\n",
      ">Predicted=273.000, Expected=312.000\n",
      ">Predicted=312.000, Expected=249.000\n",
      ">Predicted=249.000, Expected=286.000\n",
      ">Predicted=286.000, Expected=279.000\n",
      ">Predicted=279.000, Expected=309.000\n",
      ">Predicted=309.000, Expected=401.000\n",
      ">Predicted=401.000, Expected=309.000\n",
      ">Predicted=309.000, Expected=328.000\n",
      ">Predicted=328.000, Expected=353.000\n",
      ">Predicted=353.000, Expected=354.000\n",
      ">Predicted=354.000, Expected=327.000\n",
      ">Predicted=327.000, Expected=324.000\n",
      ">Predicted=324.000, Expected=285.000\n",
      ">Predicted=285.000, Expected=243.000\n",
      ">Predicted=243.000, Expected=241.000\n",
      ">Predicted=241.000, Expected=287.000\n",
      ">Predicted=287.000, Expected=355.000\n",
      ">Predicted=355.000, Expected=460.000\n",
      ">Predicted=460.000, Expected=364.000\n",
      ">Predicted=364.000, Expected=487.000\n",
      "RMSE: 51.844\n"
     ]
    }
   ],
   "source": [
    "# evaluate a persistence model\n",
    "# load data\n",
    "series = read_csv('dataset.csv', header=None, index_col=0, parse_dates=True, squeeze=True)\n",
    "# prepare data\n",
    "X = series.values\n",
    "X = X.astype('float32')\n",
    "train_size = int(len(X) * 0.50)\n",
    "train, test = X[0:train_size], X[train_size:]\n",
    "# walk-forward validation\n",
    "history = [x for x in train]\n",
    "predictions = list()\n",
    "for i in range(len(test)):\n",
    "\t# predict\n",
    "\tyhat = history[-1]\n",
    "\tpredictions.append(yhat)\n",
    "\t# observation\n",
    "\tobs = test[i]\n",
    "\thistory.append(obs)\n",
    "\tprint('>Predicted=%.3f, Expected=%.3f' % (yhat, obs))\n",
    "# report performance\n",
    "rmse = sqrt(mean_squared_error(test, predictions))\n",
    "print('RMSE: %.3f' % rmse)"
   ]
  },
  {
   "cell_type": "code",
   "execution_count": 57,
   "id": "raised-luxury",
   "metadata": {},
   "outputs": [
    {
     "name": "stdout",
     "output_type": "stream",
     "text": [
      "count    106.000000\n",
      "mean     173.103774\n",
      "std      112.231133\n",
      "min       29.000000\n",
      "25%       74.750000\n",
      "50%      144.500000\n",
      "75%      271.750000\n",
      "max      487.000000\n",
      "Name: 1, dtype: float64\n"
     ]
    }
   ],
   "source": [
    "# summary statistics of time series\n",
    "series = read_csv('dataset.csv', header=None, index_col=0, parse_dates=True, squeeze=True)\n",
    "print(series.describe())"
   ]
  },
  {
   "cell_type": "code",
   "execution_count": 58,
   "id": "united-screw",
   "metadata": {},
   "outputs": [
    {
     "data": {
      "image/png": "[encoded data removed]",
      "text/plain": [
       "<Figure size 432x288 with 1 Axes>"
      ]
     },
     "metadata": {
      "needs_background": "light"
     },
     "output_type": "display_data"
    }
   ],
   "source": [
    "# line plots of time series\n",
    "series = read_csv('dataset.csv', header=None, index_col=0, parse_dates=True, squeeze=True)\n",
    "series.plot()\n",
    "pyplot.show()"
   ]
  },
  {
   "cell_type": "code",
   "execution_count": 59,
   "id": "faced-dutch",
   "metadata": {},
   "outputs": [
    {
     "data": {
      "image/png": "[encoded data removed]",
      "text/plain": [
       "<Figure size 432x288 with 2 Axes>"
      ]
     },
     "metadata": {
      "needs_background": "light"
     },
     "output_type": "display_data"
    }
   ],
   "source": [
    "# density plots of time series\n",
    "series = read_csv('dataset.csv', header=None, index_col=0, parse_dates=True, squeeze=True)\n",
    "pyplot.figure(1)\n",
    "pyplot.subplot(211)\n",
    "series.hist()\n",
    "pyplot.subplot(212)\n",
    "series.plot(kind='kde')\n",
    "pyplot.show()"
   ]
  },
  {
   "cell_type": "code",
   "execution_count": 60,
   "id": "surrounded-membrane",
   "metadata": {},
   "outputs": [
    {
     "name": "stdout",
     "output_type": "stream",
     "text": [
      "0\n",
      "1966-01-01     41\n",
      "1966-02-01     39\n",
      "1966-03-01     50\n",
      "1966-04-01     40\n",
      "1966-05-01     43\n",
      "             ... \n",
      "1974-06-01    287\n",
      "1974-07-01    355\n",
      "1974-08-01    460\n",
      "1974-09-01    364\n",
      "1974-10-01    487\n",
      "Name: 1, Length: 106, dtype: int64\n"
     ]
    },
    {
     "data": {
      "image/png": "[encoded data removed]",
      "text/plain": [
       "<Figure size 432x288 with 1 Axes>"
      ]
     },
     "metadata": {
      "needs_background": "light"
     },
     "output_type": "display_data"
    }
   ],
   "source": [
    "# boxplots of time series\n",
    "series = read_csv('dataset.csv', header=None, index_col=0, parse_dates=True, squeeze=True)\n",
    "print(series)\n",
    "groups = series['1966':'1973'].groupby(Grouper(freq='A'))\n",
    "years = DataFrame()\n",
    "for name, group in groups:\n",
    "\tyears[name.year] = group.values\n",
    "years.boxplot()\n",
    "pyplot.show()"
   ]
  },
  {
   "cell_type": "code",
   "execution_count": 61,
   "id": "worse-exclusion",
   "metadata": {},
   "outputs": [
    {
     "name": "stdout",
     "output_type": "stream",
     "text": [
      "ADF Statistic: -3.980946\n",
      "p-value: 0.001514\n",
      "Critical Values:\n",
      "\t1%: -3.503\n",
      "\t5%: -2.893\n",
      "\t10%: -2.584\n"
     ]
    }
   ],
   "source": [
    "# statistical test for the stationarity of the time series\n",
    "# create a differenced time series\n",
    "def difference(dataset):\n",
    "\tdiff = list()\n",
    "\tfor i in range(1, len(dataset)):\n",
    "\t\tvalue = dataset[i] - dataset[i - 1]\n",
    "\t\tdiff.append(value)\n",
    "\treturn Series(diff)\n",
    "\n",
    "series = read_csv('dataset.csv', header=None, index_col=0, parse_dates=True, squeeze=True)\n",
    "X = series.values\n",
    "# difference data\n",
    "stationary = difference(X)\n",
    "stationary.index = series.index[1:]\n",
    "# check if stationary\n",
    "result = adfuller(stationary)\n",
    "print('ADF Statistic: %f' % result[0])\n",
    "print('p-value: %f' % result[1])\n",
    "print('Critical Values:')\n",
    "for key, value in result[4].items():\n",
    "\tprint('\\t%s: %.3f' % (key, value))\n",
    "# save\n",
    "stationary.to_csv('stationary.csv', header=False)"
   ]
  },
  {
   "cell_type": "code",
   "execution_count": 62,
   "id": "burning-psychiatry",
   "metadata": {},
   "outputs": [
    {
     "data": {
      "image/png": "[encoded data removed]",
      "text/plain": [
       "<Figure size 432x288 with 2 Axes>"
      ]
     },
     "metadata": {
      "needs_background": "light"
     },
     "output_type": "display_data"
    }
   ],
   "source": [
    "# ACF and PACF plots of time series\n",
    "series = read_csv('dataset.csv', header=None, index_col=0, parse_dates=True, squeeze=True)\n",
    "pyplot.figure()\n",
    "pyplot.subplot(211)\n",
    "plot_acf(series, lags=50, ax=pyplot.gca())\n",
    "pyplot.subplot(212)\n",
    "plot_pacf(series, lags=50, ax=pyplot.gca())\n",
    "pyplot.show()"
   ]
  },
  {
   "cell_type": "code",
   "execution_count": 63,
   "id": "outstanding-reality",
   "metadata": {},
   "outputs": [
    {
     "name": "stdout",
     "output_type": "stream",
     "text": [
      ">Predicted=99.923, Expected=125.000\n",
      ">Predicted=116.442, Expected=155.000\n",
      ">Predicted=139.962, Expected=190.000\n",
      ">Predicted=176.933, Expected=236.000\n",
      ">Predicted=232.851, Expected=189.000\n",
      ">Predicted=184.697, Expected=174.000\n",
      ">Predicted=180.705, Expected=178.000\n",
      ">Predicted=179.873, Expected=136.000\n",
      ">Predicted=141.098, Expected=161.000\n",
      ">Predicted=166.173, Expected=171.000\n",
      ">Predicted=167.005, Expected=149.000\n",
      ">Predicted=150.656, Expected=184.000\n",
      ">Predicted=182.314, Expected=155.000\n",
      ">Predicted=154.213, Expected=276.000\n",
      ">Predicted=245.214, Expected=224.000\n",
      ">Predicted=225.902, Expected=213.000\n",
      ">Predicted=216.867, Expected=279.000\n",
      ">Predicted=258.698, Expected=268.000\n",
      ">Predicted=263.377, Expected=287.000\n",
      ">Predicted=279.945, Expected=238.000\n",
      ">Predicted=251.485, Expected=213.000\n",
      ">Predicted=226.574, Expected=257.000\n",
      ">Predicted=249.690, Expected=293.000\n",
      ">Predicted=277.211, Expected=212.000\n",
      ">Predicted=230.020, Expected=246.000\n",
      ">Predicted=245.786, Expected=353.000\n",
      ">Predicted=317.992, Expected=339.000\n",
      ">Predicted=313.734, Expected=308.000\n",
      ">Predicted=305.556, Expected=247.000\n",
      ">Predicted=263.416, Expected=257.000\n",
      ">Predicted=272.428, Expected=322.000\n",
      ">Predicted=310.225, Expected=298.000\n",
      ">Predicted=288.644, Expected=273.000\n",
      ">Predicted=280.371, Expected=312.000\n",
      ">Predicted=307.468, Expected=249.000\n",
      ">Predicted=258.441, Expected=286.000\n",
      ">Predicted=290.435, Expected=279.000\n",
      ">Predicted=277.177, Expected=309.000\n",
      ">Predicted=300.385, Expected=401.000\n",
      ">Predicted=364.303, Expected=309.000\n",
      ">Predicted=303.538, Expected=328.000\n",
      ">Predicted=329.717, Expected=353.000\n",
      ">Predicted=340.448, Expected=354.000\n",
      ">Predicted=344.714, Expected=327.000\n",
      ">Predicted=330.507, Expected=324.000\n",
      ">Predicted=329.881, Expected=285.000\n",
      ">Predicted=302.318, Expected=243.000\n",
      ">Predicted=272.020, Expected=241.000\n",
      ">Predicted=262.933, Expected=287.000\n",
      ">Predicted=286.898, Expected=355.000\n",
      ">Predicted=329.367, Expected=460.000\n",
      ">Predicted=409.007, Expected=364.000\n",
      ">Predicted=335.283, Expected=487.000\n",
      "RMSE: 51.115\n"
     ]
    }
   ],
   "source": [
    "# evaluate manually configured ARIMA model\n",
    "# load data\n",
    "series = read_csv('dataset.csv', header=None, index_col=0, parse_dates=True, squeeze=True)\n",
    "# prepare data\n",
    "X = series.values\n",
    "X = X.astype('float32')\n",
    "train_size = int(len(X) * 0.50)\n",
    "train, test = X[0:train_size], X[train_size:]\n",
    "# walk-forward validation\n",
    "history = [x for x in train]\n",
    "predictions = list()\n",
    "for i in range(len(test)):\n",
    "\t# predict\n",
    "\tmodel = ARIMA(history, order=(0,1,2))\n",
    "\tmodel_fit = model.fit()\n",
    "\tyhat = model_fit.forecast()[0]\n",
    "\tpredictions.append(yhat)\n",
    "\t# observation\n",
    "\tobs = test[i]\n",
    "\thistory.append(obs)\n",
    "\tprint('>Predicted=%.3f, Expected=%.3f' % (yhat, obs))\n",
    "# report performance\n",
    "rmse = sqrt(mean_squared_error(test, predictions))\n",
    "print('RMSE: %.3f' % rmse)"
   ]
  },
  {
   "cell_type": "code",
   "execution_count": 64,
   "id": "accredited-lingerie",
   "metadata": {},
   "outputs": [],
   "source": [
    "# Grid Search пропустила"
   ]
  },
  {
   "cell_type": "code",
   "execution_count": 65,
   "id": "hollywood-residence",
   "metadata": {},
   "outputs": [
    {
     "data": {
      "image/png": "[encoded data removed]",
      "text/plain": [
       "<Figure size 432x288 with 2 Axes>"
      ]
     },
     "metadata": {
      "needs_background": "light"
     },
     "output_type": "display_data"
    }
   ],
   "source": [
    "# plot residual errors for ARIMA model\n",
    "# load data\n",
    "series = read_csv('dataset.csv', header=None, index_col=0, parse_dates=True, squeeze=True)\n",
    "# prepare data\n",
    "X = series.values\n",
    "X = X.astype('float32')\n",
    "train_size = int(len(X) * 0.50)\n",
    "train, test = X[0:train_size], X[train_size:]\n",
    "# walk-forward validation\n",
    "history = [x for x in train]\n",
    "predictions = list()\n",
    "for i in range(len(test)):\n",
    "\t# predict\n",
    "\tmodel = ARIMA(history, order=(0,1,2))\n",
    "\tmodel_fit = model.fit()\n",
    "\tyhat = model_fit.forecast()[0]\n",
    "\tpredictions.append(yhat)\n",
    "\t# observation\n",
    "\tobs = test[i]\n",
    "\thistory.append(obs)\n",
    "# errors\n",
    "residuals = [test[i]-predictions[i] for i in range(len(test))]\n",
    "residuals = DataFrame(residuals)\n",
    "pyplot.figure()\n",
    "pyplot.subplot(211)\n",
    "residuals.hist(ax=pyplot.gca())\n",
    "pyplot.subplot(212)\n",
    "residuals.plot(kind='kde', ax=pyplot.gca())\n",
    "pyplot.show()"
   ]
  },
  {
   "cell_type": "code",
   "execution_count": 66,
   "id": "medical-london",
   "metadata": {},
   "outputs": [
    {
     "data": {
      "image/png": "[encoded data removed]",
      "text/plain": [
       "<Figure size 432x288 with 2 Axes>"
      ]
     },
     "metadata": {
      "needs_background": "light"
     },
     "output_type": "display_data"
    }
   ],
   "source": [
    "# ACF and PACF plots of forecast residual errors\n",
    "# load data\n",
    "series = read_csv('dataset.csv', header=None, index_col=0, parse_dates=True, squeeze=True)\n",
    "# prepare data\n",
    "X = series.values\n",
    "X = X.astype('float32')\n",
    "train_size = int(len(X) * 0.50)\n",
    "train, test = X[0:train_size], X[train_size:]\n",
    "# walk-forward validation\n",
    "history = [x for x in train]\n",
    "predictions = list()\n",
    "for i in range(len(test)):\n",
    "\t# predict\n",
    "\tmodel = ARIMA(history, order=(0,1,2))\n",
    "\tmodel_fit = model.fit()\n",
    "\tyhat = model_fit.forecast()[0]\n",
    "\tpredictions.append(yhat)\n",
    "\t# observation\n",
    "\tobs = test[i]\n",
    "\thistory.append(obs)\n",
    "# errors\n",
    "residuals = [test[i]-predictions[i] for i in range(len(test))]\n",
    "residuals = DataFrame(residuals)\n",
    "pyplot.figure()\n",
    "pyplot.subplot(211)\n",
    "plot_acf(residuals, lags=25, ax=pyplot.gca())\n",
    "pyplot.subplot(212)\n",
    "plot_pacf(residuals, lags=25, ax=pyplot.gca())\n",
    "pyplot.show()"
   ]
  },
  {
   "cell_type": "code",
   "execution_count": 67,
   "id": "inside-footage",
   "metadata": {},
   "outputs": [
    {
     "name": "stdout",
     "output_type": "stream",
     "text": [
      "Lambda: 0.260060\n"
     ]
    },
    {
     "data": {
      "image/png": "[encoded data removed]",
      "text/plain": [
       "<Figure size 432x288 with 3 Axes>"
      ]
     },
     "metadata": {
      "needs_background": "light"
     },
     "output_type": "display_data"
    }
   ],
   "source": [
    "# plots of box-cox transformed dataset\n",
    "series = read_csv('dataset.csv', header=None, index_col=0, parse_dates=True, squeeze=True)\n",
    "X = series.values\n",
    "transformed, lam = boxcox(X)\n",
    "print('Lambda: %f' % lam)\n",
    "pyplot.figure(1)\n",
    "# line plot\n",
    "pyplot.subplot(311)\n",
    "pyplot.plot(transformed)\n",
    "# histogram\n",
    "pyplot.subplot(312)\n",
    "pyplot.hist(transformed)\n",
    "# q-q plot\n",
    "pyplot.subplot(313)\n",
    "qqplot(transformed, line='r', ax=pyplot.gca())\n",
    "pyplot.show()"
   ]
  },
  {
   "cell_type": "code",
   "execution_count": 68,
   "id": "approximate-tension",
   "metadata": {},
   "outputs": [
    {
     "data": {
      "text/plain": [
       "{'divide': 'ignore', 'over': 'ignore', 'under': 'ignore', 'invalid': 'ignore'}"
      ]
     },
     "execution_count": 68,
     "metadata": {},
     "output_type": "execute_result"
    }
   ],
   "source": [
    "numpy.seterr(divide='ignore', invalid='ignore', over='ignore')"
   ]
  },
  {
   "cell_type": "code",
   "execution_count": 69,
   "id": "ranking-shock",
   "metadata": {},
   "outputs": [
    {
     "name": "stdout",
     "output_type": "stream",
     "text": [
      ">Predicted=99.650, Expected=125.000\n",
      ">Predicted=115.208, Expected=155.000\n",
      ">Predicted=136.143, Expected=190.000\n",
      ">Predicted=165.532, Expected=236.000\n",
      ">Predicted=206.571, Expected=189.000\n",
      ">Predicted=180.934, Expected=174.000\n",
      ">Predicted=178.202, Expected=178.000\n",
      ">Predicted=179.316, Expected=136.000\n",
      ">Predicted=145.466, Expected=161.000\n",
      ">Predicted=165.565, Expected=171.000\n",
      ">Predicted=166.484, Expected=149.000\n",
      ">Predicted=152.066, Expected=184.000\n",
      ">Predicted=179.561, Expected=155.000\n",
      ">Predicted=155.211, Expected=276.000\n",
      ">Predicted=238.942, Expected=224.000\n",
      ">Predicted=210.748, Expected=213.000\n",
      ">Predicted=214.075, Expected=279.000\n",
      ">Predicted=257.446, Expected=268.000\n",
      ">Predicted=255.413, Expected=287.000\n",
      ">Predicted=275.941, Expected=238.000\n",
      ">Predicted=245.092, Expected=213.000\n",
      ">Predicted=226.699, Expected=257.000\n",
      ">Predicted=252.343, Expected=293.000\n",
      ">Predicted=275.301, Expected=212.000\n",
      ">Predicted=224.657, Expected=246.000\n",
      ">Predicted=248.227, Expected=353.000\n",
      ">Predicted=313.578, Expected=339.000\n",
      ">Predicted=312.855, Expected=308.000\n",
      ">Predicted=305.390, Expected=247.000\n",
      ">Predicted=263.453, Expected=257.000\n",
      ">Predicted=268.874, Expected=322.000\n",
      ">Predicted=307.068, Expected=298.000\n",
      ">Predicted=290.762, Expected=273.000\n",
      ">Predicted=279.628, Expected=312.000\n",
      ">Predicted=305.832, Expected=249.000\n",
      ">Predicted=259.479, Expected=286.000\n",
      ">Predicted=288.086, Expected=279.000\n",
      ">Predicted=277.060, Expected=309.000\n",
      ">Predicted=300.444, Expected=401.000\n",
      ">Predicted=361.792, Expected=309.000\n",
      ">Predicted=307.486, Expected=328.000\n",
      ">Predicted=330.341, Expected=353.000\n",
      ">Predicted=342.084, Expected=354.000\n",
      ">Predicted=346.257, Expected=327.000\n",
      ">Predicted=330.891, Expected=324.000\n",
      ">Predicted=329.470, Expected=285.000\n",
      ">Predicted=299.526, Expected=243.000\n",
      ">Predicted=266.152, Expected=241.000\n",
      ">Predicted=257.654, Expected=287.000\n",
      ">Predicted=283.369, Expected=355.000\n",
      ">Predicted=326.799, Expected=460.000\n",
      ">Predicted=403.844, Expected=364.000\n",
      ">Predicted=347.031, Expected=487.000\n",
      "RMSE: 50.223\n"
     ]
    }
   ],
   "source": [
    "# evaluate ARIMA models with box-cox transformed time series\n",
    "# invert box-cox transform\n",
    "def boxcox_inverse(value, lam):\n",
    "\tif lam == 0:\n",
    "\t\treturn exp(value)\n",
    "\treturn exp(log(lam * value + 1) / lam)\n",
    "\n",
    "# load data\n",
    "series = read_csv('dataset.csv', header=None, index_col=0, parse_dates=True, squeeze=True)\n",
    "# prepare data\n",
    "X = series.values\n",
    "X = X.astype('float32')\n",
    "train_size = int(len(X) * 0.50)\n",
    "train, test = X[0:train_size], X[train_size:]\n",
    "# walk-forward validation\n",
    "history = [x for x in train]\n",
    "predictions = list()\n",
    "for i in range(len(test)):\n",
    "\t# transform\n",
    "\ttransformed, lam = boxcox(history)\n",
    "\tif lam < -5:\n",
    "\t\ttransformed, lam = history, 1\n",
    "\t# predict\n",
    "\tmodel = ARIMA(transformed, order=(0,1,2))\n",
    "\tmodel_fit = model.fit()\n",
    "\tyhat = model_fit.forecast()[0]\n",
    "\t# invert transformed prediction\n",
    "\tyhat = boxcox_inverse(yhat, lam)\n",
    "\tpredictions.append(yhat)\n",
    "\t# observation\n",
    "\tobs = test[i]\n",
    "\thistory.append(obs)\n",
    "\tprint('>Predicted=%.3f, Expected=%.3f' % (yhat, obs))\n",
    "# report performance\n",
    "rmse = sqrt(mean_squared_error(test, predictions))\n",
    "print('RMSE: %.3f' % rmse)"
   ]
  },
  {
   "cell_type": "markdown",
   "id": "sized-ecology",
   "metadata": {},
   "source": [
    "# Project: Annual Water Usage in Baltimore"
   ]
  },
  {
   "cell_type": "code",
   "execution_count": 70,
   "id": "musical-grammar",
   "metadata": {},
   "outputs": [
    {
     "name": "stdout",
     "output_type": "stream",
     "text": [
      "Dataset 69, Validation 10\n"
     ]
    }
   ],
   "source": [
    "# separate out a validation dataset\n",
    "series = read_csv('water.csv', header=0, index_col=0, parse_dates=True, squeeze=True)\n",
    "split_point = len(series) - 10\n",
    "dataset, validation = series[0:split_point], series[split_point:]\n",
    "print('Dataset %d, Validation %d' % (len(dataset), len(validation)))\n",
    "dataset.to_csv('dataset.csv', header=False)\n",
    "validation.to_csv('validation.csv', header=False)"
   ]
  },
  {
   "cell_type": "code",
   "execution_count": 71,
   "id": "moral-waterproof",
   "metadata": {
    "tags": []
   },
   "outputs": [
    {
     "name": "stdout",
     "output_type": "stream",
     "text": [
      ">Predicted=503.000, Expected=503.000\n",
      ">Predicted=503.000, Expected=503.000\n",
      ">Predicted=503.000, Expected=515.000\n",
      ">Predicted=515.000, Expected=522.000\n",
      ">Predicted=522.000, Expected=492.000\n",
      ">Predicted=492.000, Expected=503.000\n",
      ">Predicted=503.000, Expected=503.000\n",
      ">Predicted=503.000, Expected=450.000\n",
      ">Predicted=450.000, Expected=432.000\n",
      ">Predicted=432.000, Expected=432.000\n",
      ">Predicted=432.000, Expected=458.000\n",
      ">Predicted=458.000, Expected=462.000\n",
      ">Predicted=462.000, Expected=503.000\n",
      ">Predicted=503.000, Expected=488.000\n",
      ">Predicted=488.000, Expected=466.000\n",
      ">Predicted=466.000, Expected=492.000\n",
      ">Predicted=492.000, Expected=503.000\n",
      ">Predicted=503.000, Expected=515.000\n",
      ">Predicted=515.000, Expected=500.000\n",
      ">Predicted=500.000, Expected=522.000\n",
      ">Predicted=522.000, Expected=575.000\n",
      ">Predicted=575.000, Expected=583.000\n",
      ">Predicted=583.000, Expected=587.000\n",
      ">Predicted=587.000, Expected=628.000\n",
      ">Predicted=628.000, Expected=640.000\n",
      ">Predicted=640.000, Expected=609.000\n",
      ">Predicted=609.000, Expected=606.000\n",
      ">Predicted=606.000, Expected=632.000\n",
      ">Predicted=632.000, Expected=617.000\n",
      ">Predicted=617.000, Expected=613.000\n",
      ">Predicted=613.000, Expected=598.000\n",
      ">Predicted=598.000, Expected=575.000\n",
      ">Predicted=575.000, Expected=564.000\n",
      ">Predicted=564.000, Expected=549.000\n",
      ">Predicted=549.000, Expected=538.000\n",
      "RMSE: 21.975\n"
     ]
    }
   ],
   "source": [
    "# evaluate a persistence model\n",
    "# load data\n",
    "series = read_csv('dataset.csv', header=None, index_col=0, parse_dates=True, squeeze=True)\n",
    "# prepare data\n",
    "X = series.values\n",
    "X = X.astype('float32')\n",
    "train_size = int(len(X) * 0.50)\n",
    "train, test = X[0:train_size], X[train_size:]\n",
    "# walk-forward validation\n",
    "history = [x for x in train]\n",
    "predictions = list()\n",
    "for i in range(len(test)):\n",
    "\t# predict\n",
    "\tyhat = history[-1]\n",
    "\tpredictions.append(yhat)\n",
    "\t# observation\n",
    "\tobs = test[i]\n",
    "\thistory.append(obs)\n",
    "\tprint('>Predicted=%.3f, Expected=%.3f' % (yhat, obs))\n",
    "# report performance\n",
    "rmse = sqrt(mean_squared_error(test, predictions))\n",
    "print('RMSE: %.3f' % rmse)"
   ]
  },
  {
   "cell_type": "code",
   "execution_count": 72,
   "id": "agricultural-scotland",
   "metadata": {},
   "outputs": [
    {
     "name": "stdout",
     "output_type": "stream",
     "text": [
      "count     69.000000\n",
      "mean     500.478261\n",
      "std       73.901685\n",
      "min      344.000000\n",
      "25%      458.000000\n",
      "50%      492.000000\n",
      "75%      538.000000\n",
      "max      662.000000\n",
      "Name: 1, dtype: float64\n"
     ]
    }
   ],
   "source": [
    "# summary statistics of time series\n",
    "series = read_csv('dataset.csv', header=None, index_col=0, parse_dates=True, squeeze=True)\n",
    "print(series.describe())"
   ]
  },
  {
   "cell_type": "code",
   "execution_count": 73,
   "id": "sitting-treasurer",
   "metadata": {},
   "outputs": [
    {
     "data": {
      "image/png": "[encoded data removed]",
      "text/plain": [
       "<Figure size 432x288 with 1 Axes>"
      ]
     },
     "metadata": {
      "needs_background": "light"
     },
     "output_type": "display_data"
    }
   ],
   "source": [
    "# line plot of time series\n",
    "series = read_csv('dataset.csv', header=None, index_col=0, parse_dates=True, squeeze=True)\n",
    "series.plot()\n",
    "pyplot.show()"
   ]
  },
  {
   "cell_type": "code",
   "execution_count": 74,
   "id": "architectural-milwaukee",
   "metadata": {},
   "outputs": [
    {
     "data": {
      "image/png": "[encoded data removed]",
      "text/plain": [
       "<Figure size 432x288 with 2 Axes>"
      ]
     },
     "metadata": {
      "needs_background": "light"
     },
     "output_type": "display_data"
    }
   ],
   "source": [
    "# density plots of time series\n",
    "series = read_csv('dataset.csv', header=None, index_col=0, parse_dates=True, squeeze=True)\n",
    "pyplot.figure(1)\n",
    "pyplot.subplot(211)\n",
    "series.hist()\n",
    "pyplot.subplot(212)\n",
    "series.plot(kind='kde')\n",
    "pyplot.show()"
   ]
  },
  {
   "cell_type": "code",
   "execution_count": 75,
   "id": "opening-facility",
   "metadata": {},
   "outputs": [
    {
     "data": {
      "image/png": "[encoded data removed]",
      "text/plain": [
       "<Figure size 432x288 with 1 Axes>"
      ]
     },
     "metadata": {
      "needs_background": "light"
     },
     "output_type": "display_data"
    }
   ],
   "source": [
    "# boxplots of time series\n",
    "series = read_csv('dataset.csv', header=None, index_col=0, parse_dates=True, squeeze=True)\n",
    "groups = series.groupby(Grouper(freq='10YS'))\n",
    "decades = DataFrame()\n",
    "for name, group in groups:\n",
    "\tif len(group.values) is 10:\n",
    "\t\tdecades[name.year] = group.values\n",
    "decades.boxplot()\n",
    "pyplot.show()"
   ]
  },
  {
   "cell_type": "code",
   "execution_count": 76,
   "id": "fundamental-allah",
   "metadata": {},
   "outputs": [
    {
     "name": "stdout",
     "output_type": "stream",
     "text": [
      "ADF Statistic: -6.126719\n",
      "p-value: 0.000000\n",
      "Critical Values:\n",
      "\t1%: -3.534\n",
      "\t5%: -2.906\n",
      "\t10%: -2.591\n"
     ]
    },
    {
     "data": {
      "image/png": "[encoded data removed]",
      "text/plain": [
       "<Figure size 432x288 with 1 Axes>"
      ]
     },
     "metadata": {
      "needs_background": "light"
     },
     "output_type": "display_data"
    }
   ],
   "source": [
    "# create and summarize a stationary version of the time series\n",
    "# create a differenced series\n",
    "def difference(dataset):\n",
    "\tdiff = list()\n",
    "\tfor i in range(1, len(dataset)):\n",
    "\t\tvalue = dataset[i] - dataset[i - 1]\n",
    "\t\tdiff.append(value)\n",
    "\treturn Series(diff)\n",
    "\n",
    "series = read_csv('dataset.csv', header=None, index_col=0, parse_dates=True, squeeze=True)\n",
    "X = series.values\n",
    "X = X.astype('float32')\n",
    "# difference data\n",
    "stationary = difference(X)\n",
    "stationary.index = series.index[1:]\n",
    "# check if stationary\n",
    "result = adfuller(stationary)\n",
    "print('ADF Statistic: %f' % result[0])\n",
    "print('p-value: %f' % result[1])\n",
    "print('Critical Values:')\n",
    "for key, value in result[4].items():\n",
    "\tprint('\\t%s: %.3f' % (key, value))\n",
    "# plot differenced data\n",
    "stationary.plot()\n",
    "pyplot.show()\n",
    "# save\n",
    "stationary.to_csv('stationary.csv', header=False)"
   ]
  },
  {
   "cell_type": "code",
   "execution_count": 77,
   "id": "minute-child",
   "metadata": {},
   "outputs": [
    {
     "data": {
      "image/png": "[encoded data removed]",
      "text/plain": [
       "<Figure size 432x288 with 2 Axes>"
      ]
     },
     "metadata": {
      "needs_background": "light"
     },
     "output_type": "display_data"
    }
   ],
   "source": [
    "# ACF and PACF plots of the time series\n",
    "series = read_csv('dataset.csv', header=None, index_col=0, parse_dates=True, squeeze=True)\n",
    "pyplot.figure()\n",
    "pyplot.subplot(211)\n",
    "plot_acf(series, lags=20, ax=pyplot.gca())\n",
    "pyplot.subplot(212)\n",
    "plot_pacf(series, lags=20, ax=pyplot.gca())\n",
    "pyplot.show()"
   ]
  },
  {
   "cell_type": "code",
   "execution_count": 78,
   "id": "according-graphic",
   "metadata": {},
   "outputs": [
    {
     "name": "stdout",
     "output_type": "stream",
     "text": [
      ">Predicted=530.101, Expected=503.000\n",
      ">Predicted=511.154, Expected=503.000\n",
      ">Predicted=515.637, Expected=515.000\n",
      ">Predicted=520.904, Expected=522.000\n",
      ">Predicted=525.009, Expected=492.000\n",
      ">Predicted=492.360, Expected=503.000\n",
      ">Predicted=504.664, Expected=503.000\n",
      ">Predicted=512.082, Expected=450.000\n",
      ">Predicted=454.312, Expected=432.000\n",
      ">Predicted=441.329, Expected=432.000\n",
      ">Predicted=452.418, Expected=458.000\n",
      ">Predicted=470.223, Expected=462.000\n",
      ">Predicted=465.860, Expected=503.000\n",
      ">Predicted=498.112, Expected=488.000\n",
      ">Predicted=483.399, Expected=466.000\n",
      ">Predicted=455.128, Expected=492.000\n",
      ">Predicted=492.320, Expected=503.000\n",
      ">Predicted=503.711, Expected=515.000\n",
      ">Predicted=505.815, Expected=500.000\n",
      ">Predicted=493.165, Expected=522.000\n",
      ">Predicted=515.482, Expected=575.000\n",
      ">Predicted=571.332, Expected=583.000\n",
      ">Predicted=568.102, Expected=587.000\n",
      ">Predicted=567.410, Expected=628.000\n",
      ">Predicted=620.638, Expected=640.000\n",
      ">Predicted=632.546, Expected=609.000\n",
      ">Predicted=594.338, Expected=606.000\n",
      ">Predicted=602.108, Expected=632.000\n",
      ">Predicted=637.227, Expected=617.000\n",
      ">Predicted=614.318, Expected=613.000\n",
      ">Predicted=608.755, Expected=598.000\n",
      ">Predicted=600.294, Expected=575.000\n",
      ">Predicted=574.946, Expected=564.000\n",
      ">Predicted=567.577, Expected=549.000\n",
      ">Predicted=553.543, Expected=538.000\n",
      "RMSE: 25.262\n"
     ]
    }
   ],
   "source": [
    "# evaluate a manually configured ARIMA model\n",
    "# load data\n",
    "series = read_csv('dataset.csv', header=None, index_col=0, parse_dates=True, squeeze=True)\n",
    "# prepare data\n",
    "X = series.values\n",
    "X = X.astype('float32')\n",
    "train_size = int(len(X) * 0.50)\n",
    "train, test = X[0:train_size], X[train_size:]\n",
    "# walk-forward validation\n",
    "history = [x for x in train]\n",
    "predictions = list()\n",
    "for i in range(len(test)):\n",
    "\t# predict\n",
    "\tmodel = ARIMA(history, order=(4,1,1))\n",
    "\tmodel_fit = model.fit()\n",
    "\tyhat = model_fit.forecast()[0]\n",
    "\tpredictions.append(yhat)\n",
    "\t# observation\n",
    "\tobs = test[i]\n",
    "\thistory.append(obs)\n",
    "\tprint('>Predicted=%.3f, Expected=%.3f' % (yhat, obs))\n",
    "# report performance\n",
    "rmse = sqrt(mean_squared_error(test, predictions))\n",
    "print('RMSE: %.3f' % rmse)"
   ]
  },
  {
   "cell_type": "code",
   "execution_count": 79,
   "id": "postal-clinton",
   "metadata": {},
   "outputs": [
    {
     "name": "stdout",
     "output_type": "stream",
     "text": [
      "Best ARIMANone RMSE=inf\n"
     ]
    }
   ],
   "source": [
    "# grid search ARIMA parameters for a time series\n",
    "# evaluate an ARIMA model for a given order (p,d,q) and return RMSE\n",
    "def evaluate_arima_model(X, arima_order):\n",
    "\t# prepare training dataset\n",
    "\tX = X.astype('float32')\n",
    "\ttrain_size = int(len(X) * 0.50)\n",
    "\ttrain, test = X[0:train_size], X[train_size:]\n",
    "\thistory = [x for x in train]\n",
    "\t# make predictions\n",
    "\tpredictions = list()\n",
    "\tfor t in range(len(test)):\n",
    "\t\tmodel = ARIMA(history, order=arima_order)\n",
    "\t\t# model_fit = model.fit(disp=0)\n",
    "\t\tmodel_fit = model.fit(trend='nc', disp=0)\n",
    "\t\tyhat = model_fit.forecast()[0]\n",
    "\t\tpredictions.append(yhat)\n",
    "\t\thistory.append(test[t])\n",
    "\t# calculate out of sample error\n",
    "\trmse = sqrt(mean_squared_error(test, predictions))\n",
    "\treturn rmse\n",
    "\n",
    "# evaluate combinations of p, d and q values for an ARIMA model\n",
    "def evaluate_models(dataset, p_values, d_values, q_values):\n",
    "\tdataset = dataset.astype('float32')\n",
    "\tbest_score, best_cfg = float(\"inf\"), None\n",
    "\tfor p in p_values:\n",
    "\t\tfor d in d_values:\n",
    "\t\t\tfor q in q_values:\n",
    "\t\t\t\torder = (p,d,q)\n",
    "\t\t\t\ttry:\n",
    "\t\t\t\t\trmse = evaluate_arima_model(dataset, order)\n",
    "\t\t\t\t\tif rmse < best_score:\n",
    "\t\t\t\t\t\tbest_score, best_cfg = rmse, order\n",
    "\t\t\t\t\tprint('ARIMA%s RMSE=%.3f' % (order,rmse))\n",
    "\t\t\t\texcept:\n",
    "\t\t\t\t\tcontinue\n",
    "\tprint('Best ARIMA%s RMSE=%.3f' % (best_cfg, best_score))\n",
    "\n",
    "# load dataset\n",
    "series = read_csv('dataset.csv', header=None, index_col=0, parse_dates=True, squeeze=True)\n",
    "# evaluate parameters\n",
    "p_values = range(0, 5)\n",
    "d_values = range(0, 3)\n",
    "q_values = range(0, 5)\n",
    "warnings.filterwarnings(\"ignore\")\n",
    "evaluate_models(series.values, p_values, d_values, q_values)"
   ]
  },
  {
   "cell_type": "code",
   "execution_count": 80,
   "id": "universal-geometry",
   "metadata": {},
   "outputs": [
    {
     "name": "stdout",
     "output_type": "stream",
     "text": [
      "               0\n",
      "count  35.000000\n",
      "mean    1.081458\n",
      "std    22.022201\n",
      "min   -52.104849\n",
      "25%   -16.209637\n",
      "50%    -0.454858\n",
      "75%    12.089062\n",
      "max    51.281127\n"
     ]
    },
    {
     "data": {
      "image/png": "[encoded data removed]",
      "text/plain": [
       "<Figure size 432x288 with 2 Axes>"
      ]
     },
     "metadata": {
      "needs_background": "light"
     },
     "output_type": "display_data"
    }
   ],
   "source": [
    "# summarize residual errors for an ARIMA model\n",
    "# load data\n",
    "series = read_csv('dataset.csv', header=None, index_col=0, parse_dates=True, squeeze=True)\n",
    "# prepare data\n",
    "X = series.values\n",
    "X = X.astype('float32')\n",
    "train_size = int(len(X) * 0.50)\n",
    "train, test = X[0:train_size], X[train_size:]\n",
    "# walk-forward validation\n",
    "history = [x for x in train]\n",
    "predictions = list()\n",
    "for i in range(len(test)):\n",
    "\t# predict\n",
    "\tmodel = ARIMA(history, order=(2,1,0))\n",
    "\tmodel_fit = model.fit()\n",
    "\tyhat = model_fit.forecast()[0]\n",
    "\tpredictions.append(yhat)\n",
    "\t# observation\n",
    "\tobs = test[i]\n",
    "\thistory.append(obs)\n",
    "# errors\n",
    "residuals = [test[i]-predictions[i] for i in range(len(test))]\n",
    "residuals = DataFrame(residuals)\n",
    "print(residuals.describe())\n",
    "pyplot.figure()\n",
    "pyplot.subplot(211)\n",
    "residuals.hist(ax=pyplot.gca())\n",
    "pyplot.subplot(212)\n",
    "residuals.plot(kind='kde', ax=pyplot.gca())\n",
    "pyplot.show()"
   ]
  },
  {
   "cell_type": "code",
   "execution_count": 81,
   "id": "passive-image",
   "metadata": {},
   "outputs": [
    {
     "name": "stdout",
     "output_type": "stream",
     "text": [
      "RMSE: 21.705\n",
      "               0\n",
      "count  35.000000\n",
      "mean   -0.000166\n",
      "std    22.022201\n",
      "min   -53.186473\n",
      "25%   -17.291261\n",
      "50%    -1.536482\n",
      "75%    11.007438\n",
      "max    50.199503\n"
     ]
    },
    {
     "data": {
      "image/png": "[encoded data removed]",
      "text/plain": [
       "<Figure size 432x288 with 2 Axes>"
      ]
     },
     "metadata": {
      "needs_background": "light"
     },
     "output_type": "display_data"
    }
   ],
   "source": [
    "# summarize residual errors from bias corrected forecasts\n",
    "# load data\n",
    "series = read_csv('dataset.csv', header=None, index_col=0, parse_dates=True, squeeze=True)\n",
    "# prepare data\n",
    "X = series.values\n",
    "X = X.astype('float32')\n",
    "train_size = int(len(X) * 0.50)\n",
    "train, test = X[0:train_size], X[train_size:]\n",
    "# walk-forward validation\n",
    "history = [x for x in train]\n",
    "predictions = list()\n",
    "bias = 1.081624\n",
    "for i in range(len(test)):\n",
    "\t# predict\n",
    "\tmodel = ARIMA(history, order=(2,1,0))\n",
    "\tmodel_fit = model.fit()\n",
    "\tyhat = bias + float(model_fit.forecast()[0])\n",
    "\tpredictions.append(yhat)\n",
    "\t# observation\n",
    "\tobs = test[i]\n",
    "\thistory.append(obs)\n",
    "# report performance\n",
    "rmse = sqrt(mean_squared_error(test, predictions))\n",
    "print('RMSE: %.3f' % rmse)\n",
    "# summarize residual errors\n",
    "residuals = [test[i]-predictions[i] for i in range(len(test))]\n",
    "residuals = DataFrame(residuals)\n",
    "print(residuals.describe())\n",
    "# plot residual errors\n",
    "pyplot.figure()\n",
    "pyplot.subplot(211)\n",
    "residuals.hist(ax=pyplot.gca())\n",
    "pyplot.subplot(212)\n",
    "residuals.plot(kind='kde', ax=pyplot.gca())\n",
    "pyplot.show()"
   ]
  },
  {
   "cell_type": "code",
   "execution_count": 82,
   "id": "forward-coaching",
   "metadata": {},
   "outputs": [],
   "source": [
    "# save finalized model to file\n",
    "# monkey patch around bug in ARIMA class\n",
    "def __getnewargs__(self):\n",
    "\treturn ((self.endog),(self.k_diff, self.k_ma))\n",
    "\n",
    "ARIMA.__getnewargs__ = __getnewargs__\n",
    "\n",
    "# load data\n",
    "series = read_csv('dataset.csv', header=None, index_col=0, parse_dates=True, squeeze=True)\n",
    "# prepare data\n",
    "X = series.values\n",
    "X = X.astype('float32')\n",
    "# fit model\n",
    "model = ARIMA(X, order=(2,1,0))\n",
    "model_fit = model.fit()\n",
    "# bias constant, could be calculated from in-sample mean residual\n",
    "bias = 1.081624\n",
    "# save model\n",
    "model_fit.save('model.pkl')\n",
    "numpy.save('model_bias.npy', [bias])"
   ]
  },
  {
   "cell_type": "code",
   "execution_count": 83,
   "id": "sensitive-clock",
   "metadata": {},
   "outputs": [
    {
     "name": "stdout",
     "output_type": "stream",
     "text": [
      "Predicted: 540.011\n"
     ]
    }
   ],
   "source": [
    "# load finalized model and make a prediction\n",
    "model_fit = ARIMAResults.load('model.pkl')\n",
    "bias = numpy.load('model_bias.npy')\n",
    "yhat = bias + float(model_fit.forecast()[0])\n",
    "print('Predicted: %.3f' % yhat)"
   ]
  },
  {
   "cell_type": "code",
   "execution_count": 84,
   "id": "novel-volunteer",
   "metadata": {},
   "outputs": [
    {
     "name": "stdout",
     "output_type": "stream",
     "text": [
      ">Predicted=540.011, Expected=568.000\n",
      ">Predicted=571.593, Expected=575.000\n",
      ">Predicted=573.292, Expected=579.000\n",
      ">Predicted=579.562, Expected=587.000\n",
      ">Predicted=588.064, Expected=602.000\n",
      ">Predicted=603.025, Expected=594.000\n",
      ">Predicted=593.177, Expected=587.000\n",
      ">Predicted=588.556, Expected=587.000\n",
      ">Predicted=588.796, Expected=625.000\n",
      ">Predicted=627.947, Expected=613.000\n",
      "RMSE: 16.533\n"
     ]
    },
    {
     "data": {
      "image/png": "[encoded data removed]",
      "text/plain": [
       "<Figure size 432x288 with 1 Axes>"
      ]
     },
     "metadata": {
      "needs_background": "light"
     },
     "output_type": "display_data"
    }
   ],
   "source": [
    "# load and evaluate the finalized model on the validation dataset\n",
    "# load and prepare datasets\n",
    "dataset = read_csv('dataset.csv', header=None, index_col=0, parse_dates=True, squeeze=True)\n",
    "X = dataset.values.astype('float32')\n",
    "history = [x for x in X]\n",
    "validation = read_csv('validation.csv', header=None, index_col=0, parse_dates=True, squeeze=True)\n",
    "y = validation.values.astype('float32')\n",
    "# load model\n",
    "model_fit = ARIMAResults.load('model.pkl')\n",
    "bias = numpy.load('model_bias.npy')\n",
    "# make first prediction\n",
    "predictions = list()\n",
    "yhat = bias + float(model_fit.forecast()[0])\n",
    "predictions.append(yhat)\n",
    "history.append(y[0])\n",
    "print('>Predicted=%.3f, Expected=%.3f' % (yhat, y[0]))\n",
    "# rolling forecasts\n",
    "for i in range(1, len(y)):\n",
    "\t# predict\n",
    "\tmodel = ARIMA(history, order=(2,1,0))\n",
    "\tmodel_fit = model.fit()\n",
    "\tyhat = bias + float(model_fit.forecast()[0])\n",
    "\tpredictions.append(yhat)\n",
    "\t# observation\n",
    "\tobs = y[i]\n",
    "\thistory.append(obs)\n",
    "\tprint('>Predicted=%.3f, Expected=%.3f' % (yhat, obs))\n",
    "# report performance\n",
    "rmse = sqrt(mean_squared_error(y, predictions))\n",
    "print('RMSE: %.3f' % rmse)\n",
    "pyplot.plot(y)\n",
    "pyplot.plot(predictions, color='red')\n",
    "pyplot.show()"
   ]
  },
  {
   "cell_type": "markdown",
   "id": "spectacular-recommendation",
   "metadata": {},
   "source": [
    "# Project: Monthly Sales of French Champagne"
   ]
  },
  {
   "cell_type": "code",
   "execution_count": 85,
   "id": "sought-referral",
   "metadata": {},
   "outputs": [
    {
     "name": "stdout",
     "output_type": "stream",
     "text": [
      "Dataset 93, Validation 12\n"
     ]
    }
   ],
   "source": [
    "# separate out a validation dataset\n",
    "series = read_csv('champagne.csv', header=0, index_col=0, parse_dates=True, squeeze=True)\n",
    "split_point = len(series) - 12\n",
    "dataset, validation = series[0:split_point], series[split_point:]\n",
    "print('Dataset %d, Validation %d' % (len(dataset), len(validation)))\n",
    "dataset.to_csv('dataset.csv', header=False)\n",
    "validation.to_csv('validation.csv', header=False)"
   ]
  },
  {
   "cell_type": "code",
   "execution_count": 86,
   "id": "incorporate-logic",
   "metadata": {},
   "outputs": [
    {
     "name": "stdout",
     "output_type": "stream",
     "text": [
      ">Predicted=5428.000, Expected=8314\n",
      ">Predicted=8314.000, Expected=10651\n",
      ">Predicted=10651.000, Expected=3633\n",
      ">Predicted=3633.000, Expected=4292\n",
      ">Predicted=4292.000, Expected=4154\n",
      ">Predicted=4154.000, Expected=4121\n",
      ">Predicted=4121.000, Expected=4647\n",
      ">Predicted=4647.000, Expected=4753\n",
      ">Predicted=4753.000, Expected=3965\n",
      ">Predicted=3965.000, Expected=1723\n",
      ">Predicted=1723.000, Expected=5048\n",
      ">Predicted=5048.000, Expected=6922\n",
      ">Predicted=6922.000, Expected=9858\n",
      ">Predicted=9858.000, Expected=11331\n",
      ">Predicted=11331.000, Expected=4016\n",
      ">Predicted=4016.000, Expected=3957\n",
      ">Predicted=3957.000, Expected=4510\n",
      ">Predicted=4510.000, Expected=4276\n",
      ">Predicted=4276.000, Expected=4968\n",
      ">Predicted=4968.000, Expected=4677\n",
      ">Predicted=4677.000, Expected=3523\n",
      ">Predicted=3523.000, Expected=1821\n",
      ">Predicted=1821.000, Expected=5222\n",
      ">Predicted=5222.000, Expected=6872\n",
      ">Predicted=6872.000, Expected=10803\n",
      ">Predicted=10803.000, Expected=13916\n",
      ">Predicted=13916.000, Expected=2639\n",
      ">Predicted=2639.000, Expected=2899\n",
      ">Predicted=2899.000, Expected=3370\n",
      ">Predicted=3370.000, Expected=3740\n",
      ">Predicted=3740.000, Expected=2927\n",
      ">Predicted=2927.000, Expected=3986\n",
      ">Predicted=3986.000, Expected=4217\n",
      ">Predicted=4217.000, Expected=1738\n",
      ">Predicted=1738.000, Expected=5221\n",
      ">Predicted=5221.000, Expected=6424\n",
      ">Predicted=6424.000, Expected=9842\n",
      ">Predicted=9842.000, Expected=13076\n",
      ">Predicted=13076.000, Expected=3934\n",
      ">Predicted=3934.000, Expected=3162\n",
      ">Predicted=3162.000, Expected=4286\n",
      ">Predicted=4286.000, Expected=4676\n",
      ">Predicted=4676.000, Expected=5010\n",
      ">Predicted=5010.000, Expected=4874\n",
      ">Predicted=4874.000, Expected=4633\n",
      ">Predicted=4633.000, Expected=1659\n",
      ">Predicted=1659.000, Expected=5951\n",
      "RMSE: 3186.501\n"
     ]
    }
   ],
   "source": [
    "# evaluate persistence model on time series\n",
    "# load data\n",
    "series = read_csv('dataset.csv', header=None, index_col=0, parse_dates=True, squeeze=True)\n",
    "# prepare data\n",
    "X = series.values\n",
    "X = X.astype('float32')\n",
    "train_size = int(len(X) * 0.50)\n",
    "train, test = X[0:train_size], X[train_size:]\n",
    "# walk-forward validation\n",
    "history = [x for x in train]\n",
    "predictions = list()\n",
    "for i in range(len(test)):\n",
    "\t# predict\n",
    "\tyhat = history[-1]\n",
    "\tpredictions.append(yhat)\n",
    "\t# observation\n",
    "\tobs = test[i]\n",
    "\thistory.append(obs)\n",
    "\tprint('>Predicted=%.3f, Expected=%3.f' % (yhat, obs))\n",
    "# report performance\n",
    "rmse = sqrt(mean_squared_error(test, predictions))\n",
    "print('RMSE: %.3f' % rmse)"
   ]
  },
  {
   "cell_type": "code",
   "execution_count": 87,
   "id": "young-livestock",
   "metadata": {},
   "outputs": [
    {
     "name": "stdout",
     "output_type": "stream",
     "text": [
      "count       93.000000\n",
      "mean      4641.118280\n",
      "std       2486.403841\n",
      "min       1573.000000\n",
      "25%       3036.000000\n",
      "50%       4016.000000\n",
      "75%       5048.000000\n",
      "max      13916.000000\n",
      "Name: 1, dtype: float64\n"
     ]
    }
   ],
   "source": [
    "# summary statistics of time series\n",
    "series = read_csv('dataset.csv', header=None, index_col=0, parse_dates=True, squeeze=True)\n",
    "print(series.describe())"
   ]
  },
  {
   "cell_type": "code",
   "execution_count": 88,
   "id": "prostate-shade",
   "metadata": {},
   "outputs": [
    {
     "data": {
      "image/png": "[encoded data removed]",
      "text/plain": [
       "<Figure size 432x288 with 1 Axes>"
      ]
     },
     "metadata": {
      "needs_background": "light"
     },
     "output_type": "display_data"
    }
   ],
   "source": [
    "# line plot of time series\n",
    "series = read_csv('dataset.csv', header=None, index_col=0, parse_dates=True, squeeze=True)\n",
    "series.plot()\n",
    "pyplot.show()"
   ]
  },
  {
   "cell_type": "code",
   "execution_count": 89,
   "id": "bulgarian-cambodia",
   "metadata": {},
   "outputs": [
    {
     "data": {
      "image/png": "[encoded data removed]",
      "text/plain": [
       "<Figure size 432x288 with 7 Axes>"
      ]
     },
     "metadata": {
      "needs_background": "light"
     },
     "output_type": "display_data"
    }
   ],
   "source": [
    "# multiple line plots of time series\n",
    "series = read_csv('dataset.csv', header=None, index_col=0, parse_dates=True, squeeze=True)\n",
    "groups = series['1964':'1970'].groupby(Grouper(freq='A'))\n",
    "years = DataFrame()\n",
    "pyplot.figure()\n",
    "i = 1\n",
    "n_groups = len(groups)\n",
    "for name, group in groups:\n",
    "\tpyplot.subplot((n_groups*100) + 10 + i)\n",
    "\ti += 1\n",
    "\tpyplot.plot(group)\n",
    "pyplot.show()"
   ]
  },
  {
   "cell_type": "code",
   "execution_count": 90,
   "id": "exotic-french",
   "metadata": {},
   "outputs": [
    {
     "data": {
      "image/png": "[encoded data removed]",
      "text/plain": [
       "<Figure size 432x288 with 2 Axes>"
      ]
     },
     "metadata": {
      "needs_background": "light"
     },
     "output_type": "display_data"
    }
   ],
   "source": [
    "# density plots of time series\n",
    "series = read_csv('dataset.csv', header=None, index_col=0, parse_dates=True, squeeze=True)\n",
    "pyplot.figure(1)\n",
    "pyplot.subplot(211)\n",
    "series.hist()\n",
    "pyplot.subplot(212)\n",
    "series.plot(kind='kde')\n",
    "pyplot.show()"
   ]
  },
  {
   "cell_type": "code",
   "execution_count": 91,
   "id": "occasional-aggregate",
   "metadata": {},
   "outputs": [
    {
     "data": {
      "image/png": "[encoded data removed]",
      "text/plain": [
       "<Figure size 432x288 with 1 Axes>"
      ]
     },
     "metadata": {
      "needs_background": "light"
     },
     "output_type": "display_data"
    }
   ],
   "source": [
    "# boxplots of time series\n",
    "series = read_csv('dataset.csv', header=None, index_col=0, parse_dates=True, squeeze=True)\n",
    "groups = series['1964':'1970'].groupby(Grouper(freq='A'))\n",
    "years = DataFrame()\n",
    "for name, group in groups:\n",
    "\tyears[name.year] = group.values\n",
    "years.boxplot()\n",
    "pyplot.show()"
   ]
  },
  {
   "cell_type": "code",
   "execution_count": 92,
   "id": "static-driver",
   "metadata": {},
   "outputs": [
    {
     "name": "stdout",
     "output_type": "stream",
     "text": [
      "ADF Statistic: -7.134898\n",
      "p-value: 0.000000\n",
      "Critical Values:\n",
      "\t1%: -3.515\n",
      "\t5%: -2.898\n",
      "\t10%: -2.586\n"
     ]
    },
    {
     "data": {
      "image/png": "[encoded data removed]",
      "text/plain": [
       "<Figure size 432x288 with 1 Axes>"
      ]
     },
     "metadata": {
      "needs_background": "light"
     },
     "output_type": "display_data"
    }
   ],
   "source": [
    "# create and summarize stationary version of time series\n",
    "# create a differenced series\n",
    "def difference(dataset, interval=1):\n",
    "\tdiff = list()\n",
    "\tfor i in range(interval, len(dataset)):\n",
    "\t\tvalue = dataset[i] - dataset[i - interval]\n",
    "\t\tdiff.append(value)\n",
    "\treturn Series(diff)\n",
    "\n",
    "series = read_csv('dataset.csv', header=None, index_col=0, parse_dates=True, squeeze=True)\n",
    "X = series.values\n",
    "X = X.astype('float32')\n",
    "# difference data\n",
    "months_in_year = 12\n",
    "stationary = difference(X, months_in_year)\n",
    "stationary.index = series.index[months_in_year:]\n",
    "# check if stationary\n",
    "result = adfuller(stationary)\n",
    "print('ADF Statistic: %f' % result[0])\n",
    "print('p-value: %f' % result[1])\n",
    "print('Critical Values:')\n",
    "for key, value in result[4].items():\n",
    "\tprint('\\t%s: %.3f' % (key, value))\n",
    "# save\n",
    "stationary.to_csv('stationary.csv', header=False)\n",
    "# plot\n",
    "stationary.plot()\n",
    "pyplot.show()"
   ]
  },
  {
   "cell_type": "code",
   "execution_count": 93,
   "id": "medical-whole",
   "metadata": {},
   "outputs": [
    {
     "data": {
      "image/png": "[encoded data removed]",
      "text/plain": [
       "<Figure size 432x288 with 2 Axes>"
      ]
     },
     "metadata": {
      "needs_background": "light"
     },
     "output_type": "display_data"
    }
   ],
   "source": [
    "# ACF and PACF plots of time series\n",
    "series = read_csv('stationary.csv', header=None, index_col=0, parse_dates=True, squeeze=True)\n",
    "pyplot.figure()\n",
    "pyplot.subplot(211)\n",
    "plot_acf(series, lags=25, ax=pyplot.gca())\n",
    "pyplot.subplot(212)\n",
    "plot_pacf(series, lags=25, ax=pyplot.gca())\n",
    "pyplot.show()"
   ]
  },
  {
   "cell_type": "code",
   "execution_count": 94,
   "id": "anticipated-minority",
   "metadata": {},
   "outputs": [
    {
     "name": "stdout",
     "output_type": "stream",
     "text": [
      ">Predicted=8076.987, Expected=8314.000\n",
      ">Predicted=9747.154, Expected=10651.000\n",
      ">Predicted=5994.362, Expected=3633.000\n",
      ">Predicted=3820.287, Expected=4292.000\n",
      ">Predicted=4041.968, Expected=4154.000\n",
      ">Predicted=4990.405, Expected=4121.000\n",
      ">Predicted=5129.641, Expected=4647.000\n",
      ">Predicted=5031.196, Expected=4753.000\n",
      ">Predicted=4133.285, Expected=3965.000\n",
      ">Predicted=2095.321, Expected=1723.000\n",
      ">Predicted=5216.271, Expected=5048.000\n",
      ">Predicted=5866.317, Expected=6922.000\n",
      ">Predicted=8591.060, Expected=9858.000\n",
      ">Predicted=11028.649, Expected=11331.000\n",
      ">Predicted=4090.352, Expected=4016.000\n",
      ">Predicted=4767.109, Expected=3957.000\n",
      ">Predicted=4656.326, Expected=4510.000\n",
      ">Predicted=4577.708, Expected=4276.000\n",
      ">Predicted=5108.656, Expected=4968.000\n",
      ">Predicted=5202.831, Expected=4677.000\n",
      ">Predicted=4423.982, Expected=3523.000\n",
      ">Predicted=2162.388, Expected=1821.000\n",
      ">Predicted=5463.233, Expected=5222.000\n",
      ">Predicted=7331.345, Expected=6872.000\n",
      ">Predicted=10258.650, Expected=10803.000\n",
      ">Predicted=11732.476, Expected=13916.000\n",
      ">Predicted=4552.498, Expected=2639.000\n",
      ">Predicted=4578.764, Expected=2899.000\n",
      ">Predicted=4914.578, Expected=3370.000\n",
      ">Predicted=4545.624, Expected=3740.000\n",
      ">Predicted=5229.775, Expected=2927.000\n",
      ">Predicted=4287.729, Expected=3986.000\n",
      ">Predicted=3153.080, Expected=4217.000\n",
      ">Predicted=1827.777, Expected=1738.000\n",
      ">Predicted=5134.492, Expected=5221.000\n",
      ">Predicted=6806.278, Expected=6424.000\n",
      ">Predicted=10643.889, Expected=9842.000\n",
      ">Predicted=13606.245, Expected=13076.000\n",
      ">Predicted=2265.432, Expected=3934.000\n",
      ">Predicted=2936.318, Expected=3162.000\n",
      ">Predicted=3341.109, Expected=4286.000\n",
      ">Predicted=3881.790, Expected=4676.000\n",
      ">Predicted=3156.594, Expected=5010.000\n",
      ">Predicted=4693.892, Expected=4874.000\n",
      ">Predicted=4663.923, Expected=4633.000\n",
      ">Predicted=2045.576, Expected=1659.000\n",
      ">Predicted=5440.861, Expected=5951.000\n",
      "RMSE: 961.549\n"
     ]
    }
   ],
   "source": [
    "# evaluate manually configured ARIMA model\n",
    "# create a differenced series\n",
    "def difference(dataset, interval=1):\n",
    "\tdiff = list()\n",
    "\tfor i in range(interval, len(dataset)):\n",
    "\t\tvalue = dataset[i] - dataset[i - interval]\n",
    "\t\tdiff.append(value)\n",
    "\treturn diff\n",
    "\n",
    "# invert differenced value\n",
    "def inverse_difference(history, yhat, interval=1):\n",
    "\treturn yhat + history[-interval]\n",
    "\n",
    "# load data\n",
    "series = read_csv('dataset.csv', header=None, index_col=0, parse_dates=True, squeeze=True)\n",
    "# prepare data\n",
    "X = series.values\n",
    "X = X.astype('float32')\n",
    "train_size = int(len(X) * 0.50)\n",
    "train, test = X[0:train_size], X[train_size:]\n",
    "# walk-forward validation\n",
    "history = [x for x in train]\n",
    "predictions = list()\n",
    "for i in range(len(test)):\n",
    "\t# difference data\n",
    "\tmonths_in_year = 12\n",
    "\tdiff = difference(history, months_in_year)\n",
    "\t# predict\n",
    "\tmodel = ARIMA(diff, order=(1,1,1))\n",
    "\tmodel_fit = model.fit()\n",
    "\tyhat = model_fit.forecast()[0]\n",
    "\tyhat = inverse_difference(history, yhat, months_in_year)\n",
    "\tpredictions.append(yhat)\n",
    "\t# observation\n",
    "\tobs = test[i]\n",
    "\thistory.append(obs)\n",
    "\tprint('>Predicted=%.3f, Expected=%.3f' % (yhat, obs))\n",
    "# report performance\n",
    "rmse = sqrt(mean_squared_error(test, predictions))\n",
    "print('RMSE: %.3f' % rmse)"
   ]
  },
  {
   "cell_type": "code",
   "execution_count": 95,
   "id": "leading-central",
   "metadata": {},
   "outputs": [
    {
     "name": "stdout",
     "output_type": "stream",
     "text": [
      "ARIMA(0, 0, 0) RMSE=947.677\n",
      "ARIMA(0, 0, 1) RMSE=948.007\n",
      "ARIMA(0, 0, 2) RMSE=973.907\n",
      "ARIMA(0, 0, 3) RMSE=987.021\n",
      "ARIMA(0, 0, 4) RMSE=1008.705\n",
      "ARIMA(0, 0, 5) RMSE=1038.189\n",
      "ARIMA(0, 0, 6) RMSE=1059.502\n",
      "ARIMA(0, 1, 0) RMSE=1145.923\n",
      "ARIMA(0, 1, 1) RMSE=959.122\n",
      "ARIMA(0, 1, 2) RMSE=958.613\n",
      "ARIMA(0, 1, 3) RMSE=976.966\n",
      "ARIMA(0, 1, 4) RMSE=982.294\n",
      "ARIMA(0, 1, 5) RMSE=1013.386\n",
      "ARIMA(0, 1, 6) RMSE=1061.510\n",
      "ARIMA(0, 2, 0) RMSE=1930.801\n",
      "ARIMA(0, 2, 1) RMSE=1157.260\n",
      "ARIMA(0, 2, 2) RMSE=961.470\n",
      "ARIMA(0, 2, 3) RMSE=981.115\n",
      "ARIMA(0, 2, 4) RMSE=982.052\n",
      "ARIMA(0, 2, 5) RMSE=1068.814\n",
      "ARIMA(0, 2, 6) RMSE=1054.055\n",
      "ARIMA(1, 0, 0) RMSE=945.107\n",
      "ARIMA(1, 0, 1) RMSE=979.319\n",
      "ARIMA(1, 0, 2) RMSE=975.267\n",
      "ARIMA(1, 0, 3) RMSE=997.229\n",
      "ARIMA(1, 0, 4) RMSE=1032.134\n",
      "ARIMA(1, 0, 5) RMSE=1072.922\n",
      "ARIMA(1, 0, 6) RMSE=1068.549\n",
      "ARIMA(1, 1, 0) RMSE=1071.385\n",
      "ARIMA(1, 1, 1) RMSE=961.549\n",
      "ARIMA(1, 1, 2) RMSE=962.006\n",
      "ARIMA(1, 1, 3) RMSE=962.202\n",
      "ARIMA(1, 1, 4) RMSE=986.987\n",
      "ARIMA(1, 1, 5) RMSE=1006.845\n",
      "ARIMA(1, 1, 6) RMSE=1049.784\n",
      "ARIMA(1, 2, 0) RMSE=1560.305\n",
      "ARIMA(1, 2, 1) RMSE=1081.846\n",
      "ARIMA(1, 2, 2) RMSE=975.367\n",
      "ARIMA(1, 2, 3) RMSE=995.963\n",
      "ARIMA(1, 2, 4) RMSE=997.446\n",
      "ARIMA(1, 2, 5) RMSE=981.243\n",
      "ARIMA(1, 2, 6) RMSE=1018.425\n",
      "ARIMA(2, 0, 0) RMSE=962.750\n",
      "ARIMA(2, 0, 1) RMSE=988.769\n",
      "ARIMA(2, 0, 2) RMSE=1005.597\n",
      "ARIMA(2, 0, 3) RMSE=1022.674\n",
      "ARIMA(2, 0, 4) RMSE=1019.391\n",
      "ARIMA(2, 0, 5) RMSE=1066.068\n",
      "ARIMA(2, 0, 6) RMSE=1035.492\n",
      "ARIMA(2, 1, 0) RMSE=1031.490\n",
      "ARIMA(2, 1, 1) RMSE=971.915\n",
      "ARIMA(2, 1, 2) RMSE=978.396\n",
      "ARIMA(2, 1, 3) RMSE=1025.812\n",
      "ARIMA(2, 1, 4) RMSE=980.395\n",
      "ARIMA(2, 1, 5) RMSE=1037.539\n",
      "ARIMA(2, 1, 6) RMSE=977.596\n",
      "ARIMA(2, 2, 0) RMSE=1352.151\n",
      "ARIMA(2, 2, 1) RMSE=1041.759\n",
      "ARIMA(2, 2, 2) RMSE=1026.959\n",
      "ARIMA(2, 2, 3) RMSE=1013.662\n",
      "ARIMA(2, 2, 4) RMSE=1020.733\n",
      "ARIMA(2, 2, 5) RMSE=1008.874\n",
      "ARIMA(2, 2, 6) RMSE=1049.407\n",
      "ARIMA(3, 0, 0) RMSE=974.493\n",
      "ARIMA(3, 0, 1) RMSE=989.819\n",
      "ARIMA(3, 0, 2) RMSE=1032.992\n",
      "ARIMA(3, 0, 3) RMSE=1013.380\n",
      "ARIMA(3, 0, 4) RMSE=1004.853\n",
      "ARIMA(3, 0, 5) RMSE=998.933\n",
      "ARIMA(3, 0, 6) RMSE=1040.419\n",
      "ARIMA(3, 1, 0) RMSE=1029.038\n",
      "ARIMA(3, 1, 1) RMSE=977.188\n",
      "ARIMA(3, 1, 2) RMSE=972.843\n",
      "ARIMA(3, 1, 3) RMSE=982.899\n",
      "ARIMA(3, 1, 4) RMSE=1012.630\n",
      "ARIMA(3, 1, 5) RMSE=991.380\n",
      "ARIMA(3, 1, 6) RMSE=996.507\n",
      "ARIMA(3, 2, 0) RMSE=1248.314\n",
      "ARIMA(3, 2, 1) RMSE=1041.343\n",
      "ARIMA(3, 2, 2) RMSE=3490.869\n",
      "ARIMA(3, 2, 3) RMSE=1027.321\n",
      "ARIMA(3, 2, 4) RMSE=1041.980\n",
      "ARIMA(3, 2, 5) RMSE=1023.041\n",
      "ARIMA(3, 2, 6) RMSE=1029.424\n",
      "ARIMA(4, 0, 0) RMSE=996.877\n",
      "ARIMA(4, 0, 1) RMSE=1059.101\n",
      "ARIMA(4, 0, 2) RMSE=1037.400\n",
      "ARIMA(4, 0, 3) RMSE=993.790\n",
      "ARIMA(4, 0, 4) RMSE=993.517\n",
      "ARIMA(4, 0, 5) RMSE=988.913\n",
      "ARIMA(4, 0, 6) RMSE=1009.802\n",
      "ARIMA(4, 1, 0) RMSE=1047.517\n",
      "ARIMA(4, 1, 1) RMSE=1010.727\n",
      "ARIMA(4, 1, 2) RMSE=1027.910\n",
      "ARIMA(4, 1, 3) RMSE=1040.756\n",
      "ARIMA(4, 1, 4) RMSE=981.448\n",
      "ARIMA(4, 1, 5) RMSE=1010.739\n",
      "ARIMA(4, 1, 6) RMSE=1001.986\n",
      "ARIMA(4, 2, 0) RMSE=1231.917\n",
      "ARIMA(4, 2, 1) RMSE=1058.981\n",
      "ARIMA(4, 2, 2) RMSE=1035.218\n",
      "ARIMA(4, 2, 3) RMSE=1074.092\n",
      "ARIMA(4, 2, 4) RMSE=1071.749\n",
      "ARIMA(4, 2, 5) RMSE=1032.140\n",
      "ARIMA(4, 2, 6) RMSE=1051.794\n",
      "ARIMA(5, 0, 0) RMSE=1015.178\n",
      "ARIMA(5, 0, 1) RMSE=1057.561\n",
      "ARIMA(5, 0, 2) RMSE=1033.924\n",
      "ARIMA(5, 0, 3) RMSE=1034.500\n",
      "ARIMA(5, 0, 4) RMSE=991.433\n",
      "ARIMA(5, 0, 5) RMSE=941.249\n",
      "ARIMA(5, 0, 6) RMSE=1028.771\n",
      "ARIMA(5, 1, 0) RMSE=1043.531\n",
      "ARIMA(5, 1, 1) RMSE=1020.263\n",
      "ARIMA(5, 1, 2) RMSE=1029.702\n",
      "ARIMA(5, 1, 3) RMSE=1045.226\n",
      "ARIMA(5, 1, 4) RMSE=929.112\n",
      "ARIMA(5, 1, 5) RMSE=989.563\n",
      "ARIMA(5, 1, 6) RMSE=982.175\n",
      "ARIMA(5, 2, 0) RMSE=1243.241\n",
      "ARIMA(5, 2, 1) RMSE=1055.328\n",
      "ARIMA(5, 2, 2) RMSE=1038.020\n",
      "ARIMA(5, 2, 3) RMSE=1049.755\n",
      "ARIMA(5, 2, 4) RMSE=1022.257\n",
      "ARIMA(5, 2, 5) RMSE=1111.069\n",
      "ARIMA(5, 2, 6) RMSE=1039.983\n",
      "ARIMA(6, 0, 0) RMSE=1024.865\n",
      "ARIMA(6, 0, 1) RMSE=1063.266\n",
      "ARIMA(6, 0, 2) RMSE=1078.610\n",
      "ARIMA(6, 0, 5) RMSE=1007.953\n",
      "ARIMA(6, 0, 6) RMSE=1038.788\n",
      "ARIMA(6, 1, 0) RMSE=1018.743\n",
      "ARIMA(6, 1, 1) RMSE=1030.268\n",
      "ARIMA(6, 1, 2) RMSE=1021.730\n",
      "ARIMA(6, 1, 3) RMSE=1028.504\n",
      "ARIMA(6, 1, 4) RMSE=1036.547\n",
      "ARIMA(6, 1, 5) RMSE=1012.480\n",
      "ARIMA(6, 1, 6) RMSE=1007.327\n",
      "ARIMA(6, 2, 0) RMSE=1225.748\n",
      "ARIMA(6, 2, 1) RMSE=1033.285\n",
      "ARIMA(6, 2, 2) RMSE=1037.463\n",
      "ARIMA(6, 2, 3) RMSE=1022.643\n",
      "ARIMA(6, 2, 4) RMSE=1053.211\n",
      "ARIMA(6, 2, 5) RMSE=1082.194\n",
      "ARIMA(6, 2, 6) RMSE=1051.377\n",
      "Best ARIMA(5, 1, 4) RMSE=929.112\n"
     ]
    }
   ],
   "source": [
    "# grid search ARIMA parameters for time series\n",
    "# create a differenced series\n",
    "def difference(dataset, interval=1):\n",
    "\tdiff = list()\n",
    "\tfor i in range(interval, len(dataset)):\n",
    "\t\tvalue = dataset[i] - dataset[i - interval]\n",
    "\t\tdiff.append(value)\n",
    "\treturn numpy.array(diff)\n",
    "\n",
    "# invert differenced value\n",
    "def inverse_difference(history, yhat, interval=1):\n",
    "\treturn yhat + history[-interval]\n",
    "\n",
    "# evaluate an ARIMA model for a given order (p,d,q) and return RMSE\n",
    "def evaluate_arima_model(X, arima_order):\n",
    "\t# prepare training dataset\n",
    "\tX = X.astype('float32')\n",
    "\ttrain_size = int(len(X) * 0.50)\n",
    "\ttrain, test = X[0:train_size], X[train_size:]\n",
    "\thistory = [x for x in train]\n",
    "\t# make predictions\n",
    "\tpredictions = list()\n",
    "\tfor t in range(len(test)):\n",
    "\t\t# difference data\n",
    "\t\tmonths_in_year = 12\n",
    "\t\tdiff = difference(history, months_in_year)\n",
    "\t\tmodel = ARIMA(diff, order=arima_order)\n",
    "\t\tmodel_fit = model.fit()\n",
    "\t\tyhat = model_fit.forecast()[0]\n",
    "\t\tyhat = inverse_difference(history, yhat, months_in_year)\n",
    "\t\tpredictions.append(yhat)\n",
    "\t\thistory.append(test[t])\n",
    "\t# calculate out of sample error\n",
    "\trmse = sqrt(mean_squared_error(test, predictions))\n",
    "\treturn rmse\n",
    "\n",
    "# evaluate combinations of p, d and q values for an ARIMA model\n",
    "def evaluate_models(dataset, p_values, d_values, q_values):\n",
    "\tdataset = dataset.astype('float32')\n",
    "\tbest_score, best_cfg = float(\"inf\"), None\n",
    "\tfor p in p_values:\n",
    "\t\tfor d in d_values:\n",
    "\t\t\tfor q in q_values:\n",
    "\t\t\t\torder = (p,d,q)\n",
    "\t\t\t\ttry:\n",
    "\t\t\t\t\trmse = evaluate_arima_model(dataset, order)\n",
    "\t\t\t\t\tif rmse < best_score:\n",
    "\t\t\t\t\t\tbest_score, best_cfg = rmse, order\n",
    "\t\t\t\t\tprint('ARIMA%s RMSE=%.3f' % (order,rmse))\n",
    "\t\t\t\texcept:\n",
    "\t\t\t\t\tcontinue\n",
    "\tprint('Best ARIMA%s RMSE=%.3f' % (best_cfg, best_score))\n",
    "\n",
    "# load dataset\n",
    "series = read_csv('dataset.csv', header=None, index_col=0, parse_dates=True, squeeze=True)\n",
    "# evaluate parameters\n",
    "p_values = range(0, 7)\n",
    "d_values = range(0, 3)\n",
    "q_values = range(0, 7)\n",
    "warnings.filterwarnings(\"ignore\")\n",
    "evaluate_models(series.values, p_values, d_values, q_values)"
   ]
  },
  {
   "cell_type": "code",
   "execution_count": 96,
   "id": "portable-creek",
   "metadata": {},
   "outputs": [
    {
     "name": "stdout",
     "output_type": "stream",
     "text": [
      "                 0\n",
      "count    47.000000\n",
      "mean   -204.270105\n",
      "std     935.746182\n",
      "min   -2325.393963\n",
      "25%    -709.042279\n",
      "50%    -228.936186\n",
      "75%     333.614664\n",
      "max    2191.022449\n"
     ]
    },
    {
     "data": {
      "image/png": "[encoded data removed]",
      "text/plain": [
       "<Figure size 432x288 with 2 Axes>"
      ]
     },
     "metadata": {
      "needs_background": "light"
     },
     "output_type": "display_data"
    }
   ],
   "source": [
    "# summarize ARIMA forecast residuals\n",
    "# create a differenced series\n",
    "def difference(dataset, interval=1):\n",
    "\tdiff = list()\n",
    "\tfor i in range(interval, len(dataset)):\n",
    "\t\tvalue = dataset[i] - dataset[i - interval]\n",
    "\t\tdiff.append(value)\n",
    "\treturn diff\n",
    "\n",
    "# invert differenced value\n",
    "def inverse_difference(history, yhat, interval=1):\n",
    "\treturn yhat + history[-interval]\n",
    "\n",
    "# load data\n",
    "series = read_csv('dataset.csv', header=None, index_col=0, parse_dates=True, squeeze=True)\n",
    "# prepare data\n",
    "X = series.values\n",
    "X = X.astype('float32')\n",
    "train_size = int(len(X) * 0.50)\n",
    "train, test = X[0:train_size], X[train_size:]\n",
    "# walk-forward validation\n",
    "history = [x for x in train]\n",
    "predictions = list()\n",
    "for i in range(len(test)):\n",
    "\t# difference data\n",
    "\tmonths_in_year = 12\n",
    "\tdiff = difference(history, months_in_year)\n",
    "\t# predict\n",
    "\tmodel = ARIMA(diff, order=(0,0,1))\n",
    "\tmodel_fit = model.fit()\n",
    "\tyhat = model_fit.forecast()[0]\n",
    "\tyhat = inverse_difference(history, yhat, months_in_year)\n",
    "\tpredictions.append(yhat)\n",
    "\t# observation\n",
    "\tobs = test[i]\n",
    "\thistory.append(obs)\n",
    "# errors\n",
    "residuals = [test[i]-predictions[i] for i in range(len(test))]\n",
    "residuals = DataFrame(residuals)\n",
    "print(residuals.describe())\n",
    "# plot\n",
    "pyplot.figure()\n",
    "pyplot.subplot(211)\n",
    "residuals.hist(ax=pyplot.gca())\n",
    "pyplot.subplot(212)\n",
    "residuals.plot(kind='kde', ax=pyplot.gca())\n",
    "pyplot.show()"
   ]
  },
  {
   "cell_type": "code",
   "execution_count": 97,
   "id": "stainless-acrobat",
   "metadata": {},
   "outputs": [
    {
     "name": "stdout",
     "output_type": "stream",
     "text": [
      "RMSE: 997.006\n",
      "                 0\n",
      "count    47.000000\n",
      "mean   -370.174833\n",
      "std     935.746182\n",
      "min   -2491.298691\n",
      "25%    -874.947007\n",
      "50%    -394.840914\n",
      "75%     167.709936\n",
      "max    2025.117721\n"
     ]
    },
    {
     "data": {
      "image/png": "[encoded data removed]",
      "text/plain": [
       "<Figure size 432x288 with 2 Axes>"
      ]
     },
     "metadata": {
      "needs_background": "light"
     },
     "output_type": "display_data"
    }
   ],
   "source": [
    "# plots of residual errors of bias corrected forecasts\n",
    "# create a differenced series\n",
    "def difference(dataset, interval=1):\n",
    "\tdiff = list()\n",
    "\tfor i in range(interval, len(dataset)):\n",
    "\t\tvalue = dataset[i] - dataset[i - interval]\n",
    "\t\tdiff.append(value)\n",
    "\treturn diff\n",
    "\n",
    "# invert differenced value\n",
    "def inverse_difference(history, yhat, interval=1):\n",
    "\treturn yhat + history[-interval]\n",
    "\n",
    "# load data\n",
    "series = read_csv('dataset.csv', header=None, index_col=0, parse_dates=True, squeeze=True)\n",
    "# prepare data\n",
    "X = series.values\n",
    "X = X.astype('float32')\n",
    "train_size = int(len(X) * 0.50)\n",
    "train, test = X[0:train_size], X[train_size:]\n",
    "# walk-forward validation\n",
    "history = [x for x in train]\n",
    "predictions = list()\n",
    "bias = 165.904728\n",
    "for i in range(len(test)):\n",
    "\t# difference data\n",
    "\tmonths_in_year = 12\n",
    "\tdiff = difference(history, months_in_year)\n",
    "\t# predict\n",
    "\tmodel = ARIMA(diff, order=(0,0,1))\n",
    "\tmodel_fit = model.fit()\n",
    "\tyhat = model_fit.forecast()[0]\n",
    "\tyhat = bias + inverse_difference(history, yhat, months_in_year)\n",
    "\tpredictions.append(yhat)\n",
    "\t# observation\n",
    "\tobs = test[i]\n",
    "\thistory.append(obs)\n",
    "# report performance\n",
    "rmse = sqrt(mean_squared_error(test, predictions))\n",
    "print('RMSE: %.3f' % rmse)\n",
    "# errors\n",
    "residuals = [test[i]-predictions[i] for i in range(len(test))]\n",
    "residuals = DataFrame(residuals)\n",
    "print(residuals.describe())\n",
    "# plot\n",
    "pyplot.figure()\n",
    "pyplot.subplot(211)\n",
    "residuals.hist(ax=pyplot.gca())\n",
    "pyplot.subplot(212)\n",
    "residuals.plot(kind='kde', ax=pyplot.gca())\n",
    "pyplot.show()"
   ]
  },
  {
   "cell_type": "code",
   "execution_count": 98,
   "id": "reduced-killing",
   "metadata": {},
   "outputs": [
    {
     "name": "stdout",
     "output_type": "stream",
     "text": [
      "                 0\n",
      "count    47.000000\n",
      "mean   -204.270105\n",
      "std     935.746182\n",
      "min   -2325.393963\n",
      "25%    -709.042279\n",
      "50%    -228.936186\n",
      "75%     333.614664\n",
      "max    2191.022449\n"
     ]
    },
    {
     "data": {
      "image/png": "[encoded data removed]",
      "text/plain": [
       "<Figure size 432x288 with 2 Axes>"
      ]
     },
     "metadata": {
      "needs_background": "light"
     },
     "output_type": "display_data"
    }
   ],
   "source": [
    "# ACF and PACF plots of residual errors of bias corrected forecasts\n",
    "# create a differenced series\n",
    "def difference(dataset, interval=1):\n",
    "\tdiff = list()\n",
    "\tfor i in range(interval, len(dataset)):\n",
    "\t\tvalue = dataset[i] - dataset[i - interval]\n",
    "\t\tdiff.append(value)\n",
    "\treturn diff\n",
    "\n",
    "# invert differenced value\n",
    "def inverse_difference(history, yhat, interval=1):\n",
    "\treturn yhat + history[-interval]\n",
    "\n",
    "# load data\n",
    "series = read_csv('dataset.csv', header=None, index_col=0, parse_dates=True, squeeze=True)\n",
    "# prepare data\n",
    "X = series.values\n",
    "X = X.astype('float32')\n",
    "train_size = int(len(X) * 0.50)\n",
    "train, test = X[0:train_size], X[train_size:]\n",
    "# walk-forward validation\n",
    "history = [x for x in train]\n",
    "predictions = list()\n",
    "for i in range(len(test)):\n",
    "\t# difference data\n",
    "\tmonths_in_year = 12\n",
    "\tdiff = difference(history, months_in_year)\n",
    "\t# predict\n",
    "\tmodel = ARIMA(diff, order=(0,0,1))\n",
    "\tmodel_fit = model.fit()\n",
    "\tyhat = model_fit.forecast()[0]\n",
    "\tyhat = inverse_difference(history, yhat, months_in_year)\n",
    "\tpredictions.append(yhat)\n",
    "\t# observation\n",
    "\tobs = test[i]\n",
    "\thistory.append(obs)\n",
    "# errors\n",
    "residuals = [test[i]-predictions[i] for i in range(len(test))]\n",
    "residuals = DataFrame(residuals)\n",
    "print(residuals.describe())\n",
    "# plot\n",
    "pyplot.figure()\n",
    "pyplot.subplot(211)\n",
    "plot_acf(residuals, ax=pyplot.gca())\n",
    "pyplot.subplot(212)\n",
    "plot_pacf(residuals, ax=pyplot.gca())\n",
    "pyplot.show()"
   ]
  },
  {
   "cell_type": "code",
   "execution_count": 99,
   "id": "comfortable-alexandria",
   "metadata": {},
   "outputs": [],
   "source": [
    "# save finalized model\n",
    "# monkey patch around bug in ARIMA class\n",
    "def __getnewargs__(self):\n",
    "\treturn ((self.endog),(self.k_diff, self.k_ma))\n",
    "\n",
    "ARIMA.__getnewargs__ = __getnewargs__\n",
    "\n",
    "# create a differenced series\n",
    "def difference(dataset, interval=1):\n",
    "\tdiff = list()\n",
    "\tfor i in range(interval, len(dataset)):\n",
    "\t\tvalue = dataset[i] - dataset[i - interval]\n",
    "\t\tdiff.append(value)\n",
    "\treturn diff\n",
    "\n",
    "# load data\n",
    "series = read_csv('dataset.csv', header=None, index_col=0, parse_dates=True, squeeze=True)\n",
    "# prepare data\n",
    "X = series.values\n",
    "X = X.astype('float32')\n",
    "# difference data\n",
    "months_in_year = 12\n",
    "diff = difference(X, months_in_year)\n",
    "# fit model\n",
    "model = ARIMA(diff, order=(0,0,1))\n",
    "model_fit = model.fit()\n",
    "# bias constant, could be calculated from in-sample mean residual\n",
    "bias = 165.904728\n",
    "# save model\n",
    "model_fit.save('model.pkl')\n",
    "numpy.save('model_bias.npy', [bias])"
   ]
  },
  {
   "cell_type": "code",
   "execution_count": 100,
   "id": "unnecessary-mailing",
   "metadata": {},
   "outputs": [
    {
     "name": "stdout",
     "output_type": "stream",
     "text": [
      "Predicted: 7004.078\n"
     ]
    }
   ],
   "source": [
    "# load finalized model and make a prediction\n",
    "# invert differenced value\n",
    "def inverse_difference(history, yhat, interval=1):\n",
    "\treturn yhat + history[-interval]\n",
    "\n",
    "series = read_csv('dataset.csv', header=None, index_col=0, parse_dates=True, squeeze=True)\n",
    "months_in_year = 12\n",
    "model_fit = ARIMAResults.load('model.pkl')\n",
    "bias = numpy.load('model_bias.npy')\n",
    "yhat = float(model_fit.forecast()[0])\n",
    "yhat = bias + inverse_difference(series.values, yhat, months_in_year)\n",
    "print('Predicted: %.3f' % yhat)"
   ]
  },
  {
   "cell_type": "code",
   "execution_count": 101,
   "id": "jewish-thong",
   "metadata": {},
   "outputs": [
    {
     "name": "stdout",
     "output_type": "stream",
     "text": [
      ">Predicted=7004.078, Expected=6981.000\n",
      ">Predicted=10356.627, Expected=9851.000\n",
      ">Predicted=13493.317, Expected=12670.000\n",
      ">Predicted=4278.689, Expected=4348.000\n",
      ">Predicted=3684.166, Expected=3564.000\n",
      ">Predicted=4772.002, Expected=4577.000\n",
      ">Predicted=5147.157, Expected=4788.000\n",
      ">Predicted=5446.633, Expected=4618.000\n",
      ">Predicted=5209.065, Expected=5312.000\n",
      ">Predicted=5153.854, Expected=4298.000\n",
      ">Predicted=1988.539, Expected=1413.000\n",
      ">Predicted=6326.844, Expected=5877.000\n",
      "RMSE: 506.921\n"
     ]
    },
    {
     "data": {
      "image/png": "[encoded data removed]",
      "text/plain": [
       "<Figure size 432x288 with 1 Axes>"
      ]
     },
     "metadata": {
      "needs_background": "light"
     },
     "output_type": "display_data"
    }
   ],
   "source": [
    "# load and evaluate the finalized model on the validation dataset\n",
    "# create a differenced series\n",
    "def difference(dataset, interval=1):\n",
    "\tdiff = list()\n",
    "\tfor i in range(interval, len(dataset)):\n",
    "\t\tvalue = dataset[i] - dataset[i - interval]\n",
    "\t\tdiff.append(value)\n",
    "\treturn diff\n",
    "\n",
    "# invert differenced value\n",
    "def inverse_difference(history, yhat, interval=1):\n",
    "\treturn yhat + history[-interval]\n",
    "\n",
    "# load and prepare datasets\n",
    "dataset = read_csv('dataset.csv', header=None, index_col=0, parse_dates=True, squeeze=True)\n",
    "X = dataset.values.astype('float32')\n",
    "history = [x for x in X]\n",
    "months_in_year = 12\n",
    "validation = read_csv('validation.csv', header=None, index_col=0, parse_dates=True, squeeze=True)\n",
    "y = validation.values.astype('float32')\n",
    "# load model\n",
    "model_fit = ARIMAResults.load('model.pkl')\n",
    "bias = numpy.load('model_bias.npy')\n",
    "# make first prediction\n",
    "predictions = list()\n",
    "yhat = float(model_fit.forecast()[0])\n",
    "yhat = bias + inverse_difference(history, yhat, months_in_year)\n",
    "predictions.append(yhat)\n",
    "history.append(y[0])\n",
    "print('>Predicted=%.3f, Expected=%.3f' % (yhat, y[0]))\n",
    "# rolling forecasts\n",
    "for i in range(1, len(y)):\n",
    "\t# difference data\n",
    "\tmonths_in_year = 12\n",
    "\tdiff = difference(history, months_in_year)\n",
    "\t# predict\n",
    "\tmodel = ARIMA(diff, order=(0,0,1))\n",
    "\tmodel_fit = model.fit()\n",
    "\tyhat = model_fit.forecast()[0]\n",
    "\tyhat = bias + inverse_difference(history, yhat, months_in_year)\n",
    "\tpredictions.append(yhat)\n",
    "\t# observation\n",
    "\tobs = y[i]\n",
    "\thistory.append(obs)\n",
    "\tprint('>Predicted=%.3f, Expected=%.3f' % (yhat, obs))\n",
    "# report performance\n",
    "rmse = sqrt(mean_squared_error(y, predictions))\n",
    "print('RMSE: %.3f' % rmse)\n",
    "pyplot.plot(y)\n",
    "pyplot.plot(predictions, color='red')\n",
    "pyplot.show()"
   ]
  }
 ],
 "metadata": {
  "kernelspec": {
   "display_name": "Python 3",
   "language": "python",
   "name": "python3"
  },
  "language_info": {
   "codemirror_mode": {
    "name": "ipython",
    "version": 3
   },
   "file_extension": ".py",
   "mimetype": "text/x-python",
   "name": "python",
   "nbconvert_exporter": "python",
   "pygments_lexer": "ipython3",
   "version": "3.7.4"
  }
 },
 "nbformat": 4,
 "nbformat_minor": 5
}
