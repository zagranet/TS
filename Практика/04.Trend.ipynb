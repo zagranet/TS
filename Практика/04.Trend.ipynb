{
 "cells": [
  {
   "cell_type": "markdown",
   "id": "painful-sessions",
   "metadata": {},
   "source": [
    "# ЗАДАНИЕ 4. МОДЕЛИРОВАНИЕ ТРЕНДА НА ОСНОВЕ КРИВЫХ РОСТА"
   ]
  },
  {
   "cell_type": "code",
   "execution_count": 1,
   "id": "iraqi-remains",
   "metadata": {
    "tags": []
   },
   "outputs": [],
   "source": [
    "import os\n",
    "import pandas as pd \n",
    "import numpy as np\n",
    "from sklearn.metrics import r2_score, mean_absolute_error, mean_squared_error\n",
    "from scipy.stats import linregress\n",
    "from sklearn.linear_model import LinearRegression\n",
    "from math import sqrt\n",
    "from pandas import concat\n",
    "from statsmodels.graphics.gofplots import qqplot\n",
    "import matplotlib.pyplot as plt\n",
    "from statsmodels.stats.stattools import durbin_watson\n",
    "from pandas.plotting import autocorrelation_plot\n",
    "import scipy.stats\n",
    "import seaborn as sns\n",
    "from scipy.stats import t as student"
   ]
  },
  {
   "cell_type": "code",
   "execution_count": 2,
   "id": "baking-disposition",
   "metadata": {},
   "outputs": [],
   "source": [
    "os.chdir(\"C:/Users/HP/Documents/analysis/TS/data/\")"
   ]
  },
  {
   "cell_type": "code",
   "execution_count": 3,
   "id": "classical-monte",
   "metadata": {},
   "outputs": [
    {
     "data": {
      "text/html": [
       "<div>\n",
       "<style scoped>\n",
       "    .dataframe tbody tr th:only-of-type {\n",
       "        vertical-align: middle;\n",
       "    }\n",
       "\n",
       "    .dataframe tbody tr th {\n",
       "        vertical-align: top;\n",
       "    }\n",
       "\n",
       "    .dataframe thead th {\n",
       "        text-align: right;\n",
       "    }\n",
       "</style>\n",
       "<table border=\"1\" class=\"dataframe\">\n",
       "  <thead>\n",
       "    <tr style=\"text-align: right;\">\n",
       "      <th></th>\n",
       "      <th>Unnamed: 0</th>\n",
       "      <th>Unnamed: 1</th>\n",
       "      <th>Рыночные цены на материал 1 (руб.)</th>\n",
       "      <th>Unnamed: 3</th>\n",
       "      <th>Unnamed: 4</th>\n",
       "      <th>Unnamed: 5</th>\n",
       "      <th>Unnamed: 6</th>\n",
       "      <th>Unnamed: 7</th>\n",
       "      <th>Unnamed: 8</th>\n",
       "      <th>Unnamed: 9</th>\n",
       "      <th>...</th>\n",
       "      <th>Unnamed: 40</th>\n",
       "      <th>Unnamed: 41</th>\n",
       "      <th>Unnamed: 42</th>\n",
       "      <th>Unnamed: 43</th>\n",
       "      <th>Unnamed: 44</th>\n",
       "      <th>Unnamed: 45</th>\n",
       "      <th>Unnamed: 46</th>\n",
       "      <th>Unnamed: 47</th>\n",
       "      <th>Unnamed: 48</th>\n",
       "      <th>Unnamed: 49</th>\n",
       "    </tr>\n",
       "  </thead>\n",
       "  <tbody>\n",
       "    <tr>\n",
       "      <th>0</th>\n",
       "      <td>NaN</td>\n",
       "      <td>NaN</td>\n",
       "      <td>2007-01-01 00:00:00</td>\n",
       "      <td>2007-02-01 00:00:00</td>\n",
       "      <td>2007-03-01 00:00:00</td>\n",
       "      <td>2007-04-01 00:00:00</td>\n",
       "      <td>2007-05-01 00:00:00</td>\n",
       "      <td>2007-06-01 00:00:00</td>\n",
       "      <td>2007-07-01 00:00:00</td>\n",
       "      <td>2007-08-01 00:00:00</td>\n",
       "      <td>...</td>\n",
       "      <td>2010-03-01 00:00:00</td>\n",
       "      <td>2010-04-01 00:00:00</td>\n",
       "      <td>2010-05-01 00:00:00</td>\n",
       "      <td>2010-06-01 00:00:00</td>\n",
       "      <td>2010-07-01 00:00:00</td>\n",
       "      <td>2010-08-01 00:00:00</td>\n",
       "      <td>2010-09-01 00:00:00</td>\n",
       "      <td>2010-10-01 00:00:00</td>\n",
       "      <td>2010-11-01 00:00:00</td>\n",
       "      <td>2010-12-01 00:00:00</td>\n",
       "    </tr>\n",
       "    <tr>\n",
       "      <th>1</th>\n",
       "      <td>№ организации</td>\n",
       "      <td>1.0</td>\n",
       "      <td>26.45</td>\n",
       "      <td>23.89</td>\n",
       "      <td>25.95</td>\n",
       "      <td>30.03</td>\n",
       "      <td>28.96</td>\n",
       "      <td>25.58</td>\n",
       "      <td>25.96</td>\n",
       "      <td>30.56</td>\n",
       "      <td>...</td>\n",
       "      <td>37.36</td>\n",
       "      <td>39.21</td>\n",
       "      <td>39.43</td>\n",
       "      <td>43.5</td>\n",
       "      <td>40.75</td>\n",
       "      <td>42.84</td>\n",
       "      <td>38.01</td>\n",
       "      <td>45.18</td>\n",
       "      <td>42.49</td>\n",
       "      <td>44.2</td>\n",
       "    </tr>\n",
       "    <tr>\n",
       "      <th>2</th>\n",
       "      <td>NaN</td>\n",
       "      <td>2.0</td>\n",
       "      <td>26.09</td>\n",
       "      <td>20.66</td>\n",
       "      <td>22.6</td>\n",
       "      <td>25.05</td>\n",
       "      <td>27.59</td>\n",
       "      <td>20.49</td>\n",
       "      <td>27.39</td>\n",
       "      <td>28.52</td>\n",
       "      <td>...</td>\n",
       "      <td>39.54</td>\n",
       "      <td>42.38</td>\n",
       "      <td>37.5</td>\n",
       "      <td>41.29</td>\n",
       "      <td>44.96</td>\n",
       "      <td>45.39</td>\n",
       "      <td>42.49</td>\n",
       "      <td>45.77</td>\n",
       "      <td>46.94</td>\n",
       "      <td>40.83</td>\n",
       "    </tr>\n",
       "    <tr>\n",
       "      <th>3</th>\n",
       "      <td>NaN</td>\n",
       "      <td>3.0</td>\n",
       "      <td>22.05</td>\n",
       "      <td>23.15</td>\n",
       "      <td>28.22</td>\n",
       "      <td>21.55</td>\n",
       "      <td>21.57</td>\n",
       "      <td>28.58</td>\n",
       "      <td>31.42</td>\n",
       "      <td>28.11</td>\n",
       "      <td>...</td>\n",
       "      <td>40.17</td>\n",
       "      <td>47.99</td>\n",
       "      <td>47.92</td>\n",
       "      <td>46.25</td>\n",
       "      <td>47.3</td>\n",
       "      <td>48.9</td>\n",
       "      <td>51.2</td>\n",
       "      <td>43.96</td>\n",
       "      <td>49.22</td>\n",
       "      <td>51.38</td>\n",
       "    </tr>\n",
       "    <tr>\n",
       "      <th>4</th>\n",
       "      <td>NaN</td>\n",
       "      <td>4.0</td>\n",
       "      <td>20.41</td>\n",
       "      <td>28.39</td>\n",
       "      <td>17.74</td>\n",
       "      <td>18.46</td>\n",
       "      <td>20.47</td>\n",
       "      <td>28.93</td>\n",
       "      <td>27.89</td>\n",
       "      <td>20.68</td>\n",
       "      <td>...</td>\n",
       "      <td>68.39</td>\n",
       "      <td>73.93</td>\n",
       "      <td>63.97</td>\n",
       "      <td>75.59</td>\n",
       "      <td>70.98</td>\n",
       "      <td>78.28</td>\n",
       "      <td>78.98</td>\n",
       "      <td>71.27</td>\n",
       "      <td>81.34</td>\n",
       "      <td>85.73</td>\n",
       "    </tr>\n",
       "  </tbody>\n",
       "</table>\n",
       "<p>5 rows × 50 columns</p>\n",
       "</div>"
      ],
      "text/plain": [
       "      Unnamed: 0  Unnamed: 1 Рыночные цены на материал 1 (руб.)  \\\n",
       "0            NaN         NaN                2007-01-01 00:00:00   \n",
       "1  № организации         1.0                              26.45   \n",
       "2            NaN         2.0                              26.09   \n",
       "3            NaN         3.0                              22.05   \n",
       "4            NaN         4.0                              20.41   \n",
       "\n",
       "            Unnamed: 3           Unnamed: 4           Unnamed: 5  \\\n",
       "0  2007-02-01 00:00:00  2007-03-01 00:00:00  2007-04-01 00:00:00   \n",
       "1                23.89                25.95                30.03   \n",
       "2                20.66                 22.6                25.05   \n",
       "3                23.15                28.22                21.55   \n",
       "4                28.39                17.74                18.46   \n",
       "\n",
       "            Unnamed: 6           Unnamed: 7           Unnamed: 8  \\\n",
       "0  2007-05-01 00:00:00  2007-06-01 00:00:00  2007-07-01 00:00:00   \n",
       "1                28.96                25.58                25.96   \n",
       "2                27.59                20.49                27.39   \n",
       "3                21.57                28.58                31.42   \n",
       "4                20.47                28.93                27.89   \n",
       "\n",
       "            Unnamed: 9  ...          Unnamed: 40          Unnamed: 41  \\\n",
       "0  2007-08-01 00:00:00  ...  2010-03-01 00:00:00  2010-04-01 00:00:00   \n",
       "1                30.56  ...                37.36                39.21   \n",
       "2                28.52  ...                39.54                42.38   \n",
       "3                28.11  ...                40.17                47.99   \n",
       "4                20.68  ...                68.39                73.93   \n",
       "\n",
       "           Unnamed: 42          Unnamed: 43          Unnamed: 44  \\\n",
       "0  2010-05-01 00:00:00  2010-06-01 00:00:00  2010-07-01 00:00:00   \n",
       "1                39.43                 43.5                40.75   \n",
       "2                 37.5                41.29                44.96   \n",
       "3                47.92                46.25                 47.3   \n",
       "4                63.97                75.59                70.98   \n",
       "\n",
       "           Unnamed: 45          Unnamed: 46          Unnamed: 47  \\\n",
       "0  2010-08-01 00:00:00  2010-09-01 00:00:00  2010-10-01 00:00:00   \n",
       "1                42.84                38.01                45.18   \n",
       "2                45.39                42.49                45.77   \n",
       "3                 48.9                 51.2                43.96   \n",
       "4                78.28                78.98                71.27   \n",
       "\n",
       "           Unnamed: 48          Unnamed: 49  \n",
       "0  2010-11-01 00:00:00  2010-12-01 00:00:00  \n",
       "1                42.49                 44.2  \n",
       "2                46.94                40.83  \n",
       "3                49.22                51.38  \n",
       "4                81.34                85.73  \n",
       "\n",
       "[5 rows x 50 columns]"
      ]
     },
     "execution_count": 3,
     "metadata": {},
     "output_type": "execute_result"
    }
   ],
   "source": [
    "data = pd.read_excel('data.xls', sheet_name='Material 1')\n",
    "data.head()"
   ]
  },
  {
   "cell_type": "code",
   "execution_count": 4,
   "id": "little-tenant",
   "metadata": {},
   "outputs": [],
   "source": [
    "dates = data.loc[data.index == 0].values[0, 2:]\n",
    "val = data.loc[data.index == 1].values[0, 2:]"
   ]
  },
  {
   "cell_type": "code",
   "execution_count": 5,
   "id": "rocky-inclusion",
   "metadata": {},
   "outputs": [],
   "source": [
    "data={\"Date\": dates, \"Value\": val}"
   ]
  },
  {
   "cell_type": "code",
   "execution_count": 6,
   "id": "textile-canadian",
   "metadata": {},
   "outputs": [
    {
     "data": {
      "text/html": [
       "<div>\n",
       "<style scoped>\n",
       "    .dataframe tbody tr th:only-of-type {\n",
       "        vertical-align: middle;\n",
       "    }\n",
       "\n",
       "    .dataframe tbody tr th {\n",
       "        vertical-align: top;\n",
       "    }\n",
       "\n",
       "    .dataframe thead th {\n",
       "        text-align: right;\n",
       "    }\n",
       "</style>\n",
       "<table border=\"1\" class=\"dataframe\">\n",
       "  <thead>\n",
       "    <tr style=\"text-align: right;\">\n",
       "      <th></th>\n",
       "      <th>Date</th>\n",
       "      <th>Value</th>\n",
       "    </tr>\n",
       "  </thead>\n",
       "  <tbody>\n",
       "    <tr>\n",
       "      <th>0</th>\n",
       "      <td>2007-01-01</td>\n",
       "      <td>26.45</td>\n",
       "    </tr>\n",
       "    <tr>\n",
       "      <th>1</th>\n",
       "      <td>2007-02-01</td>\n",
       "      <td>23.89</td>\n",
       "    </tr>\n",
       "    <tr>\n",
       "      <th>2</th>\n",
       "      <td>2007-03-01</td>\n",
       "      <td>25.95</td>\n",
       "    </tr>\n",
       "    <tr>\n",
       "      <th>3</th>\n",
       "      <td>2007-04-01</td>\n",
       "      <td>30.03</td>\n",
       "    </tr>\n",
       "    <tr>\n",
       "      <th>4</th>\n",
       "      <td>2007-05-01</td>\n",
       "      <td>28.96</td>\n",
       "    </tr>\n",
       "  </tbody>\n",
       "</table>\n",
       "</div>"
      ],
      "text/plain": [
       "        Date  Value\n",
       "0 2007-01-01  26.45\n",
       "1 2007-02-01  23.89\n",
       "2 2007-03-01  25.95\n",
       "3 2007-04-01  30.03\n",
       "4 2007-05-01  28.96"
      ]
     },
     "execution_count": 6,
     "metadata": {},
     "output_type": "execute_result"
    }
   ],
   "source": [
    "my_data = pd.DataFrame(data)\n",
    "my_data.head()"
   ]
  },
  {
   "cell_type": "code",
   "execution_count": 7,
   "id": "willing-spice",
   "metadata": {},
   "outputs": [
    {
     "data": {
      "text/html": [
       "<div>\n",
       "<style scoped>\n",
       "    .dataframe tbody tr th:only-of-type {\n",
       "        vertical-align: middle;\n",
       "    }\n",
       "\n",
       "    .dataframe tbody tr th {\n",
       "        vertical-align: top;\n",
       "    }\n",
       "\n",
       "    .dataframe thead th {\n",
       "        text-align: right;\n",
       "    }\n",
       "</style>\n",
       "<table border=\"1\" class=\"dataframe\">\n",
       "  <thead>\n",
       "    <tr style=\"text-align: right;\">\n",
       "      <th></th>\n",
       "      <th>Value</th>\n",
       "    </tr>\n",
       "    <tr>\n",
       "      <th>Date</th>\n",
       "      <th></th>\n",
       "    </tr>\n",
       "  </thead>\n",
       "  <tbody>\n",
       "    <tr>\n",
       "      <th>2007-01-01</th>\n",
       "      <td>26.45</td>\n",
       "    </tr>\n",
       "    <tr>\n",
       "      <th>2007-02-01</th>\n",
       "      <td>23.89</td>\n",
       "    </tr>\n",
       "    <tr>\n",
       "      <th>2007-03-01</th>\n",
       "      <td>25.95</td>\n",
       "    </tr>\n",
       "    <tr>\n",
       "      <th>2007-04-01</th>\n",
       "      <td>30.03</td>\n",
       "    </tr>\n",
       "    <tr>\n",
       "      <th>2007-05-01</th>\n",
       "      <td>28.96</td>\n",
       "    </tr>\n",
       "  </tbody>\n",
       "</table>\n",
       "</div>"
      ],
      "text/plain": [
       "            Value\n",
       "Date             \n",
       "2007-01-01  26.45\n",
       "2007-02-01  23.89\n",
       "2007-03-01  25.95\n",
       "2007-04-01  30.03\n",
       "2007-05-01  28.96"
      ]
     },
     "execution_count": 7,
     "metadata": {},
     "output_type": "execute_result"
    }
   ],
   "source": [
    "my_data=my_data.set_index('Date')\n",
    "my_data.head()"
   ]
  },
  {
   "cell_type": "code",
   "execution_count": 8,
   "id": "forward-nature",
   "metadata": {},
   "outputs": [
    {
     "name": "stdout",
     "output_type": "stream",
     "text": [
      "<class 'pandas.core.frame.DataFrame'>\n",
      "DatetimeIndex: 48 entries, 2007-01-01 to 2010-12-01\n",
      "Data columns (total 1 columns):\n",
      " #   Column  Non-Null Count  Dtype \n",
      "---  ------  --------------  ----- \n",
      " 0   Value   48 non-null     object\n",
      "dtypes: object(1)\n",
      "memory usage: 768.0+ bytes\n"
     ]
    }
   ],
   "source": [
    "my_data.info()"
   ]
  },
  {
   "cell_type": "code",
   "execution_count": 9,
   "id": "defensive-private",
   "metadata": {},
   "outputs": [],
   "source": [
    "my_data.Value=my_data.Value.astype(float)"
   ]
  },
  {
   "cell_type": "code",
   "execution_count": 10,
   "id": "floral-purple",
   "metadata": {},
   "outputs": [
    {
     "name": "stdout",
     "output_type": "stream",
     "text": [
      "<class 'pandas.core.frame.DataFrame'>\n",
      "DatetimeIndex: 48 entries, 2007-01-01 to 2010-12-01\n",
      "Data columns (total 1 columns):\n",
      " #   Column  Non-Null Count  Dtype  \n",
      "---  ------  --------------  -----  \n",
      " 0   Value   48 non-null     float64\n",
      "dtypes: float64(1)\n",
      "memory usage: 768.0 bytes\n"
     ]
    }
   ],
   "source": [
    "my_data.info()"
   ]
  },
  {
   "cell_type": "code",
   "execution_count": 11,
   "id": "occasional-fundamentals",
   "metadata": {},
   "outputs": [
    {
     "data": {
      "text/plain": [
       "pandas.core.series.Series"
      ]
     },
     "execution_count": 11,
     "metadata": {},
     "output_type": "execute_result"
    }
   ],
   "source": [
    "series=my_data.squeeze()\n",
    "type(series)"
   ]
  },
  {
   "cell_type": "code",
   "execution_count": 12,
   "id": "super-helen",
   "metadata": {},
   "outputs": [],
   "source": [
    "y = series.values"
   ]
  },
  {
   "cell_type": "code",
   "execution_count": 13,
   "id": "covered-honey",
   "metadata": {},
   "outputs": [
    {
     "data": {
      "text/plain": [
       "array([ 1,  2,  3,  4,  5,  6,  7,  8,  9, 10, 11, 12, 13, 14, 15, 16, 17,\n",
       "       18, 19, 20, 21, 22, 23, 24, 25, 26, 27, 28, 29, 30, 31, 32, 33, 34,\n",
       "       35, 36, 37, 38, 39, 40, 41, 42, 43, 44, 45, 46, 47, 48])"
      ]
     },
     "execution_count": 13,
     "metadata": {},
     "output_type": "execute_result"
    }
   ],
   "source": [
    "t = np.arange(1, len(y) + 1)\n",
    "t"
   ]
  },
  {
   "cell_type": "code",
   "execution_count": 14,
   "id": "immune-cornwall",
   "metadata": {},
   "outputs": [
    {
     "data": {
      "image/png": "[encoded data removed]",
      "text/plain": [
       "<Figure size 432x288 with 1 Axes>"
      ]
     },
     "metadata": {
      "needs_background": "light"
     },
     "output_type": "display_data"
    }
   ],
   "source": [
    "sns.regplot(x=t, y=\"Value\", data=my_data);"
   ]
  },
  {
   "cell_type": "code",
   "execution_count": 15,
   "id": "exciting-principal",
   "metadata": {},
   "outputs": [
    {
     "name": "stdout",
     "output_type": "stream",
     "text": [
      "Observations: 48\n",
      "Training Observations: 38\n",
      "Testing Observations: 10\n"
     ]
    }
   ],
   "source": [
    "# calculate a train-test split of a time series dataset\n",
    "y = series.values\n",
    "train_size = int(len(y) * 0.8)\n",
    "y_train, y_test = y[0:train_size], y[train_size:len(y)]\n",
    "print('Observations: %d' % (len(y)))\n",
    "print('Training Observations: %d' % (len(y_train)))\n",
    "print('Testing Observations: %d' % (len(y_test)))"
   ]
  },
  {
   "cell_type": "code",
   "execution_count": 16,
   "id": "changed-partition",
   "metadata": {},
   "outputs": [
    {
     "name": "stdout",
     "output_type": "stream",
     "text": [
      "\n",
      "     active environment : base\n",
      "    active env location : C:\\Users\\HP\\Anaconda3\n",
      "            shell level : 1\n",
      "       user config file : C:\\Users\\HP\\.condarc\n",
      " populated config files : C:\\Users\\HP\\.condarc\n",
      "          conda version : 4.9.2\n",
      "    conda-build version : 3.18.9\n",
      "         python version : 3.7.4.final.0\n",
      "       virtual packages : __cuda=11.2=0\n",
      "                          __win=0=0\n",
      "                          __archspec=1=x86_64\n",
      "       base environment : C:\\Users\\HP\\Anaconda3  (writable)\n",
      "           channel URLs : https://conda.anaconda.org/conda-forge/win-64\n",
      "                          https://conda.anaconda.org/conda-forge/noarch\n",
      "                          https://repo.anaconda.com/pkgs/main/win-64\n",
      "                          https://repo.anaconda.com/pkgs/main/noarch\n",
      "                          https://repo.anaconda.com/pkgs/r/win-64\n",
      "                          https://repo.anaconda.com/pkgs/r/noarch\n",
      "                          https://repo.anaconda.com/pkgs/msys2/win-64\n",
      "                          https://repo.anaconda.com/pkgs/msys2/noarch\n",
      "          package cache : C:\\Users\\HP\\Anaconda3\\pkgs\n",
      "                          C:\\Users\\HP\\.conda\\pkgs\n",
      "                          C:\\Users\\HP\\AppData\\Local\\conda\\conda\\pkgs\n",
      "       envs directories : C:\\Users\\HP\\Anaconda3\\envs\n",
      "                          C:\\Users\\HP\\.conda\\envs\n",
      "                          C:\\Users\\HP\\AppData\\Local\\conda\\conda\\envs\n",
      "               platform : win-64\n",
      "             user-agent : conda/4.9.2 requests/2.25.1 CPython/3.7.4 Windows/10 Windows/10.0.19041\n",
      "          administrator : False\n",
      "             netrc file : None\n",
      "           offline mode : False\n",
      "\n",
      "\n",
      "Note: you may need to restart the kernel to use updated packages.\n"
     ]
    }
   ],
   "source": [
    "conda info"
   ]
  },
  {
   "cell_type": "code",
   "execution_count": 17,
   "id": "transparent-closer",
   "metadata": {},
   "outputs": [
    {
     "data": {
      "text/plain": [
       "array([ 1,  2,  3,  4,  5,  6,  7,  8,  9, 10, 11, 12, 13, 14, 15, 16, 17,\n",
       "       18, 19, 20, 21, 22, 23, 24, 25, 26, 27, 28, 29, 30, 31, 32, 33, 34,\n",
       "       35, 36, 37, 38])"
      ]
     },
     "execution_count": 17,
     "metadata": {},
     "output_type": "execute_result"
    }
   ],
   "source": [
    "t_train = np.arange(1, len(y_train) + 1)\n",
    "t_train"
   ]
  },
  {
   "cell_type": "code",
   "execution_count": 18,
   "id": "jewish-tanzania",
   "metadata": {},
   "outputs": [
    {
     "data": {
      "text/plain": [
       "array([ 0.35096728, 25.69587482])"
      ]
     },
     "execution_count": 18,
     "metadata": {},
     "output_type": "execute_result"
    }
   ],
   "source": [
    "# Найдем коэффициенты уравнения тренда\n",
    "coef = np.polyfit(t_train, y_train, deg = 1)\n",
    "coef"
   ]
  },
  {
   "cell_type": "code",
   "execution_count": 19,
   "id": "intelligent-replication",
   "metadata": {},
   "outputs": [
    {
     "data": {
      "text/plain": [
       "array([39, 40, 41, 42, 43, 44, 45, 46, 47, 48])"
      ]
     },
     "execution_count": 19,
     "metadata": {},
     "output_type": "execute_result"
    }
   ],
   "source": [
    "t_test = np.arange(len(y_train)+1,len(y)+1)\n",
    "t_test"
   ]
  },
  {
   "cell_type": "code",
   "execution_count": 20,
   "id": "secondary-brooklyn",
   "metadata": {},
   "outputs": [
    {
     "data": {
      "text/plain": [
       "array([39.38359886, 39.73456615, 40.08553343, 40.43650071, 40.78746799,\n",
       "       41.13843528, 41.48940256, 41.84036984, 42.19133713, 42.54230441])"
      ]
     },
     "execution_count": 20,
     "metadata": {},
     "output_type": "execute_result"
    }
   ],
   "source": [
    "# Найдем расчетные значения по уравнению тренда для тестового набора\n",
    "y_pred = coef[0] * t_test + coef[1]\n",
    "y_pred"
   ]
  },
  {
   "cell_type": "code",
   "execution_count": 21,
   "id": "impossible-package",
   "metadata": {},
   "outputs": [
    {
     "name": "stdout",
     "output_type": "stream",
     "text": [
      "R2: 0.351750\n"
     ]
    }
   ],
   "source": [
    "R2 = r2_score(y_test, y_pred)\n",
    "print('R2: %f' % R2)"
   ]
  },
  {
   "cell_type": "code",
   "execution_count": 22,
   "id": "potential-enough",
   "metadata": {},
   "outputs": [
    {
     "data": {
      "text/plain": [
       "LinregressResult(slope=0.3509672830725461, intercept=25.69587482219062, rvalue=0.8844672231847377, pvalue=1.790821115944336e-13, stderr=0.030858907019685272, intercept_stderr=0.6903710649324863)"
      ]
     },
     "execution_count": 22,
     "metadata": {},
     "output_type": "execute_result"
    }
   ],
   "source": [
    "coef=linregress(t_train, y_train)\n",
    "coef"
   ]
  },
  {
   "cell_type": "code",
   "execution_count": 23,
   "id": "streaming-barbados",
   "metadata": {},
   "outputs": [
    {
     "data": {
      "text/plain": [
       "array([39.38359886, 39.73456615, 40.08553343, 40.43650071, 40.78746799,\n",
       "       41.13843528, 41.48940256, 41.84036984, 42.19133713, 42.54230441])"
      ]
     },
     "execution_count": 23,
     "metadata": {},
     "output_type": "execute_result"
    }
   ],
   "source": [
    "# Найдем расчетные значения по уравнению тренда для тестового набора\n",
    "y_pred = coef[0] * t_test + coef[1]\n",
    "y_pred"
   ]
  },
  {
   "cell_type": "code",
   "execution_count": 24,
   "id": "confidential-service",
   "metadata": {},
   "outputs": [
    {
     "name": "stdout",
     "output_type": "stream",
     "text": [
      "R2: 0.351750\n"
     ]
    }
   ],
   "source": [
    "R2 = r2_score(y_test, y_pred)\n",
    "print('R2: %f' % R2)"
   ]
  },
  {
   "cell_type": "code",
   "execution_count": 25,
   "id": "hungarian-cycle",
   "metadata": {},
   "outputs": [],
   "source": [
    "t_train=t_train.reshape(-1,1)"
   ]
  },
  {
   "cell_type": "code",
   "execution_count": 26,
   "id": "coordinate-garden",
   "metadata": {},
   "outputs": [
    {
     "data": {
      "text/plain": [
       "LinearRegression()"
      ]
     },
     "execution_count": 26,
     "metadata": {},
     "output_type": "execute_result"
    }
   ],
   "source": [
    "model = LinearRegression().fit(t_train, y_train)\n",
    "model"
   ]
  },
  {
   "cell_type": "code",
   "execution_count": 27,
   "id": "hispanic-demand",
   "metadata": {},
   "outputs": [
    {
     "data": {
      "text/plain": [
       "array([0.35096728])"
      ]
     },
     "execution_count": 27,
     "metadata": {},
     "output_type": "execute_result"
    }
   ],
   "source": [
    "model.coef_"
   ]
  },
  {
   "cell_type": "code",
   "execution_count": 28,
   "id": "destroyed-terror",
   "metadata": {},
   "outputs": [
    {
     "data": {
      "text/plain": [
       "25.695874822190618"
      ]
     },
     "execution_count": 28,
     "metadata": {},
     "output_type": "execute_result"
    }
   ],
   "source": [
    "model.intercept_"
   ]
  },
  {
   "cell_type": "code",
   "execution_count": 29,
   "id": "sticky-topic",
   "metadata": {},
   "outputs": [],
   "source": [
    "t_test=t_test.reshape(-1,1)"
   ]
  },
  {
   "cell_type": "code",
   "execution_count": 30,
   "id": "available-replica",
   "metadata": {},
   "outputs": [
    {
     "data": {
      "text/plain": [
       "array([39.38359886, 39.73456615, 40.08553343, 40.43650071, 40.78746799,\n",
       "       41.13843528, 41.48940256, 41.84036984, 42.19133713, 42.54230441])"
      ]
     },
     "execution_count": 30,
     "metadata": {},
     "output_type": "execute_result"
    }
   ],
   "source": [
    "# Расчетные значения по модели\n",
    "y_pred = model.predict(t_test) \n",
    "y_pred"
   ]
  },
  {
   "cell_type": "code",
   "execution_count": 31,
   "id": "prescription-yemen",
   "metadata": {},
   "outputs": [
    {
     "name": "stdout",
     "output_type": "stream",
     "text": [
      "R2: 0.351750\n"
     ]
    }
   ],
   "source": [
    "R2 = r2_score(y_test, y_pred)\n",
    "print('R2: %f' % R2)"
   ]
  },
  {
   "cell_type": "code",
   "execution_count": 32,
   "id": "minor-cinema",
   "metadata": {},
   "outputs": [
    {
     "name": "stdout",
     "output_type": "stream",
     "text": [
      "MAE: 1.678162\n"
     ]
    }
   ],
   "source": [
    "MAE = mean_absolute_error(y_test, y_pred)\n",
    "print('MAE: %f' % MAE)"
   ]
  },
  {
   "cell_type": "code",
   "execution_count": 33,
   "id": "friendly-belgium",
   "metadata": {},
   "outputs": [
    {
     "name": "stdout",
     "output_type": "stream",
     "text": [
      "MSE: 4.317813\n"
     ]
    }
   ],
   "source": [
    "MSE = mean_squared_error(y_test, y_pred)\n",
    "print('MSE: %f' % MSE)"
   ]
  },
  {
   "cell_type": "code",
   "execution_count": 34,
   "id": "chubby-clothing",
   "metadata": {
    "tags": []
   },
   "outputs": [
    {
     "name": "stdout",
     "output_type": "stream",
     "text": [
      "RMSE: 2.077935\n"
     ]
    }
   ],
   "source": [
    "# calculate root mean squared error\n",
    "RMSE = sqrt(MSE)\n",
    "print('RMSE: %f' % RMSE)"
   ]
  },
  {
   "cell_type": "code",
   "execution_count": 36,
   "id": "documentary-annex",
   "metadata": {},
   "outputs": [
    {
     "data": {
      "text/plain": [
       "array([39.68, 37.36, 39.21, 39.43, 43.5 , 40.75, 42.84, 38.01, 45.18,\n",
       "       42.49])"
      ]
     },
     "execution_count": 36,
     "metadata": {},
     "output_type": "execute_result"
    }
   ],
   "source": [
    "#Базовая прогнозная модель: прогноз=предыдущее значение\n",
    "y_pred=y[len(y_train)-1:len(y)-1]\n",
    "y_pred"
   ]
  },
  {
   "cell_type": "code",
   "execution_count": 37,
   "id": "joined-veteran",
   "metadata": {},
   "outputs": [
    {
     "name": "stdout",
     "output_type": "stream",
     "text": [
      "MSE: 12.224680\n"
     ]
    }
   ],
   "source": [
    "MSE = mean_squared_error(y_test, y_pred)\n",
    "print('MSE: %f' % MSE)"
   ]
  },
  {
   "cell_type": "code",
   "execution_count": 38,
   "id": "surface-bones",
   "metadata": {},
   "outputs": [
    {
     "data": {
      "text/plain": [
       "array([ 1,  2,  3,  4,  5,  6,  7,  8,  9, 10, 11, 12, 13, 14, 15, 16, 17,\n",
       "       18, 19, 20, 21, 22, 23, 24, 25, 26, 27, 28, 29, 30, 31, 32, 33, 34,\n",
       "       35, 36, 37, 38, 39, 40, 41, 42, 43, 44, 45, 46, 47, 48])"
      ]
     },
     "execution_count": 38,
     "metadata": {},
     "output_type": "execute_result"
    }
   ],
   "source": [
    "t = np.arange(1, len(y) + 1)\n",
    "t"
   ]
  },
  {
   "cell_type": "code",
   "execution_count": 39,
   "id": "stunning-scale",
   "metadata": {},
   "outputs": [],
   "source": [
    "t=t.reshape(-1,1)"
   ]
  },
  {
   "cell_type": "code",
   "execution_count": 40,
   "id": "finnish-frost",
   "metadata": {},
   "outputs": [
    {
     "data": {
      "text/plain": [
       "LinearRegression()"
      ]
     },
     "execution_count": 40,
     "metadata": {},
     "output_type": "execute_result"
    }
   ],
   "source": [
    "model = LinearRegression().fit(t, y)\n",
    "model"
   ]
  },
  {
   "cell_type": "code",
   "execution_count": 41,
   "id": "equipped-deposit",
   "metadata": {},
   "outputs": [
    {
     "data": {
      "text/plain": [
       "array([0.36008142])"
      ]
     },
     "execution_count": 41,
     "metadata": {},
     "output_type": "execute_result"
    }
   ],
   "source": [
    "model.coef_"
   ]
  },
  {
   "cell_type": "code",
   "execution_count": 42,
   "id": "coupled-kruger",
   "metadata": {},
   "outputs": [
    {
     "data": {
      "text/plain": [
       "25.542171985815607"
      ]
     },
     "execution_count": 42,
     "metadata": {},
     "output_type": "execute_result"
    }
   ],
   "source": [
    "model.intercept_"
   ]
  },
  {
   "cell_type": "code",
   "execution_count": 43,
   "id": "olympic-recorder",
   "metadata": {},
   "outputs": [
    {
     "data": {
      "text/plain": [
       "array([25.9022534 , 26.26233482, 26.62241623, 26.98249765, 27.34257906,\n",
       "       27.70266048, 28.06274189, 28.42282331, 28.78290473, 29.14298614,\n",
       "       29.50306756, 29.86314897, 30.22323039, 30.5833118 , 30.94339322,\n",
       "       31.30347463, 31.66355605, 32.02363747, 32.38371888, 32.7438003 ,\n",
       "       33.10388171, 33.46396313, 33.82404454, 34.18412596, 34.54420737,\n",
       "       34.90428879, 35.26437021, 35.62445162, 35.98453304, 36.34461445,\n",
       "       36.70469587, 37.06477728, 37.4248587 , 37.78494011, 38.14502153,\n",
       "       38.50510295, 38.86518436, 39.22526578, 39.58534719, 39.94542861,\n",
       "       40.30551002, 40.66559144, 41.02567285, 41.38575427, 41.74583569,\n",
       "       42.1059171 , 42.46599852, 42.82607993])"
      ]
     },
     "execution_count": 43,
     "metadata": {},
     "output_type": "execute_result"
    }
   ],
   "source": [
    "# Расчетные значения по модели\n",
    "y_pred = model.predict(t) \n",
    "y_pred"
   ]
  },
  {
   "cell_type": "code",
   "execution_count": 44,
   "id": "attended-imperial",
   "metadata": {},
   "outputs": [
    {
     "data": {
      "text/html": [
       "<div>\n",
       "<style scoped>\n",
       "    .dataframe tbody tr th:only-of-type {\n",
       "        vertical-align: middle;\n",
       "    }\n",
       "\n",
       "    .dataframe tbody tr th {\n",
       "        vertical-align: top;\n",
       "    }\n",
       "\n",
       "    .dataframe thead th {\n",
       "        text-align: right;\n",
       "    }\n",
       "</style>\n",
       "<table border=\"1\" class=\"dataframe\">\n",
       "  <thead>\n",
       "    <tr style=\"text-align: right;\">\n",
       "      <th></th>\n",
       "      <th>Value</th>\n",
       "      <th>Error</th>\n",
       "    </tr>\n",
       "    <tr>\n",
       "      <th>Date</th>\n",
       "      <th></th>\n",
       "      <th></th>\n",
       "    </tr>\n",
       "  </thead>\n",
       "  <tbody>\n",
       "    <tr>\n",
       "      <th>2007-01-01</th>\n",
       "      <td>26.45</td>\n",
       "      <td>0.547747</td>\n",
       "    </tr>\n",
       "    <tr>\n",
       "      <th>2007-02-01</th>\n",
       "      <td>23.89</td>\n",
       "      <td>-2.372335</td>\n",
       "    </tr>\n",
       "    <tr>\n",
       "      <th>2007-03-01</th>\n",
       "      <td>25.95</td>\n",
       "      <td>-0.672416</td>\n",
       "    </tr>\n",
       "    <tr>\n",
       "      <th>2007-04-01</th>\n",
       "      <td>30.03</td>\n",
       "      <td>3.047502</td>\n",
       "    </tr>\n",
       "    <tr>\n",
       "      <th>2007-05-01</th>\n",
       "      <td>28.96</td>\n",
       "      <td>1.617421</td>\n",
       "    </tr>\n",
       "  </tbody>\n",
       "</table>\n",
       "</div>"
      ],
      "text/plain": [
       "            Value     Error\n",
       "Date                       \n",
       "2007-01-01  26.45  0.547747\n",
       "2007-02-01  23.89 -2.372335\n",
       "2007-03-01  25.95 -0.672416\n",
       "2007-04-01  30.03  3.047502\n",
       "2007-05-01  28.96  1.617421"
      ]
     },
     "execution_count": 44,
     "metadata": {},
     "output_type": "execute_result"
    }
   ],
   "source": [
    "my_data['Error']=y-y_pred\n",
    "my_data.head()"
   ]
  },
  {
   "cell_type": "code",
   "execution_count": 45,
   "id": "boxed-defeat",
   "metadata": {},
   "outputs": [
    {
     "data": {
      "text/plain": [
       "<AxesSubplot:xlabel='Date'>"
      ]
     },
     "execution_count": 45,
     "metadata": {},
     "output_type": "execute_result"
    },
    {
     "data": {
      "image/png": "[encoded data removed]",
      "text/plain": [
       "<Figure size 432x288 with 1 Axes>"
      ]
     },
     "metadata": {
      "needs_background": "light"
     },
     "output_type": "display_data"
    }
   ],
   "source": [
    "my_data.Error.plot()"
   ]
  },
  {
   "cell_type": "code",
   "execution_count": 46,
   "id": "spare-unknown",
   "metadata": {},
   "outputs": [
    {
     "data": {
      "text/plain": [
       "count    4.800000e+01\n",
       "mean    -2.146431e-15\n",
       "std      2.056806e+00\n",
       "min     -3.735836e+00\n",
       "25%     -2.107722e+00\n",
       "50%      1.973422e-02\n",
       "75%      1.563089e+00\n",
       "max      3.406688e+00\n",
       "Name: Error, dtype: float64"
      ]
     },
     "execution_count": 46,
     "metadata": {},
     "output_type": "execute_result"
    }
   ],
   "source": [
    "my_data.Error.describe()"
   ]
  },
  {
   "cell_type": "code",
   "execution_count": 47,
   "id": "organized-defendant",
   "metadata": {},
   "outputs": [
    {
     "data": {
      "text/plain": [
       "<AxesSubplot:>"
      ]
     },
     "execution_count": 47,
     "metadata": {},
     "output_type": "execute_result"
    },
    {
     "data": {
      "image/png": "[encoded data removed]",
      "text/plain": [
       "<Figure size 432x288 with 1 Axes>"
      ]
     },
     "metadata": {
      "needs_background": "light"
     },
     "output_type": "display_data"
    }
   ],
   "source": [
    "my_data.Error.hist()"
   ]
  },
  {
   "cell_type": "code",
   "execution_count": 48,
   "id": "helpful-microphone",
   "metadata": {},
   "outputs": [
    {
     "data": {
      "text/plain": [
       "<AxesSubplot:ylabel='Density'>"
      ]
     },
     "execution_count": 48,
     "metadata": {},
     "output_type": "execute_result"
    },
    {
     "data": {
      "image/png": "[encoded data removed]",
      "text/plain": [
       "<Figure size 432x288 with 1 Axes>"
      ]
     },
     "metadata": {
      "needs_background": "light"
     },
     "output_type": "display_data"
    }
   ],
   "source": [
    "my_data.Error.plot(kind='kde')"
   ]
  },
  {
   "cell_type": "code",
   "execution_count": 49,
   "id": "excited-concept",
   "metadata": {},
   "outputs": [
    {
     "data": {
      "image/png": "[encoded data removed]",
      "text/plain": [
       "<Figure size 432x288 with 1 Axes>"
      ]
     },
     "metadata": {
      "needs_background": "light"
     },
     "output_type": "display_data"
    }
   ],
   "source": [
    "qqplot(my_data.Error, line='r')\n",
    "plt.show()"
   ]
  },
  {
   "cell_type": "code",
   "execution_count": 50,
   "id": "convenient-dylan",
   "metadata": {},
   "outputs": [
    {
     "data": {
      "text/plain": [
       "2.4215967803259413"
      ]
     },
     "execution_count": 50,
     "metadata": {},
     "output_type": "execute_result"
    }
   ],
   "source": [
    "d=durbin_watson(my_data.Error)\n",
    "d"
   ]
  },
  {
   "cell_type": "code",
   "execution_count": 51,
   "id": "maritime-darwin",
   "metadata": {},
   "outputs": [
    {
     "data": {
      "text/plain": [
       "1.5784032196740587"
      ]
     },
     "execution_count": 51,
     "metadata": {},
     "output_type": "execute_result"
    }
   ],
   "source": [
    "4-d"
   ]
  },
  {
   "cell_type": "markdown",
   "id": "right-africa",
   "metadata": {},
   "source": [
    "n=48, K=1, alfa=0.05. Тогда для n=50 и K=1 из таблицы на с.183 Дубровой dl=1.5, du=1.59"
   ]
  },
  {
   "cell_type": "markdown",
   "id": "postal-timeline",
   "metadata": {},
   "source": [
    "Так как dl<4-d<du, то нельзя сделать определенного вывода по имеющимся данным."
   ]
  },
  {
   "cell_type": "code",
   "execution_count": 52,
   "id": "frequent-treaty",
   "metadata": {
    "tags": []
   },
   "outputs": [
    {
     "data": {
      "text/plain": [
       "<AxesSubplot:xlabel='Lag', ylabel='Autocorrelation'>"
      ]
     },
     "execution_count": 52,
     "metadata": {},
     "output_type": "execute_result"
    },
    {
     "data": {
      "image/png": "[encoded data removed]",
      "text/plain": [
       "<Figure size 432x288 with 1 Axes>"
      ]
     },
     "metadata": {
      "needs_background": "light"
     },
     "output_type": "display_data"
    }
   ],
   "source": [
    "autocorrelation_plot(my_data.Error)"
   ]
  },
  {
   "cell_type": "markdown",
   "id": "confused-christianity",
   "metadata": {},
   "source": [
    "<p><a name=\"Intervals\"></a></p>\n",
    "\n",
    "# Построение интервального прогноза"
   ]
  },
  {
   "cell_type": "markdown",
   "id": "rotary-pleasure",
   "metadata": {},
   "source": [
    "$$\\frac{\\hat{Y_i}-Y_i}{\\sigma} \\sim T(n) $$ \n",
    "где $$\\sigma^2 = \\frac{\\sum_{i=1}^{n}(Y_i-\\hat{Y_i})^2}{n-1} $$\n",
    "-выборочная дисперсия\n",
    "$$ P(-T_{n,\\alpha} < \\frac{\\hat{Y_i}-Y_i}{\\sigma} < T_{n,\\alpha} ) = \\alpha $$\n",
    "$$ \\left (\\hat{Y_i} -T_{n,\\alpha}\\cdot \\sigma \\leq Y_i \\leq \\hat{Y_i} +T_{n,\\alpha}\\cdot \\sigma \\right ) $$"
   ]
  },
  {
   "cell_type": "code",
   "execution_count": 53,
   "id": "korean-million",
   "metadata": {},
   "outputs": [
    {
     "data": {
      "text/plain": [
       "0.7858586031149843"
      ]
     },
     "execution_count": 53,
     "metadata": {},
     "output_type": "execute_result"
    }
   ],
   "source": [
    "sigma=scipy.stats.sem(y)\n",
    "sigma"
   ]
  },
  {
   "cell_type": "code",
   "execution_count": 54,
   "id": "false-exception",
   "metadata": {},
   "outputs": [
    {
     "data": {
      "text/plain": [
       "2.0117405104757546"
      ]
     },
     "execution_count": 54,
     "metadata": {},
     "output_type": "execute_result"
    }
   ],
   "source": [
    "confidence=0.95\n",
    "tstu=scipy.stats.t.ppf((1 + confidence) / 2., len(y)-1)\n",
    "tstu"
   ]
  },
  {
   "cell_type": "code",
   "execution_count": 55,
   "id": "efficient-buffalo",
   "metadata": {},
   "outputs": [
    {
     "data": {
      "text/plain": [
       "array([49, 50, 51, 52, 53, 54, 55, 56, 57, 58, 59, 60])"
      ]
     },
     "execution_count": 55,
     "metadata": {},
     "output_type": "execute_result"
    }
   ],
   "source": [
    "t_new = np.arange(len(y) + 1,len(y)+13)\n",
    "t_new"
   ]
  },
  {
   "cell_type": "code",
   "execution_count": 56,
   "id": "insured-scheduling",
   "metadata": {},
   "outputs": [],
   "source": [
    "t_new=t_new.reshape(-1,1)"
   ]
  },
  {
   "cell_type": "code",
   "execution_count": 57,
   "id": "aboriginal-conditioning",
   "metadata": {},
   "outputs": [
    {
     "data": {
      "text/plain": [
       "array([43.18616135, 43.54624276, 43.90632418, 44.26640559, 44.62648701,\n",
       "       44.98656843, 45.34664984, 45.70673126, 46.06681267, 46.42689409,\n",
       "       46.7869755 , 47.14705692])"
      ]
     },
     "execution_count": 57,
     "metadata": {},
     "output_type": "execute_result"
    }
   ],
   "source": [
    "y_new=model.predict(t_new) \n",
    "y_new"
   ]
  },
  {
   "cell_type": "code",
   "execution_count": 58,
   "id": "naughty-clark",
   "metadata": {},
   "outputs": [
    {
     "data": {
      "text/plain": [
       "array([44.76710493, 45.12718635, 45.48726777, 45.84734918, 46.2074306 ,\n",
       "       46.56751201, 46.92759343, 47.28767484, 47.64775626, 48.00783767,\n",
       "       48.36791909, 48.72800051])"
      ]
     },
     "execution_count": 58,
     "metadata": {},
     "output_type": "execute_result"
    }
   ],
   "source": [
    "y_up=y_new+tstu*sigma\n",
    "y_up"
   ]
  },
  {
   "cell_type": "code",
   "execution_count": 59,
   "id": "similar-watson",
   "metadata": {},
   "outputs": [
    {
     "data": {
      "text/plain": [
       "array([41.60521776, 41.96529918, 42.32538059, 42.68546201, 43.04554342,\n",
       "       43.40562484, 43.76570625, 44.12578767, 44.48586908, 44.8459505 ,\n",
       "       45.20603192, 45.56611333])"
      ]
     },
     "execution_count": 59,
     "metadata": {},
     "output_type": "execute_result"
    }
   ],
   "source": [
    "y_down=y_new-tstu*sigma\n",
    "y_down"
   ]
  },
  {
   "cell_type": "code",
   "execution_count": 60,
   "id": "cheap-visitor",
   "metadata": {},
   "outputs": [
    {
     "data": {
      "image/png": "[encoded data removed]",
      "text/plain": [
       "<Figure size 1080x720 with 1 Axes>"
      ]
     },
     "metadata": {
      "needs_background": "light"
     },
     "output_type": "display_data"
    }
   ],
   "source": [
    "plt.figure(figsize=[15,10])\n",
    "\n",
    "plt.scatter(t, y)\n",
    "\n",
    "plt.plot(t,y_pred)\n",
    "plt.plot(t_new,y_new)\n",
    "plt.plot(t_new,y_up)\n",
    "plt.plot(t_new,y_down)\n",
    "\n",
    "plt.xlabel(\"Номер наблюдения\")\n",
    "plt.ylabel(\"Цена на материал 1\")\n",
    "plt.legend(['модель регрессии','прогноз','верхняя граница дов.интервала' ,\\\n",
    "            'нижняя граница дов.интервала'])\n",
    "\n",
    "plt.show()"
   ]
  },
  {
   "cell_type": "code",
   "execution_count": null,
   "id": "secure-documentation",
   "metadata": {},
   "outputs": [],
   "source": []
  }
 ],
 "metadata": {
  "kernelspec": {
   "display_name": "Python 3",
   "language": "python",
   "name": "python3"
  },
  "language_info": {
   "codemirror_mode": {
    "name": "ipython",
    "version": 3
   },
   "file_extension": ".py",
   "mimetype": "text/x-python",
   "name": "python",
   "nbconvert_exporter": "python",
   "pygments_lexer": "ipython3",
   "version": "3.7.4"
  }
 },
 "nbformat": 4,
 "nbformat_minor": 5
}
