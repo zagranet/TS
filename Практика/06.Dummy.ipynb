{
 "cells": [
  {
   "cell_type": "markdown",
   "id": "considered-capture",
   "metadata": {},
   "source": [
    "# ЗАДАНИЕ 6. ПРИМЕНЕНИЕ ФИКТИВНЫХ ПЕРЕМЕННЫХ ДЛЯ МОДЕЛИРОВАНИЯ СЕЗОННЫХ КОЛЕБАНИЙ"
   ]
  },
  {
   "cell_type": "code",
   "execution_count": 2,
   "id": "passive-school",
   "metadata": {
    "tags": []
   },
   "outputs": [],
   "source": [
    "import os\n",
    "import pandas as pd \n",
    "import numpy as np\n",
    "from sklearn.metrics import r2_score, mean_absolute_error, mean_squared_error\n",
    "from math import sqrt\n",
    "from statsmodels.graphics.gofplots import qqplot\n",
    "import matplotlib.pyplot as plt\n",
    "from pandas.plotting import autocorrelation_plot\n",
    "import scipy.stats\n",
    "import seaborn as sns\n",
    "from scipy.stats import t as student\n",
    "from sklearn.linear_model import LinearRegression"
   ]
  },
  {
   "cell_type": "code",
   "execution_count": 3,
   "id": "lesbian-twins",
   "metadata": {},
   "outputs": [],
   "source": [
    "os.chdir(\"C:/Users/HP/Documents/analysis/TS/data/\")"
   ]
  },
  {
   "cell_type": "code",
   "execution_count": 4,
   "id": "infectious-begin",
   "metadata": {},
   "outputs": [
    {
     "data": {
      "text/html": [
       "<div>\n",
       "<style scoped>\n",
       "    .dataframe tbody tr th:only-of-type {\n",
       "        vertical-align: middle;\n",
       "    }\n",
       "\n",
       "    .dataframe tbody tr th {\n",
       "        vertical-align: top;\n",
       "    }\n",
       "\n",
       "    .dataframe thead th {\n",
       "        text-align: right;\n",
       "    }\n",
       "</style>\n",
       "<table border=\"1\" class=\"dataframe\">\n",
       "  <thead>\n",
       "    <tr style=\"text-align: right;\">\n",
       "      <th></th>\n",
       "      <th>Unnamed: 0</th>\n",
       "      <th>Unnamed: 1</th>\n",
       "      <th>Рыночные цены на материал 2 (руб.)</th>\n",
       "      <th>Unnamed: 3</th>\n",
       "      <th>Unnamed: 4</th>\n",
       "      <th>Unnamed: 5</th>\n",
       "      <th>Unnamed: 6</th>\n",
       "      <th>Unnamed: 7</th>\n",
       "      <th>Unnamed: 8</th>\n",
       "      <th>Unnamed: 9</th>\n",
       "      <th>...</th>\n",
       "      <th>Unnamed: 40</th>\n",
       "      <th>Unnamed: 41</th>\n",
       "      <th>Unnamed: 42</th>\n",
       "      <th>Unnamed: 43</th>\n",
       "      <th>Unnamed: 44</th>\n",
       "      <th>Unnamed: 45</th>\n",
       "      <th>Unnamed: 46</th>\n",
       "      <th>Unnamed: 47</th>\n",
       "      <th>Unnamed: 48</th>\n",
       "      <th>Unnamed: 49</th>\n",
       "    </tr>\n",
       "  </thead>\n",
       "  <tbody>\n",
       "    <tr>\n",
       "      <th>0</th>\n",
       "      <td>NaN</td>\n",
       "      <td>NaN</td>\n",
       "      <td>2007-01-01 00:00:00</td>\n",
       "      <td>2007-02-01 00:00:00</td>\n",
       "      <td>2007-03-01 00:00:00</td>\n",
       "      <td>2007-04-01 00:00:00</td>\n",
       "      <td>2007-05-01 00:00:00</td>\n",
       "      <td>2007-06-01 00:00:00</td>\n",
       "      <td>2007-07-01 00:00:00</td>\n",
       "      <td>2007-08-01 00:00:00</td>\n",
       "      <td>...</td>\n",
       "      <td>2010-03-01 00:00:00</td>\n",
       "      <td>2010-04-01 00:00:00</td>\n",
       "      <td>2010-05-01 00:00:00</td>\n",
       "      <td>2010-06-01 00:00:00</td>\n",
       "      <td>2010-07-01 00:00:00</td>\n",
       "      <td>2010-08-01 00:00:00</td>\n",
       "      <td>2010-09-01 00:00:00</td>\n",
       "      <td>2010-10-01 00:00:00</td>\n",
       "      <td>2010-11-01 00:00:00</td>\n",
       "      <td>2010-12-01 00:00:00</td>\n",
       "    </tr>\n",
       "    <tr>\n",
       "      <th>1</th>\n",
       "      <td>№ организации</td>\n",
       "      <td>1.0</td>\n",
       "      <td>4.22</td>\n",
       "      <td>3.99</td>\n",
       "      <td>4.05</td>\n",
       "      <td>4.34</td>\n",
       "      <td>4.63</td>\n",
       "      <td>4.76</td>\n",
       "      <td>5.09</td>\n",
       "      <td>5.13</td>\n",
       "      <td>...</td>\n",
       "      <td>3.81</td>\n",
       "      <td>4.03</td>\n",
       "      <td>4.13</td>\n",
       "      <td>4.4</td>\n",
       "      <td>4.66</td>\n",
       "      <td>4.79</td>\n",
       "      <td>4.57</td>\n",
       "      <td>4.4</td>\n",
       "      <td>4.26</td>\n",
       "      <td>3.82</td>\n",
       "    </tr>\n",
       "    <tr>\n",
       "      <th>2</th>\n",
       "      <td>NaN</td>\n",
       "      <td>2.0</td>\n",
       "      <td>4</td>\n",
       "      <td>4.14</td>\n",
       "      <td>4.43</td>\n",
       "      <td>4.79</td>\n",
       "      <td>5.1</td>\n",
       "      <td>5.17</td>\n",
       "      <td>5.12</td>\n",
       "      <td>4.89</td>\n",
       "      <td>...</td>\n",
       "      <td>4.87</td>\n",
       "      <td>5.19</td>\n",
       "      <td>5.29</td>\n",
       "      <td>5.46</td>\n",
       "      <td>5.45</td>\n",
       "      <td>5.15</td>\n",
       "      <td>4.94</td>\n",
       "      <td>4.6</td>\n",
       "      <td>4.41</td>\n",
       "      <td>4.35</td>\n",
       "    </tr>\n",
       "    <tr>\n",
       "      <th>3</th>\n",
       "      <td>NaN</td>\n",
       "      <td>3.0</td>\n",
       "      <td>3.9</td>\n",
       "      <td>3.74</td>\n",
       "      <td>3.9</td>\n",
       "      <td>4.13</td>\n",
       "      <td>4.31</td>\n",
       "      <td>4.66</td>\n",
       "      <td>4.76</td>\n",
       "      <td>4.85</td>\n",
       "      <td>...</td>\n",
       "      <td>4.23</td>\n",
       "      <td>4.48</td>\n",
       "      <td>4.71</td>\n",
       "      <td>5.05</td>\n",
       "      <td>5.21</td>\n",
       "      <td>5.21</td>\n",
       "      <td>5.19</td>\n",
       "      <td>5.08</td>\n",
       "      <td>4.77</td>\n",
       "      <td>4.53</td>\n",
       "    </tr>\n",
       "    <tr>\n",
       "      <th>4</th>\n",
       "      <td>NaN</td>\n",
       "      <td>4.0</td>\n",
       "      <td>3.64</td>\n",
       "      <td>3.94</td>\n",
       "      <td>4.09</td>\n",
       "      <td>4.73</td>\n",
       "      <td>5</td>\n",
       "      <td>5.46</td>\n",
       "      <td>5.46</td>\n",
       "      <td>5.41</td>\n",
       "      <td>...</td>\n",
       "      <td>4.23</td>\n",
       "      <td>4.55</td>\n",
       "      <td>5.1</td>\n",
       "      <td>5.41</td>\n",
       "      <td>5.62</td>\n",
       "      <td>5.36</td>\n",
       "      <td>5.05</td>\n",
       "      <td>4.54</td>\n",
       "      <td>4.24</td>\n",
       "      <td>3.83</td>\n",
       "    </tr>\n",
       "  </tbody>\n",
       "</table>\n",
       "<p>5 rows × 50 columns</p>\n",
       "</div>"
      ],
      "text/plain": [
       "      Unnamed: 0  Unnamed: 1 Рыночные цены на материал 2 (руб.)  \\\n",
       "0            NaN         NaN                2007-01-01 00:00:00   \n",
       "1  № организации         1.0                               4.22   \n",
       "2            NaN         2.0                                  4   \n",
       "3            NaN         3.0                                3.9   \n",
       "4            NaN         4.0                               3.64   \n",
       "\n",
       "            Unnamed: 3           Unnamed: 4           Unnamed: 5  \\\n",
       "0  2007-02-01 00:00:00  2007-03-01 00:00:00  2007-04-01 00:00:00   \n",
       "1                 3.99                 4.05                 4.34   \n",
       "2                 4.14                 4.43                 4.79   \n",
       "3                 3.74                  3.9                 4.13   \n",
       "4                 3.94                 4.09                 4.73   \n",
       "\n",
       "            Unnamed: 6           Unnamed: 7           Unnamed: 8  \\\n",
       "0  2007-05-01 00:00:00  2007-06-01 00:00:00  2007-07-01 00:00:00   \n",
       "1                 4.63                 4.76                 5.09   \n",
       "2                  5.1                 5.17                 5.12   \n",
       "3                 4.31                 4.66                 4.76   \n",
       "4                    5                 5.46                 5.46   \n",
       "\n",
       "            Unnamed: 9  ...          Unnamed: 40          Unnamed: 41  \\\n",
       "0  2007-08-01 00:00:00  ...  2010-03-01 00:00:00  2010-04-01 00:00:00   \n",
       "1                 5.13  ...                 3.81                 4.03   \n",
       "2                 4.89  ...                 4.87                 5.19   \n",
       "3                 4.85  ...                 4.23                 4.48   \n",
       "4                 5.41  ...                 4.23                 4.55   \n",
       "\n",
       "           Unnamed: 42          Unnamed: 43          Unnamed: 44  \\\n",
       "0  2010-05-01 00:00:00  2010-06-01 00:00:00  2010-07-01 00:00:00   \n",
       "1                 4.13                  4.4                 4.66   \n",
       "2                 5.29                 5.46                 5.45   \n",
       "3                 4.71                 5.05                 5.21   \n",
       "4                  5.1                 5.41                 5.62   \n",
       "\n",
       "           Unnamed: 45          Unnamed: 46          Unnamed: 47  \\\n",
       "0  2010-08-01 00:00:00  2010-09-01 00:00:00  2010-10-01 00:00:00   \n",
       "1                 4.79                 4.57                  4.4   \n",
       "2                 5.15                 4.94                  4.6   \n",
       "3                 5.21                 5.19                 5.08   \n",
       "4                 5.36                 5.05                 4.54   \n",
       "\n",
       "           Unnamed: 48          Unnamed: 49  \n",
       "0  2010-11-01 00:00:00  2010-12-01 00:00:00  \n",
       "1                 4.26                 3.82  \n",
       "2                 4.41                 4.35  \n",
       "3                 4.77                 4.53  \n",
       "4                 4.24                 3.83  \n",
       "\n",
       "[5 rows x 50 columns]"
      ]
     },
     "execution_count": 4,
     "metadata": {},
     "output_type": "execute_result"
    }
   ],
   "source": [
    "data = pd.read_excel('data.xls', sheet_name='Material 2')\n",
    "data.head()"
   ]
  },
  {
   "cell_type": "code",
   "execution_count": 5,
   "id": "proper-network",
   "metadata": {},
   "outputs": [],
   "source": [
    "dates = data.loc[data.index == 0].values[0, 2:]\n",
    "val = data.loc[data.index == 1].values[0, 2:]"
   ]
  },
  {
   "cell_type": "code",
   "execution_count": 6,
   "id": "prescribed-flavor",
   "metadata": {},
   "outputs": [],
   "source": [
    "data={\"Date\": dates, \"Value\": val}"
   ]
  },
  {
   "cell_type": "code",
   "execution_count": 7,
   "id": "split-basin",
   "metadata": {},
   "outputs": [
    {
     "data": {
      "text/html": [
       "<div>\n",
       "<style scoped>\n",
       "    .dataframe tbody tr th:only-of-type {\n",
       "        vertical-align: middle;\n",
       "    }\n",
       "\n",
       "    .dataframe tbody tr th {\n",
       "        vertical-align: top;\n",
       "    }\n",
       "\n",
       "    .dataframe thead th {\n",
       "        text-align: right;\n",
       "    }\n",
       "</style>\n",
       "<table border=\"1\" class=\"dataframe\">\n",
       "  <thead>\n",
       "    <tr style=\"text-align: right;\">\n",
       "      <th></th>\n",
       "      <th>Date</th>\n",
       "      <th>Value</th>\n",
       "    </tr>\n",
       "  </thead>\n",
       "  <tbody>\n",
       "    <tr>\n",
       "      <th>0</th>\n",
       "      <td>2007-01-01</td>\n",
       "      <td>4.22</td>\n",
       "    </tr>\n",
       "    <tr>\n",
       "      <th>1</th>\n",
       "      <td>2007-02-01</td>\n",
       "      <td>3.99</td>\n",
       "    </tr>\n",
       "    <tr>\n",
       "      <th>2</th>\n",
       "      <td>2007-03-01</td>\n",
       "      <td>4.05</td>\n",
       "    </tr>\n",
       "    <tr>\n",
       "      <th>3</th>\n",
       "      <td>2007-04-01</td>\n",
       "      <td>4.34</td>\n",
       "    </tr>\n",
       "    <tr>\n",
       "      <th>4</th>\n",
       "      <td>2007-05-01</td>\n",
       "      <td>4.63</td>\n",
       "    </tr>\n",
       "  </tbody>\n",
       "</table>\n",
       "</div>"
      ],
      "text/plain": [
       "        Date Value\n",
       "0 2007-01-01  4.22\n",
       "1 2007-02-01  3.99\n",
       "2 2007-03-01  4.05\n",
       "3 2007-04-01  4.34\n",
       "4 2007-05-01  4.63"
      ]
     },
     "execution_count": 7,
     "metadata": {},
     "output_type": "execute_result"
    }
   ],
   "source": [
    "my_data = pd.DataFrame(data)\n",
    "my_data.head()"
   ]
  },
  {
   "cell_type": "code",
   "execution_count": 8,
   "id": "possible-praise",
   "metadata": {},
   "outputs": [
    {
     "data": {
      "text/html": [
       "<div>\n",
       "<style scoped>\n",
       "    .dataframe tbody tr th:only-of-type {\n",
       "        vertical-align: middle;\n",
       "    }\n",
       "\n",
       "    .dataframe tbody tr th {\n",
       "        vertical-align: top;\n",
       "    }\n",
       "\n",
       "    .dataframe thead th {\n",
       "        text-align: right;\n",
       "    }\n",
       "</style>\n",
       "<table border=\"1\" class=\"dataframe\">\n",
       "  <thead>\n",
       "    <tr style=\"text-align: right;\">\n",
       "      <th></th>\n",
       "      <th>Value</th>\n",
       "    </tr>\n",
       "    <tr>\n",
       "      <th>Date</th>\n",
       "      <th></th>\n",
       "    </tr>\n",
       "  </thead>\n",
       "  <tbody>\n",
       "    <tr>\n",
       "      <th>2007-01-01</th>\n",
       "      <td>4.22</td>\n",
       "    </tr>\n",
       "    <tr>\n",
       "      <th>2007-02-01</th>\n",
       "      <td>3.99</td>\n",
       "    </tr>\n",
       "    <tr>\n",
       "      <th>2007-03-01</th>\n",
       "      <td>4.05</td>\n",
       "    </tr>\n",
       "    <tr>\n",
       "      <th>2007-04-01</th>\n",
       "      <td>4.34</td>\n",
       "    </tr>\n",
       "    <tr>\n",
       "      <th>2007-05-01</th>\n",
       "      <td>4.63</td>\n",
       "    </tr>\n",
       "  </tbody>\n",
       "</table>\n",
       "</div>"
      ],
      "text/plain": [
       "           Value\n",
       "Date            \n",
       "2007-01-01  4.22\n",
       "2007-02-01  3.99\n",
       "2007-03-01  4.05\n",
       "2007-04-01  4.34\n",
       "2007-05-01  4.63"
      ]
     },
     "execution_count": 8,
     "metadata": {},
     "output_type": "execute_result"
    }
   ],
   "source": [
    "my_data=my_data.set_index('Date')\n",
    "my_data.head()"
   ]
  },
  {
   "cell_type": "code",
   "execution_count": 9,
   "id": "emotional-season",
   "metadata": {},
   "outputs": [
    {
     "name": "stdout",
     "output_type": "stream",
     "text": [
      "<class 'pandas.core.frame.DataFrame'>\n",
      "DatetimeIndex: 48 entries, 2007-01-01 to 2010-12-01\n",
      "Data columns (total 1 columns):\n",
      " #   Column  Non-Null Count  Dtype \n",
      "---  ------  --------------  ----- \n",
      " 0   Value   48 non-null     object\n",
      "dtypes: object(1)\n",
      "memory usage: 768.0+ bytes\n"
     ]
    }
   ],
   "source": [
    "my_data.info()"
   ]
  },
  {
   "cell_type": "code",
   "execution_count": 10,
   "id": "indian-force",
   "metadata": {},
   "outputs": [],
   "source": [
    "my_data.Value=my_data.Value.astype(float)"
   ]
  },
  {
   "cell_type": "code",
   "execution_count": 11,
   "id": "novel-cartridge",
   "metadata": {},
   "outputs": [
    {
     "name": "stdout",
     "output_type": "stream",
     "text": [
      "<class 'pandas.core.frame.DataFrame'>\n",
      "DatetimeIndex: 48 entries, 2007-01-01 to 2010-12-01\n",
      "Data columns (total 1 columns):\n",
      " #   Column  Non-Null Count  Dtype  \n",
      "---  ------  --------------  -----  \n",
      " 0   Value   48 non-null     float64\n",
      "dtypes: float64(1)\n",
      "memory usage: 768.0 bytes\n"
     ]
    }
   ],
   "source": [
    "my_data.info()"
   ]
  },
  {
   "cell_type": "code",
   "execution_count": 12,
   "id": "ethical-jordan",
   "metadata": {
    "tags": []
   },
   "outputs": [
    {
     "data": {
      "text/plain": [
       "pandas.core.series.Series"
      ]
     },
     "execution_count": 12,
     "metadata": {},
     "output_type": "execute_result"
    }
   ],
   "source": [
    "series=my_data.squeeze()\n",
    "type(series)"
   ]
  },
  {
   "cell_type": "code",
   "execution_count": 13,
   "id": "narrative-moldova",
   "metadata": {},
   "outputs": [],
   "source": [
    "y = series.values"
   ]
  },
  {
   "cell_type": "code",
   "execution_count": 14,
   "id": "opened-tablet",
   "metadata": {},
   "outputs": [
    {
     "data": {
      "text/plain": [
       "array([ 1,  2,  3,  4,  5,  6,  7,  8,  9, 10, 11, 12, 13, 14, 15, 16, 17,\n",
       "       18, 19, 20, 21, 22, 23, 24, 25, 26, 27, 28, 29, 30, 31, 32, 33, 34,\n",
       "       35, 36, 37, 38, 39, 40, 41, 42, 43, 44, 45, 46, 47, 48])"
      ]
     },
     "execution_count": 14,
     "metadata": {},
     "output_type": "execute_result"
    }
   ],
   "source": [
    "t = np.arange(1, len(y) + 1)\n",
    "t"
   ]
  },
  {
   "cell_type": "code",
   "execution_count": 15,
   "id": "sunset-horizontal",
   "metadata": {},
   "outputs": [
    {
     "data": {
      "image/png": "[encoded data removed]",
      "text/plain": [
       "<Figure size 432x288 with 1 Axes>"
      ]
     },
     "metadata": {
      "needs_background": "light"
     },
     "output_type": "display_data"
    }
   ],
   "source": [
    "sns.regplot(x=t, y=\"Value\", data=my_data);"
   ]
  },
  {
   "cell_type": "code",
   "execution_count": 16,
   "id": "scientific-seventh",
   "metadata": {},
   "outputs": [
    {
     "data": {
      "image/png": "[encoded data removed]",
      "text/plain": [
       "<Figure size 720x432 with 1 Axes>"
      ]
     },
     "metadata": {
      "needs_background": "light"
     },
     "output_type": "display_data"
    }
   ],
   "source": [
    "fig, ax = plt.subplots(figsize = (10, 6))\n",
    "\n",
    "autocorrelation_plot(y, ax = ax, marker = '.')\n",
    "ax.xaxis.set_major_locator(plt.MultipleLocator(6))\n",
    "ax.set_xlim(0, 48)\n",
    "\n",
    "plt.show()"
   ]
  },
  {
   "cell_type": "code",
   "execution_count": 17,
   "id": "composite-product",
   "metadata": {},
   "outputs": [
    {
     "name": "stdout",
     "output_type": "stream",
     "text": [
      "   month  year  price  t\n",
      "0      1  2007   4.22  1\n",
      "1      2  2007   3.99  2\n",
      "2      3  2007   4.05  3\n",
      "3      4  2007   4.34  4\n",
      "4      5  2007   4.63  5\n"
     ]
    }
   ],
   "source": [
    "dataframe = pd.DataFrame()\n",
    "dataframe['month'] = [series.index[i].month for i in range(len(series))]\n",
    "dataframe['year'] = [series.index[i].year for i in range(len(series))]\n",
    "dataframe['price'] = [series[i] for i in range(len(series))]\n",
    "dataframe['t'] = np.arange(1, len(series) + 1)\n",
    "print(dataframe.head(5))"
   ]
  },
  {
   "cell_type": "code",
   "execution_count": 18,
   "id": "introductory-camel",
   "metadata": {},
   "outputs": [],
   "source": [
    "dataframe.month=dataframe.month.astype(object)"
   ]
  },
  {
   "cell_type": "code",
   "execution_count": 19,
   "id": "persistent-patent",
   "metadata": {},
   "outputs": [
    {
     "data": {
      "text/html": [
       "<div>\n",
       "<style scoped>\n",
       "    .dataframe tbody tr th:only-of-type {\n",
       "        vertical-align: middle;\n",
       "    }\n",
       "\n",
       "    .dataframe tbody tr th {\n",
       "        vertical-align: top;\n",
       "    }\n",
       "\n",
       "    .dataframe thead th {\n",
       "        text-align: right;\n",
       "    }\n",
       "</style>\n",
       "<table border=\"1\" class=\"dataframe\">\n",
       "  <thead>\n",
       "    <tr style=\"text-align: right;\">\n",
       "      <th></th>\n",
       "      <th>year</th>\n",
       "      <th>price</th>\n",
       "      <th>t</th>\n",
       "      <th>month_1</th>\n",
       "      <th>month_2</th>\n",
       "      <th>month_3</th>\n",
       "      <th>month_4</th>\n",
       "      <th>month_5</th>\n",
       "      <th>month_6</th>\n",
       "      <th>month_7</th>\n",
       "      <th>month_8</th>\n",
       "      <th>month_9</th>\n",
       "      <th>month_10</th>\n",
       "      <th>month_11</th>\n",
       "      <th>month_12</th>\n",
       "    </tr>\n",
       "  </thead>\n",
       "  <tbody>\n",
       "    <tr>\n",
       "      <th>0</th>\n",
       "      <td>2007</td>\n",
       "      <td>4.22</td>\n",
       "      <td>1</td>\n",
       "      <td>1</td>\n",
       "      <td>0</td>\n",
       "      <td>0</td>\n",
       "      <td>0</td>\n",
       "      <td>0</td>\n",
       "      <td>0</td>\n",
       "      <td>0</td>\n",
       "      <td>0</td>\n",
       "      <td>0</td>\n",
       "      <td>0</td>\n",
       "      <td>0</td>\n",
       "      <td>0</td>\n",
       "    </tr>\n",
       "    <tr>\n",
       "      <th>1</th>\n",
       "      <td>2007</td>\n",
       "      <td>3.99</td>\n",
       "      <td>2</td>\n",
       "      <td>0</td>\n",
       "      <td>1</td>\n",
       "      <td>0</td>\n",
       "      <td>0</td>\n",
       "      <td>0</td>\n",
       "      <td>0</td>\n",
       "      <td>0</td>\n",
       "      <td>0</td>\n",
       "      <td>0</td>\n",
       "      <td>0</td>\n",
       "      <td>0</td>\n",
       "      <td>0</td>\n",
       "    </tr>\n",
       "    <tr>\n",
       "      <th>2</th>\n",
       "      <td>2007</td>\n",
       "      <td>4.05</td>\n",
       "      <td>3</td>\n",
       "      <td>0</td>\n",
       "      <td>0</td>\n",
       "      <td>1</td>\n",
       "      <td>0</td>\n",
       "      <td>0</td>\n",
       "      <td>0</td>\n",
       "      <td>0</td>\n",
       "      <td>0</td>\n",
       "      <td>0</td>\n",
       "      <td>0</td>\n",
       "      <td>0</td>\n",
       "      <td>0</td>\n",
       "    </tr>\n",
       "    <tr>\n",
       "      <th>3</th>\n",
       "      <td>2007</td>\n",
       "      <td>4.34</td>\n",
       "      <td>4</td>\n",
       "      <td>0</td>\n",
       "      <td>0</td>\n",
       "      <td>0</td>\n",
       "      <td>1</td>\n",
       "      <td>0</td>\n",
       "      <td>0</td>\n",
       "      <td>0</td>\n",
       "      <td>0</td>\n",
       "      <td>0</td>\n",
       "      <td>0</td>\n",
       "      <td>0</td>\n",
       "      <td>0</td>\n",
       "    </tr>\n",
       "    <tr>\n",
       "      <th>4</th>\n",
       "      <td>2007</td>\n",
       "      <td>4.63</td>\n",
       "      <td>5</td>\n",
       "      <td>0</td>\n",
       "      <td>0</td>\n",
       "      <td>0</td>\n",
       "      <td>0</td>\n",
       "      <td>1</td>\n",
       "      <td>0</td>\n",
       "      <td>0</td>\n",
       "      <td>0</td>\n",
       "      <td>0</td>\n",
       "      <td>0</td>\n",
       "      <td>0</td>\n",
       "      <td>0</td>\n",
       "    </tr>\n",
       "  </tbody>\n",
       "</table>\n",
       "</div>"
      ],
      "text/plain": [
       "   year  price  t  month_1  month_2  month_3  month_4  month_5  month_6  \\\n",
       "0  2007   4.22  1        1        0        0        0        0        0   \n",
       "1  2007   3.99  2        0        1        0        0        0        0   \n",
       "2  2007   4.05  3        0        0        1        0        0        0   \n",
       "3  2007   4.34  4        0        0        0        1        0        0   \n",
       "4  2007   4.63  5        0        0        0        0        1        0   \n",
       "\n",
       "   month_7  month_8  month_9  month_10  month_11  month_12  \n",
       "0        0        0        0         0         0         0  \n",
       "1        0        0        0         0         0         0  \n",
       "2        0        0        0         0         0         0  \n",
       "3        0        0        0         0         0         0  \n",
       "4        0        0        0         0         0         0  "
      ]
     },
     "execution_count": 19,
     "metadata": {},
     "output_type": "execute_result"
    }
   ],
   "source": [
    "dataframe=pd.get_dummies(dataframe)\n",
    "dataframe.head()"
   ]
  },
  {
   "cell_type": "code",
   "execution_count": 20,
   "id": "activated-wholesale",
   "metadata": {},
   "outputs": [
    {
     "data": {
      "text/html": [
       "<div>\n",
       "<style scoped>\n",
       "    .dataframe tbody tr th:only-of-type {\n",
       "        vertical-align: middle;\n",
       "    }\n",
       "\n",
       "    .dataframe tbody tr th {\n",
       "        vertical-align: top;\n",
       "    }\n",
       "\n",
       "    .dataframe thead th {\n",
       "        text-align: right;\n",
       "    }\n",
       "</style>\n",
       "<table border=\"1\" class=\"dataframe\">\n",
       "  <thead>\n",
       "    <tr style=\"text-align: right;\">\n",
       "      <th></th>\n",
       "      <th>year</th>\n",
       "      <th>price</th>\n",
       "      <th>t</th>\n",
       "      <th>month_2</th>\n",
       "      <th>month_3</th>\n",
       "      <th>month_4</th>\n",
       "      <th>month_5</th>\n",
       "      <th>month_6</th>\n",
       "      <th>month_7</th>\n",
       "      <th>month_8</th>\n",
       "      <th>month_9</th>\n",
       "      <th>month_10</th>\n",
       "      <th>month_11</th>\n",
       "      <th>month_12</th>\n",
       "    </tr>\n",
       "  </thead>\n",
       "  <tbody>\n",
       "    <tr>\n",
       "      <th>0</th>\n",
       "      <td>2007</td>\n",
       "      <td>4.22</td>\n",
       "      <td>1</td>\n",
       "      <td>0</td>\n",
       "      <td>0</td>\n",
       "      <td>0</td>\n",
       "      <td>0</td>\n",
       "      <td>0</td>\n",
       "      <td>0</td>\n",
       "      <td>0</td>\n",
       "      <td>0</td>\n",
       "      <td>0</td>\n",
       "      <td>0</td>\n",
       "      <td>0</td>\n",
       "    </tr>\n",
       "    <tr>\n",
       "      <th>1</th>\n",
       "      <td>2007</td>\n",
       "      <td>3.99</td>\n",
       "      <td>2</td>\n",
       "      <td>1</td>\n",
       "      <td>0</td>\n",
       "      <td>0</td>\n",
       "      <td>0</td>\n",
       "      <td>0</td>\n",
       "      <td>0</td>\n",
       "      <td>0</td>\n",
       "      <td>0</td>\n",
       "      <td>0</td>\n",
       "      <td>0</td>\n",
       "      <td>0</td>\n",
       "    </tr>\n",
       "    <tr>\n",
       "      <th>2</th>\n",
       "      <td>2007</td>\n",
       "      <td>4.05</td>\n",
       "      <td>3</td>\n",
       "      <td>0</td>\n",
       "      <td>1</td>\n",
       "      <td>0</td>\n",
       "      <td>0</td>\n",
       "      <td>0</td>\n",
       "      <td>0</td>\n",
       "      <td>0</td>\n",
       "      <td>0</td>\n",
       "      <td>0</td>\n",
       "      <td>0</td>\n",
       "      <td>0</td>\n",
       "    </tr>\n",
       "    <tr>\n",
       "      <th>3</th>\n",
       "      <td>2007</td>\n",
       "      <td>4.34</td>\n",
       "      <td>4</td>\n",
       "      <td>0</td>\n",
       "      <td>0</td>\n",
       "      <td>1</td>\n",
       "      <td>0</td>\n",
       "      <td>0</td>\n",
       "      <td>0</td>\n",
       "      <td>0</td>\n",
       "      <td>0</td>\n",
       "      <td>0</td>\n",
       "      <td>0</td>\n",
       "      <td>0</td>\n",
       "    </tr>\n",
       "    <tr>\n",
       "      <th>4</th>\n",
       "      <td>2007</td>\n",
       "      <td>4.63</td>\n",
       "      <td>5</td>\n",
       "      <td>0</td>\n",
       "      <td>0</td>\n",
       "      <td>0</td>\n",
       "      <td>1</td>\n",
       "      <td>0</td>\n",
       "      <td>0</td>\n",
       "      <td>0</td>\n",
       "      <td>0</td>\n",
       "      <td>0</td>\n",
       "      <td>0</td>\n",
       "      <td>0</td>\n",
       "    </tr>\n",
       "  </tbody>\n",
       "</table>\n",
       "</div>"
      ],
      "text/plain": [
       "   year  price  t  month_2  month_3  month_4  month_5  month_6  month_7  \\\n",
       "0  2007   4.22  1        0        0        0        0        0        0   \n",
       "1  2007   3.99  2        1        0        0        0        0        0   \n",
       "2  2007   4.05  3        0        1        0        0        0        0   \n",
       "3  2007   4.34  4        0        0        1        0        0        0   \n",
       "4  2007   4.63  5        0        0        0        1        0        0   \n",
       "\n",
       "   month_8  month_9  month_10  month_11  month_12  \n",
       "0        0        0         0         0         0  \n",
       "1        0        0         0         0         0  \n",
       "2        0        0         0         0         0  \n",
       "3        0        0         0         0         0  \n",
       "4        0        0         0         0         0  "
      ]
     },
     "execution_count": 20,
     "metadata": {},
     "output_type": "execute_result"
    }
   ],
   "source": [
    "dataframe.pop('month_1')\n",
    "dataframe.head()"
   ]
  },
  {
   "cell_type": "code",
   "execution_count": 35,
   "id": "intensive-patrick",
   "metadata": {},
   "outputs": [],
   "source": [
    "array = dataframe.values\n",
    "# separate array into input and output components\n",
    "x_train = array[0:36,2:14]\n",
    "y_train = array[0:36,1]\n",
    "x_test = array[36:48,2:14]\n",
    "y_test= array[36:48,1]"
   ]
  },
  {
   "cell_type": "code",
   "execution_count": 36,
   "id": "satellite-cutting",
   "metadata": {},
   "outputs": [
    {
     "data": {
      "text/plain": [
       "36"
      ]
     },
     "execution_count": 36,
     "metadata": {},
     "output_type": "execute_result"
    }
   ],
   "source": [
    "len(x_train)"
   ]
  },
  {
   "cell_type": "code",
   "execution_count": 37,
   "id": "round-facial",
   "metadata": {},
   "outputs": [
    {
     "data": {
      "text/plain": [
       "36"
      ]
     },
     "execution_count": 37,
     "metadata": {},
     "output_type": "execute_result"
    }
   ],
   "source": [
    "len(y_train)"
   ]
  },
  {
   "cell_type": "code",
   "execution_count": 38,
   "id": "sacred-practice",
   "metadata": {},
   "outputs": [
    {
     "data": {
      "text/plain": [
       "12"
      ]
     },
     "execution_count": 38,
     "metadata": {},
     "output_type": "execute_result"
    }
   ],
   "source": [
    "len(x_test)"
   ]
  },
  {
   "cell_type": "code",
   "execution_count": 39,
   "id": "lucky-storage",
   "metadata": {},
   "outputs": [
    {
     "data": {
      "text/plain": [
       "12"
      ]
     },
     "execution_count": 39,
     "metadata": {},
     "output_type": "execute_result"
    }
   ],
   "source": [
    "len(y_test)"
   ]
  },
  {
   "cell_type": "code",
   "execution_count": 40,
   "id": "biblical-lafayette",
   "metadata": {},
   "outputs": [
    {
     "data": {
      "text/plain": [
       "LinearRegression()"
      ]
     },
     "execution_count": 40,
     "metadata": {},
     "output_type": "execute_result"
    }
   ],
   "source": [
    "model = LinearRegression().fit(x_train, y_train)\n",
    "model"
   ]
  },
  {
   "cell_type": "code",
   "execution_count": 41,
   "id": "threaded-disposition",
   "metadata": {},
   "outputs": [
    {
     "data": {
      "text/plain": [
       "4.219999999999999"
      ]
     },
     "execution_count": 41,
     "metadata": {},
     "output_type": "execute_result"
    }
   ],
   "source": [
    "model.intercept_"
   ]
  },
  {
   "cell_type": "code",
   "execution_count": 42,
   "id": "complimentary-structure",
   "metadata": {},
   "outputs": [
    {
     "data": {
      "text/plain": [
       "array([-0.01      , -0.14      , -0.14333333,  0.16666667,  0.40666667,\n",
       "        0.66333333,  0.90333333,  0.99666667,  0.86333333,  0.73      ,\n",
       "        0.42      ,  0.18666667])"
      ]
     },
     "execution_count": 42,
     "metadata": {},
     "output_type": "execute_result"
    }
   ],
   "source": [
    "model.coef_"
   ]
  },
  {
   "cell_type": "code",
   "execution_count": 203,
   "id": "alert-detective",
   "metadata": {},
   "outputs": [
    {
     "data": {
      "text/plain": [
       "array([3.70333333, 3.69      , 3.99      , 4.22      , 4.46666667,\n",
       "       4.69666667, 4.78      , 4.63666667, 4.49333333, 4.17333333,\n",
       "       3.93      ])"
      ]
     },
     "execution_count": 203,
     "metadata": {},
     "output_type": "execute_result"
    }
   ],
   "source": [
    "# Расчетные значения по модели на тестовом наборе\n",
    "y_pred = model.predict(x_test) \n",
    "y_pred"
   ]
  },
  {
   "cell_type": "code",
   "execution_count": 204,
   "id": "altered-distinction",
   "metadata": {},
   "outputs": [
    {
     "name": "stdout",
     "output_type": "stream",
     "text": [
      "R2: 0.950763\n"
     ]
    }
   ],
   "source": [
    "R2 = r2_score(y_test, y_pred)\n",
    "print('R2: %f' % R2)"
   ]
  },
  {
   "cell_type": "code",
   "execution_count": 205,
   "id": "hired-camera",
   "metadata": {},
   "outputs": [
    {
     "name": "stdout",
     "output_type": "stream",
     "text": [
      "MSE: 0.006497\n"
     ]
    }
   ],
   "source": [
    "MSE = mean_squared_error(y_test, y_pred)\n",
    "print('MSE: %f' % MSE)"
   ]
  },
  {
   "cell_type": "code",
   "execution_count": 206,
   "id": "starting-international",
   "metadata": {},
   "outputs": [],
   "source": [
    "x = array[:,2:14]\n",
    "y = array[:,1]"
   ]
  },
  {
   "cell_type": "code",
   "execution_count": 207,
   "id": "convenient-chinese",
   "metadata": {},
   "outputs": [
    {
     "data": {
      "text/plain": [
       "LinearRegression()"
      ]
     },
     "execution_count": 207,
     "metadata": {},
     "output_type": "execute_result"
    }
   ],
   "source": [
    "model = LinearRegression().fit(x, y)\n",
    "model"
   ]
  },
  {
   "cell_type": "code",
   "execution_count": 208,
   "id": "downtown-switzerland",
   "metadata": {},
   "outputs": [
    {
     "data": {
      "text/plain": [
       "4.236736111111113"
      ]
     },
     "execution_count": 208,
     "metadata": {},
     "output_type": "execute_result"
    }
   ],
   "source": [
    "model.intercept_"
   ]
  },
  {
   "cell_type": "code",
   "execution_count": 209,
   "id": "rolled-sauce",
   "metadata": {},
   "outputs": [
    {
     "data": {
      "text/plain": [
       "array([-0.01048611, -0.16951389, -0.11902778,  0.17145833,  0.37944444,\n",
       "        0.64243056,  0.89041667,  0.99590278,  0.84388889,  0.704375  ,\n",
       "        0.43986111,  0.15784722])"
      ]
     },
     "execution_count": 209,
     "metadata": {},
     "output_type": "execute_result"
    }
   ],
   "source": [
    "model.coef_"
   ]
  },
  {
   "cell_type": "code",
   "execution_count": 210,
   "id": "abandoned-badge",
   "metadata": {},
   "outputs": [
    {
     "data": {
      "text/plain": [
       "array([4.22625   , 4.04625   , 4.08625   , 4.36625   , 4.56375   ,\n",
       "       4.81625   , 5.05375   , 5.14875   , 4.98625   , 4.83625   ,\n",
       "       4.56125   , 4.26875   , 4.10041667, 3.92041667, 3.96041667,\n",
       "       4.24041667, 4.43791667, 4.69041667, 4.92791667, 5.02291667,\n",
       "       4.86041667, 4.71041667, 4.43541667, 4.14291667, 3.97458333,\n",
       "       3.79458333, 3.83458333, 4.11458333, 4.31208333, 4.56458333,\n",
       "       4.80208333, 4.89708333, 4.73458333, 4.58458333, 4.30958333,\n",
       "       4.01708333, 3.84875   , 3.66875   , 3.70875   , 3.98875   ,\n",
       "       4.18625   , 4.43875   , 4.67625   , 4.77125   , 4.60875   ,\n",
       "       4.45875   , 4.18375   , 3.89125   ])"
      ]
     },
     "execution_count": 210,
     "metadata": {},
     "output_type": "execute_result"
    }
   ],
   "source": [
    "# Расчетные значения по модели на всем наборе\n",
    "y_pred = model.predict(x) \n",
    "y_pred"
   ]
  },
  {
   "cell_type": "code",
   "execution_count": 211,
   "id": "aware-latest",
   "metadata": {},
   "outputs": [
    {
     "name": "stdout",
     "output_type": "stream",
     "text": [
      "R2: 0.981545\n"
     ]
    }
   ],
   "source": [
    "R2 = r2_score(y, y_pred)\n",
    "print('R2: %f' % R2)"
   ]
  },
  {
   "cell_type": "code",
   "execution_count": 212,
   "id": "illegal-malawi",
   "metadata": {},
   "outputs": [
    {
     "name": "stdout",
     "output_type": "stream",
     "text": [
      "MAE: 0.044010\n"
     ]
    }
   ],
   "source": [
    "MAE = mean_absolute_error(y, y_pred)\n",
    "print('MAE: %f' % MAE)"
   ]
  },
  {
   "cell_type": "code",
   "execution_count": 213,
   "id": "arranged-finnish",
   "metadata": {},
   "outputs": [
    {
     "name": "stdout",
     "output_type": "stream",
     "text": [
      "MSE: 0.002928\n"
     ]
    }
   ],
   "source": [
    "MSE = mean_squared_error(y, y_pred)\n",
    "print('MSE: %f' % MSE)"
   ]
  },
  {
   "cell_type": "code",
   "execution_count": 214,
   "id": "crazy-transcript",
   "metadata": {
    "tags": []
   },
   "outputs": [
    {
     "name": "stdout",
     "output_type": "stream",
     "text": [
      "RMSE: 0.054114\n"
     ]
    }
   ],
   "source": [
    "# calculate root mean squared error\n",
    "RMSE = sqrt(MSE)\n",
    "print('RMSE: %f' % RMSE)"
   ]
  },
  {
   "cell_type": "code",
   "execution_count": 215,
   "id": "silver-sandwich",
   "metadata": {},
   "outputs": [
    {
     "data": {
      "text/html": [
       "<div>\n",
       "<style scoped>\n",
       "    .dataframe tbody tr th:only-of-type {\n",
       "        vertical-align: middle;\n",
       "    }\n",
       "\n",
       "    .dataframe tbody tr th {\n",
       "        vertical-align: top;\n",
       "    }\n",
       "\n",
       "    .dataframe thead th {\n",
       "        text-align: right;\n",
       "    }\n",
       "</style>\n",
       "<table border=\"1\" class=\"dataframe\">\n",
       "  <thead>\n",
       "    <tr style=\"text-align: right;\">\n",
       "      <th></th>\n",
       "      <th>Value</th>\n",
       "      <th>Error</th>\n",
       "    </tr>\n",
       "    <tr>\n",
       "      <th>Date</th>\n",
       "      <th></th>\n",
       "      <th></th>\n",
       "    </tr>\n",
       "  </thead>\n",
       "  <tbody>\n",
       "    <tr>\n",
       "      <th>2007-01-01</th>\n",
       "      <td>4.22</td>\n",
       "      <td>-0.00625</td>\n",
       "    </tr>\n",
       "    <tr>\n",
       "      <th>2007-02-01</th>\n",
       "      <td>3.99</td>\n",
       "      <td>-0.05625</td>\n",
       "    </tr>\n",
       "    <tr>\n",
       "      <th>2007-03-01</th>\n",
       "      <td>4.05</td>\n",
       "      <td>-0.03625</td>\n",
       "    </tr>\n",
       "    <tr>\n",
       "      <th>2007-04-01</th>\n",
       "      <td>4.34</td>\n",
       "      <td>-0.02625</td>\n",
       "    </tr>\n",
       "    <tr>\n",
       "      <th>2007-05-01</th>\n",
       "      <td>4.63</td>\n",
       "      <td>0.06625</td>\n",
       "    </tr>\n",
       "  </tbody>\n",
       "</table>\n",
       "</div>"
      ],
      "text/plain": [
       "            Value    Error\n",
       "Date                      \n",
       "2007-01-01   4.22 -0.00625\n",
       "2007-02-01   3.99 -0.05625\n",
       "2007-03-01   4.05 -0.03625\n",
       "2007-04-01   4.34 -0.02625\n",
       "2007-05-01   4.63  0.06625"
      ]
     },
     "execution_count": 215,
     "metadata": {},
     "output_type": "execute_result"
    }
   ],
   "source": [
    "my_data['Error']=y-y_pred\n",
    "my_data.head()"
   ]
  },
  {
   "cell_type": "code",
   "execution_count": 216,
   "id": "boolean-parts",
   "metadata": {},
   "outputs": [
    {
     "data": {
      "text/plain": [
       "<AxesSubplot:xlabel='Date'>"
      ]
     },
     "execution_count": 216,
     "metadata": {},
     "output_type": "execute_result"
    },
    {
     "data": {
      "image/png": "[encoded data removed]",
      "text/plain": [
       "<Figure size 432x288 with 1 Axes>"
      ]
     },
     "metadata": {
      "needs_background": "light"
     },
     "output_type": "display_data"
    }
   ],
   "source": [
    "my_data.Error.plot()"
   ]
  },
  {
   "cell_type": "code",
   "execution_count": 217,
   "id": "pediatric-measure",
   "metadata": {},
   "outputs": [
    {
     "data": {
      "text/plain": [
       "count    4.800000e+01\n",
       "mean    -9.251859e-18\n",
       "std      5.468640e-02\n",
       "min     -7.125000e-02\n",
       "25%     -4.041667e-02\n",
       "50%     -1.541667e-02\n",
       "75%      3.312500e-02\n",
       "max      1.454167e-01\n",
       "Name: Error, dtype: float64"
      ]
     },
     "execution_count": 217,
     "metadata": {},
     "output_type": "execute_result"
    }
   ],
   "source": [
    "my_data.Error.describe()"
   ]
  },
  {
   "cell_type": "code",
   "execution_count": 218,
   "id": "aging-geology",
   "metadata": {},
   "outputs": [
    {
     "data": {
      "text/plain": [
       "<AxesSubplot:>"
      ]
     },
     "execution_count": 218,
     "metadata": {},
     "output_type": "execute_result"
    },
    {
     "data": {
      "image/png": "[encoded data removed]",
      "text/plain": [
       "<Figure size 432x288 with 1 Axes>"
      ]
     },
     "metadata": {
      "needs_background": "light"
     },
     "output_type": "display_data"
    }
   ],
   "source": [
    "my_data.Error.hist()"
   ]
  },
  {
   "cell_type": "code",
   "execution_count": 219,
   "id": "scenic-forwarding",
   "metadata": {},
   "outputs": [
    {
     "data": {
      "text/plain": [
       "<AxesSubplot:ylabel='Density'>"
      ]
     },
     "execution_count": 219,
     "metadata": {},
     "output_type": "execute_result"
    },
    {
     "data": {
      "image/png": "[encoded data removed]",
      "text/plain": [
       "<Figure size 432x288 with 1 Axes>"
      ]
     },
     "metadata": {
      "needs_background": "light"
     },
     "output_type": "display_data"
    }
   ],
   "source": [
    "my_data.Error.plot(kind='kde')"
   ]
  },
  {
   "cell_type": "code",
   "execution_count": 220,
   "id": "sharing-engineering",
   "metadata": {},
   "outputs": [
    {
     "data": {
      "image/png": "[encoded data removed]",
      "text/plain": [
       "<Figure size 432x288 with 1 Axes>"
      ]
     },
     "metadata": {
      "needs_background": "light"
     },
     "output_type": "display_data"
    }
   ],
   "source": [
    "qqplot(my_data.Error, line='r')\n",
    "plt.show()"
   ]
  },
  {
   "cell_type": "code",
   "execution_count": 221,
   "id": "generic-refrigerator",
   "metadata": {
    "tags": []
   },
   "outputs": [
    {
     "data": {
      "text/plain": [
       "<AxesSubplot:xlabel='Lag', ylabel='Autocorrelation'>"
      ]
     },
     "execution_count": 221,
     "metadata": {},
     "output_type": "execute_result"
    },
    {
     "data": {
      "image/png": "[encoded data removed]",
      "text/plain": [
       "<Figure size 432x288 with 1 Axes>"
      ]
     },
     "metadata": {
      "needs_background": "light"
     },
     "output_type": "display_data"
    }
   ],
   "source": [
    "autocorrelation_plot(my_data.Error)"
   ]
  },
  {
   "cell_type": "markdown",
   "id": "exact-excitement",
   "metadata": {},
   "source": [
    "<p><a name=\"Intervals\"></a></p>\n",
    "\n",
    "# Построение интервального прогноза"
   ]
  },
  {
   "cell_type": "markdown",
   "id": "equivalent-decision",
   "metadata": {},
   "source": [
    "$$\\frac{\\hat{Y_i}-Y_i}{\\sigma} \\sim T(n) $$ \n",
    "где $$\\sigma^2 = \\frac{\\sum_{i=1}^{n}(Y_i-\\hat{Y_i})^2}{n-1} $$\n",
    "-выборочная дисперсия\n",
    "$$ P(-T_{n,\\alpha} < \\frac{\\hat{Y_i}-Y_i}{\\sigma} < T_{n,\\alpha} ) = \\alpha $$\n",
    "$$ \\left (\\hat{Y_i} -T_{n,\\alpha}\\cdot \\sigma \\leq Y_i \\leq \\hat{Y_i} +T_{n,\\alpha}\\cdot \\sigma \\right ) $$"
   ]
  },
  {
   "cell_type": "code",
   "execution_count": 222,
   "id": "daily-revelation",
   "metadata": {},
   "outputs": [
    {
     "data": {
      "text/plain": [
       "0.058103619380434325"
      ]
     },
     "execution_count": 222,
     "metadata": {},
     "output_type": "execute_result"
    }
   ],
   "source": [
    "sigma=scipy.stats.sem(y)\n",
    "sigma"
   ]
  },
  {
   "cell_type": "code",
   "execution_count": 223,
   "id": "elect-retreat",
   "metadata": {},
   "outputs": [
    {
     "data": {
      "text/plain": [
       "2.0117405104757546"
      ]
     },
     "execution_count": 223,
     "metadata": {},
     "output_type": "execute_result"
    }
   ],
   "source": [
    "confidence=0.95\n",
    "tstu=scipy.stats.t.ppf((1 + confidence) / 2., len(y)-1)\n",
    "tstu"
   ]
  },
  {
   "cell_type": "code",
   "execution_count": 43,
   "id": "extreme-communications",
   "metadata": {},
   "outputs": [
    {
     "data": {
      "text/plain": [
       "array([[49],\n",
       "       [50],\n",
       "       [51],\n",
       "       [52],\n",
       "       [53],\n",
       "       [54],\n",
       "       [55],\n",
       "       [56],\n",
       "       [57],\n",
       "       [58],\n",
       "       [59],\n",
       "       [60]])"
      ]
     },
     "execution_count": 43,
     "metadata": {},
     "output_type": "execute_result"
    }
   ],
   "source": [
    "t_new = np.arange(len(y) + 1,len(y)+13)\n",
    "t_new=t_new.reshape(-1,1)\n",
    "t_new"
   ]
  },
  {
   "cell_type": "code",
   "execution_count": 44,
   "id": "dense-attitude",
   "metadata": {},
   "outputs": [
    {
     "data": {
      "text/plain": [
       "array([[0., 0., 0., 0., 0., 0., 0., 0., 0., 0., 0.],\n",
       "       [1., 0., 0., 0., 0., 0., 0., 0., 0., 0., 0.],\n",
       "       [0., 1., 0., 0., 0., 0., 0., 0., 0., 0., 0.],\n",
       "       [0., 0., 1., 0., 0., 0., 0., 0., 0., 0., 0.],\n",
       "       [0., 0., 0., 1., 0., 0., 0., 0., 0., 0., 0.],\n",
       "       [0., 0., 0., 0., 1., 0., 0., 0., 0., 0., 0.],\n",
       "       [0., 0., 0., 0., 0., 1., 0., 0., 0., 0., 0.],\n",
       "       [0., 0., 0., 0., 0., 0., 1., 0., 0., 0., 0.],\n",
       "       [0., 0., 0., 0., 0., 0., 0., 1., 0., 0., 0.],\n",
       "       [0., 0., 0., 0., 0., 0., 0., 0., 1., 0., 0.],\n",
       "       [0., 0., 0., 0., 0., 0., 0., 0., 0., 1., 0.],\n",
       "       [0., 0., 0., 0., 0., 0., 0., 0., 0., 0., 1.]])"
      ]
     },
     "execution_count": 44,
     "metadata": {},
     "output_type": "execute_result"
    }
   ],
   "source": [
    "d=array[0:12,3:14]\n",
    "d"
   ]
  },
  {
   "cell_type": "code",
   "execution_count": 226,
   "id": "rental-reminder",
   "metadata": {},
   "outputs": [],
   "source": [
    "df_t_new=pd.DataFrame(t_new)"
   ]
  },
  {
   "cell_type": "code",
   "execution_count": 227,
   "id": "residential-nurse",
   "metadata": {},
   "outputs": [],
   "source": [
    "df_d=pd.DataFrame(d)"
   ]
  },
  {
   "cell_type": "code",
   "execution_count": 228,
   "id": "increasing-absolute",
   "metadata": {},
   "outputs": [
    {
     "data": {
      "text/html": [
       "<div>\n",
       "<style scoped>\n",
       "    .dataframe tbody tr th:only-of-type {\n",
       "        vertical-align: middle;\n",
       "    }\n",
       "\n",
       "    .dataframe tbody tr th {\n",
       "        vertical-align: top;\n",
       "    }\n",
       "\n",
       "    .dataframe thead th {\n",
       "        text-align: right;\n",
       "    }\n",
       "</style>\n",
       "<table border=\"1\" class=\"dataframe\">\n",
       "  <thead>\n",
       "    <tr style=\"text-align: right;\">\n",
       "      <th></th>\n",
       "      <th>0</th>\n",
       "      <th>0</th>\n",
       "      <th>1</th>\n",
       "      <th>2</th>\n",
       "      <th>3</th>\n",
       "      <th>4</th>\n",
       "      <th>5</th>\n",
       "      <th>6</th>\n",
       "      <th>7</th>\n",
       "      <th>8</th>\n",
       "      <th>9</th>\n",
       "      <th>10</th>\n",
       "    </tr>\n",
       "  </thead>\n",
       "  <tbody>\n",
       "    <tr>\n",
       "      <th>0</th>\n",
       "      <td>49</td>\n",
       "      <td>0.0</td>\n",
       "      <td>0.0</td>\n",
       "      <td>0.0</td>\n",
       "      <td>0.0</td>\n",
       "      <td>0.0</td>\n",
       "      <td>0.0</td>\n",
       "      <td>0.0</td>\n",
       "      <td>0.0</td>\n",
       "      <td>0.0</td>\n",
       "      <td>0.0</td>\n",
       "      <td>0.0</td>\n",
       "    </tr>\n",
       "    <tr>\n",
       "      <th>1</th>\n",
       "      <td>50</td>\n",
       "      <td>1.0</td>\n",
       "      <td>0.0</td>\n",
       "      <td>0.0</td>\n",
       "      <td>0.0</td>\n",
       "      <td>0.0</td>\n",
       "      <td>0.0</td>\n",
       "      <td>0.0</td>\n",
       "      <td>0.0</td>\n",
       "      <td>0.0</td>\n",
       "      <td>0.0</td>\n",
       "      <td>0.0</td>\n",
       "    </tr>\n",
       "    <tr>\n",
       "      <th>2</th>\n",
       "      <td>51</td>\n",
       "      <td>0.0</td>\n",
       "      <td>1.0</td>\n",
       "      <td>0.0</td>\n",
       "      <td>0.0</td>\n",
       "      <td>0.0</td>\n",
       "      <td>0.0</td>\n",
       "      <td>0.0</td>\n",
       "      <td>0.0</td>\n",
       "      <td>0.0</td>\n",
       "      <td>0.0</td>\n",
       "      <td>0.0</td>\n",
       "    </tr>\n",
       "    <tr>\n",
       "      <th>3</th>\n",
       "      <td>52</td>\n",
       "      <td>0.0</td>\n",
       "      <td>0.0</td>\n",
       "      <td>1.0</td>\n",
       "      <td>0.0</td>\n",
       "      <td>0.0</td>\n",
       "      <td>0.0</td>\n",
       "      <td>0.0</td>\n",
       "      <td>0.0</td>\n",
       "      <td>0.0</td>\n",
       "      <td>0.0</td>\n",
       "      <td>0.0</td>\n",
       "    </tr>\n",
       "    <tr>\n",
       "      <th>4</th>\n",
       "      <td>53</td>\n",
       "      <td>0.0</td>\n",
       "      <td>0.0</td>\n",
       "      <td>0.0</td>\n",
       "      <td>1.0</td>\n",
       "      <td>0.0</td>\n",
       "      <td>0.0</td>\n",
       "      <td>0.0</td>\n",
       "      <td>0.0</td>\n",
       "      <td>0.0</td>\n",
       "      <td>0.0</td>\n",
       "      <td>0.0</td>\n",
       "    </tr>\n",
       "    <tr>\n",
       "      <th>5</th>\n",
       "      <td>54</td>\n",
       "      <td>0.0</td>\n",
       "      <td>0.0</td>\n",
       "      <td>0.0</td>\n",
       "      <td>0.0</td>\n",
       "      <td>1.0</td>\n",
       "      <td>0.0</td>\n",
       "      <td>0.0</td>\n",
       "      <td>0.0</td>\n",
       "      <td>0.0</td>\n",
       "      <td>0.0</td>\n",
       "      <td>0.0</td>\n",
       "    </tr>\n",
       "    <tr>\n",
       "      <th>6</th>\n",
       "      <td>55</td>\n",
       "      <td>0.0</td>\n",
       "      <td>0.0</td>\n",
       "      <td>0.0</td>\n",
       "      <td>0.0</td>\n",
       "      <td>0.0</td>\n",
       "      <td>1.0</td>\n",
       "      <td>0.0</td>\n",
       "      <td>0.0</td>\n",
       "      <td>0.0</td>\n",
       "      <td>0.0</td>\n",
       "      <td>0.0</td>\n",
       "    </tr>\n",
       "    <tr>\n",
       "      <th>7</th>\n",
       "      <td>56</td>\n",
       "      <td>0.0</td>\n",
       "      <td>0.0</td>\n",
       "      <td>0.0</td>\n",
       "      <td>0.0</td>\n",
       "      <td>0.0</td>\n",
       "      <td>0.0</td>\n",
       "      <td>1.0</td>\n",
       "      <td>0.0</td>\n",
       "      <td>0.0</td>\n",
       "      <td>0.0</td>\n",
       "      <td>0.0</td>\n",
       "    </tr>\n",
       "    <tr>\n",
       "      <th>8</th>\n",
       "      <td>57</td>\n",
       "      <td>0.0</td>\n",
       "      <td>0.0</td>\n",
       "      <td>0.0</td>\n",
       "      <td>0.0</td>\n",
       "      <td>0.0</td>\n",
       "      <td>0.0</td>\n",
       "      <td>0.0</td>\n",
       "      <td>1.0</td>\n",
       "      <td>0.0</td>\n",
       "      <td>0.0</td>\n",
       "      <td>0.0</td>\n",
       "    </tr>\n",
       "    <tr>\n",
       "      <th>9</th>\n",
       "      <td>58</td>\n",
       "      <td>0.0</td>\n",
       "      <td>0.0</td>\n",
       "      <td>0.0</td>\n",
       "      <td>0.0</td>\n",
       "      <td>0.0</td>\n",
       "      <td>0.0</td>\n",
       "      <td>0.0</td>\n",
       "      <td>0.0</td>\n",
       "      <td>1.0</td>\n",
       "      <td>0.0</td>\n",
       "      <td>0.0</td>\n",
       "    </tr>\n",
       "    <tr>\n",
       "      <th>10</th>\n",
       "      <td>59</td>\n",
       "      <td>0.0</td>\n",
       "      <td>0.0</td>\n",
       "      <td>0.0</td>\n",
       "      <td>0.0</td>\n",
       "      <td>0.0</td>\n",
       "      <td>0.0</td>\n",
       "      <td>0.0</td>\n",
       "      <td>0.0</td>\n",
       "      <td>0.0</td>\n",
       "      <td>1.0</td>\n",
       "      <td>0.0</td>\n",
       "    </tr>\n",
       "    <tr>\n",
       "      <th>11</th>\n",
       "      <td>60</td>\n",
       "      <td>0.0</td>\n",
       "      <td>0.0</td>\n",
       "      <td>0.0</td>\n",
       "      <td>0.0</td>\n",
       "      <td>0.0</td>\n",
       "      <td>0.0</td>\n",
       "      <td>0.0</td>\n",
       "      <td>0.0</td>\n",
       "      <td>0.0</td>\n",
       "      <td>0.0</td>\n",
       "      <td>1.0</td>\n",
       "    </tr>\n",
       "  </tbody>\n",
       "</table>\n",
       "</div>"
      ],
      "text/plain": [
       "    0    0    1    2    3    4    5    6    7    8    9    10\n",
       "0   49  0.0  0.0  0.0  0.0  0.0  0.0  0.0  0.0  0.0  0.0  0.0\n",
       "1   50  1.0  0.0  0.0  0.0  0.0  0.0  0.0  0.0  0.0  0.0  0.0\n",
       "2   51  0.0  1.0  0.0  0.0  0.0  0.0  0.0  0.0  0.0  0.0  0.0\n",
       "3   52  0.0  0.0  1.0  0.0  0.0  0.0  0.0  0.0  0.0  0.0  0.0\n",
       "4   53  0.0  0.0  0.0  1.0  0.0  0.0  0.0  0.0  0.0  0.0  0.0\n",
       "5   54  0.0  0.0  0.0  0.0  1.0  0.0  0.0  0.0  0.0  0.0  0.0\n",
       "6   55  0.0  0.0  0.0  0.0  0.0  1.0  0.0  0.0  0.0  0.0  0.0\n",
       "7   56  0.0  0.0  0.0  0.0  0.0  0.0  1.0  0.0  0.0  0.0  0.0\n",
       "8   57  0.0  0.0  0.0  0.0  0.0  0.0  0.0  1.0  0.0  0.0  0.0\n",
       "9   58  0.0  0.0  0.0  0.0  0.0  0.0  0.0  0.0  1.0  0.0  0.0\n",
       "10  59  0.0  0.0  0.0  0.0  0.0  0.0  0.0  0.0  0.0  1.0  0.0\n",
       "11  60  0.0  0.0  0.0  0.0  0.0  0.0  0.0  0.0  0.0  0.0  1.0"
      ]
     },
     "execution_count": 228,
     "metadata": {},
     "output_type": "execute_result"
    }
   ],
   "source": [
    "x_new=pd.concat([df_t_new,df_d],axis=1,names=['t', 'd2','d3','d4','d5','d6','d7','d8','d9','d10','d11','d12'])\n",
    "x_new"
   ]
  },
  {
   "cell_type": "code",
   "execution_count": 229,
   "id": "usual-biotechnology",
   "metadata": {},
   "outputs": [
    {
     "data": {
      "text/plain": [
       "array([3.72291667, 3.54291667, 3.58291667, 3.86291667, 4.06041667,\n",
       "       4.31291667, 4.55041667, 4.64541667, 4.48291667, 4.33291667,\n",
       "       4.05791667, 3.76541667])"
      ]
     },
     "execution_count": 229,
     "metadata": {},
     "output_type": "execute_result"
    }
   ],
   "source": [
    "# Прогнозные значения по модели\n",
    "y_new = model.predict(x_new) \n",
    "y_new"
   ]
  },
  {
   "cell_type": "code",
   "execution_count": 230,
   "id": "raising-definition",
   "metadata": {},
   "outputs": [
    {
     "data": {
      "text/plain": [
       "array([3.83980607, 3.65980607, 3.69980607, 3.97980607, 4.17730607,\n",
       "       4.42980607, 4.66730607, 4.76230607, 4.59980607, 4.44980607,\n",
       "       4.17480607, 3.88230607])"
      ]
     },
     "execution_count": 230,
     "metadata": {},
     "output_type": "execute_result"
    }
   ],
   "source": [
    "y_up=y_new+tstu*sigma\n",
    "y_up"
   ]
  },
  {
   "cell_type": "code",
   "execution_count": 231,
   "id": "champion-darkness",
   "metadata": {},
   "outputs": [
    {
     "data": {
      "text/plain": [
       "array([3.60602726, 3.42602726, 3.46602726, 3.74602726, 3.94352726,\n",
       "       4.19602726, 4.43352726, 4.52852726, 4.36602726, 4.21602726,\n",
       "       3.94102726, 3.64852726])"
      ]
     },
     "execution_count": 231,
     "metadata": {},
     "output_type": "execute_result"
    }
   ],
   "source": [
    "y_down=y_new-tstu*sigma\n",
    "y_down"
   ]
  },
  {
   "cell_type": "code",
   "execution_count": 232,
   "id": "intimate-fashion",
   "metadata": {},
   "outputs": [
    {
     "data": {
      "image/png": "[encoded data removed]",
      "text/plain": [
       "<Figure size 1080x720 with 1 Axes>"
      ]
     },
     "metadata": {
      "needs_background": "light"
     },
     "output_type": "display_data"
    }
   ],
   "source": [
    "plt.figure(figsize=[15,10])\n",
    "\n",
    "plt.scatter(t, y)\n",
    "\n",
    "plt.plot(t,y_pred)\n",
    "plt.plot(t_new,y_new)\n",
    "plt.plot(t_new,y_up)\n",
    "plt.plot(t_new,y_down)\n",
    "\n",
    "plt.xlabel(\"Номер наблюдения\")\n",
    "plt.ylabel(\"Цена на материал 1\")\n",
    "plt.legend(['модель регрессии','прогноз','верхняя граница дов.интервала' ,\\\n",
    "            'нижняя граница дов.интервала'])\n",
    "\n",
    "plt.show()"
   ]
  },
  {
   "cell_type": "code",
   "execution_count": null,
   "id": "dress-stuart",
   "metadata": {},
   "outputs": [],
   "source": []
  }
 ],
 "metadata": {
  "kernelspec": {
   "display_name": "Python 3",
   "language": "python",
   "name": "python3"
  },
  "language_info": {
   "codemirror_mode": {
    "name": "ipython",
    "version": 3
   },
   "file_extension": ".py",
   "mimetype": "text/x-python",
   "name": "python",
   "nbconvert_exporter": "python",
   "pygments_lexer": "ipython3",
   "version": "3.7.4"
  }
 },
 "nbformat": 4,
 "nbformat_minor": 5
}
