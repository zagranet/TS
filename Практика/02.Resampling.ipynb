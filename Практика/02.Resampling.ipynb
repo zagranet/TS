{
 "cells": [
  {
   "cell_type": "markdown",
   "id": "documented-balloon",
   "metadata": {},
   "source": [
    "# ЗАДАНИЕ 2. ПРЕОБРАЗОВАНИЕ И АНАЛИЗ ДИНАМИКИ ВРЕМЕННОГО РЯДА"
   ]
  },
  {
   "cell_type": "code",
   "execution_count": 92,
   "id": "individual-treaty",
   "metadata": {},
   "outputs": [],
   "source": [
    "import os\n",
    "import pandas as pd \n",
    "from pandas import concat"
   ]
  },
  {
   "cell_type": "code",
   "execution_count": 93,
   "id": "dying-dietary",
   "metadata": {},
   "outputs": [],
   "source": [
    "os.chdir(\"C:/Users/HP/Documents/analysis/TS/data/\")"
   ]
  },
  {
   "cell_type": "code",
   "execution_count": 94,
   "id": "illegal-apollo",
   "metadata": {},
   "outputs": [
    {
     "data": {
      "text/html": [
       "<div>\n",
       "<style scoped>\n",
       "    .dataframe tbody tr th:only-of-type {\n",
       "        vertical-align: middle;\n",
       "    }\n",
       "\n",
       "    .dataframe tbody tr th {\n",
       "        vertical-align: top;\n",
       "    }\n",
       "\n",
       "    .dataframe thead th {\n",
       "        text-align: right;\n",
       "    }\n",
       "</style>\n",
       "<table border=\"1\" class=\"dataframe\">\n",
       "  <thead>\n",
       "    <tr style=\"text-align: right;\">\n",
       "      <th></th>\n",
       "      <th>Unnamed: 0</th>\n",
       "      <th>Unnamed: 1</th>\n",
       "      <th>Рыночные цены на материал 1 (руб.)</th>\n",
       "      <th>Unnamed: 3</th>\n",
       "      <th>Unnamed: 4</th>\n",
       "      <th>Unnamed: 5</th>\n",
       "      <th>Unnamed: 6</th>\n",
       "      <th>Unnamed: 7</th>\n",
       "      <th>Unnamed: 8</th>\n",
       "      <th>Unnamed: 9</th>\n",
       "      <th>...</th>\n",
       "      <th>Unnamed: 40</th>\n",
       "      <th>Unnamed: 41</th>\n",
       "      <th>Unnamed: 42</th>\n",
       "      <th>Unnamed: 43</th>\n",
       "      <th>Unnamed: 44</th>\n",
       "      <th>Unnamed: 45</th>\n",
       "      <th>Unnamed: 46</th>\n",
       "      <th>Unnamed: 47</th>\n",
       "      <th>Unnamed: 48</th>\n",
       "      <th>Unnamed: 49</th>\n",
       "    </tr>\n",
       "  </thead>\n",
       "  <tbody>\n",
       "    <tr>\n",
       "      <th>0</th>\n",
       "      <td>NaN</td>\n",
       "      <td>NaN</td>\n",
       "      <td>2007-01-01 00:00:00</td>\n",
       "      <td>2007-02-01 00:00:00</td>\n",
       "      <td>2007-03-01 00:00:00</td>\n",
       "      <td>2007-04-01 00:00:00</td>\n",
       "      <td>2007-05-01 00:00:00</td>\n",
       "      <td>2007-06-01 00:00:00</td>\n",
       "      <td>2007-07-01 00:00:00</td>\n",
       "      <td>2007-08-01 00:00:00</td>\n",
       "      <td>...</td>\n",
       "      <td>2010-03-01 00:00:00</td>\n",
       "      <td>2010-04-01 00:00:00</td>\n",
       "      <td>2010-05-01 00:00:00</td>\n",
       "      <td>2010-06-01 00:00:00</td>\n",
       "      <td>2010-07-01 00:00:00</td>\n",
       "      <td>2010-08-01 00:00:00</td>\n",
       "      <td>2010-09-01 00:00:00</td>\n",
       "      <td>2010-10-01 00:00:00</td>\n",
       "      <td>2010-11-01 00:00:00</td>\n",
       "      <td>2010-12-01 00:00:00</td>\n",
       "    </tr>\n",
       "    <tr>\n",
       "      <th>1</th>\n",
       "      <td>№ организации</td>\n",
       "      <td>1.0</td>\n",
       "      <td>26.45</td>\n",
       "      <td>23.89</td>\n",
       "      <td>25.95</td>\n",
       "      <td>30.03</td>\n",
       "      <td>28.96</td>\n",
       "      <td>25.58</td>\n",
       "      <td>25.96</td>\n",
       "      <td>30.56</td>\n",
       "      <td>...</td>\n",
       "      <td>37.36</td>\n",
       "      <td>39.21</td>\n",
       "      <td>39.43</td>\n",
       "      <td>43.5</td>\n",
       "      <td>40.75</td>\n",
       "      <td>42.84</td>\n",
       "      <td>38.01</td>\n",
       "      <td>45.18</td>\n",
       "      <td>42.49</td>\n",
       "      <td>44.2</td>\n",
       "    </tr>\n",
       "    <tr>\n",
       "      <th>2</th>\n",
       "      <td>NaN</td>\n",
       "      <td>2.0</td>\n",
       "      <td>26.09</td>\n",
       "      <td>20.66</td>\n",
       "      <td>22.6</td>\n",
       "      <td>25.05</td>\n",
       "      <td>27.59</td>\n",
       "      <td>20.49</td>\n",
       "      <td>27.39</td>\n",
       "      <td>28.52</td>\n",
       "      <td>...</td>\n",
       "      <td>39.54</td>\n",
       "      <td>42.38</td>\n",
       "      <td>37.5</td>\n",
       "      <td>41.29</td>\n",
       "      <td>44.96</td>\n",
       "      <td>45.39</td>\n",
       "      <td>42.49</td>\n",
       "      <td>45.77</td>\n",
       "      <td>46.94</td>\n",
       "      <td>40.83</td>\n",
       "    </tr>\n",
       "    <tr>\n",
       "      <th>3</th>\n",
       "      <td>NaN</td>\n",
       "      <td>3.0</td>\n",
       "      <td>22.05</td>\n",
       "      <td>23.15</td>\n",
       "      <td>28.22</td>\n",
       "      <td>21.55</td>\n",
       "      <td>21.57</td>\n",
       "      <td>28.58</td>\n",
       "      <td>31.42</td>\n",
       "      <td>28.11</td>\n",
       "      <td>...</td>\n",
       "      <td>40.17</td>\n",
       "      <td>47.99</td>\n",
       "      <td>47.92</td>\n",
       "      <td>46.25</td>\n",
       "      <td>47.3</td>\n",
       "      <td>48.9</td>\n",
       "      <td>51.2</td>\n",
       "      <td>43.96</td>\n",
       "      <td>49.22</td>\n",
       "      <td>51.38</td>\n",
       "    </tr>\n",
       "    <tr>\n",
       "      <th>4</th>\n",
       "      <td>NaN</td>\n",
       "      <td>4.0</td>\n",
       "      <td>20.41</td>\n",
       "      <td>28.39</td>\n",
       "      <td>17.74</td>\n",
       "      <td>18.46</td>\n",
       "      <td>20.47</td>\n",
       "      <td>28.93</td>\n",
       "      <td>27.89</td>\n",
       "      <td>20.68</td>\n",
       "      <td>...</td>\n",
       "      <td>68.39</td>\n",
       "      <td>73.93</td>\n",
       "      <td>63.97</td>\n",
       "      <td>75.59</td>\n",
       "      <td>70.98</td>\n",
       "      <td>78.28</td>\n",
       "      <td>78.98</td>\n",
       "      <td>71.27</td>\n",
       "      <td>81.34</td>\n",
       "      <td>85.73</td>\n",
       "    </tr>\n",
       "  </tbody>\n",
       "</table>\n",
       "<p>5 rows × 50 columns</p>\n",
       "</div>"
      ],
      "text/plain": [
       "      Unnamed: 0  Unnamed: 1 Рыночные цены на материал 1 (руб.)  \\\n",
       "0            NaN         NaN                2007-01-01 00:00:00   \n",
       "1  № организации         1.0                              26.45   \n",
       "2            NaN         2.0                              26.09   \n",
       "3            NaN         3.0                              22.05   \n",
       "4            NaN         4.0                              20.41   \n",
       "\n",
       "            Unnamed: 3           Unnamed: 4           Unnamed: 5  \\\n",
       "0  2007-02-01 00:00:00  2007-03-01 00:00:00  2007-04-01 00:00:00   \n",
       "1                23.89                25.95                30.03   \n",
       "2                20.66                 22.6                25.05   \n",
       "3                23.15                28.22                21.55   \n",
       "4                28.39                17.74                18.46   \n",
       "\n",
       "            Unnamed: 6           Unnamed: 7           Unnamed: 8  \\\n",
       "0  2007-05-01 00:00:00  2007-06-01 00:00:00  2007-07-01 00:00:00   \n",
       "1                28.96                25.58                25.96   \n",
       "2                27.59                20.49                27.39   \n",
       "3                21.57                28.58                31.42   \n",
       "4                20.47                28.93                27.89   \n",
       "\n",
       "            Unnamed: 9  ...          Unnamed: 40          Unnamed: 41  \\\n",
       "0  2007-08-01 00:00:00  ...  2010-03-01 00:00:00  2010-04-01 00:00:00   \n",
       "1                30.56  ...                37.36                39.21   \n",
       "2                28.52  ...                39.54                42.38   \n",
       "3                28.11  ...                40.17                47.99   \n",
       "4                20.68  ...                68.39                73.93   \n",
       "\n",
       "           Unnamed: 42          Unnamed: 43          Unnamed: 44  \\\n",
       "0  2010-05-01 00:00:00  2010-06-01 00:00:00  2010-07-01 00:00:00   \n",
       "1                39.43                 43.5                40.75   \n",
       "2                 37.5                41.29                44.96   \n",
       "3                47.92                46.25                 47.3   \n",
       "4                63.97                75.59                70.98   \n",
       "\n",
       "           Unnamed: 45          Unnamed: 46          Unnamed: 47  \\\n",
       "0  2010-08-01 00:00:00  2010-09-01 00:00:00  2010-10-01 00:00:00   \n",
       "1                42.84                38.01                45.18   \n",
       "2                45.39                42.49                45.77   \n",
       "3                 48.9                 51.2                43.96   \n",
       "4                78.28                78.98                71.27   \n",
       "\n",
       "           Unnamed: 48          Unnamed: 49  \n",
       "0  2010-11-01 00:00:00  2010-12-01 00:00:00  \n",
       "1                42.49                 44.2  \n",
       "2                46.94                40.83  \n",
       "3                49.22                51.38  \n",
       "4                81.34                85.73  \n",
       "\n",
       "[5 rows x 50 columns]"
      ]
     },
     "execution_count": 94,
     "metadata": {},
     "output_type": "execute_result"
    }
   ],
   "source": [
    "data = pd.read_excel('data.xls', sheet_name='Material 1')\n",
    "data.head()"
   ]
  },
  {
   "cell_type": "code",
   "execution_count": 95,
   "id": "economic-brighton",
   "metadata": {},
   "outputs": [],
   "source": [
    "dates = data.loc[data.index == 0].values[0, 2:]\n",
    "val = data.loc[data.index == 1].values[0, 2:]"
   ]
  },
  {
   "cell_type": "code",
   "execution_count": 96,
   "id": "earned-company",
   "metadata": {},
   "outputs": [],
   "source": [
    "data={\"Date\": dates, \"Value\": val}"
   ]
  },
  {
   "cell_type": "code",
   "execution_count": 97,
   "id": "interracial-growing",
   "metadata": {},
   "outputs": [
    {
     "data": {
      "text/html": [
       "<div>\n",
       "<style scoped>\n",
       "    .dataframe tbody tr th:only-of-type {\n",
       "        vertical-align: middle;\n",
       "    }\n",
       "\n",
       "    .dataframe tbody tr th {\n",
       "        vertical-align: top;\n",
       "    }\n",
       "\n",
       "    .dataframe thead th {\n",
       "        text-align: right;\n",
       "    }\n",
       "</style>\n",
       "<table border=\"1\" class=\"dataframe\">\n",
       "  <thead>\n",
       "    <tr style=\"text-align: right;\">\n",
       "      <th></th>\n",
       "      <th>Date</th>\n",
       "      <th>Value</th>\n",
       "    </tr>\n",
       "  </thead>\n",
       "  <tbody>\n",
       "    <tr>\n",
       "      <th>0</th>\n",
       "      <td>2007-01-01</td>\n",
       "      <td>26.45</td>\n",
       "    </tr>\n",
       "    <tr>\n",
       "      <th>1</th>\n",
       "      <td>2007-02-01</td>\n",
       "      <td>23.89</td>\n",
       "    </tr>\n",
       "    <tr>\n",
       "      <th>2</th>\n",
       "      <td>2007-03-01</td>\n",
       "      <td>25.95</td>\n",
       "    </tr>\n",
       "    <tr>\n",
       "      <th>3</th>\n",
       "      <td>2007-04-01</td>\n",
       "      <td>30.03</td>\n",
       "    </tr>\n",
       "    <tr>\n",
       "      <th>4</th>\n",
       "      <td>2007-05-01</td>\n",
       "      <td>28.96</td>\n",
       "    </tr>\n",
       "  </tbody>\n",
       "</table>\n",
       "</div>"
      ],
      "text/plain": [
       "        Date  Value\n",
       "0 2007-01-01  26.45\n",
       "1 2007-02-01  23.89\n",
       "2 2007-03-01  25.95\n",
       "3 2007-04-01  30.03\n",
       "4 2007-05-01  28.96"
      ]
     },
     "execution_count": 97,
     "metadata": {},
     "output_type": "execute_result"
    }
   ],
   "source": [
    "my_data = pd.DataFrame(data)\n",
    "my_data.head()"
   ]
  },
  {
   "cell_type": "code",
   "execution_count": 98,
   "id": "reported-boxing",
   "metadata": {},
   "outputs": [
    {
     "data": {
      "text/html": [
       "<div>\n",
       "<style scoped>\n",
       "    .dataframe tbody tr th:only-of-type {\n",
       "        vertical-align: middle;\n",
       "    }\n",
       "\n",
       "    .dataframe tbody tr th {\n",
       "        vertical-align: top;\n",
       "    }\n",
       "\n",
       "    .dataframe thead th {\n",
       "        text-align: right;\n",
       "    }\n",
       "</style>\n",
       "<table border=\"1\" class=\"dataframe\">\n",
       "  <thead>\n",
       "    <tr style=\"text-align: right;\">\n",
       "      <th></th>\n",
       "      <th>Value</th>\n",
       "    </tr>\n",
       "    <tr>\n",
       "      <th>Date</th>\n",
       "      <th></th>\n",
       "    </tr>\n",
       "  </thead>\n",
       "  <tbody>\n",
       "    <tr>\n",
       "      <th>2007-01-01</th>\n",
       "      <td>26.45</td>\n",
       "    </tr>\n",
       "    <tr>\n",
       "      <th>2007-02-01</th>\n",
       "      <td>23.89</td>\n",
       "    </tr>\n",
       "    <tr>\n",
       "      <th>2007-03-01</th>\n",
       "      <td>25.95</td>\n",
       "    </tr>\n",
       "    <tr>\n",
       "      <th>2007-04-01</th>\n",
       "      <td>30.03</td>\n",
       "    </tr>\n",
       "    <tr>\n",
       "      <th>2007-05-01</th>\n",
       "      <td>28.96</td>\n",
       "    </tr>\n",
       "  </tbody>\n",
       "</table>\n",
       "</div>"
      ],
      "text/plain": [
       "            Value\n",
       "Date             \n",
       "2007-01-01  26.45\n",
       "2007-02-01  23.89\n",
       "2007-03-01  25.95\n",
       "2007-04-01  30.03\n",
       "2007-05-01  28.96"
      ]
     },
     "execution_count": 98,
     "metadata": {},
     "output_type": "execute_result"
    }
   ],
   "source": [
    "my_data=my_data.set_index('Date')\n",
    "my_data.head()"
   ]
  },
  {
   "cell_type": "code",
   "execution_count": 99,
   "id": "adjusted-enemy",
   "metadata": {},
   "outputs": [
    {
     "data": {
      "text/plain": [
       "48"
      ]
     },
     "execution_count": 99,
     "metadata": {},
     "output_type": "execute_result"
    }
   ],
   "source": [
    "my_data.size"
   ]
  },
  {
   "cell_type": "code",
   "execution_count": 100,
   "id": "sufficient-album",
   "metadata": {},
   "outputs": [
    {
     "name": "stdout",
     "output_type": "stream",
     "text": [
      "<class 'pandas.core.frame.DataFrame'>\n",
      "DatetimeIndex: 48 entries, 2007-01-01 to 2010-12-01\n",
      "Data columns (total 1 columns):\n",
      " #   Column  Non-Null Count  Dtype \n",
      "---  ------  --------------  ----- \n",
      " 0   Value   48 non-null     object\n",
      "dtypes: object(1)\n",
      "memory usage: 768.0+ bytes\n"
     ]
    }
   ],
   "source": [
    "my_data.info()"
   ]
  },
  {
   "cell_type": "code",
   "execution_count": 101,
   "id": "focal-friendly",
   "metadata": {},
   "outputs": [],
   "source": [
    "my_data.Value=my_data.Value.astype(float)"
   ]
  },
  {
   "cell_type": "code",
   "execution_count": 102,
   "id": "applicable-vietnam",
   "metadata": {},
   "outputs": [
    {
     "name": "stdout",
     "output_type": "stream",
     "text": [
      "<class 'pandas.core.frame.DataFrame'>\n",
      "DatetimeIndex: 48 entries, 2007-01-01 to 2010-12-01\n",
      "Data columns (total 1 columns):\n",
      " #   Column  Non-Null Count  Dtype  \n",
      "---  ------  --------------  -----  \n",
      " 0   Value   48 non-null     float64\n",
      "dtypes: float64(1)\n",
      "memory usage: 768.0 bytes\n"
     ]
    }
   ],
   "source": [
    "my_data.info()"
   ]
  },
  {
   "cell_type": "code",
   "execution_count": 103,
   "id": "multiple-chase",
   "metadata": {},
   "outputs": [
    {
     "data": {
      "text/plain": [
       "pandas.core.series.Series"
      ]
     },
     "execution_count": 103,
     "metadata": {},
     "output_type": "execute_result"
    }
   ],
   "source": [
    "series=my_data.squeeze()\n",
    "type(my_data_s)"
   ]
  },
  {
   "cell_type": "code",
   "execution_count": 104,
   "id": "directed-julian",
   "metadata": {},
   "outputs": [
    {
     "name": "stdout",
     "output_type": "stream",
     "text": [
      "Date\n",
      "2007-01-01    26.45\n",
      "2007-01-02      NaN\n",
      "2007-01-03      NaN\n",
      "2007-01-04      NaN\n",
      "2007-01-05      NaN\n",
      "2007-01-06      NaN\n",
      "2007-01-07      NaN\n",
      "2007-01-08      NaN\n",
      "2007-01-09      NaN\n",
      "2007-01-10      NaN\n",
      "2007-01-11      NaN\n",
      "2007-01-12      NaN\n",
      "2007-01-13      NaN\n",
      "2007-01-14      NaN\n",
      "2007-01-15      NaN\n",
      "2007-01-16      NaN\n",
      "2007-01-17      NaN\n",
      "2007-01-18      NaN\n",
      "2007-01-19      NaN\n",
      "2007-01-20      NaN\n",
      "2007-01-21      NaN\n",
      "2007-01-22      NaN\n",
      "2007-01-23      NaN\n",
      "2007-01-24      NaN\n",
      "2007-01-25      NaN\n",
      "2007-01-26      NaN\n",
      "2007-01-27      NaN\n",
      "2007-01-28      NaN\n",
      "2007-01-29      NaN\n",
      "2007-01-30      NaN\n",
      "2007-01-31      NaN\n",
      "2007-02-01    23.89\n",
      "Freq: D, Name: Value, dtype: float64\n"
     ]
    }
   ],
   "source": [
    "upsampled = series.resample('D').mean()\n",
    "print(upsampled.head(32))"
   ]
  },
  {
   "cell_type": "code",
   "execution_count": 105,
   "id": "orange-footwear",
   "metadata": {},
   "outputs": [
    {
     "name": "stdout",
     "output_type": "stream",
     "text": [
      "Date\n",
      "2007-01-01    26.450000\n",
      "2007-01-02    26.367419\n",
      "2007-01-03    26.284839\n",
      "2007-01-04    26.202258\n",
      "2007-01-05    26.119677\n",
      "2007-01-06    26.037097\n",
      "2007-01-07    25.954516\n",
      "2007-01-08    25.871935\n",
      "2007-01-09    25.789355\n",
      "2007-01-10    25.706774\n",
      "2007-01-11    25.624194\n",
      "2007-01-12    25.541613\n",
      "2007-01-13    25.459032\n",
      "2007-01-14    25.376452\n",
      "2007-01-15    25.293871\n",
      "2007-01-16    25.211290\n",
      "2007-01-17    25.128710\n",
      "2007-01-18    25.046129\n",
      "2007-01-19    24.963548\n",
      "2007-01-20    24.880968\n",
      "2007-01-21    24.798387\n",
      "2007-01-22    24.715806\n",
      "2007-01-23    24.633226\n",
      "2007-01-24    24.550645\n",
      "2007-01-25    24.468065\n",
      "2007-01-26    24.385484\n",
      "2007-01-27    24.302903\n",
      "2007-01-28    24.220323\n",
      "2007-01-29    24.137742\n",
      "2007-01-30    24.055161\n",
      "2007-01-31    23.972581\n",
      "2007-02-01    23.890000\n",
      "Freq: D, Name: Value, dtype: float64\n"
     ]
    },
    {
     "data": {
      "text/plain": [
       "<AxesSubplot:xlabel='Date'>"
      ]
     },
     "execution_count": 105,
     "metadata": {},
     "output_type": "execute_result"
    },
    {
     "data": {
      "image/png": "[encoded data removed]",
      "text/plain": [
       "<Figure size 432x288 with 1 Axes>"
      ]
     },
     "metadata": {
      "needs_background": "light"
     },
     "output_type": "display_data"
    }
   ],
   "source": [
    "interpolated = upsampled.interpolate(method='linear')\n",
    "print(interpolated.head(32))\n",
    "interpolated.plot()"
   ]
  },
  {
   "cell_type": "code",
   "execution_count": 106,
   "id": "varied-blair",
   "metadata": {},
   "outputs": [
    {
     "name": "stdout",
     "output_type": "stream",
     "text": [
      "Date\n",
      "2007-01-01    26.450000\n",
      "2007-01-02    26.309284\n",
      "2007-01-03    26.131431\n",
      "2007-01-04    25.959820\n",
      "2007-01-05    25.794453\n",
      "2007-01-06    25.635327\n",
      "2007-01-07    25.482445\n",
      "2007-01-08    25.335805\n",
      "2007-01-09    25.195408\n",
      "2007-01-10    25.061254\n",
      "2007-01-11    24.933342\n",
      "2007-01-12    24.811673\n",
      "2007-01-13    24.696247\n",
      "2007-01-14    24.587063\n",
      "2007-01-15    24.484122\n",
      "2007-01-16    24.387424\n",
      "2007-01-17    24.296968\n",
      "2007-01-18    24.212755\n",
      "2007-01-19    24.134785\n",
      "2007-01-20    24.063057\n",
      "2007-01-21    23.997573\n",
      "2007-01-22    23.938330\n",
      "2007-01-23    23.885331\n",
      "2007-01-24    23.838574\n",
      "2007-01-25    23.798060\n",
      "2007-01-26    23.763788\n",
      "2007-01-27    23.735759\n",
      "2007-01-28    23.713973\n",
      "2007-01-29    23.698430\n",
      "2007-01-30    23.689129\n",
      "2007-01-31    23.686071\n",
      "2007-02-01    23.890000\n",
      "Freq: D, Name: Value, dtype: float64\n"
     ]
    },
    {
     "data": {
      "text/plain": [
       "<AxesSubplot:xlabel='Date'>"
      ]
     },
     "execution_count": 106,
     "metadata": {},
     "output_type": "execute_result"
    },
    {
     "data": {
      "image/png": "[encoded data removed]",
      "text/plain": [
       "<Figure size 432x288 with 1 Axes>"
      ]
     },
     "metadata": {
      "needs_background": "light"
     },
     "output_type": "display_data"
    }
   ],
   "source": [
    "interpolated = upsampled.interpolate(method='spline', order=2)\n",
    "print(interpolated.head(32))\n",
    "interpolated.plot()"
   ]
  },
  {
   "cell_type": "code",
   "execution_count": 107,
   "id": "widespread-decline",
   "metadata": {},
   "outputs": [
    {
     "name": "stdout",
     "output_type": "stream",
     "text": [
      "Date\n",
      "2007-03-31    25.430000\n",
      "2007-06-30    28.190000\n",
      "2007-09-30    28.730000\n",
      "2007-12-31    30.263333\n",
      "2008-03-31    29.953333\n",
      "Freq: Q-DEC, Name: Value, dtype: float64\n"
     ]
    },
    {
     "data": {
      "text/plain": [
       "<AxesSubplot:xlabel='Date'>"
      ]
     },
     "execution_count": 107,
     "metadata": {},
     "output_type": "execute_result"
    },
    {
     "data": {
      "image/png": "[encoded data removed]",
      "text/plain": [
       "<Figure size 432x288 with 1 Axes>"
      ]
     },
     "metadata": {
      "needs_background": "light"
     },
     "output_type": "display_data"
    }
   ],
   "source": [
    "resample = series.resample('Q')\n",
    "quarterly_mean = resample.mean()\n",
    "print(quarterly_mean.head())\n",
    "quarterly_mean.plot()"
   ]
  },
  {
   "cell_type": "code",
   "execution_count": 108,
   "id": "collect-violation",
   "metadata": {},
   "outputs": [
    {
     "name": "stdout",
     "output_type": "stream",
     "text": [
      "Date\n",
      "2007-12-31    28.153333\n",
      "2008-12-31    31.592500\n",
      "2009-12-31    36.983333\n",
      "2010-12-31    40.727500\n",
      "Freq: A-DEC, Name: Value, dtype: float64\n"
     ]
    },
    {
     "data": {
      "text/plain": [
       "<AxesSubplot:xlabel='Date'>"
      ]
     },
     "execution_count": 108,
     "metadata": {},
     "output_type": "execute_result"
    },
    {
     "data": {
      "image/png": "[encoded data removed]",
      "text/plain": [
       "<Figure size 432x288 with 1 Axes>"
      ]
     },
     "metadata": {
      "needs_background": "light"
     },
     "output_type": "display_data"
    }
   ],
   "source": [
    "resample = series.resample('A')\n",
    "yearly_mean = resample.mean()\n",
    "print(yearly_mean.head())\n",
    "yearly_mean.plot()"
   ]
  },
  {
   "cell_type": "code",
   "execution_count": 117,
   "id": "human-property",
   "metadata": {},
   "outputs": [
    {
     "name": "stdout",
     "output_type": "stream",
     "text": [
      "           t        t+1\n",
      "0        NaN  28.153333\n",
      "1  28.153333  31.592500\n",
      "2  31.592500  36.983333\n",
      "3  36.983333  40.727500\n"
     ]
    }
   ],
   "source": [
    "temps = DataFrame(yearly_mean.values)\n",
    "df = concat([temps.shift(1), temps], axis=1)\n",
    "df.columns = ['t', 't+1']\n",
    "print(df.head(5))"
   ]
  },
  {
   "cell_type": "markdown",
   "id": "inside-round",
   "metadata": {},
   "source": [
    "Введем обозначения:\n",
    "* Delta_t - абсолютный цепной прирост\n",
    "* Delta_0 - абсолютный базисный прирост\n",
    "* Temp_t - цепной темп роста\n",
    "* Temp_0 - базисный темп роста\n",
    "* TDelta_t - цепной темп прироста\n",
    "* TDelta_0 - базисный темп прироста\n",
    "* AvgDelta - средний абсолютный прирост\n",
    "* AvgTemp - средний темп роста\n",
    "* AvgTDelta - средний темп прироста"
   ]
  },
  {
   "cell_type": "code",
   "execution_count": 118,
   "id": "deadly-nitrogen",
   "metadata": {
    "tags": []
   },
   "outputs": [
    {
     "data": {
      "text/html": [
       "<div>\n",
       "<style scoped>\n",
       "    .dataframe tbody tr th:only-of-type {\n",
       "        vertical-align: middle;\n",
       "    }\n",
       "\n",
       "    .dataframe tbody tr th {\n",
       "        vertical-align: top;\n",
       "    }\n",
       "\n",
       "    .dataframe thead th {\n",
       "        text-align: right;\n",
       "    }\n",
       "</style>\n",
       "<table border=\"1\" class=\"dataframe\">\n",
       "  <thead>\n",
       "    <tr style=\"text-align: right;\">\n",
       "      <th></th>\n",
       "      <th>t</th>\n",
       "      <th>t+1</th>\n",
       "      <th>Delta_t</th>\n",
       "      <th>Delta_0</th>\n",
       "      <th>Temp_t</th>\n",
       "      <th>Temp_0</th>\n",
       "      <th>TDelta_t</th>\n",
       "      <th>TDelta_0</th>\n",
       "    </tr>\n",
       "  </thead>\n",
       "  <tbody>\n",
       "    <tr>\n",
       "      <th>0</th>\n",
       "      <td>NaN</td>\n",
       "      <td>28.153333</td>\n",
       "      <td>NaN</td>\n",
       "      <td>0.000000</td>\n",
       "      <td>NaN</td>\n",
       "      <td>1.000000</td>\n",
       "      <td>NaN</td>\n",
       "      <td>0.000000</td>\n",
       "    </tr>\n",
       "    <tr>\n",
       "      <th>1</th>\n",
       "      <td>28.153333</td>\n",
       "      <td>31.592500</td>\n",
       "      <td>3.439167</td>\n",
       "      <td>3.439167</td>\n",
       "      <td>1.122158</td>\n",
       "      <td>1.122158</td>\n",
       "      <td>0.122158</td>\n",
       "      <td>0.122158</td>\n",
       "    </tr>\n",
       "    <tr>\n",
       "      <th>2</th>\n",
       "      <td>31.592500</td>\n",
       "      <td>36.983333</td>\n",
       "      <td>5.390833</td>\n",
       "      <td>8.830000</td>\n",
       "      <td>1.170636</td>\n",
       "      <td>1.313640</td>\n",
       "      <td>0.170636</td>\n",
       "      <td>0.313640</td>\n",
       "    </tr>\n",
       "    <tr>\n",
       "      <th>3</th>\n",
       "      <td>36.983333</td>\n",
       "      <td>40.727500</td>\n",
       "      <td>3.744167</td>\n",
       "      <td>12.574167</td>\n",
       "      <td>1.101239</td>\n",
       "      <td>1.446632</td>\n",
       "      <td>0.101239</td>\n",
       "      <td>0.446632</td>\n",
       "    </tr>\n",
       "  </tbody>\n",
       "</table>\n",
       "</div>"
      ],
      "text/plain": [
       "           t        t+1   Delta_t    Delta_0    Temp_t    Temp_0  TDelta_t  \\\n",
       "0        NaN  28.153333       NaN   0.000000       NaN  1.000000       NaN   \n",
       "1  28.153333  31.592500  3.439167   3.439167  1.122158  1.122158  0.122158   \n",
       "2  31.592500  36.983333  5.390833   8.830000  1.170636  1.313640  0.170636   \n",
       "3  36.983333  40.727500  3.744167  12.574167  1.101239  1.446632  0.101239   \n",
       "\n",
       "   TDelta_0  \n",
       "0  0.000000  \n",
       "1  0.122158  \n",
       "2  0.313640  \n",
       "3  0.446632  "
      ]
     },
     "execution_count": 118,
     "metadata": {},
     "output_type": "execute_result"
    }
   ],
   "source": [
    "df['Delta_t']=df['t+1']-df['t']\n",
    "df['Delta_0']=df['t+1']-df['t+1'][0]\n",
    "df['Temp_t']=df['t+1']/df['t']\n",
    "df['Temp_0']=df['t+1']/df['t+1'][0]\n",
    "df['TDelta_t']=df['Temp_t']-1\n",
    "df['TDelta_0']=df['Temp_0']-1\n",
    "df.head()"
   ]
  },
  {
   "cell_type": "code",
   "execution_count": 121,
   "id": "instant-bottom",
   "metadata": {},
   "outputs": [
    {
     "data": {
      "text/plain": [
       "28.153333333333336"
      ]
     },
     "execution_count": 121,
     "metadata": {},
     "output_type": "execute_result"
    }
   ],
   "source": [
    "first=df['t+1'].iloc[0]\n",
    "first"
   ]
  },
  {
   "cell_type": "code",
   "execution_count": 122,
   "id": "exempt-calendar",
   "metadata": {},
   "outputs": [
    {
     "data": {
      "text/plain": [
       "40.7275"
      ]
     },
     "execution_count": 122,
     "metadata": {},
     "output_type": "execute_result"
    }
   ],
   "source": [
    "last=df['t+1'].iloc[-1]\n",
    "last"
   ]
  },
  {
   "cell_type": "code",
   "execution_count": 123,
   "id": "solved-address",
   "metadata": {},
   "outputs": [
    {
     "data": {
      "text/plain": [
       "4.191388888888888"
      ]
     },
     "execution_count": 123,
     "metadata": {},
     "output_type": "execute_result"
    }
   ],
   "source": [
    "AvgDelta=(last-first)/(len(df)-1)\n",
    "AvgDelta"
   ]
  },
  {
   "cell_type": "code",
   "execution_count": 124,
   "id": "round-enclosure",
   "metadata": {},
   "outputs": [
    {
     "data": {
      "text/plain": [
       "1.1309740580674148"
      ]
     },
     "execution_count": 124,
     "metadata": {},
     "output_type": "execute_result"
    }
   ],
   "source": [
    "AvgTemp=(last/first)**(1/(len(df)-1))\n",
    "AvgTemp"
   ]
  },
  {
   "cell_type": "code",
   "execution_count": 125,
   "id": "qualified-indonesian",
   "metadata": {},
   "outputs": [
    {
     "data": {
      "text/plain": [
       "0.1309740580674148"
      ]
     },
     "execution_count": 125,
     "metadata": {},
     "output_type": "execute_result"
    }
   ],
   "source": [
    "AvgTDelta=AvgTemp-1\n",
    "AvgTDelta"
   ]
  },
  {
   "cell_type": "code",
   "execution_count": 126,
   "id": "joint-cocktail",
   "metadata": {},
   "outputs": [
    {
     "data": {
      "text/plain": [
       "53.30166666666666"
      ]
     },
     "execution_count": 126,
     "metadata": {},
     "output_type": "execute_result"
    }
   ],
   "source": [
    "predict=last + 3*AvgDelta\n",
    "predict"
   ]
  },
  {
   "cell_type": "code",
   "execution_count": null,
   "id": "coated-committee",
   "metadata": {},
   "outputs": [],
   "source": []
  }
 ],
 "metadata": {
  "kernelspec": {
   "display_name": "Python 3",
   "language": "python",
   "name": "python3"
  },
  "language_info": {
   "codemirror_mode": {
    "name": "ipython",
    "version": 3
   },
   "file_extension": ".py",
   "mimetype": "text/x-python",
   "name": "python",
   "nbconvert_exporter": "python",
   "pygments_lexer": "ipython3",
   "version": "3.7.4"
  }
 },
 "nbformat": 4,
 "nbformat_minor": 5
}
