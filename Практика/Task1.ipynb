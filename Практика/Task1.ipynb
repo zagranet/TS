{
 "cells": [
  {
   "cell_type": "markdown",
   "id": "suspended-compensation",
   "metadata": {},
   "source": [
    "# Задание 1. Построение трендов"
   ]
  },
  {
   "cell_type": "code",
   "execution_count": 2,
   "id": "spiritual-girlfriend",
   "metadata": {},
   "outputs": [],
   "source": [
    "import os\n",
    "os.chdir(\"C:/Users/HP/Documents/analysis/TS/data/\")"
   ]
  },
  {
   "cell_type": "markdown",
   "id": "parental-restaurant",
   "metadata": {},
   "source": [
    "# Способ 1"
   ]
  },
  {
   "cell_type": "code",
   "execution_count": 1,
   "id": "introductory-thesaurus",
   "metadata": {},
   "outputs": [],
   "source": [
    "import pandas as pd \n",
    "import numpy as np \n",
    "\n",
    "import matplotlib.pyplot as plt\n",
    "plt.rcParams[\"figure.figsize\"] = (10,6)\n",
    "%matplotlib inline\n",
    "\n",
    "from sklearn.linear_model import LinearRegression\n",
    "from sklearn.metrics import mean_squared_error, r2_score"
   ]
  },
  {
   "cell_type": "code",
   "execution_count": 3,
   "id": "consistent-aquatic",
   "metadata": {},
   "outputs": [],
   "source": [
    "data = pd.read_excel('data.xls', sheet_name='Material 1')"
   ]
  },
  {
   "cell_type": "code",
   "execution_count": 18,
   "id": "proprietary-heavy",
   "metadata": {},
   "outputs": [],
   "source": [
    "dates = data.loc[data.index == 0].values[0, 2:]\n",
    "val = data.loc[data.index == 1].values[0, 2:]"
   ]
  },
  {
   "cell_type": "code",
   "execution_count": 19,
   "id": "lonely-scout",
   "metadata": {},
   "outputs": [
    {
     "data": {
      "text/html": [
       "<div>\n",
       "<style scoped>\n",
       "    .dataframe tbody tr th:only-of-type {\n",
       "        vertical-align: middle;\n",
       "    }\n",
       "\n",
       "    .dataframe tbody tr th {\n",
       "        vertical-align: top;\n",
       "    }\n",
       "\n",
       "    .dataframe thead th {\n",
       "        text-align: right;\n",
       "    }\n",
       "</style>\n",
       "<table border=\"1\" class=\"dataframe\">\n",
       "  <thead>\n",
       "    <tr style=\"text-align: right;\">\n",
       "      <th></th>\n",
       "      <th>Date</th>\n",
       "      <th>Value</th>\n",
       "    </tr>\n",
       "  </thead>\n",
       "  <tbody>\n",
       "    <tr>\n",
       "      <th>0</th>\n",
       "      <td>2007-01-01</td>\n",
       "      <td>26.45</td>\n",
       "    </tr>\n",
       "    <tr>\n",
       "      <th>1</th>\n",
       "      <td>2007-02-01</td>\n",
       "      <td>23.89</td>\n",
       "    </tr>\n",
       "    <tr>\n",
       "      <th>2</th>\n",
       "      <td>2007-03-01</td>\n",
       "      <td>25.95</td>\n",
       "    </tr>\n",
       "    <tr>\n",
       "      <th>3</th>\n",
       "      <td>2007-04-01</td>\n",
       "      <td>30.03</td>\n",
       "    </tr>\n",
       "    <tr>\n",
       "      <th>4</th>\n",
       "      <td>2007-05-01</td>\n",
       "      <td>28.96</td>\n",
       "    </tr>\n",
       "  </tbody>\n",
       "</table>\n",
       "</div>"
      ],
      "text/plain": [
       "        Date  Value\n",
       "0 2007-01-01  26.45\n",
       "1 2007-02-01  23.89\n",
       "2 2007-03-01  25.95\n",
       "3 2007-04-01  30.03\n",
       "4 2007-05-01  28.96"
      ]
     },
     "execution_count": 19,
     "metadata": {},
     "output_type": "execute_result"
    }
   ],
   "source": [
    "my_data = pd.DataFrame(data={\"Date\": dates, \"Value\": val})\n",
    "my_data.head()"
   ]
  },
  {
   "cell_type": "code",
   "execution_count": 168,
   "id": "separate-guatemala",
   "metadata": {},
   "outputs": [
    {
     "data": {
      "image/png": "[encoded data removed]",
      "text/plain": [
       "<Figure size 720x432 with 1 Axes>"
      ]
     },
     "metadata": {
      "needs_background": "light"
     },
     "output_type": "display_data"
    }
   ],
   "source": [
    "plt.rcParams[\"figure.figsize\"] = (10,6)\n",
    "plt.plot(my_data[\"Value\"], 'bo')\n",
    "plt.xlabel(\"Date\")\n",
    "plt.ylabel(\"Price\")\n",
    "plt.title(\"Organisation 1\")\n",
    "plt.show()"
   ]
  },
  {
   "cell_type": "markdown",
   "id": "governmental-factory",
   "metadata": {},
   "source": [
    "### Модель линейной регрессии"
   ]
  },
  {
   "cell_type": "code",
   "execution_count": 29,
   "id": "proprietary-partnership",
   "metadata": {},
   "outputs": [],
   "source": [
    "y = my_data['Value'].values\n",
    "X = np.arange(1, y.size + 1).reshape(-1, 1)"
   ]
  },
  {
   "cell_type": "code",
   "execution_count": 170,
   "id": "matched-silly",
   "metadata": {},
   "outputs": [],
   "source": [
    "reg = LinearRegression(fit_intercept=True).fit(X, y)"
   ]
  },
  {
   "cell_type": "code",
   "execution_count": 171,
   "id": "answering-borough",
   "metadata": {},
   "outputs": [
    {
     "name": "stdout",
     "output_type": "stream",
     "text": [
      "Коэффициенты: [0.36, 25.542] \n",
      "\n",
      "MSE: 4.14 \n",
      "\n",
      "Коэффициент детерминации: 0.86\n"
     ]
    }
   ],
   "source": [
    "print('Коэффициенты:', [np.round(reg.coef_[0], 3), np.round(reg.intercept_, 3)], '\\n')\n",
    "print('MSE: %.2f'\n",
    "      % mean_squared_error(y, reg.predict(X)), '\\n')\n",
    "print('Коэффициент детерминации: %.2f'\n",
    "      % r2_score(y, reg.predict(X)))"
   ]
  },
  {
   "cell_type": "code",
   "execution_count": 173,
   "id": "engaged-ideal",
   "metadata": {},
   "outputs": [
    {
     "data": {
      "image/png": "[encoded data removed]",
      "text/plain": [
       "<Figure size 720x432 with 1 Axes>"
      ]
     },
     "metadata": {
      "needs_background": "light"
     },
     "output_type": "display_data"
    }
   ],
   "source": [
    "plt.rcParams[\"figure.figsize\"] = (10,6)\n",
    "plt.plot(my_data[\"Value\"], 'bo')\n",
    "plt.plot(reg.predict(X), \"r\")\n",
    "plt.xlabel(\"Date\")\n",
    "plt.ylabel(\"Price\")\n",
    "plt.title(\"Organisation 1\")\n",
    "plt.legend([\"Data\", \"Trend\"])\n",
    "plt.show()"
   ]
  },
  {
   "cell_type": "markdown",
   "id": "social-oxygen",
   "metadata": {},
   "source": [
    "# Способ 2"
   ]
  },
  {
   "cell_type": "code",
   "execution_count": 108,
   "id": "lasting-harrison",
   "metadata": {},
   "outputs": [
    {
     "data": {
      "text/html": [
       "<div>\n",
       "<style scoped>\n",
       "    .dataframe tbody tr th:only-of-type {\n",
       "        vertical-align: middle;\n",
       "    }\n",
       "\n",
       "    .dataframe tbody tr th {\n",
       "        vertical-align: top;\n",
       "    }\n",
       "\n",
       "    .dataframe thead th {\n",
       "        text-align: right;\n",
       "    }\n",
       "</style>\n",
       "<table border=\"1\" class=\"dataframe\">\n",
       "  <thead>\n",
       "    <tr style=\"text-align: right;\">\n",
       "      <th></th>\n",
       "      <th>Рыночные цены на материал 1 (руб.)</th>\n",
       "    </tr>\n",
       "    <tr>\n",
       "      <th>Дата</th>\n",
       "      <th></th>\n",
       "    </tr>\n",
       "  </thead>\n",
       "  <tbody>\n",
       "    <tr>\n",
       "      <th>2007-01-01</th>\n",
       "      <td>26.45</td>\n",
       "    </tr>\n",
       "    <tr>\n",
       "      <th>2007-02-01</th>\n",
       "      <td>23.89</td>\n",
       "    </tr>\n",
       "    <tr>\n",
       "      <th>2007-03-01</th>\n",
       "      <td>25.95</td>\n",
       "    </tr>\n",
       "    <tr>\n",
       "      <th>2007-04-01</th>\n",
       "      <td>30.03</td>\n",
       "    </tr>\n",
       "    <tr>\n",
       "      <th>2007-05-01</th>\n",
       "      <td>28.96</td>\n",
       "    </tr>\n",
       "  </tbody>\n",
       "</table>\n",
       "</div>"
      ],
      "text/plain": [
       "            Рыночные цены на материал 1 (руб.)\n",
       "Дата                                          \n",
       "2007-01-01                               26.45\n",
       "2007-02-01                               23.89\n",
       "2007-03-01                               25.95\n",
       "2007-04-01                               30.03\n",
       "2007-05-01                               28.96"
      ]
     },
     "execution_count": 108,
     "metadata": {},
     "output_type": "execute_result"
    }
   ],
   "source": [
    "from pandas import read_csv\n",
    "df = read_csv('task1.csv',parse_dates = True, index_col = 0,delimiter=';',decimal=',')\n",
    "df.head()"
   ]
  },
  {
   "cell_type": "code",
   "execution_count": 109,
   "id": "neutral-hearts",
   "metadata": {},
   "outputs": [
    {
     "name": "stdout",
     "output_type": "stream",
     "text": [
      "<class 'pandas.core.frame.DataFrame'>\n",
      "DatetimeIndex: 48 entries, 2007-01-01 to 2010-12-01\n",
      "Data columns (total 1 columns):\n",
      " #   Column                              Non-Null Count  Dtype  \n",
      "---  ------                              --------------  -----  \n",
      " 0   Рыночные цены на материал 1 (руб.)  48 non-null     float64\n",
      "dtypes: float64(1)\n",
      "memory usage: 768.0 bytes\n"
     ]
    }
   ],
   "source": [
    "df.info()"
   ]
  },
  {
   "cell_type": "code",
   "execution_count": 110,
   "id": "explicit-cooler",
   "metadata": {},
   "outputs": [
    {
     "data": {
      "text/html": [
       "<div>\n",
       "<style scoped>\n",
       "    .dataframe tbody tr th:only-of-type {\n",
       "        vertical-align: middle;\n",
       "    }\n",
       "\n",
       "    .dataframe tbody tr th {\n",
       "        vertical-align: top;\n",
       "    }\n",
       "\n",
       "    .dataframe thead th {\n",
       "        text-align: right;\n",
       "    }\n",
       "</style>\n",
       "<table border=\"1\" class=\"dataframe\">\n",
       "  <thead>\n",
       "    <tr style=\"text-align: right;\">\n",
       "      <th></th>\n",
       "      <th>y</th>\n",
       "    </tr>\n",
       "    <tr>\n",
       "      <th>date</th>\n",
       "      <th></th>\n",
       "    </tr>\n",
       "  </thead>\n",
       "  <tbody>\n",
       "    <tr>\n",
       "      <th>2007-01-01</th>\n",
       "      <td>26.45</td>\n",
       "    </tr>\n",
       "    <tr>\n",
       "      <th>2007-02-01</th>\n",
       "      <td>23.89</td>\n",
       "    </tr>\n",
       "    <tr>\n",
       "      <th>2007-03-01</th>\n",
       "      <td>25.95</td>\n",
       "    </tr>\n",
       "    <tr>\n",
       "      <th>2007-04-01</th>\n",
       "      <td>30.03</td>\n",
       "    </tr>\n",
       "    <tr>\n",
       "      <th>2007-05-01</th>\n",
       "      <td>28.96</td>\n",
       "    </tr>\n",
       "  </tbody>\n",
       "</table>\n",
       "</div>"
      ],
      "text/plain": [
       "                y\n",
       "date             \n",
       "2007-01-01  26.45\n",
       "2007-02-01  23.89\n",
       "2007-03-01  25.95\n",
       "2007-04-01  30.03\n",
       "2007-05-01  28.96"
      ]
     },
     "execution_count": 110,
     "metadata": {},
     "output_type": "execute_result"
    }
   ],
   "source": [
    "# Переименование столбцов\n",
    "df_columns, df.columns = df.columns, ('y', )\n",
    "df_index, df.index.name = df.index.name, 'date'\n",
    "df.head()"
   ]
  },
  {
   "cell_type": "code",
   "execution_count": 111,
   "id": "instrumental-authorization",
   "metadata": {},
   "outputs": [
    {
     "data": {
      "image/png": "[encoded data removed]",
      "text/plain": [
       "<Figure size 720x432 with 1 Axes>"
      ]
     },
     "metadata": {
      "needs_background": "light"
     },
     "output_type": "display_data"
    }
   ],
   "source": [
    "# Визуализация данных с надписями\n",
    "import matplotlib as mpl\n",
    "import matplotlib.pyplot as plt\n",
    "\n",
    "fig, ax = plt.subplots(figsize = (10, 6))\n",
    "\n",
    "plt.xlabel(df_index)\n",
    "plt.ylabel(df_columns[0])\n",
    "\n",
    "ax.xaxis.set_major_locator(mpl.dates.YearLocator())\n",
    "ax.xaxis.set_major_formatter(mpl.dates.DateFormatter('%Y'))\n",
    "\n",
    "ax.plot(df['y'], marker = 'o', color = (0, 0, 0, 0), markerfacecolor = 'blue')\n",
    "    \n",
    "plt.show()"
   ]
  },
  {
   "cell_type": "code",
   "execution_count": 112,
   "id": "proof-bosnia",
   "metadata": {},
   "outputs": [
    {
     "data": {
      "text/html": [
       "<div>\n",
       "<style scoped>\n",
       "    .dataframe tbody tr th:only-of-type {\n",
       "        vertical-align: middle;\n",
       "    }\n",
       "\n",
       "    .dataframe tbody tr th {\n",
       "        vertical-align: top;\n",
       "    }\n",
       "\n",
       "    .dataframe thead th {\n",
       "        text-align: right;\n",
       "    }\n",
       "</style>\n",
       "<table border=\"1\" class=\"dataframe\">\n",
       "  <thead>\n",
       "    <tr style=\"text-align: right;\">\n",
       "      <th></th>\n",
       "      <th>y</th>\n",
       "      <th>t</th>\n",
       "    </tr>\n",
       "    <tr>\n",
       "      <th>date</th>\n",
       "      <th></th>\n",
       "      <th></th>\n",
       "    </tr>\n",
       "  </thead>\n",
       "  <tbody>\n",
       "    <tr>\n",
       "      <th>2007-01-01</th>\n",
       "      <td>26.45</td>\n",
       "      <td>1</td>\n",
       "    </tr>\n",
       "    <tr>\n",
       "      <th>2007-02-01</th>\n",
       "      <td>23.89</td>\n",
       "      <td>2</td>\n",
       "    </tr>\n",
       "    <tr>\n",
       "      <th>2007-03-01</th>\n",
       "      <td>25.95</td>\n",
       "      <td>3</td>\n",
       "    </tr>\n",
       "    <tr>\n",
       "      <th>2007-04-01</th>\n",
       "      <td>30.03</td>\n",
       "      <td>4</td>\n",
       "    </tr>\n",
       "    <tr>\n",
       "      <th>2007-05-01</th>\n",
       "      <td>28.96</td>\n",
       "      <td>5</td>\n",
       "    </tr>\n",
       "  </tbody>\n",
       "</table>\n",
       "</div>"
      ],
      "text/plain": [
       "                y  t\n",
       "date                \n",
       "2007-01-01  26.45  1\n",
       "2007-02-01  23.89  2\n",
       "2007-03-01  25.95  3\n",
       "2007-04-01  30.03  4\n",
       "2007-05-01  28.96  5"
      ]
     },
     "execution_count": 112,
     "metadata": {},
     "output_type": "execute_result"
    }
   ],
   "source": [
    "# Добавляем вспомогательный столбец t\n",
    "import numpy as np\n",
    "df['t'] = np.arange(1, len(df) + 1)\n",
    "df.head()"
   ]
  },
  {
   "cell_type": "code",
   "execution_count": 113,
   "id": "downtown-novel",
   "metadata": {},
   "outputs": [
    {
     "data": {
      "text/plain": [
       "array([ 0.36008142, 25.54217199])"
      ]
     },
     "execution_count": 113,
     "metadata": {},
     "output_type": "execute_result"
    }
   ],
   "source": [
    "# Найдем коэффициенты уравнения тренда\n",
    "import numpy as np\n",
    "coef = np.polyfit(df['t'], df['y'], deg = 1)\n",
    "coef"
   ]
  },
  {
   "cell_type": "code",
   "execution_count": 114,
   "id": "lightweight-leone",
   "metadata": {},
   "outputs": [
    {
     "data": {
      "text/plain": [
       "date\n",
       "2007-01-01    25.902253\n",
       "2007-02-01    26.262335\n",
       "2007-03-01    26.622416\n",
       "2007-04-01    26.982498\n",
       "2007-05-01    27.342579\n",
       "Name: y^, dtype: float64"
      ]
     },
     "execution_count": 114,
     "metadata": {},
     "output_type": "execute_result"
    }
   ],
   "source": [
    "# Найдем расчетные значения по уравнению тренда\n",
    "df['y^'] = coef[0] * df['t'] + coef[1]\n",
    "df['y^'].head()"
   ]
  },
  {
   "cell_type": "code",
   "execution_count": 115,
   "id": "novel-collective",
   "metadata": {},
   "outputs": [
    {
     "data": {
      "image/png": "[encoded data removed]",
      "text/plain": [
       "<Figure size 864x504 with 1 Axes>"
      ]
     },
     "metadata": {
      "needs_background": "light"
     },
     "output_type": "display_data"
    }
   ],
   "source": [
    "# Изобразим на графике фактические значения и расчетные по тренду\n",
    "fig, ax = plt.subplots(figsize = (12, 7))\n",
    "\n",
    "plt.xlabel(df_index)\n",
    "plt.ylabel(df_columns[0])\n",
    "\n",
    "ax.plot(df['y^'], color = 'orange')\n",
    "\n",
    "ax.plot(df['y'], marker = 'o', color = (0, 0, 0, 0), markerfacecolor = 'blue')\n",
    "\n",
    "ax.xaxis.set_major_locator(mpl.dates.YearLocator())\n",
    "ax.xaxis.set_major_formatter(mpl.dates.DateFormatter('%Y'))\n",
    "    \n",
    "plt.show()"
   ]
  },
  {
   "cell_type": "code",
   "execution_count": 116,
   "id": "separated-integral",
   "metadata": {},
   "outputs": [
    {
     "data": {
      "text/html": [
       "<div>\n",
       "<style scoped>\n",
       "    .dataframe tbody tr th:only-of-type {\n",
       "        vertical-align: middle;\n",
       "    }\n",
       "\n",
       "    .dataframe tbody tr th {\n",
       "        vertical-align: top;\n",
       "    }\n",
       "\n",
       "    .dataframe thead th {\n",
       "        text-align: right;\n",
       "    }\n",
       "</style>\n",
       "<table border=\"1\" class=\"dataframe\">\n",
       "  <thead>\n",
       "    <tr style=\"text-align: right;\">\n",
       "      <th></th>\n",
       "      <th>y</th>\n",
       "    </tr>\n",
       "  </thead>\n",
       "  <tbody>\n",
       "    <tr>\n",
       "      <th>2011-01-01 10:29:06</th>\n",
       "      <td>42.826080</td>\n",
       "    </tr>\n",
       "    <tr>\n",
       "      <th>2011-02-01 10:29:06</th>\n",
       "      <td>43.186161</td>\n",
       "    </tr>\n",
       "    <tr>\n",
       "      <th>2011-03-01 10:29:06</th>\n",
       "      <td>43.546243</td>\n",
       "    </tr>\n",
       "    <tr>\n",
       "      <th>2011-04-01 10:29:06</th>\n",
       "      <td>43.906324</td>\n",
       "    </tr>\n",
       "    <tr>\n",
       "      <th>2011-05-01 10:29:06</th>\n",
       "      <td>44.266406</td>\n",
       "    </tr>\n",
       "  </tbody>\n",
       "</table>\n",
       "</div>"
      ],
      "text/plain": [
       "                             y\n",
       "2011-01-01 10:29:06  42.826080\n",
       "2011-02-01 10:29:06  43.186161\n",
       "2011-03-01 10:29:06  43.546243\n",
       "2011-04-01 10:29:06  43.906324\n",
       "2011-05-01 10:29:06  44.266406"
      ]
     },
     "execution_count": 116,
     "metadata": {},
     "output_type": "execute_result"
    }
   ],
   "source": [
    "# Строим точечный прогноз по уравнению тренда\n",
    "n = len(df)\n",
    "\n",
    "x = np.arange(48, 60)\n",
    "\n",
    "df_fv = pd.DataFrame({'y' : coef[0] * x + coef[1]}, index = pd.date_range(start = df.index[-1] + np.timedelta64(1, 'M'), \n",
    "                                    end   = df.index[-1] + np.timedelta64(13, 'M'), \n",
    "                                    freq  = 'MS'))\n",
    "df_fv.head()"
   ]
  },
  {
   "cell_type": "code",
   "execution_count": 118,
   "id": "unexpected-catch",
   "metadata": {},
   "outputs": [
    {
     "data": {
      "text/plain": [
       "2.056805546332881"
      ]
     },
     "execution_count": 118,
     "metadata": {},
     "output_type": "execute_result"
    }
   ],
   "source": [
    "variance = np.sum(np.power(df['y'] - df['y^'], 2)) / (n-1)\n",
    "sigma =np.power(variance,0.5)\n",
    "sigma"
   ]
  },
  {
   "cell_type": "code",
   "execution_count": 119,
   "id": "waiting-reason",
   "metadata": {},
   "outputs": [
    {
     "data": {
      "text/plain": [
       "[-2.0117405104757546, 2.0117405104757546]"
      ]
     },
     "execution_count": 119,
     "metadata": {},
     "output_type": "execute_result"
    }
   ],
   "source": [
    "from scipy.stats import t\n",
    "tstud=t.interval(0.95, len(df)-1)\n",
    "list(tstud)"
   ]
  },
  {
   "cell_type": "code",
   "execution_count": 120,
   "id": "phantom-remedy",
   "metadata": {},
   "outputs": [
    {
     "data": {
      "text/plain": [
       "-4.137759039729073"
      ]
     },
     "execution_count": 120,
     "metadata": {},
     "output_type": "execute_result"
    }
   ],
   "source": [
    "lower=list(tstud)[0]*sigma\n",
    "lower"
   ]
  },
  {
   "cell_type": "code",
   "execution_count": 121,
   "id": "twenty-banner",
   "metadata": {},
   "outputs": [
    {
     "data": {
      "text/plain": [
       "4.137759039729073"
      ]
     },
     "execution_count": 121,
     "metadata": {},
     "output_type": "execute_result"
    }
   ],
   "source": [
    "upper=list(tstud)[1]*sigma\n",
    "upper"
   ]
  },
  {
   "cell_type": "code",
   "execution_count": 122,
   "id": "everyday-valley",
   "metadata": {},
   "outputs": [],
   "source": [
    "df_fv['y-'] = df_fv['y'] + lower\n",
    "df_fv['y+'] = df_fv['y'] + upper"
   ]
  },
  {
   "cell_type": "code",
   "execution_count": 123,
   "id": "literary-glass",
   "metadata": {},
   "outputs": [
    {
     "data": {
      "image/png": "[encoded data removed]",
      "text/plain": [
       "<Figure size 864x504 with 1 Axes>"
      ]
     },
     "metadata": {
      "needs_background": "light"
     },
     "output_type": "display_data"
    }
   ],
   "source": [
    "fig, ax = plt.subplots(figsize = (12, 7))\n",
    "\n",
    "plt.title('Доверительные интервалы прогноза с вероятностью 0.95')\n",
    "plt.xlabel(df_index)\n",
    "plt.ylabel(df_columns[0])\n",
    "\n",
    "ax.plot(df_fv['y-'], color = 'green')\n",
    "ax.plot(df_fv['y'],  color = 'orange')\n",
    "ax.plot(df_fv['y+'], color = 'green')\n",
    "\n",
    "ax.plot(df['y'], marker = 'o', color = (0, 0, 0, 0), markerfacecolor = 'blue')\n",
    "ax.plot(df['y^'], color = 'orange')\n",
    "\n",
    "ax.xaxis.set_major_locator(mpl.dates.YearLocator())\n",
    "ax.xaxis.set_major_formatter(mpl.dates.DateFormatter('%Y'))\n",
    "    \n",
    "plt.show()"
   ]
  },
  {
   "cell_type": "markdown",
   "id": "unable-quarter",
   "metadata": {},
   "source": [
    "# Способ 3"
   ]
  },
  {
   "cell_type": "markdown",
   "id": "usual-coverage",
   "metadata": {},
   "source": [
    "Предположим, что одна $\\textit{зависимая}$ переменная $Y$ определяется другими переменными, которые называются $\\textit{объясняющими}$ переменными (регрессорами). Математическая зависимость, связывающая эти переменные, называется $\\textit{моделью регрессии}.$ Мы допускаем, что модель регрессии имеет факт неточности - $\\textit{случайный}$ (остаточный) член.\n",
    "\n",
    "Такая модель имеет следующий вид:\n",
    "$$ Y_i = \\alpha + \\beta X_i + \\xi_i  $$\n",
    "\n",
    "$Y_i$ - значение зависимой переменной, $\\alpha$ и $\\beta$ - постоянные величины - параметры уравнения, $\\xi_i$ - случайный член.\n",
    "\n",
    "Задача регрессионого анализа состоит в получении оценок $\\alpha$ и $\\beta$ и, следовательно, в определении положения прямой по точкам $\\Leftrightarrow$ нужно посроить прямую, в наибольшей степени соответствующую этим точкам.\n",
    "\n",
    "$a$ - отсечение $Y$, ее оценка - $\\alpha$\n",
    "\n",
    "$b$ - угловой коэффициент, его оценка - $\\beta$\n",
    "\n",
    "Загрузим данные из исходного файла"
   ]
  },
  {
   "cell_type": "code",
   "execution_count": 131,
   "id": "forward-packing",
   "metadata": {},
   "outputs": [],
   "source": [
    "import numpy as np\n",
    "import pandas as pd\n",
    "import scipy\n",
    "\n",
    "%matplotlib inline\n",
    "from matplotlib import pyplot as plt"
   ]
  },
  {
   "cell_type": "code",
   "execution_count": 124,
   "id": "sacred-health",
   "metadata": {},
   "outputs": [
    {
     "data": {
      "text/html": [
       "<div>\n",
       "<style scoped>\n",
       "    .dataframe tbody tr th:only-of-type {\n",
       "        vertical-align: middle;\n",
       "    }\n",
       "\n",
       "    .dataframe tbody tr th {\n",
       "        vertical-align: top;\n",
       "    }\n",
       "\n",
       "    .dataframe thead th {\n",
       "        text-align: right;\n",
       "    }\n",
       "</style>\n",
       "<table border=\"1\" class=\"dataframe\">\n",
       "  <thead>\n",
       "    <tr style=\"text-align: right;\">\n",
       "      <th></th>\n",
       "      <th>Рыночные цены на материал 1 (руб.)</th>\n",
       "    </tr>\n",
       "    <tr>\n",
       "      <th>Дата</th>\n",
       "      <th></th>\n",
       "    </tr>\n",
       "  </thead>\n",
       "  <tbody>\n",
       "    <tr>\n",
       "      <th>2007-01-01</th>\n",
       "      <td>26.45</td>\n",
       "    </tr>\n",
       "    <tr>\n",
       "      <th>2007-02-01</th>\n",
       "      <td>23.89</td>\n",
       "    </tr>\n",
       "    <tr>\n",
       "      <th>2007-03-01</th>\n",
       "      <td>25.95</td>\n",
       "    </tr>\n",
       "    <tr>\n",
       "      <th>2007-04-01</th>\n",
       "      <td>30.03</td>\n",
       "    </tr>\n",
       "    <tr>\n",
       "      <th>2007-05-01</th>\n",
       "      <td>28.96</td>\n",
       "    </tr>\n",
       "  </tbody>\n",
       "</table>\n",
       "</div>"
      ],
      "text/plain": [
       "            Рыночные цены на материал 1 (руб.)\n",
       "Дата                                          \n",
       "2007-01-01                               26.45\n",
       "2007-02-01                               23.89\n",
       "2007-03-01                               25.95\n",
       "2007-04-01                               30.03\n",
       "2007-05-01                               28.96"
      ]
     },
     "execution_count": 124,
     "metadata": {},
     "output_type": "execute_result"
    }
   ],
   "source": [
    "from pandas import read_csv\n",
    "df = read_csv('task1.csv',parse_dates = True, index_col = 0,delimiter=';',decimal=',')\n",
    "df.head()"
   ]
  },
  {
   "cell_type": "code",
   "execution_count": 128,
   "id": "compact-custom",
   "metadata": {},
   "outputs": [
    {
     "data": {
      "text/html": [
       "<div>\n",
       "<style scoped>\n",
       "    .dataframe tbody tr th:only-of-type {\n",
       "        vertical-align: middle;\n",
       "    }\n",
       "\n",
       "    .dataframe tbody tr th {\n",
       "        vertical-align: top;\n",
       "    }\n",
       "\n",
       "    .dataframe thead th {\n",
       "        text-align: right;\n",
       "    }\n",
       "</style>\n",
       "<table border=\"1\" class=\"dataframe\">\n",
       "  <thead>\n",
       "    <tr style=\"text-align: right;\">\n",
       "      <th></th>\n",
       "      <th>y</th>\n",
       "    </tr>\n",
       "    <tr>\n",
       "      <th>date</th>\n",
       "      <th></th>\n",
       "    </tr>\n",
       "  </thead>\n",
       "  <tbody>\n",
       "    <tr>\n",
       "      <th>2007-01-01</th>\n",
       "      <td>26.45</td>\n",
       "    </tr>\n",
       "    <tr>\n",
       "      <th>2007-02-01</th>\n",
       "      <td>23.89</td>\n",
       "    </tr>\n",
       "    <tr>\n",
       "      <th>2007-03-01</th>\n",
       "      <td>25.95</td>\n",
       "    </tr>\n",
       "    <tr>\n",
       "      <th>2007-04-01</th>\n",
       "      <td>30.03</td>\n",
       "    </tr>\n",
       "    <tr>\n",
       "      <th>2007-05-01</th>\n",
       "      <td>28.96</td>\n",
       "    </tr>\n",
       "  </tbody>\n",
       "</table>\n",
       "</div>"
      ],
      "text/plain": [
       "                y\n",
       "date             \n",
       "2007-01-01  26.45\n",
       "2007-02-01  23.89\n",
       "2007-03-01  25.95\n",
       "2007-04-01  30.03\n",
       "2007-05-01  28.96"
      ]
     },
     "execution_count": 128,
     "metadata": {},
     "output_type": "execute_result"
    }
   ],
   "source": [
    "# Переименование столбцов\n",
    "df_columns, df.columns = df.columns, ('y', )\n",
    "df_index, df.index.name = df.index.name, 'date'\n",
    "df.head()"
   ]
  },
  {
   "cell_type": "code",
   "execution_count": 129,
   "id": "affected-speaking",
   "metadata": {},
   "outputs": [
    {
     "data": {
      "image/png": "[encoded data removed]",
      "text/plain": [
       "<Figure size 720x360 with 1 Axes>"
      ]
     },
     "metadata": {
      "needs_background": "light"
     },
     "output_type": "display_data"
    }
   ],
   "source": [
    "# Визуализация данных\n",
    "%matplotlib inline\n",
    "from matplotlib import pyplot as plt\n",
    "\n",
    "plt.figure(figsize=[10,5])\n",
    "plt.scatter(range(1,df.shape[0]+1), df.y)\n",
    "\n",
    "plt.show()"
   ]
  },
  {
   "cell_type": "markdown",
   "id": "dated-truck",
   "metadata": {},
   "source": [
    "<p><a name=\"MNK\"></a></p>\n",
    "\n",
    "## МНК"
   ]
  },
  {
   "cell_type": "markdown",
   "id": "initial-conspiracy",
   "metadata": {},
   "source": [
    "Пусть оцениваемая модель имеет вид: $$\\widehat{Y_i} = a+bX_i $$, \n",
    "где $\\widehat{Y_i}$ - оцененное значение $Y_i$. Наша задача заключается в том, чтобы выяснить, существут ли способы оценки коэффициентов $a,b$ алгебраическим путем.\n",
    "\n",
    "Введем обозначение: $$e_i = Y_i - \\widehat{Y_i} =Y_i - a - bX_i $$\n",
    "\n",
    "Остаток наблюдений зависит от выбора коэффициентов $a$ и $b$ $\\Rightarrow$ задача заключается в том, чтобы выбрать такие $a$ и $b$, при которых ошибки будут минимальными. Неправильно минимизировать сумму остатков, потому что при выборе выборочного среднего модели: $$\\sum e_i = 0 $$ \n",
    "\n",
    "Пусть у нас имеются $n$ наблюдений $(X_i,Y_i)$, $Y$ зависит от $X$ и мы хотим подобрать уравнение: $$\\widehat{Y_i} = a+bX_i$$\n",
    "\n",
    "Запишем формально нашу задачу в обозначениях метода наименьших квадратов (МНК):\n",
    "\n",
    "$$ S = \\sum (Y_i-\\widehat{Y_i})^2 = \\sum (Y_i - a - bX_i)^2 \\to min $$\n",
    "\n",
    "Нашей задачей будет аппроксимация функции для исходных данных, обозначенных на рисунке точками."
   ]
  },
  {
   "cell_type": "markdown",
   "id": "driven-harris",
   "metadata": {},
   "source": [
    "Для подбора коэффициентов воспользуемся моделью линейной регрессии, реализованной в пакете `sklearn`"
   ]
  },
  {
   "cell_type": "code",
   "execution_count": 130,
   "id": "decreased-permission",
   "metadata": {},
   "outputs": [],
   "source": [
    "from sklearn.linear_model import LinearRegression\n",
    "model = LinearRegression()"
   ]
  },
  {
   "cell_type": "markdown",
   "id": "forty-peninsula",
   "metadata": {},
   "source": [
    "Поставим в соответствие индексу его порядковый номер, начиная с единицы. Эти значения будут являться координатами точек по $X$."
   ]
  },
  {
   "cell_type": "code",
   "execution_count": 132,
   "id": "accompanied-climb",
   "metadata": {},
   "outputs": [
    {
     "data": {
      "text/plain": [
       "array([[1],\n",
       "       [2],\n",
       "       [3],\n",
       "       [4],\n",
       "       [5]])"
      ]
     },
     "execution_count": 132,
     "metadata": {},
     "output_type": "execute_result"
    }
   ],
   "source": [
    "X = np.array(range(1,df.shape[0]+1)).reshape(df.shape[0],1)\n",
    "X[0:5]"
   ]
  },
  {
   "cell_type": "markdown",
   "id": "representative-russian",
   "metadata": {},
   "source": [
    "Значениями по оси $Y$ будут являться значения столбца `df.y`"
   ]
  },
  {
   "cell_type": "code",
   "execution_count": 134,
   "id": "surrounded-yorkshire",
   "metadata": {},
   "outputs": [
    {
     "data": {
      "text/plain": [
       "array([26.45, 23.89, 25.95, 30.03, 28.96, 25.58, 25.96, 30.56, 29.67,\n",
       "       30.46, 28.6 , 31.73, 28.  , 33.99, 27.87, 34.49, 32.22, 34.56,\n",
       "       29.87, 31.09, 30.06, 34.21, 31.57, 31.18, 33.85, 38.27, 35.92,\n",
       "       34.01, 36.  , 36.2 , 37.5 , 39.62, 39.51, 35.49, 39.69, 37.74,\n",
       "       36.08, 39.68, 37.36, 39.21, 39.43, 43.5 , 40.75, 42.84, 38.01,\n",
       "       45.18, 42.49, 44.2 ])"
      ]
     },
     "execution_count": 134,
     "metadata": {},
     "output_type": "execute_result"
    }
   ],
   "source": [
    "y = df.y.values\n",
    "y"
   ]
  },
  {
   "cell_type": "markdown",
   "id": "naughty-hearing",
   "metadata": {},
   "source": [
    "Обучим нашу модель, модель подберет коэффициенты"
   ]
  },
  {
   "cell_type": "code",
   "execution_count": 135,
   "id": "danish-reducing",
   "metadata": {},
   "outputs": [
    {
     "data": {
      "text/plain": [
       "LinearRegression()"
      ]
     },
     "execution_count": 135,
     "metadata": {},
     "output_type": "execute_result"
    }
   ],
   "source": [
    "assert len(X)==len(y)\n",
    "model.fit(X, y)"
   ]
  },
  {
   "cell_type": "markdown",
   "id": "bizarre-alias",
   "metadata": {},
   "source": [
    "Угловой коэффициент линейной регрессии $b$ равен:"
   ]
  },
  {
   "cell_type": "code",
   "execution_count": 136,
   "id": "abroad-drawing",
   "metadata": {},
   "outputs": [
    {
     "data": {
      "text/plain": [
       "array([0.36008142])"
      ]
     },
     "execution_count": 136,
     "metadata": {},
     "output_type": "execute_result"
    }
   ],
   "source": [
    "coefs = model.coef_\n",
    "coefs"
   ]
  },
  {
   "cell_type": "markdown",
   "id": "golden-horizontal",
   "metadata": {},
   "source": [
    "А отсечение по $Y$, т.е. коэффициент $a$:"
   ]
  },
  {
   "cell_type": "code",
   "execution_count": 137,
   "id": "split-sullivan",
   "metadata": {},
   "outputs": [
    {
     "data": {
      "text/plain": [
       "25.542171985815607"
      ]
     },
     "execution_count": 137,
     "metadata": {},
     "output_type": "execute_result"
    }
   ],
   "source": [
    "const = model.intercept_\n",
    "const"
   ]
  },
  {
   "cell_type": "markdown",
   "id": "allied-memorial",
   "metadata": {},
   "source": [
    "Следовательно, уравнение полученной нами модели по методу наименьших квадратов равно:\n",
    "$$\\widehat{Y_i} = 25.54+0.36X_i $$ "
   ]
  },
  {
   "cell_type": "code",
   "execution_count": 138,
   "id": "becoming-apartment",
   "metadata": {},
   "outputs": [
    {
     "data": {
      "text/plain": [
       "array([25.9022534 , 26.26233482, 26.62241623, 26.98249765, 27.34257906])"
      ]
     },
     "execution_count": 138,
     "metadata": {},
     "output_type": "execute_result"
    }
   ],
   "source": [
    "# Расчетные значения по модели\n",
    "y_pred = model.predict(X) \n",
    "y_pred[0:5]"
   ]
  },
  {
   "cell_type": "code",
   "execution_count": 139,
   "id": "developing-outline",
   "metadata": {},
   "outputs": [
    {
     "data": {
      "image/png": "[encoded data removed]",
      "text/plain": [
       "<Figure size 720x360 with 1 Axes>"
      ]
     },
     "metadata": {
      "needs_background": "light"
     },
     "output_type": "display_data"
    }
   ],
   "source": [
    "plt.figure(figsize=[10,5])\n",
    "plt.scatter(range(1,df.shape[0]+1), df.y)\n",
    "plt.plot(X,y_pred)\n",
    "\n",
    "plt.show()"
   ]
  },
  {
   "cell_type": "markdown",
   "id": "public-administration",
   "metadata": {},
   "source": [
    "<p><a name=\"hats\"></a></p>\n",
    "\n",
    "## Оценки качества моделей"
   ]
  },
  {
   "cell_type": "markdown",
   "id": "handed-vacation",
   "metadata": {},
   "source": [
    "Цель регрессии - объяснение поведения $Y$. Разброс значений $Y$ можно описать с помощью суммы квадратов отклонений от выборочного среднего.\n",
    "$$ \\sum (Y - \\overline{Y})^2 $$\n",
    "\n",
    "Все показатели корреляции основаны на правиле сложения дисперсий $\\Rightarrow$ можно разложить $\\textbf{общую сумму квадратов отклонений } $ переменной $Y$ от среднего значения $\\overline{Y}$ на две части - $\\textbf{\"объясненную\"}$ сумму квадратов и $\\textbf{\"необъясненную\"}$. \n",
    "$$\\sum (Y - \\overline{Y})^2 = \\sum (\\widehat{Y}-\\overline{Y})^2 + \\sum (Y - \\widehat{Y})^2 $$\n",
    "\n",
    "Данное равенство можно переписать как:\n",
    "$$SS_T = SS_R + SS_E $$\n",
    "\n",
    "где: \n",
    "\n",
    "$SS_T  = \\sum (Y - \\overline{Y})^2 $  - общая сумма квадратов отклонений $\\textit{(total sum of squares)}$\n",
    "\n",
    "$SS_R = \\sum (\\widehat{Y}-\\overline{Y})^2 $ - $\\textbf{сумма квадратов отклонений, объясненная}$ регрессией, $\\textbf{факторная сумма}$ $\\textit{(sum of square due to regression)}$\n",
    "\n",
    "$SS_E = \\sum (Y - \\widehat{Y})^2  = \\sum e_i^2 $ - $\\textbf{остаточная сумма}$ квадратов отклонений,\n",
    "$\\textit{(sum of square due to error)}$.\n",
    "\n",
    "Введем $\\textbf{коэффициент детерминации}$:\n",
    "$$ R^2 = r^2 = \\frac{\\sigma_{y,obyasn}^2}{\\sigma_{y,obch}^2} = \\frac{SS_R}{SS_T} = 1 - \\frac{SS_E}{SS_T} = 1 - \\frac{\\sum (Y - \\widehat{Y})^2}{\\sum (Y - \\overline{Y})^2} $$\n",
    "$$ R^2 = \\frac{\\sum (\\widehat{Y}-\\overline{Y})^2}{\\sum (Y - \\overline{Y})^2} = 1 - \\frac{\\sum (Y - \\hat{Y})^2}{\\sum (Y - \\overline{Y})^2}  $$\n",
    "\n",
    "$\\textbf{Коэффициент детерминации}$- обобщающий показатель оценки качества построенного уравнения регрессии."
   ]
  },
  {
   "cell_type": "code",
   "execution_count": 140,
   "id": "instructional-animal",
   "metadata": {},
   "outputs": [
    {
     "data": {
      "text/plain": [
       "1393.2463666666667"
      ]
     },
     "execution_count": 140,
     "metadata": {},
     "output_type": "execute_result"
    }
   ],
   "source": [
    "sst = (np.array([y-y.mean()])**2).sum()\n",
    "sst"
   ]
  },
  {
   "cell_type": "code",
   "execution_count": 141,
   "id": "loving-composition",
   "metadata": {},
   "outputs": [
    {
     "data": {
      "text/plain": [
       "198.83110560500796"
      ]
     },
     "execution_count": 141,
     "metadata": {},
     "output_type": "execute_result"
    }
   ],
   "source": [
    "sse = (np.array([y-y_pred])**2).sum()\n",
    "sse"
   ]
  },
  {
   "cell_type": "code",
   "execution_count": 142,
   "id": "successful-genre",
   "metadata": {},
   "outputs": [
    {
     "data": {
      "text/plain": [
       "1194.4152610616584"
      ]
     },
     "execution_count": 142,
     "metadata": {},
     "output_type": "execute_result"
    }
   ],
   "source": [
    "ssr = (np.array([y_pred-y.mean()])**2).sum()\n",
    "ssr"
   ]
  },
  {
   "cell_type": "code",
   "execution_count": 143,
   "id": "humanitarian-garbage",
   "metadata": {},
   "outputs": [
    {
     "data": {
      "text/plain": [
       "0.857289342099122"
      ]
     },
     "execution_count": 143,
     "metadata": {},
     "output_type": "execute_result"
    }
   ],
   "source": [
    "R2 = 1 - sse/sst\n",
    "R2"
   ]
  },
  {
   "cell_type": "markdown",
   "id": "remarkable-solomon",
   "metadata": {},
   "source": [
    "Для оценки модели вводятся дополнительные коэффициенты оценок качества:\n",
    "\n",
    "$\\textit{Средняя ошибка аппроксимации}$ (mean absolute percentage error) определяется по формуле:\n",
    "\n",
    "$$ \\text{MAPE} = \\frac{\\sum \\left| \\frac{Y_i - \\widehat{Y_i}}{Y_i} \\right | \\cdot 100\\%} {n}  $$"
   ]
  },
  {
   "cell_type": "code",
   "execution_count": 144,
   "id": "generous-greenhouse",
   "metadata": {},
   "outputs": [
    {
     "data": {
      "text/plain": [
       "5.2563250763316836"
      ]
     },
     "execution_count": 144,
     "metadata": {},
     "output_type": "execute_result"
    }
   ],
   "source": [
    "MAPE = abs([y-y_pred]/y_pred).sum()*100/len(y)\n",
    "MAPE"
   ]
  },
  {
   "cell_type": "markdown",
   "id": "chubby-filling",
   "metadata": {},
   "source": [
    "Вычислим среднеквадратичную ошибку вычислений"
   ]
  },
  {
   "cell_type": "code",
   "execution_count": 145,
   "id": "broadband-stretch",
   "metadata": {},
   "outputs": [
    {
     "data": {
      "text/plain": [
       "4.142314700104333"
      ]
     },
     "execution_count": 145,
     "metadata": {},
     "output_type": "execute_result"
    }
   ],
   "source": [
    "from sklearn.metrics import mean_squared_error\n",
    "mean_squared_error(y_pred,y)"
   ]
  },
  {
   "cell_type": "markdown",
   "id": "binary-police",
   "metadata": {},
   "source": [
    "<p><a name=\"Intervals\"></a></p>\n",
    "\n",
    "# Построение интервального прогноза"
   ]
  },
  {
   "cell_type": "markdown",
   "id": "classified-receptor",
   "metadata": {},
   "source": [
    "$$\\frac{\\hat{Y_i}-Y_i}{\\sigma} \\sim T(n) $$ \n",
    "где $$\\sigma^2 = \\frac{\\sum_{i=1}^{n}(Y_i-\\hat{Y_i})^2}{n} $$\n",
    "-выборочная смещенная дисперсия\n",
    "$$ P(-T_{n,\\alpha} < \\frac{\\hat{Y_i}-Y_i}{\\sigma} < T_{n,\\alpha} ) = \\alpha $$\n",
    "$$ \\left (\\hat{Y_i} -T_{n,\\alpha}\\cdot \\sigma \\leq Y_i \\leq \\hat{Y_i} +T_{n,\\alpha}\\cdot \\sigma \\right ) $$"
   ]
  },
  {
   "cell_type": "code",
   "execution_count": 147,
   "id": "photographic-reaction",
   "metadata": {},
   "outputs": [
    {
     "data": {
      "text/plain": [
       "array([[48],\n",
       "       [49],\n",
       "       [50],\n",
       "       [51],\n",
       "       [52],\n",
       "       [53],\n",
       "       [54],\n",
       "       [55],\n",
       "       [56],\n",
       "       [57],\n",
       "       [58],\n",
       "       [59],\n",
       "       [60]])"
      ]
     },
     "execution_count": 147,
     "metadata": {},
     "output_type": "execute_result"
    }
   ],
   "source": [
    "# Прознозное значение X\n",
    "x_test = np.array(range(48,61)).reshape(13,1)\n",
    "x_test"
   ]
  },
  {
   "cell_type": "code",
   "execution_count": 148,
   "id": "therapeutic-vulnerability",
   "metadata": {},
   "outputs": [
    {
     "data": {
      "text/plain": [
       "array([42.82607993, 43.18616135, 43.54624276, 43.90632418, 44.26640559])"
      ]
     },
     "execution_count": 148,
     "metadata": {},
     "output_type": "execute_result"
    }
   ],
   "source": [
    "# Прознозное значение y (точечный прогноз)\n",
    "y_test = model.predict(x_test)\n",
    "y_test[0:5]"
   ]
  },
  {
   "cell_type": "code",
   "execution_count": 149,
   "id": "suburban-creek",
   "metadata": {},
   "outputs": [],
   "source": [
    "from scipy.stats import t as student"
   ]
  },
  {
   "cell_type": "code",
   "execution_count": 150,
   "id": "qualified-musician",
   "metadata": {},
   "outputs": [
    {
     "data": {
      "text/plain": [
       "4.142314700104333"
      ]
     },
     "execution_count": 150,
     "metadata": {},
     "output_type": "execute_result"
    }
   ],
   "source": [
    "sigma_error = sse / len(y)\n",
    "sigma_error"
   ]
  },
  {
   "cell_type": "code",
   "execution_count": 153,
   "id": "entitled-firmware",
   "metadata": {},
   "outputs": [],
   "source": [
    "import math\n",
    "y_up = y_test+student.ppf(0.95, len(x_test))*math.sqrt(sigma_error)\n",
    "y_down =y_test-student.ppf(0.95, len(x_test))*math.sqrt(sigma_error)"
   ]
  },
  {
   "cell_type": "code",
   "execution_count": 157,
   "id": "western-sally",
   "metadata": {},
   "outputs": [
    {
     "data": {
      "image/png": "[encoded data removed]",
      "text/plain": [
       "<Figure size 1080x720 with 1 Axes>"
      ]
     },
     "metadata": {
      "needs_background": "light"
     },
     "output_type": "display_data"
    }
   ],
   "source": [
    "plt.figure(figsize=[15,10])\n",
    "plt.scatter(range(1,df.shape[0]+1), df.y)\n",
    "plt.plot(X,y_pred)\n",
    "plt.plot(x_test,y_test)\n",
    "plt.plot(x_test,y_up)\n",
    "plt.plot(x_test,y_down)\n",
    "plt.legend(['модель регрессии','прогноз','верхняя граница дов.интервала' ,\\\n",
    "            'нижняя граница дов.интервала через mean square error'])\n",
    "\n",
    "plt.show()"
   ]
  },
  {
   "cell_type": "code",
   "execution_count": 162,
   "id": "wired-volleyball",
   "metadata": {},
   "outputs": [],
   "source": []
  },
  {
   "cell_type": "code",
   "execution_count": null,
   "id": "ruled-weekend",
   "metadata": {},
   "outputs": [],
   "source": []
  }
 ],
 "metadata": {
  "kernelspec": {
   "display_name": "Python 3",
   "language": "python",
   "name": "python3"
  },
  "language_info": {
   "codemirror_mode": {
    "name": "ipython",
    "version": 3
   },
   "file_extension": ".py",
   "mimetype": "text/x-python",
   "name": "python",
   "nbconvert_exporter": "python",
   "pygments_lexer": "ipython3",
   "version": "3.7.4"
  }
 },
 "nbformat": 4,
 "nbformat_minor": 5
}
