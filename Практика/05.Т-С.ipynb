{
 "cells": [
  {
   "cell_type": "markdown",
   "id": "fifty-poster",
   "metadata": {},
   "source": [
    "# ЗАДАНИЕ 5. ПОСТРОЕНИЕ ТРЕНД-СЕЗОННЫХ МОДЕЛЕЙ"
   ]
  },
  {
   "cell_type": "code",
   "execution_count": 1,
   "id": "crucial-photography",
   "metadata": {
    "tags": []
   },
   "outputs": [],
   "source": [
    "import os\n",
    "import pandas as pd \n",
    "import numpy as np\n",
    "from sklearn.metrics import r2_score, mean_absolute_error, mean_squared_error\n",
    "from scipy.stats import linregress\n",
    "from math import sqrt\n",
    "from statsmodels.graphics.gofplots import qqplot\n",
    "import matplotlib.pyplot as plt\n",
    "from statsmodels.stats.stattools import durbin_watson\n",
    "from pandas.plotting import autocorrelation_plot\n",
    "import scipy.stats\n",
    "import seaborn as sns\n",
    "from scipy.stats import t as student\n",
    "from pandas import Grouper\n",
    "from statsmodels.tsa.seasonal import seasonal_decompose"
   ]
  },
  {
   "cell_type": "code",
   "execution_count": 2,
   "id": "intimate-diana",
   "metadata": {},
   "outputs": [],
   "source": [
    "os.chdir(\"C:/Users/HP/Documents/analysis/TS/data/\")"
   ]
  },
  {
   "cell_type": "code",
   "execution_count": 3,
   "id": "useful-response",
   "metadata": {},
   "outputs": [
    {
     "data": {
      "text/html": [
       "<div>\n",
       "<style scoped>\n",
       "    .dataframe tbody tr th:only-of-type {\n",
       "        vertical-align: middle;\n",
       "    }\n",
       "\n",
       "    .dataframe tbody tr th {\n",
       "        vertical-align: top;\n",
       "    }\n",
       "\n",
       "    .dataframe thead th {\n",
       "        text-align: right;\n",
       "    }\n",
       "</style>\n",
       "<table border=\"1\" class=\"dataframe\">\n",
       "  <thead>\n",
       "    <tr style=\"text-align: right;\">\n",
       "      <th></th>\n",
       "      <th>Unnamed: 0</th>\n",
       "      <th>Unnamed: 1</th>\n",
       "      <th>Рыночные цены на материал 2 (руб.)</th>\n",
       "      <th>Unnamed: 3</th>\n",
       "      <th>Unnamed: 4</th>\n",
       "      <th>Unnamed: 5</th>\n",
       "      <th>Unnamed: 6</th>\n",
       "      <th>Unnamed: 7</th>\n",
       "      <th>Unnamed: 8</th>\n",
       "      <th>Unnamed: 9</th>\n",
       "      <th>...</th>\n",
       "      <th>Unnamed: 40</th>\n",
       "      <th>Unnamed: 41</th>\n",
       "      <th>Unnamed: 42</th>\n",
       "      <th>Unnamed: 43</th>\n",
       "      <th>Unnamed: 44</th>\n",
       "      <th>Unnamed: 45</th>\n",
       "      <th>Unnamed: 46</th>\n",
       "      <th>Unnamed: 47</th>\n",
       "      <th>Unnamed: 48</th>\n",
       "      <th>Unnamed: 49</th>\n",
       "    </tr>\n",
       "  </thead>\n",
       "  <tbody>\n",
       "    <tr>\n",
       "      <th>0</th>\n",
       "      <td>NaN</td>\n",
       "      <td>NaN</td>\n",
       "      <td>2007-01-01 00:00:00</td>\n",
       "      <td>2007-02-01 00:00:00</td>\n",
       "      <td>2007-03-01 00:00:00</td>\n",
       "      <td>2007-04-01 00:00:00</td>\n",
       "      <td>2007-05-01 00:00:00</td>\n",
       "      <td>2007-06-01 00:00:00</td>\n",
       "      <td>2007-07-01 00:00:00</td>\n",
       "      <td>2007-08-01 00:00:00</td>\n",
       "      <td>...</td>\n",
       "      <td>2010-03-01 00:00:00</td>\n",
       "      <td>2010-04-01 00:00:00</td>\n",
       "      <td>2010-05-01 00:00:00</td>\n",
       "      <td>2010-06-01 00:00:00</td>\n",
       "      <td>2010-07-01 00:00:00</td>\n",
       "      <td>2010-08-01 00:00:00</td>\n",
       "      <td>2010-09-01 00:00:00</td>\n",
       "      <td>2010-10-01 00:00:00</td>\n",
       "      <td>2010-11-01 00:00:00</td>\n",
       "      <td>2010-12-01 00:00:00</td>\n",
       "    </tr>\n",
       "    <tr>\n",
       "      <th>1</th>\n",
       "      <td>№ организации</td>\n",
       "      <td>1.0</td>\n",
       "      <td>4.22</td>\n",
       "      <td>3.99</td>\n",
       "      <td>4.05</td>\n",
       "      <td>4.34</td>\n",
       "      <td>4.63</td>\n",
       "      <td>4.76</td>\n",
       "      <td>5.09</td>\n",
       "      <td>5.13</td>\n",
       "      <td>...</td>\n",
       "      <td>3.81</td>\n",
       "      <td>4.03</td>\n",
       "      <td>4.13</td>\n",
       "      <td>4.4</td>\n",
       "      <td>4.66</td>\n",
       "      <td>4.79</td>\n",
       "      <td>4.57</td>\n",
       "      <td>4.4</td>\n",
       "      <td>4.26</td>\n",
       "      <td>3.82</td>\n",
       "    </tr>\n",
       "    <tr>\n",
       "      <th>2</th>\n",
       "      <td>NaN</td>\n",
       "      <td>2.0</td>\n",
       "      <td>4</td>\n",
       "      <td>4.14</td>\n",
       "      <td>4.43</td>\n",
       "      <td>4.79</td>\n",
       "      <td>5.1</td>\n",
       "      <td>5.17</td>\n",
       "      <td>5.12</td>\n",
       "      <td>4.89</td>\n",
       "      <td>...</td>\n",
       "      <td>4.87</td>\n",
       "      <td>5.19</td>\n",
       "      <td>5.29</td>\n",
       "      <td>5.46</td>\n",
       "      <td>5.45</td>\n",
       "      <td>5.15</td>\n",
       "      <td>4.94</td>\n",
       "      <td>4.6</td>\n",
       "      <td>4.41</td>\n",
       "      <td>4.35</td>\n",
       "    </tr>\n",
       "    <tr>\n",
       "      <th>3</th>\n",
       "      <td>NaN</td>\n",
       "      <td>3.0</td>\n",
       "      <td>3.9</td>\n",
       "      <td>3.74</td>\n",
       "      <td>3.9</td>\n",
       "      <td>4.13</td>\n",
       "      <td>4.31</td>\n",
       "      <td>4.66</td>\n",
       "      <td>4.76</td>\n",
       "      <td>4.85</td>\n",
       "      <td>...</td>\n",
       "      <td>4.23</td>\n",
       "      <td>4.48</td>\n",
       "      <td>4.71</td>\n",
       "      <td>5.05</td>\n",
       "      <td>5.21</td>\n",
       "      <td>5.21</td>\n",
       "      <td>5.19</td>\n",
       "      <td>5.08</td>\n",
       "      <td>4.77</td>\n",
       "      <td>4.53</td>\n",
       "    </tr>\n",
       "    <tr>\n",
       "      <th>4</th>\n",
       "      <td>NaN</td>\n",
       "      <td>4.0</td>\n",
       "      <td>3.64</td>\n",
       "      <td>3.94</td>\n",
       "      <td>4.09</td>\n",
       "      <td>4.73</td>\n",
       "      <td>5</td>\n",
       "      <td>5.46</td>\n",
       "      <td>5.46</td>\n",
       "      <td>5.41</td>\n",
       "      <td>...</td>\n",
       "      <td>4.23</td>\n",
       "      <td>4.55</td>\n",
       "      <td>5.1</td>\n",
       "      <td>5.41</td>\n",
       "      <td>5.62</td>\n",
       "      <td>5.36</td>\n",
       "      <td>5.05</td>\n",
       "      <td>4.54</td>\n",
       "      <td>4.24</td>\n",
       "      <td>3.83</td>\n",
       "    </tr>\n",
       "  </tbody>\n",
       "</table>\n",
       "<p>5 rows × 50 columns</p>\n",
       "</div>"
      ],
      "text/plain": [
       "      Unnamed: 0  Unnamed: 1 Рыночные цены на материал 2 (руб.)  \\\n",
       "0            NaN         NaN                2007-01-01 00:00:00   \n",
       "1  № организации         1.0                               4.22   \n",
       "2            NaN         2.0                                  4   \n",
       "3            NaN         3.0                                3.9   \n",
       "4            NaN         4.0                               3.64   \n",
       "\n",
       "            Unnamed: 3           Unnamed: 4           Unnamed: 5  \\\n",
       "0  2007-02-01 00:00:00  2007-03-01 00:00:00  2007-04-01 00:00:00   \n",
       "1                 3.99                 4.05                 4.34   \n",
       "2                 4.14                 4.43                 4.79   \n",
       "3                 3.74                  3.9                 4.13   \n",
       "4                 3.94                 4.09                 4.73   \n",
       "\n",
       "            Unnamed: 6           Unnamed: 7           Unnamed: 8  \\\n",
       "0  2007-05-01 00:00:00  2007-06-01 00:00:00  2007-07-01 00:00:00   \n",
       "1                 4.63                 4.76                 5.09   \n",
       "2                  5.1                 5.17                 5.12   \n",
       "3                 4.31                 4.66                 4.76   \n",
       "4                    5                 5.46                 5.46   \n",
       "\n",
       "            Unnamed: 9  ...          Unnamed: 40          Unnamed: 41  \\\n",
       "0  2007-08-01 00:00:00  ...  2010-03-01 00:00:00  2010-04-01 00:00:00   \n",
       "1                 5.13  ...                 3.81                 4.03   \n",
       "2                 4.89  ...                 4.87                 5.19   \n",
       "3                 4.85  ...                 4.23                 4.48   \n",
       "4                 5.41  ...                 4.23                 4.55   \n",
       "\n",
       "           Unnamed: 42          Unnamed: 43          Unnamed: 44  \\\n",
       "0  2010-05-01 00:00:00  2010-06-01 00:00:00  2010-07-01 00:00:00   \n",
       "1                 4.13                  4.4                 4.66   \n",
       "2                 5.29                 5.46                 5.45   \n",
       "3                 4.71                 5.05                 5.21   \n",
       "4                  5.1                 5.41                 5.62   \n",
       "\n",
       "           Unnamed: 45          Unnamed: 46          Unnamed: 47  \\\n",
       "0  2010-08-01 00:00:00  2010-09-01 00:00:00  2010-10-01 00:00:00   \n",
       "1                 4.79                 4.57                  4.4   \n",
       "2                 5.15                 4.94                  4.6   \n",
       "3                 5.21                 5.19                 5.08   \n",
       "4                 5.36                 5.05                 4.54   \n",
       "\n",
       "           Unnamed: 48          Unnamed: 49  \n",
       "0  2010-11-01 00:00:00  2010-12-01 00:00:00  \n",
       "1                 4.26                 3.82  \n",
       "2                 4.41                 4.35  \n",
       "3                 4.77                 4.53  \n",
       "4                 4.24                 3.83  \n",
       "\n",
       "[5 rows x 50 columns]"
      ]
     },
     "execution_count": 3,
     "metadata": {},
     "output_type": "execute_result"
    }
   ],
   "source": [
    "data = pd.read_excel('data.xls', sheet_name='Material 2')\n",
    "data.head()"
   ]
  },
  {
   "cell_type": "code",
   "execution_count": 4,
   "id": "strong-illness",
   "metadata": {},
   "outputs": [],
   "source": [
    "dates = data.loc[data.index == 0].values[0, 2:]\n",
    "val = data.loc[data.index == 1].values[0, 2:]"
   ]
  },
  {
   "cell_type": "code",
   "execution_count": 5,
   "id": "clinical-execution",
   "metadata": {},
   "outputs": [],
   "source": [
    "data={\"Date\": dates, \"Value\": val}"
   ]
  },
  {
   "cell_type": "code",
   "execution_count": 6,
   "id": "furnished-sudan",
   "metadata": {},
   "outputs": [
    {
     "data": {
      "text/html": [
       "<div>\n",
       "<style scoped>\n",
       "    .dataframe tbody tr th:only-of-type {\n",
       "        vertical-align: middle;\n",
       "    }\n",
       "\n",
       "    .dataframe tbody tr th {\n",
       "        vertical-align: top;\n",
       "    }\n",
       "\n",
       "    .dataframe thead th {\n",
       "        text-align: right;\n",
       "    }\n",
       "</style>\n",
       "<table border=\"1\" class=\"dataframe\">\n",
       "  <thead>\n",
       "    <tr style=\"text-align: right;\">\n",
       "      <th></th>\n",
       "      <th>Date</th>\n",
       "      <th>Value</th>\n",
       "    </tr>\n",
       "  </thead>\n",
       "  <tbody>\n",
       "    <tr>\n",
       "      <th>0</th>\n",
       "      <td>2007-01-01</td>\n",
       "      <td>4.22</td>\n",
       "    </tr>\n",
       "    <tr>\n",
       "      <th>1</th>\n",
       "      <td>2007-02-01</td>\n",
       "      <td>3.99</td>\n",
       "    </tr>\n",
       "    <tr>\n",
       "      <th>2</th>\n",
       "      <td>2007-03-01</td>\n",
       "      <td>4.05</td>\n",
       "    </tr>\n",
       "    <tr>\n",
       "      <th>3</th>\n",
       "      <td>2007-04-01</td>\n",
       "      <td>4.34</td>\n",
       "    </tr>\n",
       "    <tr>\n",
       "      <th>4</th>\n",
       "      <td>2007-05-01</td>\n",
       "      <td>4.63</td>\n",
       "    </tr>\n",
       "  </tbody>\n",
       "</table>\n",
       "</div>"
      ],
      "text/plain": [
       "        Date Value\n",
       "0 2007-01-01  4.22\n",
       "1 2007-02-01  3.99\n",
       "2 2007-03-01  4.05\n",
       "3 2007-04-01  4.34\n",
       "4 2007-05-01  4.63"
      ]
     },
     "execution_count": 6,
     "metadata": {},
     "output_type": "execute_result"
    }
   ],
   "source": [
    "my_data = pd.DataFrame(data)\n",
    "my_data.head()"
   ]
  },
  {
   "cell_type": "code",
   "execution_count": 7,
   "id": "historic-newfoundland",
   "metadata": {},
   "outputs": [
    {
     "data": {
      "text/html": [
       "<div>\n",
       "<style scoped>\n",
       "    .dataframe tbody tr th:only-of-type {\n",
       "        vertical-align: middle;\n",
       "    }\n",
       "\n",
       "    .dataframe tbody tr th {\n",
       "        vertical-align: top;\n",
       "    }\n",
       "\n",
       "    .dataframe thead th {\n",
       "        text-align: right;\n",
       "    }\n",
       "</style>\n",
       "<table border=\"1\" class=\"dataframe\">\n",
       "  <thead>\n",
       "    <tr style=\"text-align: right;\">\n",
       "      <th></th>\n",
       "      <th>Value</th>\n",
       "    </tr>\n",
       "    <tr>\n",
       "      <th>Date</th>\n",
       "      <th></th>\n",
       "    </tr>\n",
       "  </thead>\n",
       "  <tbody>\n",
       "    <tr>\n",
       "      <th>2007-01-01</th>\n",
       "      <td>4.22</td>\n",
       "    </tr>\n",
       "    <tr>\n",
       "      <th>2007-02-01</th>\n",
       "      <td>3.99</td>\n",
       "    </tr>\n",
       "    <tr>\n",
       "      <th>2007-03-01</th>\n",
       "      <td>4.05</td>\n",
       "    </tr>\n",
       "    <tr>\n",
       "      <th>2007-04-01</th>\n",
       "      <td>4.34</td>\n",
       "    </tr>\n",
       "    <tr>\n",
       "      <th>2007-05-01</th>\n",
       "      <td>4.63</td>\n",
       "    </tr>\n",
       "  </tbody>\n",
       "</table>\n",
       "</div>"
      ],
      "text/plain": [
       "           Value\n",
       "Date            \n",
       "2007-01-01  4.22\n",
       "2007-02-01  3.99\n",
       "2007-03-01  4.05\n",
       "2007-04-01  4.34\n",
       "2007-05-01  4.63"
      ]
     },
     "execution_count": 7,
     "metadata": {},
     "output_type": "execute_result"
    }
   ],
   "source": [
    "my_data=my_data.set_index('Date')\n",
    "my_data.head()"
   ]
  },
  {
   "cell_type": "code",
   "execution_count": 8,
   "id": "exterior-membrane",
   "metadata": {},
   "outputs": [
    {
     "name": "stdout",
     "output_type": "stream",
     "text": [
      "<class 'pandas.core.frame.DataFrame'>\n",
      "DatetimeIndex: 48 entries, 2007-01-01 to 2010-12-01\n",
      "Data columns (total 1 columns):\n",
      " #   Column  Non-Null Count  Dtype \n",
      "---  ------  --------------  ----- \n",
      " 0   Value   48 non-null     object\n",
      "dtypes: object(1)\n",
      "memory usage: 768.0+ bytes\n"
     ]
    }
   ],
   "source": [
    "my_data.info()"
   ]
  },
  {
   "cell_type": "code",
   "execution_count": 9,
   "id": "empty-receptor",
   "metadata": {},
   "outputs": [],
   "source": [
    "my_data.Value=my_data.Value.astype(float)"
   ]
  },
  {
   "cell_type": "code",
   "execution_count": 10,
   "id": "visible-paper",
   "metadata": {},
   "outputs": [
    {
     "name": "stdout",
     "output_type": "stream",
     "text": [
      "<class 'pandas.core.frame.DataFrame'>\n",
      "DatetimeIndex: 48 entries, 2007-01-01 to 2010-12-01\n",
      "Data columns (total 1 columns):\n",
      " #   Column  Non-Null Count  Dtype  \n",
      "---  ------  --------------  -----  \n",
      " 0   Value   48 non-null     float64\n",
      "dtypes: float64(1)\n",
      "memory usage: 768.0 bytes\n"
     ]
    }
   ],
   "source": [
    "my_data.info()"
   ]
  },
  {
   "cell_type": "code",
   "execution_count": 11,
   "id": "indie-powder",
   "metadata": {},
   "outputs": [
    {
     "data": {
      "text/plain": [
       "pandas.core.series.Series"
      ]
     },
     "execution_count": 11,
     "metadata": {},
     "output_type": "execute_result"
    }
   ],
   "source": [
    "series=my_data.squeeze()\n",
    "type(series)"
   ]
  },
  {
   "cell_type": "code",
   "execution_count": 12,
   "id": "guided-thickness",
   "metadata": {},
   "outputs": [],
   "source": [
    "y = series.values"
   ]
  },
  {
   "cell_type": "code",
   "execution_count": 13,
   "id": "annoying-price",
   "metadata": {},
   "outputs": [
    {
     "data": {
      "text/plain": [
       "array([ 1,  2,  3,  4,  5,  6,  7,  8,  9, 10, 11, 12, 13, 14, 15, 16, 17,\n",
       "       18, 19, 20, 21, 22, 23, 24, 25, 26, 27, 28, 29, 30, 31, 32, 33, 34,\n",
       "       35, 36, 37, 38, 39, 40, 41, 42, 43, 44, 45, 46, 47, 48])"
      ]
     },
     "execution_count": 13,
     "metadata": {},
     "output_type": "execute_result"
    }
   ],
   "source": [
    "t = np.arange(1, len(y) + 1)\n",
    "t"
   ]
  },
  {
   "cell_type": "code",
   "execution_count": 14,
   "id": "advised-point",
   "metadata": {},
   "outputs": [
    {
     "data": {
      "image/png": "[encoded data removed]",
      "text/plain": [
       "<Figure size 432x288 with 1 Axes>"
      ]
     },
     "metadata": {
      "needs_background": "light"
     },
     "output_type": "display_data"
    }
   ],
   "source": [
    "sns.regplot(x=t, y=\"Value\", data=my_data);"
   ]
  },
  {
   "cell_type": "code",
   "execution_count": 15,
   "id": "eligible-communications",
   "metadata": {},
   "outputs": [
    {
     "data": {
      "image/png": "[encoded data removed]",
      "text/plain": [
       "<Figure size 720x432 with 1 Axes>"
      ]
     },
     "metadata": {
      "needs_background": "light"
     },
     "output_type": "display_data"
    }
   ],
   "source": [
    "fig, ax = plt.subplots(figsize = (10, 6))\n",
    "\n",
    "autocorrelation_plot(y, ax = ax, marker = '.')\n",
    "ax.xaxis.set_major_locator(plt.MultipleLocator(6))\n",
    "ax.set_xlim(0, 48)\n",
    "\n",
    "plt.show()"
   ]
  },
  {
   "cell_type": "code",
   "execution_count": 26,
   "id": "verified-earthquake",
   "metadata": {},
   "outputs": [
    {
     "name": "stdout",
     "output_type": "stream",
     "text": [
      "Observations: 48\n",
      "Training Observations: 36\n",
      "Testing Observations: 12\n"
     ]
    }
   ],
   "source": [
    "# calculate a train-test split of a time series dataset\n",
    "y = series.values\n",
    "train_size = 36\n",
    "y_train, y_test = y[0:train_size], y[train_size:len(y)]\n",
    "print('Observations: %d' % (len(y)))\n",
    "print('Training Observations: %d' % (len(y_train)))\n",
    "print('Testing Observations: %d' % (len(y_test)))"
   ]
  },
  {
   "cell_type": "code",
   "execution_count": 27,
   "id": "gross-bankruptcy",
   "metadata": {},
   "outputs": [
    {
     "data": {
      "text/plain": [
       "Date\n",
       "2007-01-01    4.22\n",
       "2007-02-01    3.99\n",
       "2007-03-01    4.05\n",
       "2007-04-01    4.34\n",
       "2007-05-01    4.63\n",
       "Name: Value, dtype: float64"
      ]
     },
     "execution_count": 27,
     "metadata": {},
     "output_type": "execute_result"
    }
   ],
   "source": [
    "series_train=series[0:train_size]\n",
    "series_train.head()"
   ]
  },
  {
   "cell_type": "code",
   "execution_count": 28,
   "id": "collectible-brooklyn",
   "metadata": {},
   "outputs": [
    {
     "name": "stdout",
     "output_type": "stream",
     "text": [
      "Date\n",
      "2007-01-01         NaN\n",
      "2007-02-01         NaN\n",
      "2007-03-01         NaN\n",
      "2007-04-01         NaN\n",
      "2007-05-01         NaN\n",
      "2007-06-01         NaN\n",
      "2007-07-01         NaN\n",
      "2007-08-01         NaN\n",
      "2007-09-01         NaN\n",
      "2007-10-01         NaN\n",
      "2007-11-01         NaN\n",
      "2007-12-01    4.568333\n",
      "2008-01-01    4.557500\n",
      "2008-02-01    4.561667\n",
      "2008-03-01    4.550833\n",
      "2008-04-01    4.545833\n",
      "2008-05-01    4.531667\n",
      "2008-06-01    4.537500\n",
      "2008-07-01    4.521667\n",
      "2008-08-01    4.510000\n",
      "Name: Value, dtype: float64\n"
     ]
    },
    {
     "data": {
      "image/png": "[encoded data removed]",
      "text/plain": [
       "<Figure size 432x288 with 1 Axes>"
      ]
     },
     "metadata": {
      "needs_background": "light"
     },
     "output_type": "display_data"
    }
   ],
   "source": [
    "# moving average smoothing as data preparation\n",
    "# tail-rolling average transform\n",
    "rolling = series_train.rolling(window=12)\n",
    "rolling_mean = rolling.mean()\n",
    "print(rolling_mean.head(20))\n",
    "# plot original and transformed dataset\n",
    "series.plot()\n",
    "rolling_mean.plot(color='red')\n",
    "plt.show()"
   ]
  },
  {
   "cell_type": "code",
   "execution_count": 29,
   "id": "british-tamil",
   "metadata": {},
   "outputs": [
    {
     "data": {
      "text/plain": [
       "Date\n",
       "2007-01-01         NaN\n",
       "2007-02-01         NaN\n",
       "2007-03-01         NaN\n",
       "2007-04-01         NaN\n",
       "2007-05-01         NaN\n",
       "2007-06-01         NaN\n",
       "2007-07-01         NaN\n",
       "2007-08-01         NaN\n",
       "2007-09-01         NaN\n",
       "2007-10-01         NaN\n",
       "2007-11-01         NaN\n",
       "2007-12-01   -0.258333\n",
       "2008-01-01   -0.467500\n",
       "2008-02-01   -0.521667\n",
       "2008-03-01   -0.630833\n",
       "2008-04-01   -0.265833\n",
       "2008-05-01   -0.071667\n",
       "2008-06-01    0.292500\n",
       "2008-07-01    0.378333\n",
       "2008-08-01    0.480000\n",
       "Name: Value, dtype: float64"
      ]
     },
     "execution_count": 29,
     "metadata": {},
     "output_type": "execute_result"
    }
   ],
   "source": [
    "X=y_train-rolling_mean\n",
    "X.head(20)"
   ]
  },
  {
   "cell_type": "code",
   "execution_count": 30,
   "id": "consolidated-strengthening",
   "metadata": {},
   "outputs": [
    {
     "data": {
      "text/html": [
       "<div>\n",
       "<style scoped>\n",
       "    .dataframe tbody tr th:only-of-type {\n",
       "        vertical-align: middle;\n",
       "    }\n",
       "\n",
       "    .dataframe tbody tr th {\n",
       "        vertical-align: top;\n",
       "    }\n",
       "\n",
       "    .dataframe thead th {\n",
       "        text-align: right;\n",
       "    }\n",
       "</style>\n",
       "<table border=\"1\" class=\"dataframe\">\n",
       "  <thead>\n",
       "    <tr style=\"text-align: right;\">\n",
       "      <th></th>\n",
       "      <th>2007</th>\n",
       "      <th>2008</th>\n",
       "      <th>2009</th>\n",
       "      <th>mean</th>\n",
       "    </tr>\n",
       "  </thead>\n",
       "  <tbody>\n",
       "    <tr>\n",
       "      <th>0</th>\n",
       "      <td>NaN</td>\n",
       "      <td>-0.467500</td>\n",
       "      <td>-0.500833</td>\n",
       "      <td>-0.484167</td>\n",
       "    </tr>\n",
       "    <tr>\n",
       "      <th>1</th>\n",
       "      <td>NaN</td>\n",
       "      <td>-0.521667</td>\n",
       "      <td>-0.650000</td>\n",
       "      <td>-0.585833</td>\n",
       "    </tr>\n",
       "    <tr>\n",
       "      <th>2</th>\n",
       "      <td>NaN</td>\n",
       "      <td>-0.630833</td>\n",
       "      <td>-0.620833</td>\n",
       "      <td>-0.625833</td>\n",
       "    </tr>\n",
       "    <tr>\n",
       "      <th>3</th>\n",
       "      <td>NaN</td>\n",
       "      <td>-0.265833</td>\n",
       "      <td>-0.352500</td>\n",
       "      <td>-0.309167</td>\n",
       "    </tr>\n",
       "    <tr>\n",
       "      <th>4</th>\n",
       "      <td>NaN</td>\n",
       "      <td>-0.071667</td>\n",
       "      <td>-0.117500</td>\n",
       "      <td>-0.094583</td>\n",
       "    </tr>\n",
       "    <tr>\n",
       "      <th>5</th>\n",
       "      <td>NaN</td>\n",
       "      <td>0.292500</td>\n",
       "      <td>0.148333</td>\n",
       "      <td>0.220417</td>\n",
       "    </tr>\n",
       "    <tr>\n",
       "      <th>6</th>\n",
       "      <td>NaN</td>\n",
       "      <td>0.378333</td>\n",
       "      <td>0.445833</td>\n",
       "      <td>0.412083</td>\n",
       "    </tr>\n",
       "    <tr>\n",
       "      <th>7</th>\n",
       "      <td>NaN</td>\n",
       "      <td>0.480000</td>\n",
       "      <td>0.570833</td>\n",
       "      <td>0.525417</td>\n",
       "    </tr>\n",
       "    <tr>\n",
       "      <th>8</th>\n",
       "      <td>NaN</td>\n",
       "      <td>0.318333</td>\n",
       "      <td>0.515833</td>\n",
       "      <td>0.417083</td>\n",
       "    </tr>\n",
       "    <tr>\n",
       "      <th>9</th>\n",
       "      <td>NaN</td>\n",
       "      <td>0.285833</td>\n",
       "      <td>0.195833</td>\n",
       "      <td>0.240833</td>\n",
       "    </tr>\n",
       "    <tr>\n",
       "      <th>10</th>\n",
       "      <td>NaN</td>\n",
       "      <td>-0.075833</td>\n",
       "      <td>-0.025833</td>\n",
       "      <td>-0.050833</td>\n",
       "    </tr>\n",
       "    <tr>\n",
       "      <th>11</th>\n",
       "      <td>-0.258333</td>\n",
       "      <td>-0.331667</td>\n",
       "      <td>-0.278333</td>\n",
       "      <td>-0.289444</td>\n",
       "    </tr>\n",
       "  </tbody>\n",
       "</table>\n",
       "</div>"
      ],
      "text/plain": [
       "        2007      2008      2009      mean\n",
       "0        NaN -0.467500 -0.500833 -0.484167\n",
       "1        NaN -0.521667 -0.650000 -0.585833\n",
       "2        NaN -0.630833 -0.620833 -0.625833\n",
       "3        NaN -0.265833 -0.352500 -0.309167\n",
       "4        NaN -0.071667 -0.117500 -0.094583\n",
       "5        NaN  0.292500  0.148333  0.220417\n",
       "6        NaN  0.378333  0.445833  0.412083\n",
       "7        NaN  0.480000  0.570833  0.525417\n",
       "8        NaN  0.318333  0.515833  0.417083\n",
       "9        NaN  0.285833  0.195833  0.240833\n",
       "10       NaN -0.075833 -0.025833 -0.050833\n",
       "11 -0.258333 -0.331667 -0.278333 -0.289444"
      ]
     },
     "execution_count": 30,
     "metadata": {},
     "output_type": "execute_result"
    }
   ],
   "source": [
    "groups = X.groupby(Grouper(freq='A'))\n",
    "years = pd.DataFrame()\n",
    "for name, group in groups:\n",
    "\tyears[name.year] = group.values\n",
    "years['mean']=years.mean(axis=1)\n",
    "years"
   ]
  },
  {
   "cell_type": "code",
   "execution_count": 31,
   "id": "olive-cattle",
   "metadata": {},
   "outputs": [
    {
     "data": {
      "text/plain": [
       "-0.0520023148148149"
      ]
     },
     "execution_count": 31,
     "metadata": {},
     "output_type": "execute_result"
    }
   ],
   "source": [
    "k=years['mean'].mean()\n",
    "k"
   ]
  },
  {
   "cell_type": "code",
   "execution_count": 32,
   "id": "sufficient-leisure",
   "metadata": {
    "tags": []
   },
   "outputs": [
    {
     "data": {
      "text/html": [
       "<div>\n",
       "<style scoped>\n",
       "    .dataframe tbody tr th:only-of-type {\n",
       "        vertical-align: middle;\n",
       "    }\n",
       "\n",
       "    .dataframe tbody tr th {\n",
       "        vertical-align: top;\n",
       "    }\n",
       "\n",
       "    .dataframe thead th {\n",
       "        text-align: right;\n",
       "    }\n",
       "</style>\n",
       "<table border=\"1\" class=\"dataframe\">\n",
       "  <thead>\n",
       "    <tr style=\"text-align: right;\">\n",
       "      <th></th>\n",
       "      <th>2007</th>\n",
       "      <th>2008</th>\n",
       "      <th>2009</th>\n",
       "      <th>mean</th>\n",
       "      <th>S</th>\n",
       "    </tr>\n",
       "  </thead>\n",
       "  <tbody>\n",
       "    <tr>\n",
       "      <th>0</th>\n",
       "      <td>NaN</td>\n",
       "      <td>-0.467500</td>\n",
       "      <td>-0.500833</td>\n",
       "      <td>-0.484167</td>\n",
       "      <td>-0.432164</td>\n",
       "    </tr>\n",
       "    <tr>\n",
       "      <th>1</th>\n",
       "      <td>NaN</td>\n",
       "      <td>-0.521667</td>\n",
       "      <td>-0.650000</td>\n",
       "      <td>-0.585833</td>\n",
       "      <td>-0.533831</td>\n",
       "    </tr>\n",
       "    <tr>\n",
       "      <th>2</th>\n",
       "      <td>NaN</td>\n",
       "      <td>-0.630833</td>\n",
       "      <td>-0.620833</td>\n",
       "      <td>-0.625833</td>\n",
       "      <td>-0.573831</td>\n",
       "    </tr>\n",
       "    <tr>\n",
       "      <th>3</th>\n",
       "      <td>NaN</td>\n",
       "      <td>-0.265833</td>\n",
       "      <td>-0.352500</td>\n",
       "      <td>-0.309167</td>\n",
       "      <td>-0.257164</td>\n",
       "    </tr>\n",
       "    <tr>\n",
       "      <th>4</th>\n",
       "      <td>NaN</td>\n",
       "      <td>-0.071667</td>\n",
       "      <td>-0.117500</td>\n",
       "      <td>-0.094583</td>\n",
       "      <td>-0.042581</td>\n",
       "    </tr>\n",
       "    <tr>\n",
       "      <th>5</th>\n",
       "      <td>NaN</td>\n",
       "      <td>0.292500</td>\n",
       "      <td>0.148333</td>\n",
       "      <td>0.220417</td>\n",
       "      <td>0.272419</td>\n",
       "    </tr>\n",
       "    <tr>\n",
       "      <th>6</th>\n",
       "      <td>NaN</td>\n",
       "      <td>0.378333</td>\n",
       "      <td>0.445833</td>\n",
       "      <td>0.412083</td>\n",
       "      <td>0.464086</td>\n",
       "    </tr>\n",
       "    <tr>\n",
       "      <th>7</th>\n",
       "      <td>NaN</td>\n",
       "      <td>0.480000</td>\n",
       "      <td>0.570833</td>\n",
       "      <td>0.525417</td>\n",
       "      <td>0.577419</td>\n",
       "    </tr>\n",
       "    <tr>\n",
       "      <th>8</th>\n",
       "      <td>NaN</td>\n",
       "      <td>0.318333</td>\n",
       "      <td>0.515833</td>\n",
       "      <td>0.417083</td>\n",
       "      <td>0.469086</td>\n",
       "    </tr>\n",
       "    <tr>\n",
       "      <th>9</th>\n",
       "      <td>NaN</td>\n",
       "      <td>0.285833</td>\n",
       "      <td>0.195833</td>\n",
       "      <td>0.240833</td>\n",
       "      <td>0.292836</td>\n",
       "    </tr>\n",
       "    <tr>\n",
       "      <th>10</th>\n",
       "      <td>NaN</td>\n",
       "      <td>-0.075833</td>\n",
       "      <td>-0.025833</td>\n",
       "      <td>-0.050833</td>\n",
       "      <td>0.001169</td>\n",
       "    </tr>\n",
       "    <tr>\n",
       "      <th>11</th>\n",
       "      <td>-0.258333</td>\n",
       "      <td>-0.331667</td>\n",
       "      <td>-0.278333</td>\n",
       "      <td>-0.289444</td>\n",
       "      <td>-0.237442</td>\n",
       "    </tr>\n",
       "  </tbody>\n",
       "</table>\n",
       "</div>"
      ],
      "text/plain": [
       "        2007      2008      2009      mean         S\n",
       "0        NaN -0.467500 -0.500833 -0.484167 -0.432164\n",
       "1        NaN -0.521667 -0.650000 -0.585833 -0.533831\n",
       "2        NaN -0.630833 -0.620833 -0.625833 -0.573831\n",
       "3        NaN -0.265833 -0.352500 -0.309167 -0.257164\n",
       "4        NaN -0.071667 -0.117500 -0.094583 -0.042581\n",
       "5        NaN  0.292500  0.148333  0.220417  0.272419\n",
       "6        NaN  0.378333  0.445833  0.412083  0.464086\n",
       "7        NaN  0.480000  0.570833  0.525417  0.577419\n",
       "8        NaN  0.318333  0.515833  0.417083  0.469086\n",
       "9        NaN  0.285833  0.195833  0.240833  0.292836\n",
       "10       NaN -0.075833 -0.025833 -0.050833  0.001169\n",
       "11 -0.258333 -0.331667 -0.278333 -0.289444 -0.237442"
      ]
     },
     "execution_count": 32,
     "metadata": {},
     "output_type": "execute_result"
    }
   ],
   "source": [
    "years['S']=years['mean']-k\n",
    "years"
   ]
  },
  {
   "cell_type": "code",
   "execution_count": 33,
   "id": "invalid-announcement",
   "metadata": {},
   "outputs": [
    {
     "data": {
      "text/plain": [
       "0    -0.432164\n",
       "1    -0.533831\n",
       "2    -0.573831\n",
       "3    -0.257164\n",
       "4    -0.042581\n",
       "5     0.272419\n",
       "6     0.464086\n",
       "7     0.577419\n",
       "8     0.469086\n",
       "9     0.292836\n",
       "10    0.001169\n",
       "11   -0.237442\n",
       "Name: S, dtype: float64"
      ]
     },
     "execution_count": 33,
     "metadata": {},
     "output_type": "execute_result"
    }
   ],
   "source": [
    "s=years['S']\n",
    "s"
   ]
  },
  {
   "cell_type": "code",
   "execution_count": 39,
   "id": "senior-service",
   "metadata": {},
   "outputs": [
    {
     "data": {
      "text/plain": [
       "Date\n",
       "2007-01-01   -0.432164\n",
       "2007-02-01   -0.533831\n",
       "2007-03-01   -0.573831\n",
       "2007-04-01   -0.257164\n",
       "2007-05-01   -0.042581\n",
       "Name: S, dtype: float64"
      ]
     },
     "execution_count": 39,
     "metadata": {},
     "output_type": "execute_result"
    }
   ],
   "source": [
    "sez = pd.concat([s for i in range(3)], ignore_index = True)\n",
    "sez.index = series_train.index\n",
    "sez.head()"
   ]
  },
  {
   "cell_type": "code",
   "execution_count": 42,
   "id": "regulated-short",
   "metadata": {},
   "outputs": [
    {
     "data": {
      "text/plain": [
       "Date\n",
       "2007-01-01    4.652164\n",
       "2007-02-01    4.523831\n",
       "2007-03-01    4.623831\n",
       "2007-04-01    4.597164\n",
       "2007-05-01    4.672581\n",
       "Name: S, dtype: float64"
      ]
     },
     "execution_count": 42,
     "metadata": {},
     "output_type": "execute_result"
    }
   ],
   "source": [
    "y_des=y_train-sez\n",
    "y_des.head()"
   ]
  },
  {
   "cell_type": "code",
   "execution_count": 44,
   "id": "sustainable-austria",
   "metadata": {},
   "outputs": [
    {
     "data": {
      "text/plain": [
       "array([ 1,  2,  3,  4,  5,  6,  7,  8,  9, 10, 11, 12, 13, 14, 15, 16, 17,\n",
       "       18, 19, 20, 21, 22, 23, 24, 25, 26, 27, 28, 29, 30, 31, 32, 33, 34,\n",
       "       35, 36])"
      ]
     },
     "execution_count": 44,
     "metadata": {},
     "output_type": "execute_result"
    }
   ],
   "source": [
    "t_train = np.arange(1, len(y_des) + 1)\n",
    "t_train"
   ]
  },
  {
   "cell_type": "code",
   "execution_count": 45,
   "id": "dense-springfield",
   "metadata": {},
   "outputs": [
    {
     "data": {
      "text/plain": [
       "array([-0.01000252,  4.64115774])"
      ]
     },
     "execution_count": 45,
     "metadata": {},
     "output_type": "execute_result"
    }
   ],
   "source": [
    "# Найдем коэффициенты уравнения тренда\n",
    "coef = np.polyfit(t_train, y_des, deg = 1)\n",
    "coef"
   ]
  },
  {
   "cell_type": "code",
   "execution_count": 47,
   "id": "senior-bacon",
   "metadata": {},
   "outputs": [
    {
     "data": {
      "text/plain": [
       "array([37, 38, 39, 40, 41, 42, 43, 44, 45, 46, 47, 48])"
      ]
     },
     "execution_count": 47,
     "metadata": {},
     "output_type": "execute_result"
    }
   ],
   "source": [
    "t_test = np.arange(len(y_train) + 1,len(y)+1)\n",
    "t_test"
   ]
  },
  {
   "cell_type": "code",
   "execution_count": 51,
   "id": "european-webcam",
   "metadata": {},
   "outputs": [
    {
     "data": {
      "text/plain": [
       "0     3.838900\n",
       "1     3.727231\n",
       "2     3.677228\n",
       "3     3.983893\n",
       "4     4.188473\n",
       "5     4.493471\n",
       "6     4.675135\n",
       "7     4.778466\n",
       "8     4.660130\n",
       "9     4.473877\n",
       "10    4.172208\n",
       "11    3.923595\n",
       "Name: S, dtype: float64"
      ]
     },
     "execution_count": 51,
     "metadata": {},
     "output_type": "execute_result"
    }
   ],
   "source": [
    "# Найдем расчетные значения на тестовом наборе по уравнению тренд-сезонной модели\n",
    "y_pred = coef[0] * t_test + coef[1]+s\n",
    "y_pred"
   ]
  },
  {
   "cell_type": "code",
   "execution_count": 52,
   "id": "informative-belize",
   "metadata": {},
   "outputs": [
    {
     "name": "stdout",
     "output_type": "stream",
     "text": [
      "R2: 0.948923\n"
     ]
    }
   ],
   "source": [
    "R2 = r2_score(y_test, y_pred)\n",
    "print('R2: %f' % R2)"
   ]
  },
  {
   "cell_type": "code",
   "execution_count": 53,
   "id": "adult-macedonia",
   "metadata": {},
   "outputs": [
    {
     "name": "stdout",
     "output_type": "stream",
     "text": [
      "MSE: 0.006644\n"
     ]
    }
   ],
   "source": [
    "MSE = mean_squared_error(y_test, y_pred)\n",
    "print('MSE: %f' % MSE)"
   ]
  },
  {
   "cell_type": "code",
   "execution_count": 56,
   "id": "adverse-college",
   "metadata": {},
   "outputs": [
    {
     "data": {
      "text/plain": [
       "array([4.05, 3.88, 3.61, 3.81, 4.03, 4.13, 4.4 , 4.66, 4.79, 4.57, 4.4 ,\n",
       "       4.26])"
      ]
     },
     "execution_count": 56,
     "metadata": {},
     "output_type": "execute_result"
    }
   ],
   "source": [
    "#Базовая прогнозная модель: прогноз=предыдущее значение\n",
    "y_pred=y[len(y_train)-1:len(y)-1]\n",
    "y_pred"
   ]
  },
  {
   "cell_type": "code",
   "execution_count": 57,
   "id": "identified-union",
   "metadata": {},
   "outputs": [
    {
     "name": "stdout",
     "output_type": "stream",
     "text": [
      "MSE: 0.054008\n"
     ]
    }
   ],
   "source": [
    "MSE = mean_squared_error(y_test, y_pred)\n",
    "print('MSE: %f' % MSE)"
   ]
  },
  {
   "cell_type": "markdown",
   "id": "homeless-exposure",
   "metadata": {},
   "source": [
    "Тренд-сезонная модель лучше базовой. Построим тренд-сезонную модель на всех данных и дадим прогноз на год вперед."
   ]
  },
  {
   "cell_type": "code",
   "execution_count": 58,
   "id": "mexican-baker",
   "metadata": {},
   "outputs": [
    {
     "name": "stdout",
     "output_type": "stream",
     "text": [
      "Date\n",
      "2007-01-01         NaN\n",
      "2007-02-01         NaN\n",
      "2007-03-01         NaN\n",
      "2007-04-01         NaN\n",
      "2007-05-01         NaN\n",
      "2007-06-01         NaN\n",
      "2007-07-01         NaN\n",
      "2007-08-01         NaN\n",
      "2007-09-01         NaN\n",
      "2007-10-01         NaN\n",
      "2007-11-01         NaN\n",
      "2007-12-01    4.568333\n",
      "2008-01-01    4.557500\n",
      "2008-02-01    4.561667\n",
      "2008-03-01    4.550833\n",
      "2008-04-01    4.545833\n",
      "2008-05-01    4.531667\n",
      "2008-06-01    4.537500\n",
      "2008-07-01    4.521667\n",
      "2008-08-01    4.510000\n",
      "Name: Value, dtype: float64\n"
     ]
    },
    {
     "data": {
      "image/png": "[encoded data removed]",
      "text/plain": [
       "<Figure size 432x288 with 1 Axes>"
      ]
     },
     "metadata": {
      "needs_background": "light"
     },
     "output_type": "display_data"
    }
   ],
   "source": [
    "# moving average smoothing as data preparation\n",
    "# tail-rolling average transform\n",
    "rolling = series.rolling(window=12)\n",
    "rolling_mean = rolling.mean()\n",
    "print(rolling_mean.head(20))\n",
    "# plot original and transformed dataset\n",
    "series.plot()\n",
    "rolling_mean.plot(color='red')\n",
    "plt.show()"
   ]
  },
  {
   "cell_type": "code",
   "execution_count": 59,
   "id": "surprising-system",
   "metadata": {},
   "outputs": [
    {
     "data": {
      "text/plain": [
       "Date\n",
       "2007-01-01         NaN\n",
       "2007-02-01         NaN\n",
       "2007-03-01         NaN\n",
       "2007-04-01         NaN\n",
       "2007-05-01         NaN\n",
       "2007-06-01         NaN\n",
       "2007-07-01         NaN\n",
       "2007-08-01         NaN\n",
       "2007-09-01         NaN\n",
       "2007-10-01         NaN\n",
       "2007-11-01         NaN\n",
       "2007-12-01   -0.258333\n",
       "2008-01-01   -0.467500\n",
       "2008-02-01   -0.521667\n",
       "2008-03-01   -0.630833\n",
       "2008-04-01   -0.265833\n",
       "2008-05-01   -0.071667\n",
       "2008-06-01    0.292500\n",
       "2008-07-01    0.378333\n",
       "2008-08-01    0.480000\n",
       "Name: Value, dtype: float64"
      ]
     },
     "execution_count": 59,
     "metadata": {},
     "output_type": "execute_result"
    }
   ],
   "source": [
    "X=y-rolling_mean\n",
    "X.head(20)"
   ]
  },
  {
   "cell_type": "code",
   "execution_count": 60,
   "id": "conscious-techno",
   "metadata": {},
   "outputs": [
    {
     "data": {
      "text/html": [
       "<div>\n",
       "<style scoped>\n",
       "    .dataframe tbody tr th:only-of-type {\n",
       "        vertical-align: middle;\n",
       "    }\n",
       "\n",
       "    .dataframe tbody tr th {\n",
       "        vertical-align: top;\n",
       "    }\n",
       "\n",
       "    .dataframe thead th {\n",
       "        text-align: right;\n",
       "    }\n",
       "</style>\n",
       "<table border=\"1\" class=\"dataframe\">\n",
       "  <thead>\n",
       "    <tr style=\"text-align: right;\">\n",
       "      <th></th>\n",
       "      <th>2007</th>\n",
       "      <th>2008</th>\n",
       "      <th>2009</th>\n",
       "      <th>2010</th>\n",
       "      <th>mean</th>\n",
       "    </tr>\n",
       "  </thead>\n",
       "  <tbody>\n",
       "    <tr>\n",
       "      <th>0</th>\n",
       "      <td>NaN</td>\n",
       "      <td>-0.467500</td>\n",
       "      <td>-0.500833</td>\n",
       "      <td>-0.441667</td>\n",
       "      <td>-0.470000</td>\n",
       "    </tr>\n",
       "    <tr>\n",
       "      <th>1</th>\n",
       "      <td>NaN</td>\n",
       "      <td>-0.521667</td>\n",
       "      <td>-0.650000</td>\n",
       "      <td>-0.696667</td>\n",
       "      <td>-0.622778</td>\n",
       "    </tr>\n",
       "    <tr>\n",
       "      <th>2</th>\n",
       "      <td>NaN</td>\n",
       "      <td>-0.630833</td>\n",
       "      <td>-0.620833</td>\n",
       "      <td>-0.496667</td>\n",
       "      <td>-0.582778</td>\n",
       "    </tr>\n",
       "    <tr>\n",
       "      <th>3</th>\n",
       "      <td>NaN</td>\n",
       "      <td>-0.265833</td>\n",
       "      <td>-0.352500</td>\n",
       "      <td>-0.274167</td>\n",
       "      <td>-0.297500</td>\n",
       "    </tr>\n",
       "    <tr>\n",
       "      <th>4</th>\n",
       "      <td>NaN</td>\n",
       "      <td>-0.071667</td>\n",
       "      <td>-0.117500</td>\n",
       "      <td>-0.161667</td>\n",
       "      <td>-0.116944</td>\n",
       "    </tr>\n",
       "    <tr>\n",
       "      <th>5</th>\n",
       "      <td>NaN</td>\n",
       "      <td>0.292500</td>\n",
       "      <td>0.148333</td>\n",
       "      <td>0.118333</td>\n",
       "      <td>0.186389</td>\n",
       "    </tr>\n",
       "    <tr>\n",
       "      <th>6</th>\n",
       "      <td>NaN</td>\n",
       "      <td>0.378333</td>\n",
       "      <td>0.445833</td>\n",
       "      <td>0.390833</td>\n",
       "      <td>0.405000</td>\n",
       "    </tr>\n",
       "    <tr>\n",
       "      <th>7</th>\n",
       "      <td>NaN</td>\n",
       "      <td>0.480000</td>\n",
       "      <td>0.570833</td>\n",
       "      <td>0.532500</td>\n",
       "      <td>0.527778</td>\n",
       "    </tr>\n",
       "    <tr>\n",
       "      <th>8</th>\n",
       "      <td>NaN</td>\n",
       "      <td>0.318333</td>\n",
       "      <td>0.515833</td>\n",
       "      <td>0.338333</td>\n",
       "      <td>0.390833</td>\n",
       "    </tr>\n",
       "    <tr>\n",
       "      <th>9</th>\n",
       "      <td>NaN</td>\n",
       "      <td>0.285833</td>\n",
       "      <td>0.195833</td>\n",
       "      <td>0.180000</td>\n",
       "      <td>0.220556</td>\n",
       "    </tr>\n",
       "    <tr>\n",
       "      <th>10</th>\n",
       "      <td>NaN</td>\n",
       "      <td>-0.075833</td>\n",
       "      <td>-0.025833</td>\n",
       "      <td>0.044167</td>\n",
       "      <td>-0.019167</td>\n",
       "    </tr>\n",
       "    <tr>\n",
       "      <th>11</th>\n",
       "      <td>-0.258333</td>\n",
       "      <td>-0.331667</td>\n",
       "      <td>-0.278333</td>\n",
       "      <td>-0.376667</td>\n",
       "      <td>-0.311250</td>\n",
       "    </tr>\n",
       "  </tbody>\n",
       "</table>\n",
       "</div>"
      ],
      "text/plain": [
       "        2007      2008      2009      2010      mean\n",
       "0        NaN -0.467500 -0.500833 -0.441667 -0.470000\n",
       "1        NaN -0.521667 -0.650000 -0.696667 -0.622778\n",
       "2        NaN -0.630833 -0.620833 -0.496667 -0.582778\n",
       "3        NaN -0.265833 -0.352500 -0.274167 -0.297500\n",
       "4        NaN -0.071667 -0.117500 -0.161667 -0.116944\n",
       "5        NaN  0.292500  0.148333  0.118333  0.186389\n",
       "6        NaN  0.378333  0.445833  0.390833  0.405000\n",
       "7        NaN  0.480000  0.570833  0.532500  0.527778\n",
       "8        NaN  0.318333  0.515833  0.338333  0.390833\n",
       "9        NaN  0.285833  0.195833  0.180000  0.220556\n",
       "10       NaN -0.075833 -0.025833  0.044167 -0.019167\n",
       "11 -0.258333 -0.331667 -0.278333 -0.376667 -0.311250"
      ]
     },
     "execution_count": 60,
     "metadata": {},
     "output_type": "execute_result"
    }
   ],
   "source": [
    "groups = X.groupby(Grouper(freq='A'))\n",
    "years = pd.DataFrame()\n",
    "for name, group in groups:\n",
    "\tyears[name.year] = group.values\n",
    "years['mean']=years.mean(axis=1)\n",
    "years"
   ]
  },
  {
   "cell_type": "code",
   "execution_count": 61,
   "id": "announced-evaluation",
   "metadata": {},
   "outputs": [
    {
     "data": {
      "text/plain": [
       "-0.05748842592592588"
      ]
     },
     "execution_count": 61,
     "metadata": {},
     "output_type": "execute_result"
    }
   ],
   "source": [
    "k=years['mean'].mean()\n",
    "k"
   ]
  },
  {
   "cell_type": "code",
   "execution_count": 62,
   "id": "aquatic-second",
   "metadata": {
    "tags": []
   },
   "outputs": [
    {
     "data": {
      "text/html": [
       "<div>\n",
       "<style scoped>\n",
       "    .dataframe tbody tr th:only-of-type {\n",
       "        vertical-align: middle;\n",
       "    }\n",
       "\n",
       "    .dataframe tbody tr th {\n",
       "        vertical-align: top;\n",
       "    }\n",
       "\n",
       "    .dataframe thead th {\n",
       "        text-align: right;\n",
       "    }\n",
       "</style>\n",
       "<table border=\"1\" class=\"dataframe\">\n",
       "  <thead>\n",
       "    <tr style=\"text-align: right;\">\n",
       "      <th></th>\n",
       "      <th>2007</th>\n",
       "      <th>2008</th>\n",
       "      <th>2009</th>\n",
       "      <th>2010</th>\n",
       "      <th>mean</th>\n",
       "      <th>S</th>\n",
       "    </tr>\n",
       "  </thead>\n",
       "  <tbody>\n",
       "    <tr>\n",
       "      <th>0</th>\n",
       "      <td>NaN</td>\n",
       "      <td>-0.467500</td>\n",
       "      <td>-0.500833</td>\n",
       "      <td>-0.441667</td>\n",
       "      <td>-0.470000</td>\n",
       "      <td>-0.412512</td>\n",
       "    </tr>\n",
       "    <tr>\n",
       "      <th>1</th>\n",
       "      <td>NaN</td>\n",
       "      <td>-0.521667</td>\n",
       "      <td>-0.650000</td>\n",
       "      <td>-0.696667</td>\n",
       "      <td>-0.622778</td>\n",
       "      <td>-0.565289</td>\n",
       "    </tr>\n",
       "    <tr>\n",
       "      <th>2</th>\n",
       "      <td>NaN</td>\n",
       "      <td>-0.630833</td>\n",
       "      <td>-0.620833</td>\n",
       "      <td>-0.496667</td>\n",
       "      <td>-0.582778</td>\n",
       "      <td>-0.525289</td>\n",
       "    </tr>\n",
       "    <tr>\n",
       "      <th>3</th>\n",
       "      <td>NaN</td>\n",
       "      <td>-0.265833</td>\n",
       "      <td>-0.352500</td>\n",
       "      <td>-0.274167</td>\n",
       "      <td>-0.297500</td>\n",
       "      <td>-0.240012</td>\n",
       "    </tr>\n",
       "    <tr>\n",
       "      <th>4</th>\n",
       "      <td>NaN</td>\n",
       "      <td>-0.071667</td>\n",
       "      <td>-0.117500</td>\n",
       "      <td>-0.161667</td>\n",
       "      <td>-0.116944</td>\n",
       "      <td>-0.059456</td>\n",
       "    </tr>\n",
       "    <tr>\n",
       "      <th>5</th>\n",
       "      <td>NaN</td>\n",
       "      <td>0.292500</td>\n",
       "      <td>0.148333</td>\n",
       "      <td>0.118333</td>\n",
       "      <td>0.186389</td>\n",
       "      <td>0.243877</td>\n",
       "    </tr>\n",
       "    <tr>\n",
       "      <th>6</th>\n",
       "      <td>NaN</td>\n",
       "      <td>0.378333</td>\n",
       "      <td>0.445833</td>\n",
       "      <td>0.390833</td>\n",
       "      <td>0.405000</td>\n",
       "      <td>0.462488</td>\n",
       "    </tr>\n",
       "    <tr>\n",
       "      <th>7</th>\n",
       "      <td>NaN</td>\n",
       "      <td>0.480000</td>\n",
       "      <td>0.570833</td>\n",
       "      <td>0.532500</td>\n",
       "      <td>0.527778</td>\n",
       "      <td>0.585266</td>\n",
       "    </tr>\n",
       "    <tr>\n",
       "      <th>8</th>\n",
       "      <td>NaN</td>\n",
       "      <td>0.318333</td>\n",
       "      <td>0.515833</td>\n",
       "      <td>0.338333</td>\n",
       "      <td>0.390833</td>\n",
       "      <td>0.448322</td>\n",
       "    </tr>\n",
       "    <tr>\n",
       "      <th>9</th>\n",
       "      <td>NaN</td>\n",
       "      <td>0.285833</td>\n",
       "      <td>0.195833</td>\n",
       "      <td>0.180000</td>\n",
       "      <td>0.220556</td>\n",
       "      <td>0.278044</td>\n",
       "    </tr>\n",
       "    <tr>\n",
       "      <th>10</th>\n",
       "      <td>NaN</td>\n",
       "      <td>-0.075833</td>\n",
       "      <td>-0.025833</td>\n",
       "      <td>0.044167</td>\n",
       "      <td>-0.019167</td>\n",
       "      <td>0.038322</td>\n",
       "    </tr>\n",
       "    <tr>\n",
       "      <th>11</th>\n",
       "      <td>-0.258333</td>\n",
       "      <td>-0.331667</td>\n",
       "      <td>-0.278333</td>\n",
       "      <td>-0.376667</td>\n",
       "      <td>-0.311250</td>\n",
       "      <td>-0.253762</td>\n",
       "    </tr>\n",
       "  </tbody>\n",
       "</table>\n",
       "</div>"
      ],
      "text/plain": [
       "        2007      2008      2009      2010      mean         S\n",
       "0        NaN -0.467500 -0.500833 -0.441667 -0.470000 -0.412512\n",
       "1        NaN -0.521667 -0.650000 -0.696667 -0.622778 -0.565289\n",
       "2        NaN -0.630833 -0.620833 -0.496667 -0.582778 -0.525289\n",
       "3        NaN -0.265833 -0.352500 -0.274167 -0.297500 -0.240012\n",
       "4        NaN -0.071667 -0.117500 -0.161667 -0.116944 -0.059456\n",
       "5        NaN  0.292500  0.148333  0.118333  0.186389  0.243877\n",
       "6        NaN  0.378333  0.445833  0.390833  0.405000  0.462488\n",
       "7        NaN  0.480000  0.570833  0.532500  0.527778  0.585266\n",
       "8        NaN  0.318333  0.515833  0.338333  0.390833  0.448322\n",
       "9        NaN  0.285833  0.195833  0.180000  0.220556  0.278044\n",
       "10       NaN -0.075833 -0.025833  0.044167 -0.019167  0.038322\n",
       "11 -0.258333 -0.331667 -0.278333 -0.376667 -0.311250 -0.253762"
      ]
     },
     "execution_count": 62,
     "metadata": {},
     "output_type": "execute_result"
    }
   ],
   "source": [
    "years['S']=years['mean']-k\n",
    "years"
   ]
  },
  {
   "cell_type": "code",
   "execution_count": 63,
   "id": "common-perception",
   "metadata": {},
   "outputs": [
    {
     "data": {
      "text/plain": [
       "0    -0.412512\n",
       "1    -0.565289\n",
       "2    -0.525289\n",
       "3    -0.240012\n",
       "4    -0.059456\n",
       "5     0.243877\n",
       "6     0.462488\n",
       "7     0.585266\n",
       "8     0.448322\n",
       "9     0.278044\n",
       "10    0.038322\n",
       "11   -0.253762\n",
       "Name: S, dtype: float64"
      ]
     },
     "execution_count": 63,
     "metadata": {},
     "output_type": "execute_result"
    }
   ],
   "source": [
    "s=years['S']\n",
    "s"
   ]
  },
  {
   "cell_type": "code",
   "execution_count": 64,
   "id": "coordinate-emission",
   "metadata": {},
   "outputs": [
    {
     "data": {
      "text/plain": [
       "Date\n",
       "2007-01-01   -0.412512\n",
       "2007-02-01   -0.565289\n",
       "2007-03-01   -0.525289\n",
       "2007-04-01   -0.240012\n",
       "2007-05-01   -0.059456\n",
       "Name: S, dtype: float64"
      ]
     },
     "execution_count": 64,
     "metadata": {},
     "output_type": "execute_result"
    }
   ],
   "source": [
    "sez = pd.concat([s for i in range(4)], ignore_index = True)\n",
    "sez.index = my_data.index\n",
    "sez.head()"
   ]
  },
  {
   "cell_type": "code",
   "execution_count": 65,
   "id": "organized-rabbit",
   "metadata": {},
   "outputs": [
    {
     "data": {
      "text/plain": [
       "Date\n",
       "2007-01-01    4.632512\n",
       "2007-02-01    4.555289\n",
       "2007-03-01    4.575289\n",
       "2007-04-01    4.580012\n",
       "2007-05-01    4.689456\n",
       "Name: S, dtype: float64"
      ]
     },
     "execution_count": 65,
     "metadata": {},
     "output_type": "execute_result"
    }
   ],
   "source": [
    "y_des=y-sez\n",
    "y_des.head()"
   ]
  },
  {
   "cell_type": "code",
   "execution_count": 66,
   "id": "neural-player",
   "metadata": {},
   "outputs": [
    {
     "data": {
      "text/plain": [
       "array([ 1,  2,  3,  4,  5,  6,  7,  8,  9, 10, 11, 12, 13, 14, 15, 16, 17,\n",
       "       18, 19, 20, 21, 22, 23, 24, 25, 26, 27, 28, 29, 30, 31, 32, 33, 34,\n",
       "       35, 36, 37, 38, 39, 40, 41, 42, 43, 44, 45, 46, 47, 48])"
      ]
     },
     "execution_count": 66,
     "metadata": {},
     "output_type": "execute_result"
    }
   ],
   "source": [
    "t = np.arange(1, len(y_des) + 1)\n",
    "t"
   ]
  },
  {
   "cell_type": "code",
   "execution_count": 67,
   "id": "automatic-travel",
   "metadata": {},
   "outputs": [
    {
     "data": {
      "text/plain": [
       "array([-0.0104758 ,  4.64790706])"
      ]
     },
     "execution_count": 67,
     "metadata": {},
     "output_type": "execute_result"
    }
   ],
   "source": [
    "# Найдем коэффициенты уравнения тренда\n",
    "coef = np.polyfit(t, y_des, deg = 1)\n",
    "coef"
   ]
  },
  {
   "cell_type": "code",
   "execution_count": 68,
   "id": "dimensional-buffer",
   "metadata": {},
   "outputs": [
    {
     "data": {
      "text/plain": [
       "Date\n",
       "2007-01-01    4.224920\n",
       "2007-02-01    4.061666\n",
       "2007-03-01    4.091190\n",
       "2007-04-01    4.365992\n",
       "2007-05-01    4.536072\n",
       "Name: S, dtype: float64"
      ]
     },
     "execution_count": 68,
     "metadata": {},
     "output_type": "execute_result"
    }
   ],
   "source": [
    "# Найдем расчетные значения по уравнению тренд-сезонной модели\n",
    "y_pred = coef[0] * t + coef[1]+sez\n",
    "y_pred.head()"
   ]
  },
  {
   "cell_type": "code",
   "execution_count": 69,
   "id": "painful-turtle",
   "metadata": {},
   "outputs": [
    {
     "name": "stdout",
     "output_type": "stream",
     "text": [
      "R2: 0.980475\n"
     ]
    }
   ],
   "source": [
    "R2 = r2_score(y, y_pred)\n",
    "print('R2: %f' % R2)"
   ]
  },
  {
   "cell_type": "code",
   "execution_count": 70,
   "id": "anticipated-judges",
   "metadata": {},
   "outputs": [
    {
     "name": "stdout",
     "output_type": "stream",
     "text": [
      "MAE: 0.046418\n"
     ]
    }
   ],
   "source": [
    "MAE = mean_absolute_error(y, y_pred)\n",
    "print('MAE: %f' % MAE)"
   ]
  },
  {
   "cell_type": "code",
   "execution_count": 71,
   "id": "authentic-croatia",
   "metadata": {},
   "outputs": [
    {
     "name": "stdout",
     "output_type": "stream",
     "text": [
      "MSE: 0.003098\n"
     ]
    }
   ],
   "source": [
    "MSE = mean_squared_error(y, y_pred)\n",
    "print('MSE: %f' % MSE)"
   ]
  },
  {
   "cell_type": "code",
   "execution_count": 72,
   "id": "southwest-auditor",
   "metadata": {
    "tags": []
   },
   "outputs": [
    {
     "name": "stdout",
     "output_type": "stream",
     "text": [
      "RMSE: 0.055660\n"
     ]
    }
   ],
   "source": [
    "# calculate root mean squared error\n",
    "RMSE = sqrt(MSE)\n",
    "print('RMSE: %f' % RMSE)"
   ]
  },
  {
   "cell_type": "code",
   "execution_count": 73,
   "id": "cheap-publication",
   "metadata": {},
   "outputs": [
    {
     "data": {
      "text/html": [
       "<div>\n",
       "<style scoped>\n",
       "    .dataframe tbody tr th:only-of-type {\n",
       "        vertical-align: middle;\n",
       "    }\n",
       "\n",
       "    .dataframe tbody tr th {\n",
       "        vertical-align: top;\n",
       "    }\n",
       "\n",
       "    .dataframe thead th {\n",
       "        text-align: right;\n",
       "    }\n",
       "</style>\n",
       "<table border=\"1\" class=\"dataframe\">\n",
       "  <thead>\n",
       "    <tr style=\"text-align: right;\">\n",
       "      <th></th>\n",
       "      <th>Value</th>\n",
       "      <th>Error</th>\n",
       "    </tr>\n",
       "    <tr>\n",
       "      <th>Date</th>\n",
       "      <th></th>\n",
       "      <th></th>\n",
       "    </tr>\n",
       "  </thead>\n",
       "  <tbody>\n",
       "    <tr>\n",
       "      <th>2007-01-01</th>\n",
       "      <td>4.22</td>\n",
       "      <td>-0.004920</td>\n",
       "    </tr>\n",
       "    <tr>\n",
       "      <th>2007-02-01</th>\n",
       "      <td>3.99</td>\n",
       "      <td>-0.071666</td>\n",
       "    </tr>\n",
       "    <tr>\n",
       "      <th>2007-03-01</th>\n",
       "      <td>4.05</td>\n",
       "      <td>-0.041190</td>\n",
       "    </tr>\n",
       "    <tr>\n",
       "      <th>2007-04-01</th>\n",
       "      <td>4.34</td>\n",
       "      <td>-0.025992</td>\n",
       "    </tr>\n",
       "    <tr>\n",
       "      <th>2007-05-01</th>\n",
       "      <td>4.63</td>\n",
       "      <td>0.093928</td>\n",
       "    </tr>\n",
       "  </tbody>\n",
       "</table>\n",
       "</div>"
      ],
      "text/plain": [
       "            Value     Error\n",
       "Date                       \n",
       "2007-01-01   4.22 -0.004920\n",
       "2007-02-01   3.99 -0.071666\n",
       "2007-03-01   4.05 -0.041190\n",
       "2007-04-01   4.34 -0.025992\n",
       "2007-05-01   4.63  0.093928"
      ]
     },
     "execution_count": 73,
     "metadata": {},
     "output_type": "execute_result"
    }
   ],
   "source": [
    "my_data['Error']=y-y_pred\n",
    "my_data.head()"
   ]
  },
  {
   "cell_type": "code",
   "execution_count": 74,
   "id": "objective-defense",
   "metadata": {},
   "outputs": [
    {
     "data": {
      "text/plain": [
       "<AxesSubplot:xlabel='Date'>"
      ]
     },
     "execution_count": 74,
     "metadata": {},
     "output_type": "execute_result"
    },
    {
     "data": {
      "image/png": "[encoded data removed]",
      "text/plain": [
       "<Figure size 432x288 with 1 Axes>"
      ]
     },
     "metadata": {
      "needs_background": "light"
     },
     "output_type": "display_data"
    }
   ],
   "source": [
    "my_data.Error.plot()"
   ]
  },
  {
   "cell_type": "code",
   "execution_count": 75,
   "id": "congressional-making",
   "metadata": {},
   "outputs": [
    {
     "data": {
      "text/plain": [
       "count    4.800000e+01\n",
       "mean     4.625929e-17\n",
       "std      5.624950e-02\n",
       "min     -8.194664e-02\n",
       "25%     -4.441842e-02\n",
       "50%     -1.046560e-02\n",
       "75%      4.007208e-02\n",
       "max      1.294725e-01\n",
       "Name: Error, dtype: float64"
      ]
     },
     "execution_count": 75,
     "metadata": {},
     "output_type": "execute_result"
    }
   ],
   "source": [
    "my_data.Error.describe()"
   ]
  },
  {
   "cell_type": "code",
   "execution_count": 76,
   "id": "distant-cooperative",
   "metadata": {},
   "outputs": [
    {
     "data": {
      "text/plain": [
       "<AxesSubplot:>"
      ]
     },
     "execution_count": 76,
     "metadata": {},
     "output_type": "execute_result"
    },
    {
     "data": {
      "image/png": "[encoded data removed]",
      "text/plain": [
       "<Figure size 432x288 with 1 Axes>"
      ]
     },
     "metadata": {
      "needs_background": "light"
     },
     "output_type": "display_data"
    }
   ],
   "source": [
    "my_data.Error.hist()"
   ]
  },
  {
   "cell_type": "code",
   "execution_count": 77,
   "id": "figured-cable",
   "metadata": {},
   "outputs": [
    {
     "data": {
      "text/plain": [
       "<AxesSubplot:ylabel='Density'>"
      ]
     },
     "execution_count": 77,
     "metadata": {},
     "output_type": "execute_result"
    },
    {
     "data": {
      "image/png": "[encoded data removed]",
      "text/plain": [
       "<Figure size 432x288 with 1 Axes>"
      ]
     },
     "metadata": {
      "needs_background": "light"
     },
     "output_type": "display_data"
    }
   ],
   "source": [
    "my_data.Error.plot(kind='kde')"
   ]
  },
  {
   "cell_type": "code",
   "execution_count": 78,
   "id": "stainless-album",
   "metadata": {},
   "outputs": [
    {
     "data": {
      "image/png": "[encoded data removed]",
      "text/plain": [
       "<Figure size 432x288 with 1 Axes>"
      ]
     },
     "metadata": {
      "needs_background": "light"
     },
     "output_type": "display_data"
    }
   ],
   "source": [
    "qqplot(my_data.Error, line='r')\n",
    "plt.show()"
   ]
  },
  {
   "cell_type": "code",
   "execution_count": 79,
   "id": "delayed-bench",
   "metadata": {},
   "outputs": [
    {
     "data": {
      "text/plain": [
       "2.3863196370346578"
      ]
     },
     "execution_count": 79,
     "metadata": {},
     "output_type": "execute_result"
    }
   ],
   "source": [
    "d=durbin_watson(my_data.Error)\n",
    "d"
   ]
  },
  {
   "cell_type": "code",
   "execution_count": 80,
   "id": "interior-surfing",
   "metadata": {},
   "outputs": [
    {
     "data": {
      "text/plain": [
       "1.6136803629653422"
      ]
     },
     "execution_count": 80,
     "metadata": {},
     "output_type": "execute_result"
    }
   ],
   "source": [
    "4-d"
   ]
  },
  {
   "cell_type": "markdown",
   "id": "sapphire-novelty",
   "metadata": {},
   "source": [
    "n=48, K=1, alfa=0.05. Тогда для n=50 и K=1 из таблицы на с.183 Дубровой dl=1.5, du=1.59"
   ]
  },
  {
   "cell_type": "markdown",
   "id": "african-white",
   "metadata": {},
   "source": [
    "Так как 4-d>du, то гипотеза об отсутствии автокорреляции не отвергается."
   ]
  },
  {
   "cell_type": "code",
   "execution_count": 81,
   "id": "happy-present",
   "metadata": {
    "tags": []
   },
   "outputs": [
    {
     "data": {
      "text/plain": [
       "<AxesSubplot:xlabel='Lag', ylabel='Autocorrelation'>"
      ]
     },
     "execution_count": 81,
     "metadata": {},
     "output_type": "execute_result"
    },
    {
     "data": {
      "image/png": "[encoded data removed]",
      "text/plain": [
       "<Figure size 432x288 with 1 Axes>"
      ]
     },
     "metadata": {
      "needs_background": "light"
     },
     "output_type": "display_data"
    }
   ],
   "source": [
    "autocorrelation_plot(my_data.Error)"
   ]
  },
  {
   "cell_type": "markdown",
   "id": "deadly-technology",
   "metadata": {},
   "source": [
    "<p><a name=\"Intervals\"></a></p>\n",
    "\n",
    "# Построение интервального прогноза"
   ]
  },
  {
   "cell_type": "markdown",
   "id": "periodic-merit",
   "metadata": {},
   "source": [
    "$$\\frac{\\hat{Y_i}-Y_i}{\\sigma} \\sim T(n) $$ \n",
    "где $$\\sigma^2 = \\frac{\\sum_{i=1}^{n}(Y_i-\\hat{Y_i})^2}{n-1} $$\n",
    "-выборочная дисперсия\n",
    "$$ P(-T_{n,\\alpha} < \\frac{\\hat{Y_i}-Y_i}{\\sigma} < T_{n,\\alpha} ) = \\alpha $$\n",
    "$$ \\left (\\hat{Y_i} -T_{n,\\alpha}\\cdot \\sigma \\leq Y_i \\leq \\hat{Y_i} +T_{n,\\alpha}\\cdot \\sigma \\right ) $$"
   ]
  },
  {
   "cell_type": "code",
   "execution_count": 82,
   "id": "mighty-apple",
   "metadata": {},
   "outputs": [
    {
     "data": {
      "text/plain": [
       "0.058103619380434325"
      ]
     },
     "execution_count": 82,
     "metadata": {},
     "output_type": "execute_result"
    }
   ],
   "source": [
    "sigma=scipy.stats.sem(y)\n",
    "sigma"
   ]
  },
  {
   "cell_type": "code",
   "execution_count": 83,
   "id": "congressional-seventh",
   "metadata": {},
   "outputs": [
    {
     "data": {
      "text/plain": [
       "2.0117405104757546"
      ]
     },
     "execution_count": 83,
     "metadata": {},
     "output_type": "execute_result"
    }
   ],
   "source": [
    "confidence=0.95\n",
    "tstu=scipy.stats.t.ppf((1 + confidence) / 2., len(y)-1)\n",
    "tstu"
   ]
  },
  {
   "cell_type": "code",
   "execution_count": 84,
   "id": "collectible-contamination",
   "metadata": {},
   "outputs": [
    {
     "data": {
      "text/plain": [
       "array([49, 50, 51, 52, 53, 54, 55, 56, 57, 58, 59, 60])"
      ]
     },
     "execution_count": 84,
     "metadata": {},
     "output_type": "execute_result"
    }
   ],
   "source": [
    "t_new = np.arange(len(y) + 1,len(y)+13)\n",
    "t_new"
   ]
  },
  {
   "cell_type": "code",
   "execution_count": 85,
   "id": "ultimate-channel",
   "metadata": {},
   "outputs": [
    {
     "data": {
      "text/plain": [
       "0     3.722081\n",
       "1     3.558828\n",
       "2     3.588352\n",
       "3     3.863154\n",
       "4     4.033234\n",
       "5     4.326091\n",
       "6     4.534227\n",
       "7     4.646529\n",
       "8     4.499108\n",
       "9     4.318355\n",
       "10    4.068157\n",
       "11    3.765598\n",
       "Name: S, dtype: float64"
      ]
     },
     "execution_count": 85,
     "metadata": {},
     "output_type": "execute_result"
    }
   ],
   "source": [
    "y_new=coef[0] * t_new + coef[1]+s\n",
    "y_new"
   ]
  },
  {
   "cell_type": "code",
   "execution_count": 86,
   "id": "incorporated-suite",
   "metadata": {},
   "outputs": [
    {
     "data": {
      "text/plain": [
       "0     3.838971\n",
       "1     3.675717\n",
       "2     3.705241\n",
       "3     3.980043\n",
       "4     4.150123\n",
       "5     4.442981\n",
       "6     4.651116\n",
       "7     4.763418\n",
       "8     4.615998\n",
       "9     4.435244\n",
       "10    4.185046\n",
       "11    3.882487\n",
       "Name: S, dtype: float64"
      ]
     },
     "execution_count": 86,
     "metadata": {},
     "output_type": "execute_result"
    }
   ],
   "source": [
    "y_up=y_new+tstu*sigma\n",
    "y_up"
   ]
  },
  {
   "cell_type": "code",
   "execution_count": 87,
   "id": "official-graduation",
   "metadata": {},
   "outputs": [
    {
     "data": {
      "text/plain": [
       "0     3.605192\n",
       "1     3.441938\n",
       "2     3.471463\n",
       "3     3.746265\n",
       "4     3.916344\n",
       "5     4.209202\n",
       "6     4.417337\n",
       "7     4.529639\n",
       "8     4.382219\n",
       "9     4.201465\n",
       "10    3.951267\n",
       "11    3.648708\n",
       "Name: S, dtype: float64"
      ]
     },
     "execution_count": 87,
     "metadata": {},
     "output_type": "execute_result"
    }
   ],
   "source": [
    "y_down=y_new-tstu*sigma\n",
    "y_down"
   ]
  },
  {
   "cell_type": "code",
   "execution_count": 88,
   "id": "average-delhi",
   "metadata": {},
   "outputs": [
    {
     "data": {
      "image/png": "[encoded data removed]",
      "text/plain": [
       "<Figure size 1080x720 with 1 Axes>"
      ]
     },
     "metadata": {
      "needs_background": "light"
     },
     "output_type": "display_data"
    }
   ],
   "source": [
    "plt.figure(figsize=[15,10])\n",
    "\n",
    "plt.scatter(t, y)\n",
    "\n",
    "plt.plot(t,y_pred)\n",
    "plt.plot(t_new,y_new)\n",
    "plt.plot(t_new,y_up)\n",
    "plt.plot(t_new,y_down)\n",
    "\n",
    "plt.xlabel(\"Номер наблюдения\")\n",
    "plt.ylabel(\"Цена на материал 1\")\n",
    "plt.legend(['модель регрессии','прогноз','верхняя граница дов.интервала' ,\\\n",
    "            'нижняя граница дов.интервала'])\n",
    "\n",
    "plt.show()"
   ]
  },
  {
   "cell_type": "code",
   "execution_count": 89,
   "id": "spiritual-version",
   "metadata": {},
   "outputs": [
    {
     "data": {
      "image/png": "[encoded data removed]",
      "text/plain": [
       "<Figure size 432x288 with 4 Axes>"
      ]
     },
     "metadata": {
      "needs_background": "light"
     },
     "output_type": "display_data"
    }
   ],
   "source": [
    "# additive decompose a contrived additive time series\n",
    "result = seasonal_decompose(series, model='additive')\n",
    "result.plot()\n",
    "plt.show()"
   ]
  },
  {
   "cell_type": "code",
   "execution_count": 90,
   "id": "extended-given",
   "metadata": {},
   "outputs": [
    {
     "data": {
      "text/plain": [
       "Date\n",
       "2007-01-01         NaN\n",
       "2007-02-01         NaN\n",
       "2007-03-01         NaN\n",
       "2007-04-01         NaN\n",
       "2007-05-01         NaN\n",
       "2007-06-01         NaN\n",
       "2007-07-01    4.562917\n",
       "2007-08-01    4.559583\n",
       "2007-09-01    4.556250\n",
       "2007-10-01    4.548333\n",
       "Name: trend, dtype: float64"
      ]
     },
     "execution_count": 90,
     "metadata": {},
     "output_type": "execute_result"
    }
   ],
   "source": [
    "result.trend.head(10)"
   ]
  },
  {
   "cell_type": "code",
   "execution_count": 91,
   "id": "collect-memorial",
   "metadata": {},
   "outputs": [
    {
     "data": {
      "text/plain": [
       "Date\n",
       "2007-01-01   -0.414907\n",
       "2007-02-01   -0.567546\n",
       "2007-03-01   -0.524630\n",
       "2007-04-01   -0.236574\n",
       "2007-05-01   -0.059907\n",
       "Name: seasonal, dtype: float64"
      ]
     },
     "execution_count": 91,
     "metadata": {},
     "output_type": "execute_result"
    }
   ],
   "source": [
    "result.seasonal.head()"
   ]
  },
  {
   "cell_type": "code",
   "execution_count": 92,
   "id": "close-pearl",
   "metadata": {},
   "outputs": [
    {
     "data": {
      "text/plain": [
       "Date\n",
       "2007-01-01         NaN\n",
       "2007-02-01         NaN\n",
       "2007-03-01         NaN\n",
       "2007-04-01         NaN\n",
       "2007-05-01         NaN\n",
       "2007-06-01         NaN\n",
       "2007-07-01    0.045741\n",
       "2007-08-01   -0.004259\n",
       "2007-09-01   -0.076204\n",
       "2007-10-01    0.017407\n",
       "Name: resid, dtype: float64"
      ]
     },
     "execution_count": 92,
     "metadata": {},
     "output_type": "execute_result"
    }
   ],
   "source": [
    "result.resid.head(10)"
   ]
  },
  {
   "cell_type": "code",
   "execution_count": null,
   "id": "apart-elite",
   "metadata": {},
   "outputs": [],
   "source": []
  }
 ],
 "metadata": {
  "kernelspec": {
   "display_name": "Python 3",
   "language": "python",
   "name": "python3"
  },
  "language_info": {
   "codemirror_mode": {
    "name": "ipython",
    "version": 3
   },
   "file_extension": ".py",
   "mimetype": "text/x-python",
   "name": "python",
   "nbconvert_exporter": "python",
   "pygments_lexer": "ipython3",
   "version": "3.7.4"
  }
 },
 "nbformat": 4,
 "nbformat_minor": 5
}
