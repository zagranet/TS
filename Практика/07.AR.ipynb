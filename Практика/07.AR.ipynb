{
 "cells": [
  {
   "cell_type": "markdown",
   "id": "obvious-massachusetts",
   "metadata": {},
   "source": [
    "# ЗАДАНИЕ 7. ПОСТРОЕНИЕ МОДЕЛИ АВТОРЕГРЕССИИ"
   ]
  },
  {
   "cell_type": "code",
   "execution_count": 1,
   "id": "julian-skiing",
   "metadata": {
    "tags": []
   },
   "outputs": [],
   "source": [
    "import os\n",
    "import pandas as pd \n",
    "import numpy as np\n",
    "from sklearn.metrics import r2_score, mean_absolute_error, mean_squared_error\n",
    "from math import sqrt\n",
    "from statsmodels.graphics.gofplots import qqplot\n",
    "import matplotlib.pyplot as plt\n",
    "from pandas.plotting import autocorrelation_plot\n",
    "import scipy.stats\n",
    "from scipy.stats import t as student\n",
    "from sklearn.linear_model import LinearRegression\n",
    "from statsmodels.tsa.ar_model import AutoReg, ar_select_order \n",
    "import warnings"
   ]
  },
  {
   "cell_type": "code",
   "execution_count": 2,
   "id": "amateur-elite",
   "metadata": {},
   "outputs": [],
   "source": [
    "os.chdir(\"C:/Users/HP/Documents/analysis/TS/data/\")"
   ]
  },
  {
   "cell_type": "code",
   "execution_count": 3,
   "id": "prescription-demand",
   "metadata": {},
   "outputs": [
    {
     "data": {
      "text/html": [
       "<div>\n",
       "<style scoped>\n",
       "    .dataframe tbody tr th:only-of-type {\n",
       "        vertical-align: middle;\n",
       "    }\n",
       "\n",
       "    .dataframe tbody tr th {\n",
       "        vertical-align: top;\n",
       "    }\n",
       "\n",
       "    .dataframe thead th {\n",
       "        text-align: right;\n",
       "    }\n",
       "</style>\n",
       "<table border=\"1\" class=\"dataframe\">\n",
       "  <thead>\n",
       "    <tr style=\"text-align: right;\">\n",
       "      <th></th>\n",
       "      <th>Unnamed: 0</th>\n",
       "      <th>Unnamed: 1</th>\n",
       "      <th>Рыночные цены на материал 3 (руб.)</th>\n",
       "      <th>Unnamed: 3</th>\n",
       "      <th>Unnamed: 4</th>\n",
       "      <th>Unnamed: 5</th>\n",
       "      <th>Unnamed: 6</th>\n",
       "      <th>Unnamed: 7</th>\n",
       "      <th>Unnamed: 8</th>\n",
       "      <th>Unnamed: 9</th>\n",
       "      <th>...</th>\n",
       "      <th>Unnamed: 40</th>\n",
       "      <th>Unnamed: 41</th>\n",
       "      <th>Unnamed: 42</th>\n",
       "      <th>Unnamed: 43</th>\n",
       "      <th>Unnamed: 44</th>\n",
       "      <th>Unnamed: 45</th>\n",
       "      <th>Unnamed: 46</th>\n",
       "      <th>Unnamed: 47</th>\n",
       "      <th>Unnamed: 48</th>\n",
       "      <th>Unnamed: 49</th>\n",
       "    </tr>\n",
       "  </thead>\n",
       "  <tbody>\n",
       "    <tr>\n",
       "      <th>0</th>\n",
       "      <td>NaN</td>\n",
       "      <td>NaN</td>\n",
       "      <td>2007-01-01 00:00:00</td>\n",
       "      <td>2007-02-01 00:00:00</td>\n",
       "      <td>2007-03-01 00:00:00</td>\n",
       "      <td>2007-04-01 00:00:00</td>\n",
       "      <td>2007-05-01 00:00:00</td>\n",
       "      <td>2007-06-01 00:00:00</td>\n",
       "      <td>2007-07-01 00:00:00</td>\n",
       "      <td>2007-08-01 00:00:00</td>\n",
       "      <td>...</td>\n",
       "      <td>2010-03-01 00:00:00</td>\n",
       "      <td>2010-04-01 00:00:00</td>\n",
       "      <td>2010-05-01 00:00:00</td>\n",
       "      <td>2010-06-01 00:00:00</td>\n",
       "      <td>2010-07-01 00:00:00</td>\n",
       "      <td>2010-08-01 00:00:00</td>\n",
       "      <td>2010-09-01 00:00:00</td>\n",
       "      <td>2010-10-01 00:00:00</td>\n",
       "      <td>2010-11-01 00:00:00</td>\n",
       "      <td>2010-12-01 00:00:00</td>\n",
       "    </tr>\n",
       "    <tr>\n",
       "      <th>1</th>\n",
       "      <td>№ организации</td>\n",
       "      <td>1.0</td>\n",
       "      <td>10.07</td>\n",
       "      <td>10.04</td>\n",
       "      <td>10.05</td>\n",
       "      <td>10.05</td>\n",
       "      <td>10.03</td>\n",
       "      <td>10.03</td>\n",
       "      <td>10.06</td>\n",
       "      <td>10.03</td>\n",
       "      <td>...</td>\n",
       "      <td>10.18</td>\n",
       "      <td>10.18</td>\n",
       "      <td>10.16</td>\n",
       "      <td>10.17</td>\n",
       "      <td>10.14</td>\n",
       "      <td>10.16</td>\n",
       "      <td>10.12</td>\n",
       "      <td>10.14</td>\n",
       "      <td>10.12</td>\n",
       "      <td>10.15</td>\n",
       "    </tr>\n",
       "    <tr>\n",
       "      <th>2</th>\n",
       "      <td>NaN</td>\n",
       "      <td>2.0</td>\n",
       "      <td>10</td>\n",
       "      <td>10.25</td>\n",
       "      <td>10.23</td>\n",
       "      <td>10.39</td>\n",
       "      <td>10.22</td>\n",
       "      <td>10.16</td>\n",
       "      <td>9.99</td>\n",
       "      <td>9.91</td>\n",
       "      <td>...</td>\n",
       "      <td>8.84</td>\n",
       "      <td>8.78</td>\n",
       "      <td>8.7</td>\n",
       "      <td>8.55</td>\n",
       "      <td>8.61</td>\n",
       "      <td>8.85</td>\n",
       "      <td>8.77</td>\n",
       "      <td>8.55</td>\n",
       "      <td>8.44</td>\n",
       "      <td>8.21</td>\n",
       "    </tr>\n",
       "    <tr>\n",
       "      <th>3</th>\n",
       "      <td>NaN</td>\n",
       "      <td>3.0</td>\n",
       "      <td>78.79</td>\n",
       "      <td>78.93</td>\n",
       "      <td>78.81</td>\n",
       "      <td>78.7</td>\n",
       "      <td>78.63</td>\n",
       "      <td>78.76</td>\n",
       "      <td>78.6</td>\n",
       "      <td>78.7</td>\n",
       "      <td>...</td>\n",
       "      <td>79.02</td>\n",
       "      <td>79.12</td>\n",
       "      <td>79.09</td>\n",
       "      <td>79.16</td>\n",
       "      <td>79.28</td>\n",
       "      <td>79.1</td>\n",
       "      <td>79.22</td>\n",
       "      <td>79.33</td>\n",
       "      <td>79.09</td>\n",
       "      <td>79.09</td>\n",
       "    </tr>\n",
       "    <tr>\n",
       "      <th>4</th>\n",
       "      <td>NaN</td>\n",
       "      <td>4.0</td>\n",
       "      <td>85.22</td>\n",
       "      <td>85.34</td>\n",
       "      <td>85.29</td>\n",
       "      <td>85.38</td>\n",
       "      <td>85.6</td>\n",
       "      <td>85.46</td>\n",
       "      <td>85.5</td>\n",
       "      <td>85.27</td>\n",
       "      <td>...</td>\n",
       "      <td>86.25</td>\n",
       "      <td>86.43</td>\n",
       "      <td>86.22</td>\n",
       "      <td>86.11</td>\n",
       "      <td>86.12</td>\n",
       "      <td>86.17</td>\n",
       "      <td>86.35</td>\n",
       "      <td>86.53</td>\n",
       "      <td>86.33</td>\n",
       "      <td>86.37</td>\n",
       "    </tr>\n",
       "  </tbody>\n",
       "</table>\n",
       "<p>5 rows × 50 columns</p>\n",
       "</div>"
      ],
      "text/plain": [
       "      Unnamed: 0  Unnamed: 1 Рыночные цены на материал 3 (руб.)  \\\n",
       "0            NaN         NaN                2007-01-01 00:00:00   \n",
       "1  № организации         1.0                              10.07   \n",
       "2            NaN         2.0                                 10   \n",
       "3            NaN         3.0                              78.79   \n",
       "4            NaN         4.0                              85.22   \n",
       "\n",
       "            Unnamed: 3           Unnamed: 4           Unnamed: 5  \\\n",
       "0  2007-02-01 00:00:00  2007-03-01 00:00:00  2007-04-01 00:00:00   \n",
       "1                10.04                10.05                10.05   \n",
       "2                10.25                10.23                10.39   \n",
       "3                78.93                78.81                 78.7   \n",
       "4                85.34                85.29                85.38   \n",
       "\n",
       "            Unnamed: 6           Unnamed: 7           Unnamed: 8  \\\n",
       "0  2007-05-01 00:00:00  2007-06-01 00:00:00  2007-07-01 00:00:00   \n",
       "1                10.03                10.03                10.06   \n",
       "2                10.22                10.16                 9.99   \n",
       "3                78.63                78.76                 78.6   \n",
       "4                 85.6                85.46                 85.5   \n",
       "\n",
       "            Unnamed: 9  ...          Unnamed: 40          Unnamed: 41  \\\n",
       "0  2007-08-01 00:00:00  ...  2010-03-01 00:00:00  2010-04-01 00:00:00   \n",
       "1                10.03  ...                10.18                10.18   \n",
       "2                 9.91  ...                 8.84                 8.78   \n",
       "3                 78.7  ...                79.02                79.12   \n",
       "4                85.27  ...                86.25                86.43   \n",
       "\n",
       "           Unnamed: 42          Unnamed: 43          Unnamed: 44  \\\n",
       "0  2010-05-01 00:00:00  2010-06-01 00:00:00  2010-07-01 00:00:00   \n",
       "1                10.16                10.17                10.14   \n",
       "2                  8.7                 8.55                 8.61   \n",
       "3                79.09                79.16                79.28   \n",
       "4                86.22                86.11                86.12   \n",
       "\n",
       "           Unnamed: 45          Unnamed: 46          Unnamed: 47  \\\n",
       "0  2010-08-01 00:00:00  2010-09-01 00:00:00  2010-10-01 00:00:00   \n",
       "1                10.16                10.12                10.14   \n",
       "2                 8.85                 8.77                 8.55   \n",
       "3                 79.1                79.22                79.33   \n",
       "4                86.17                86.35                86.53   \n",
       "\n",
       "           Unnamed: 48          Unnamed: 49  \n",
       "0  2010-11-01 00:00:00  2010-12-01 00:00:00  \n",
       "1                10.12                10.15  \n",
       "2                 8.44                 8.21  \n",
       "3                79.09                79.09  \n",
       "4                86.33                86.37  \n",
       "\n",
       "[5 rows x 50 columns]"
      ]
     },
     "execution_count": 3,
     "metadata": {},
     "output_type": "execute_result"
    }
   ],
   "source": [
    "data = pd.read_excel('data.xls', sheet_name='Material 3')\n",
    "data.head()"
   ]
  },
  {
   "cell_type": "code",
   "execution_count": 4,
   "id": "apparent-disaster",
   "metadata": {},
   "outputs": [],
   "source": [
    "dates = data.loc[data.index == 0].values[0, 2:]\n",
    "val = data.loc[data.index == 1].values[0, 2:]"
   ]
  },
  {
   "cell_type": "code",
   "execution_count": 5,
   "id": "advanced-percentage",
   "metadata": {},
   "outputs": [],
   "source": [
    "data={\"Date\": dates, \"Value\": val}"
   ]
  },
  {
   "cell_type": "code",
   "execution_count": 6,
   "id": "spoken-sheet",
   "metadata": {},
   "outputs": [
    {
     "data": {
      "text/html": [
       "<div>\n",
       "<style scoped>\n",
       "    .dataframe tbody tr th:only-of-type {\n",
       "        vertical-align: middle;\n",
       "    }\n",
       "\n",
       "    .dataframe tbody tr th {\n",
       "        vertical-align: top;\n",
       "    }\n",
       "\n",
       "    .dataframe thead th {\n",
       "        text-align: right;\n",
       "    }\n",
       "</style>\n",
       "<table border=\"1\" class=\"dataframe\">\n",
       "  <thead>\n",
       "    <tr style=\"text-align: right;\">\n",
       "      <th></th>\n",
       "      <th>Date</th>\n",
       "      <th>Value</th>\n",
       "    </tr>\n",
       "  </thead>\n",
       "  <tbody>\n",
       "    <tr>\n",
       "      <th>0</th>\n",
       "      <td>2007-01-01</td>\n",
       "      <td>10.07</td>\n",
       "    </tr>\n",
       "    <tr>\n",
       "      <th>1</th>\n",
       "      <td>2007-02-01</td>\n",
       "      <td>10.04</td>\n",
       "    </tr>\n",
       "    <tr>\n",
       "      <th>2</th>\n",
       "      <td>2007-03-01</td>\n",
       "      <td>10.05</td>\n",
       "    </tr>\n",
       "    <tr>\n",
       "      <th>3</th>\n",
       "      <td>2007-04-01</td>\n",
       "      <td>10.05</td>\n",
       "    </tr>\n",
       "    <tr>\n",
       "      <th>4</th>\n",
       "      <td>2007-05-01</td>\n",
       "      <td>10.03</td>\n",
       "    </tr>\n",
       "  </tbody>\n",
       "</table>\n",
       "</div>"
      ],
      "text/plain": [
       "        Date  Value\n",
       "0 2007-01-01  10.07\n",
       "1 2007-02-01  10.04\n",
       "2 2007-03-01  10.05\n",
       "3 2007-04-01  10.05\n",
       "4 2007-05-01  10.03"
      ]
     },
     "execution_count": 6,
     "metadata": {},
     "output_type": "execute_result"
    }
   ],
   "source": [
    "my_data = pd.DataFrame(data)\n",
    "my_data.head()"
   ]
  },
  {
   "cell_type": "code",
   "execution_count": 7,
   "id": "junior-firmware",
   "metadata": {},
   "outputs": [
    {
     "data": {
      "text/html": [
       "<div>\n",
       "<style scoped>\n",
       "    .dataframe tbody tr th:only-of-type {\n",
       "        vertical-align: middle;\n",
       "    }\n",
       "\n",
       "    .dataframe tbody tr th {\n",
       "        vertical-align: top;\n",
       "    }\n",
       "\n",
       "    .dataframe thead th {\n",
       "        text-align: right;\n",
       "    }\n",
       "</style>\n",
       "<table border=\"1\" class=\"dataframe\">\n",
       "  <thead>\n",
       "    <tr style=\"text-align: right;\">\n",
       "      <th></th>\n",
       "      <th>Value</th>\n",
       "    </tr>\n",
       "    <tr>\n",
       "      <th>Date</th>\n",
       "      <th></th>\n",
       "    </tr>\n",
       "  </thead>\n",
       "  <tbody>\n",
       "    <tr>\n",
       "      <th>2007-01-01</th>\n",
       "      <td>10.07</td>\n",
       "    </tr>\n",
       "    <tr>\n",
       "      <th>2007-02-01</th>\n",
       "      <td>10.04</td>\n",
       "    </tr>\n",
       "    <tr>\n",
       "      <th>2007-03-01</th>\n",
       "      <td>10.05</td>\n",
       "    </tr>\n",
       "    <tr>\n",
       "      <th>2007-04-01</th>\n",
       "      <td>10.05</td>\n",
       "    </tr>\n",
       "    <tr>\n",
       "      <th>2007-05-01</th>\n",
       "      <td>10.03</td>\n",
       "    </tr>\n",
       "  </tbody>\n",
       "</table>\n",
       "</div>"
      ],
      "text/plain": [
       "            Value\n",
       "Date             \n",
       "2007-01-01  10.07\n",
       "2007-02-01  10.04\n",
       "2007-03-01  10.05\n",
       "2007-04-01  10.05\n",
       "2007-05-01  10.03"
      ]
     },
     "execution_count": 7,
     "metadata": {},
     "output_type": "execute_result"
    }
   ],
   "source": [
    "my_data=my_data.set_index('Date')\n",
    "my_data.head()"
   ]
  },
  {
   "cell_type": "code",
   "execution_count": 8,
   "id": "defined-course",
   "metadata": {},
   "outputs": [
    {
     "name": "stdout",
     "output_type": "stream",
     "text": [
      "<class 'pandas.core.frame.DataFrame'>\n",
      "DatetimeIndex: 48 entries, 2007-01-01 to 2010-12-01\n",
      "Data columns (total 1 columns):\n",
      " #   Column  Non-Null Count  Dtype \n",
      "---  ------  --------------  ----- \n",
      " 0   Value   48 non-null     object\n",
      "dtypes: object(1)\n",
      "memory usage: 768.0+ bytes\n"
     ]
    }
   ],
   "source": [
    "my_data.info()"
   ]
  },
  {
   "cell_type": "code",
   "execution_count": 9,
   "id": "violent-subscriber",
   "metadata": {},
   "outputs": [],
   "source": [
    "my_data.Value=my_data.Value.astype(float)"
   ]
  },
  {
   "cell_type": "code",
   "execution_count": 10,
   "id": "potential-dinner",
   "metadata": {},
   "outputs": [
    {
     "name": "stdout",
     "output_type": "stream",
     "text": [
      "<class 'pandas.core.frame.DataFrame'>\n",
      "DatetimeIndex: 48 entries, 2007-01-01 to 2010-12-01\n",
      "Data columns (total 1 columns):\n",
      " #   Column  Non-Null Count  Dtype  \n",
      "---  ------  --------------  -----  \n",
      " 0   Value   48 non-null     float64\n",
      "dtypes: float64(1)\n",
      "memory usage: 768.0 bytes\n"
     ]
    }
   ],
   "source": [
    "my_data.info()"
   ]
  },
  {
   "cell_type": "code",
   "execution_count": 11,
   "id": "adjacent-bradford",
   "metadata": {
    "tags": []
   },
   "outputs": [
    {
     "data": {
      "text/plain": [
       "pandas.core.series.Series"
      ]
     },
     "execution_count": 11,
     "metadata": {},
     "output_type": "execute_result"
    }
   ],
   "source": [
    "series=my_data.squeeze()\n",
    "type(series)"
   ]
  },
  {
   "cell_type": "code",
   "execution_count": 12,
   "id": "reliable-archive",
   "metadata": {},
   "outputs": [
    {
     "data": {
      "text/plain": [
       "<AxesSubplot:xlabel='Date'>"
      ]
     },
     "execution_count": 12,
     "metadata": {},
     "output_type": "execute_result"
    },
    {
     "data": {
      "image/png": "[encoded data removed]",
      "text/plain": [
       "<Figure size 432x288 with 1 Axes>"
      ]
     },
     "metadata": {
      "needs_background": "light"
     },
     "output_type": "display_data"
    }
   ],
   "source": [
    "series.plot()"
   ]
  },
  {
   "cell_type": "code",
   "execution_count": 13,
   "id": "infectious-solution",
   "metadata": {},
   "outputs": [
    {
     "data": {
      "text/plain": [
       "12"
      ]
     },
     "execution_count": 13,
     "metadata": {},
     "output_type": "execute_result"
    }
   ],
   "source": [
    "max_tau=int(len(series)/4)\n",
    "max_tau"
   ]
  },
  {
   "cell_type": "code",
   "execution_count": 14,
   "id": "related-voltage",
   "metadata": {},
   "outputs": [
    {
     "data": {
      "image/png": "[encoded data removed]",
      "text/plain": [
       "<Figure size 720x432 with 1 Axes>"
      ]
     },
     "metadata": {
      "needs_background": "light"
     },
     "output_type": "display_data"
    }
   ],
   "source": [
    "fig, ax = plt.subplots(figsize = (10, 6))\n",
    "\n",
    "autocorrelation_plot(series, ax = ax, marker = '.')\n",
    "ax.xaxis.set_major_locator(plt.MultipleLocator(1))\n",
    "ax.set_xlim(0, max_tau)\n",
    "\n",
    "plt.show()"
   ]
  },
  {
   "cell_type": "code",
   "execution_count": 15,
   "id": "essential-battlefield",
   "metadata": {},
   "outputs": [
    {
     "name": "stdout",
     "output_type": "stream",
     "text": [
      "tau= 1 r= 0.8959886302192371\n",
      "tau= 2 r= 0.9190976529054086\n",
      "tau= 3 r= 0.8593969349232327\n",
      "tau= 4 r= 0.8398604496481589\n",
      "tau= 5 r= 0.8369255995982671\n",
      "tau= 6 r= 0.8104791098026918\n"
     ]
    }
   ],
   "source": [
    "for i in range(1,max_tau+1):\n",
    "    if series.autocorr(lag=i)>=0.8 or series.autocorr(lag=i)<=-0.8:\n",
    "        print('tau=',i,'r=',series.autocorr(lag=i))"
   ]
  },
  {
   "cell_type": "code",
   "execution_count": 16,
   "id": "accurate-overview",
   "metadata": {},
   "outputs": [
    {
     "data": {
      "text/plain": [
       "0.781485822206191"
      ]
     },
     "execution_count": 16,
     "metadata": {},
     "output_type": "execute_result"
    }
   ],
   "source": [
    "series.autocorr(lag=7)"
   ]
  },
  {
   "cell_type": "code",
   "execution_count": 17,
   "id": "pressing-aging",
   "metadata": {},
   "outputs": [
    {
     "name": "stdout",
     "output_type": "stream",
     "text": [
      "     t-6    t-5    t-4    t-3    t-2    t-1      t\n",
      "0    NaN    NaN    NaN    NaN    NaN    NaN  10.07\n",
      "1    NaN    NaN    NaN    NaN    NaN  10.07  10.04\n",
      "2    NaN    NaN    NaN    NaN  10.07  10.04  10.05\n",
      "3    NaN    NaN    NaN  10.07  10.04  10.05  10.05\n",
      "4    NaN    NaN  10.07  10.04  10.05  10.05  10.03\n",
      "5    NaN  10.07  10.04  10.05  10.05  10.03  10.03\n",
      "6  10.07  10.04  10.05  10.05  10.03  10.03  10.06\n",
      "7  10.04  10.05  10.05  10.03  10.03  10.06  10.03\n",
      "8  10.05  10.05  10.03  10.03  10.06  10.03  10.05\n",
      "9  10.05  10.03  10.03  10.06  10.03  10.05  10.04\n"
     ]
    }
   ],
   "source": [
    "# create lag features\n",
    "temps = pd.DataFrame(series.values)\n",
    "dataframe = pd.concat([temps.shift(6), temps.shift(5), temps.shift(4), temps.shift(3), temps.shift(2), temps.shift(1), temps], axis=1)\n",
    "dataframe.columns = ['t-6', 't-5', 't-4', 't-3', 't-2', 't-1', 't']\n",
    "print(dataframe.head(10))"
   ]
  },
  {
   "cell_type": "code",
   "execution_count": 18,
   "id": "tamil-perfume",
   "metadata": {},
   "outputs": [],
   "source": [
    "array = dataframe.values\n",
    "# separate array into input and output components\n",
    "x_train = array[6:36,0:6]\n",
    "y_train = array[6:36,6]\n",
    "x_test = array[36:48,0:6]\n",
    "y_test= array[36:48,6]"
   ]
  },
  {
   "cell_type": "code",
   "execution_count": 19,
   "id": "adapted-grace",
   "metadata": {},
   "outputs": [
    {
     "data": {
      "text/plain": [
       "(30, 30)"
      ]
     },
     "execution_count": 19,
     "metadata": {},
     "output_type": "execute_result"
    }
   ],
   "source": [
    "len(x_train),len(y_train)"
   ]
  },
  {
   "cell_type": "code",
   "execution_count": 20,
   "id": "impossible-guest",
   "metadata": {},
   "outputs": [
    {
     "data": {
      "text/plain": [
       "(12, 12)"
      ]
     },
     "execution_count": 20,
     "metadata": {},
     "output_type": "execute_result"
    }
   ],
   "source": [
    "len(x_test),len(y_test)"
   ]
  },
  {
   "cell_type": "code",
   "execution_count": 21,
   "id": "functional-bahamas",
   "metadata": {},
   "outputs": [
    {
     "data": {
      "text/plain": [
       "LinearRegression()"
      ]
     },
     "execution_count": 21,
     "metadata": {},
     "output_type": "execute_result"
    }
   ],
   "source": [
    "model = LinearRegression().fit(x_train, y_train)\n",
    "model"
   ]
  },
  {
   "cell_type": "code",
   "execution_count": 22,
   "id": "sunset-accommodation",
   "metadata": {},
   "outputs": [
    {
     "data": {
      "text/plain": [
       "-1.1305838135582906"
      ]
     },
     "execution_count": 22,
     "metadata": {},
     "output_type": "execute_result"
    }
   ],
   "source": [
    "model.intercept_"
   ]
  },
  {
   "cell_type": "code",
   "execution_count": 23,
   "id": "regulation-darwin",
   "metadata": {},
   "outputs": [
    {
     "data": {
      "text/plain": [
       "array([ 0.28957294,  0.30568777, -0.33216294, -0.06657351,  0.67201834,\n",
       "        0.24478978])"
      ]
     },
     "execution_count": 23,
     "metadata": {},
     "output_type": "execute_result"
    }
   ],
   "source": [
    "model.coef_"
   ]
  },
  {
   "cell_type": "code",
   "execution_count": 24,
   "id": "magnetic-industry",
   "metadata": {},
   "outputs": [
    {
     "data": {
      "text/plain": [
       "array([10.16431481, 10.15690398, 10.1665792 , 10.18303598, 10.20013965,\n",
       "       10.19035092, 10.16939356, 10.17927216, 10.17867211, 10.17488271,\n",
       "       10.15879661, 10.15708596])"
      ]
     },
     "execution_count": 24,
     "metadata": {},
     "output_type": "execute_result"
    }
   ],
   "source": [
    "# Расчетные значения по модели на тестовом наборе\n",
    "y_pred = model.predict(x_test) \n",
    "y_pred"
   ]
  },
  {
   "cell_type": "code",
   "execution_count": 25,
   "id": "significant-algebra",
   "metadata": {},
   "outputs": [
    {
     "name": "stdout",
     "output_type": "stream",
     "text": [
      "MSE: 0.000826\n"
     ]
    }
   ],
   "source": [
    "MSE = mean_squared_error(y_test, y_pred)\n",
    "print('MSE: %f' % MSE)"
   ]
  },
  {
   "cell_type": "code",
   "execution_count": 26,
   "id": "encouraging-tracker",
   "metadata": {},
   "outputs": [],
   "source": [
    "array = dataframe.values\n",
    "# separate array into input and output components\n",
    "x_train = array[6:36,0:6]\n",
    "y_train = array[6:36,6]\n",
    "x_test = array[36:48,0:6]\n",
    "y_test= array[36:48,6]"
   ]
  },
  {
   "cell_type": "code",
   "execution_count": 27,
   "id": "casual-bibliography",
   "metadata": {},
   "outputs": [],
   "source": [
    "x = array[6:48,0:6]\n",
    "y = array[6:48,6]"
   ]
  },
  {
   "cell_type": "code",
   "execution_count": 28,
   "id": "senior-white",
   "metadata": {},
   "outputs": [
    {
     "data": {
      "text/plain": [
       "(42, 42)"
      ]
     },
     "execution_count": 28,
     "metadata": {},
     "output_type": "execute_result"
    }
   ],
   "source": [
    "len(x),len(y)"
   ]
  },
  {
   "cell_type": "code",
   "execution_count": 29,
   "id": "cosmetic-accident",
   "metadata": {},
   "outputs": [
    {
     "data": {
      "text/plain": [
       "LinearRegression()"
      ]
     },
     "execution_count": 29,
     "metadata": {},
     "output_type": "execute_result"
    }
   ],
   "source": [
    "model = LinearRegression().fit(x, y)\n",
    "model"
   ]
  },
  {
   "cell_type": "code",
   "execution_count": 30,
   "id": "administrative-protocol",
   "metadata": {},
   "outputs": [
    {
     "data": {
      "text/plain": [
       "0.5453373690949554"
      ]
     },
     "execution_count": 30,
     "metadata": {},
     "output_type": "execute_result"
    }
   ],
   "source": [
    "model.intercept_"
   ]
  },
  {
   "cell_type": "code",
   "execution_count": 31,
   "id": "impressive-colors",
   "metadata": {},
   "outputs": [
    {
     "data": {
      "text/plain": [
       "array([ 0.07860707,  0.25185438, -0.24411278, -0.1826131 ,  0.68145948,\n",
       "        0.36131217])"
      ]
     },
     "execution_count": 31,
     "metadata": {},
     "output_type": "execute_result"
    }
   ],
   "source": [
    "model.coef_"
   ]
  },
  {
   "cell_type": "code",
   "execution_count": 32,
   "id": "otherwise-poultry",
   "metadata": {},
   "outputs": [
    {
     "data": {
      "text/plain": [
       "array([10.03593308, 10.05058503, 10.06585778, 10.04212476, 10.04872369,\n",
       "       10.04590961, 10.02764   , 10.03600061, 10.03893363, 10.05074062,\n",
       "       10.03966034, 10.04072762, 10.04508335, 10.06969851, 10.08534251,\n",
       "       10.07898216, 10.07840609, 10.062971  , 10.08696684, 10.11621249,\n",
       "       10.10874965, 10.11882891, 10.11949358, 10.10915211, 10.12641923,\n",
       "       10.10729517, 10.12394866, 10.14881958, 10.14426247, 10.15724968,\n",
       "       10.15241992, 10.14402769, 10.15167698, 10.16652961, 10.18445485,\n",
       "       10.17096415, 10.15362469, 10.16080782, 10.15300461, 10.15018149,\n",
       "       10.13476688, 10.13682254])"
      ]
     },
     "execution_count": 32,
     "metadata": {},
     "output_type": "execute_result"
    }
   ],
   "source": [
    "# Расчетные значения по модели на всем наборе\n",
    "y_pred = model.predict(x) \n",
    "y_pred"
   ]
  },
  {
   "cell_type": "code",
   "execution_count": 33,
   "id": "hairy-qualification",
   "metadata": {},
   "outputs": [
    {
     "name": "stdout",
     "output_type": "stream",
     "text": [
      "R2: 0.879418\n"
     ]
    }
   ],
   "source": [
    "R2 = r2_score(y, y_pred)\n",
    "print('R2: %f' % R2)"
   ]
  },
  {
   "cell_type": "code",
   "execution_count": 34,
   "id": "organized-event",
   "metadata": {},
   "outputs": [
    {
     "name": "stdout",
     "output_type": "stream",
     "text": [
      "MAE: 0.015211\n"
     ]
    }
   ],
   "source": [
    "MAE = mean_absolute_error(y, y_pred)\n",
    "print('MAE: %f' % MAE)"
   ]
  },
  {
   "cell_type": "code",
   "execution_count": 35,
   "id": "intimate-holocaust",
   "metadata": {},
   "outputs": [
    {
     "name": "stdout",
     "output_type": "stream",
     "text": [
      "MSE: 0.000308\n"
     ]
    }
   ],
   "source": [
    "MSE = mean_squared_error(y, y_pred)\n",
    "print('MSE: %f' % MSE)"
   ]
  },
  {
   "cell_type": "code",
   "execution_count": 36,
   "id": "administrative-particular",
   "metadata": {
    "tags": []
   },
   "outputs": [
    {
     "name": "stdout",
     "output_type": "stream",
     "text": [
      "RMSE: 0.017542\n"
     ]
    }
   ],
   "source": [
    "# calculate root mean squared error\n",
    "RMSE = sqrt(MSE)\n",
    "print('RMSE: %f' % RMSE)"
   ]
  },
  {
   "cell_type": "code",
   "execution_count": 37,
   "id": "spare-makeup",
   "metadata": {
    "tags": []
   },
   "outputs": [],
   "source": [
    "y=my_data.Value"
   ]
  },
  {
   "cell_type": "code",
   "execution_count": 38,
   "id": "rotary-calculation",
   "metadata": {},
   "outputs": [
    {
     "data": {
      "text/plain": [
       "42"
      ]
     },
     "execution_count": 38,
     "metadata": {},
     "output_type": "execute_result"
    }
   ],
   "source": [
    "len(y[6:48])"
   ]
  },
  {
   "cell_type": "code",
   "execution_count": 39,
   "id": "attached-olympus",
   "metadata": {},
   "outputs": [],
   "source": [
    "y=y[6:48]"
   ]
  },
  {
   "cell_type": "code",
   "execution_count": 40,
   "id": "latin-prisoner",
   "metadata": {},
   "outputs": [
    {
     "data": {
      "text/html": [
       "<div>\n",
       "<style scoped>\n",
       "    .dataframe tbody tr th:only-of-type {\n",
       "        vertical-align: middle;\n",
       "    }\n",
       "\n",
       "    .dataframe tbody tr th {\n",
       "        vertical-align: top;\n",
       "    }\n",
       "\n",
       "    .dataframe thead th {\n",
       "        text-align: right;\n",
       "    }\n",
       "</style>\n",
       "<table border=\"1\" class=\"dataframe\">\n",
       "  <thead>\n",
       "    <tr style=\"text-align: right;\">\n",
       "      <th></th>\n",
       "      <th>Value</th>\n",
       "      <th>Error</th>\n",
       "    </tr>\n",
       "    <tr>\n",
       "      <th>Date</th>\n",
       "      <th></th>\n",
       "      <th></th>\n",
       "    </tr>\n",
       "  </thead>\n",
       "  <tbody>\n",
       "    <tr>\n",
       "      <th>2007-01-01</th>\n",
       "      <td>10.07</td>\n",
       "      <td>NaN</td>\n",
       "    </tr>\n",
       "    <tr>\n",
       "      <th>2007-02-01</th>\n",
       "      <td>10.04</td>\n",
       "      <td>NaN</td>\n",
       "    </tr>\n",
       "    <tr>\n",
       "      <th>2007-03-01</th>\n",
       "      <td>10.05</td>\n",
       "      <td>NaN</td>\n",
       "    </tr>\n",
       "    <tr>\n",
       "      <th>2007-04-01</th>\n",
       "      <td>10.05</td>\n",
       "      <td>NaN</td>\n",
       "    </tr>\n",
       "    <tr>\n",
       "      <th>2007-05-01</th>\n",
       "      <td>10.03</td>\n",
       "      <td>NaN</td>\n",
       "    </tr>\n",
       "    <tr>\n",
       "      <th>2007-06-01</th>\n",
       "      <td>10.03</td>\n",
       "      <td>NaN</td>\n",
       "    </tr>\n",
       "    <tr>\n",
       "      <th>2007-07-01</th>\n",
       "      <td>10.06</td>\n",
       "      <td>0.024067</td>\n",
       "    </tr>\n",
       "    <tr>\n",
       "      <th>2007-08-01</th>\n",
       "      <td>10.03</td>\n",
       "      <td>-0.020585</td>\n",
       "    </tr>\n",
       "    <tr>\n",
       "      <th>2007-09-01</th>\n",
       "      <td>10.05</td>\n",
       "      <td>-0.015858</td>\n",
       "    </tr>\n",
       "    <tr>\n",
       "      <th>2007-10-01</th>\n",
       "      <td>10.04</td>\n",
       "      <td>-0.002125</td>\n",
       "    </tr>\n",
       "  </tbody>\n",
       "</table>\n",
       "</div>"
      ],
      "text/plain": [
       "            Value     Error\n",
       "Date                       \n",
       "2007-01-01  10.07       NaN\n",
       "2007-02-01  10.04       NaN\n",
       "2007-03-01  10.05       NaN\n",
       "2007-04-01  10.05       NaN\n",
       "2007-05-01  10.03       NaN\n",
       "2007-06-01  10.03       NaN\n",
       "2007-07-01  10.06  0.024067\n",
       "2007-08-01  10.03 -0.020585\n",
       "2007-09-01  10.05 -0.015858\n",
       "2007-10-01  10.04 -0.002125"
      ]
     },
     "execution_count": 40,
     "metadata": {},
     "output_type": "execute_result"
    }
   ],
   "source": [
    "my_data['Error']=y-y_pred\n",
    "my_data.head(10)"
   ]
  },
  {
   "cell_type": "code",
   "execution_count": 41,
   "id": "frank-attendance",
   "metadata": {},
   "outputs": [
    {
     "data": {
      "text/plain": [
       "Date\n",
       "2007-07-01    0.024067\n",
       "2007-08-01   -0.020585\n",
       "2007-09-01   -0.015858\n",
       "2007-10-01   -0.002125\n",
       "2007-11-01   -0.028724\n",
       "Name: Error, dtype: float64"
      ]
     },
     "execution_count": 41,
     "metadata": {},
     "output_type": "execute_result"
    }
   ],
   "source": [
    "err=my_data['Error'][6:48]\n",
    "err.head()"
   ]
  },
  {
   "cell_type": "code",
   "execution_count": 42,
   "id": "wanted-repeat",
   "metadata": {},
   "outputs": [
    {
     "data": {
      "text/plain": [
       "<AxesSubplot:xlabel='Date'>"
      ]
     },
     "execution_count": 42,
     "metadata": {},
     "output_type": "execute_result"
    },
    {
     "data": {
      "image/png": "[encoded data removed]",
      "text/plain": [
       "<Figure size 432x288 with 1 Axes>"
      ]
     },
     "metadata": {
      "needs_background": "light"
     },
     "output_type": "display_data"
    }
   ],
   "source": [
    "err.plot()"
   ]
  },
  {
   "cell_type": "code",
   "execution_count": 43,
   "id": "textile-cache",
   "metadata": {},
   "outputs": [
    {
     "data": {
      "text/plain": [
       "count    4.200000e+01\n",
       "mean     9.304726e-16\n",
       "std      1.775466e-02\n",
       "min     -3.300461e-02\n",
       "25%     -1.589665e-02\n",
       "50%     -8.859810e-04\n",
       "75%      1.386714e-02\n",
       "max      3.702900e-02\n",
       "Name: Error, dtype: float64"
      ]
     },
     "execution_count": 43,
     "metadata": {},
     "output_type": "execute_result"
    }
   ],
   "source": [
    "err.describe()"
   ]
  },
  {
   "cell_type": "code",
   "execution_count": 44,
   "id": "square-senator",
   "metadata": {},
   "outputs": [
    {
     "data": {
      "text/plain": [
       "<AxesSubplot:>"
      ]
     },
     "execution_count": 44,
     "metadata": {},
     "output_type": "execute_result"
    },
    {
     "data": {
      "image/png": "[encoded data removed]",
      "text/plain": [
       "<Figure size 432x288 with 1 Axes>"
      ]
     },
     "metadata": {
      "needs_background": "light"
     },
     "output_type": "display_data"
    }
   ],
   "source": [
    "err.hist()"
   ]
  },
  {
   "cell_type": "code",
   "execution_count": 45,
   "id": "institutional-opinion",
   "metadata": {},
   "outputs": [
    {
     "data": {
      "text/plain": [
       "<AxesSubplot:ylabel='Density'>"
      ]
     },
     "execution_count": 45,
     "metadata": {},
     "output_type": "execute_result"
    },
    {
     "data": {
      "image/png": "[encoded data removed]",
      "text/plain": [
       "<Figure size 432x288 with 1 Axes>"
      ]
     },
     "metadata": {
      "needs_background": "light"
     },
     "output_type": "display_data"
    }
   ],
   "source": [
    "err.plot(kind='kde')"
   ]
  },
  {
   "cell_type": "code",
   "execution_count": 46,
   "id": "boring-isaac",
   "metadata": {},
   "outputs": [
    {
     "data": {
      "image/png": "[encoded data removed]",
      "text/plain": [
       "<Figure size 432x288 with 1 Axes>"
      ]
     },
     "metadata": {
      "needs_background": "light"
     },
     "output_type": "display_data"
    }
   ],
   "source": [
    "qqplot(err, line='r')\n",
    "plt.show()"
   ]
  },
  {
   "cell_type": "code",
   "execution_count": 47,
   "id": "final-folder",
   "metadata": {
    "tags": []
   },
   "outputs": [
    {
     "data": {
      "text/plain": [
       "<AxesSubplot:xlabel='Lag', ylabel='Autocorrelation'>"
      ]
     },
     "execution_count": 47,
     "metadata": {},
     "output_type": "execute_result"
    },
    {
     "data": {
      "image/png": "[encoded data removed]",
      "text/plain": [
       "<Figure size 432x288 with 1 Axes>"
      ]
     },
     "metadata": {
      "needs_background": "light"
     },
     "output_type": "display_data"
    }
   ],
   "source": [
    "autocorrelation_plot(err)"
   ]
  },
  {
   "cell_type": "markdown",
   "id": "crude-natural",
   "metadata": {},
   "source": [
    "<p><a name=\"Intervals\"></a></p>\n",
    "\n",
    "# Построение интервального прогноза"
   ]
  },
  {
   "cell_type": "markdown",
   "id": "arctic-sister",
   "metadata": {},
   "source": [
    "$$\\frac{\\hat{Y_i}-Y_i}{\\sigma} \\sim T(n) $$ \n",
    "где $$\\sigma^2 = \\frac{\\sum_{i=1}^{n}(Y_i-\\hat{Y_i})^2}{n-1} $$\n",
    "-выборочная дисперсия\n",
    "$$ P(-T_{n,\\alpha} < \\frac{\\hat{Y_i}-Y_i}{\\sigma} < T_{n,\\alpha} ) = \\alpha $$\n",
    "$$ \\left (\\hat{Y_i} -T_{n,\\alpha}\\cdot \\sigma \\leq Y_i \\leq \\hat{Y_i} +T_{n,\\alpha}\\cdot \\sigma \\right ) $$"
   ]
  },
  {
   "cell_type": "code",
   "execution_count": 48,
   "id": "bronze-walter",
   "metadata": {},
   "outputs": [
    {
     "data": {
      "text/plain": [
       "0.00788945595667382"
      ]
     },
     "execution_count": 48,
     "metadata": {},
     "output_type": "execute_result"
    }
   ],
   "source": [
    "sigma=scipy.stats.sem(y)\n",
    "sigma"
   ]
  },
  {
   "cell_type": "code",
   "execution_count": 49,
   "id": "coordinated-intake",
   "metadata": {},
   "outputs": [
    {
     "data": {
      "text/plain": [
       "2.0195409639828936"
      ]
     },
     "execution_count": 49,
     "metadata": {},
     "output_type": "execute_result"
    }
   ],
   "source": [
    "confidence=0.95\n",
    "tstu=scipy.stats.t.ppf((1 + confidence) / 2., len(y)-1)\n",
    "tstu"
   ]
  },
  {
   "cell_type": "code",
   "execution_count": 50,
   "id": "marked-pound",
   "metadata": {},
   "outputs": [
    {
     "data": {
      "text/plain": [
       "array([[10.12, 10.13, 10.14, 10.16, 10.16, 10.15],\n",
       "       [10.13, 10.14, 10.16, 10.16, 10.15, 10.15],\n",
       "       [10.14, 10.16, 10.16, 10.15, 10.15, 10.15],\n",
       "       [10.16, 10.16, 10.15, 10.15, 10.15, 10.18],\n",
       "       [10.16, 10.15, 10.15, 10.15, 10.18, 10.18],\n",
       "       [10.15, 10.15, 10.15, 10.18, 10.18, 10.16],\n",
       "       [10.15, 10.15, 10.18, 10.18, 10.16, 10.17],\n",
       "       [10.15, 10.18, 10.18, 10.16, 10.17, 10.14],\n",
       "       [10.18, 10.18, 10.16, 10.17, 10.14, 10.16],\n",
       "       [10.18, 10.16, 10.17, 10.14, 10.16, 10.12],\n",
       "       [10.16, 10.17, 10.14, 10.16, 10.12, 10.14],\n",
       "       [10.17, 10.14, 10.16, 10.12, 10.14, 10.12]])"
      ]
     },
     "execution_count": 50,
     "metadata": {},
     "output_type": "execute_result"
    }
   ],
   "source": [
    "x_new=x_test\n",
    "x_new"
   ]
  },
  {
   "cell_type": "code",
   "execution_count": 51,
   "id": "mathematical-house",
   "metadata": {},
   "outputs": [
    {
     "data": {
      "text/plain": [
       "array([10.15241992, 10.14402769, 10.15167698, 10.16652961, 10.18445485,\n",
       "       10.17096415, 10.15362469, 10.16080782, 10.15300461, 10.15018149,\n",
       "       10.13476688, 10.13682254])"
      ]
     },
     "execution_count": 51,
     "metadata": {},
     "output_type": "execute_result"
    }
   ],
   "source": [
    "# Прогнозные значения по модели\n",
    "y_new = model.predict(x_new) \n",
    "y_new"
   ]
  },
  {
   "cell_type": "code",
   "execution_count": 52,
   "id": "healthy-rachel",
   "metadata": {},
   "outputs": [
    {
     "data": {
      "text/plain": [
       "array([10.168353  , 10.15996077, 10.16761006, 10.18246269, 10.20038793,\n",
       "       10.18689722, 10.16955777, 10.1767409 , 10.16893769, 10.16611457,\n",
       "       10.15069996, 10.15275561])"
      ]
     },
     "execution_count": 52,
     "metadata": {},
     "output_type": "execute_result"
    }
   ],
   "source": [
    "y_up=y_new+tstu*sigma\n",
    "y_up"
   ]
  },
  {
   "cell_type": "code",
   "execution_count": 53,
   "id": "hourly-prince",
   "metadata": {},
   "outputs": [
    {
     "data": {
      "text/plain": [
       "array([10.13648684, 10.12809461, 10.1357439 , 10.15059653, 10.16852177,\n",
       "       10.15503107, 10.13769161, 10.14487474, 10.13707153, 10.13424841,\n",
       "       10.1188338 , 10.12088946])"
      ]
     },
     "execution_count": 53,
     "metadata": {},
     "output_type": "execute_result"
    }
   ],
   "source": [
    "y_down=y_new-tstu*sigma\n",
    "y_down"
   ]
  },
  {
   "cell_type": "code",
   "execution_count": 54,
   "id": "brutal-terrain",
   "metadata": {},
   "outputs": [
    {
     "data": {
      "text/plain": [
       "array([ 1,  2,  3,  4,  5,  6,  7,  8,  9, 10, 11, 12, 13, 14, 15, 16, 17,\n",
       "       18, 19, 20, 21, 22, 23, 24, 25, 26, 27, 28, 29, 30, 31, 32, 33, 34,\n",
       "       35, 36, 37, 38, 39, 40, 41, 42])"
      ]
     },
     "execution_count": 54,
     "metadata": {},
     "output_type": "execute_result"
    }
   ],
   "source": [
    "t = np.arange(1, len(y) + 1)\n",
    "t"
   ]
  },
  {
   "cell_type": "code",
   "execution_count": 55,
   "id": "rubber-twins",
   "metadata": {},
   "outputs": [
    {
     "data": {
      "text/plain": [
       "array([[43],\n",
       "       [44],\n",
       "       [45],\n",
       "       [46],\n",
       "       [47],\n",
       "       [48],\n",
       "       [49],\n",
       "       [50],\n",
       "       [51],\n",
       "       [52],\n",
       "       [53],\n",
       "       [54]])"
      ]
     },
     "execution_count": 55,
     "metadata": {},
     "output_type": "execute_result"
    }
   ],
   "source": [
    "t_new = np.arange(len(y) + 1,len(y)+13)\n",
    "t_new=t_new.reshape(-1,1)\n",
    "t_new"
   ]
  },
  {
   "cell_type": "code",
   "execution_count": 56,
   "id": "presidential-information",
   "metadata": {},
   "outputs": [
    {
     "data": {
      "image/png": "[encoded data removed]",
      "text/plain": [
       "<Figure size 1080x720 with 1 Axes>"
      ]
     },
     "metadata": {
      "needs_background": "light"
     },
     "output_type": "display_data"
    }
   ],
   "source": [
    "plt.figure(figsize=[15,10])\n",
    "\n",
    "plt.scatter(t, y)\n",
    "\n",
    "plt.plot(t,y_pred)\n",
    "plt.plot(t_new,y_new)\n",
    "plt.plot(t_new,y_up)\n",
    "plt.plot(t_new,y_down)\n",
    "\n",
    "plt.xlabel(\"Номер наблюдения\")\n",
    "plt.ylabel(\"Цена на материал 3\")\n",
    "plt.legend(['модель авторегрессии','прогноз','верхняя граница дов.интервала' ,\\\n",
    "            'нижняя граница дов.интервала'])\n",
    "\n",
    "plt.show()"
   ]
  },
  {
   "cell_type": "markdown",
   "id": "foster-murder",
   "metadata": {},
   "source": [
    "## Использование функции AutoReg"
   ]
  },
  {
   "cell_type": "markdown",
   "id": "enclosed-concert",
   "metadata": {},
   "source": [
    "https://stackoverflow.com/questions/67236144/how-does-statsmodels-calculate-in-sample-predictions-in-ar-models/67258872#67258872"
   ]
  },
  {
   "cell_type": "markdown",
   "id": "wrong-teaching",
   "metadata": {},
   "source": [
    "https://question-it.com/questions/2740330/znachenie-nachalnyh-konechnyh-parametrov-modelej-statistiki-autoregpredict"
   ]
  },
  {
   "cell_type": "code",
   "execution_count": 80,
   "id": "younger-rehabilitation",
   "metadata": {},
   "outputs": [
    {
     "name": "stdout",
     "output_type": "stream",
     "text": [
      "Coefficients: [-1.13058381  0.24478978  0.67201834 -0.06657351 -0.33216294  0.30568777\n",
      "  0.28957294]\n",
      "predicted=10.164315, expected=10.150000\n",
      "predicted=10.160408, expected=10.150000\n",
      "predicted=10.178747, expected=10.180000\n",
      "predicted=10.188771, expected=10.180000\n",
      "predicted=10.195997, expected=10.160000\n",
      "predicted=10.206059, expected=10.170000\n",
      "predicted=10.209570, expected=10.140000\n",
      "predicted=10.217855, expected=10.160000\n",
      "predicted=10.227548, expected=10.120000\n",
      "predicted=10.237024, expected=10.140000\n",
      "predicted=10.249307, expected=10.120000\n",
      "predicted=10.259272, expected=10.150000\n",
      "Test RMSE: 0.071\n"
     ]
    },
    {
     "data": {
      "image/png": "[encoded data removed]",
      "text/plain": [
       "<Figure size 432x288 with 1 Axes>"
      ]
     },
     "metadata": {
      "needs_background": "light"
     },
     "output_type": "display_data"
    }
   ],
   "source": [
    "# create and evaluate a static autoregressive model\n",
    "# split dataset\n",
    "X = series.values\n",
    "train, test = X[0:len(X)-12], X[len(X)-12:]\n",
    "# train autoregression\n",
    "model = AutoReg(train, lags=6,old_names=False)\n",
    "model_fit = model.fit()\n",
    "print('Coefficients: %s' % model_fit.params)\n",
    "# make predictions\n",
    "predictions = model_fit.predict(start=len(train), end=len(train)+len(test)-1, dynamic=False)\n",
    "for i in range(len(predictions)):\n",
    "\tprint('predicted=%f, expected=%f' % (predictions[i], test[i]))\n",
    "rmse = sqrt(mean_squared_error(test, predictions))\n",
    "print('Test RMSE: %.3f' % rmse)\n",
    "# plot results\n",
    "plt.plot(test)\n",
    "plt.plot(predictions, color='red')\n",
    "plt.show()"
   ]
  },
  {
   "cell_type": "markdown",
   "id": "biological-chain",
   "metadata": {},
   "source": [
    "Имитируем пересчет значений по модели при поступлении каждого нового наблюдения. Расчет ведется на основе найденных в ходе обучения коэффициентов и последних наблюдений в количестве, равном лагу."
   ]
  },
  {
   "cell_type": "code",
   "execution_count": 79,
   "id": "welcome-devon",
   "metadata": {},
   "outputs": [
    {
     "name": "stdout",
     "output_type": "stream",
     "text": [
      "predicted=10.164315, expected=10.150000\n",
      "predicted=10.156904, expected=10.150000\n",
      "predicted=10.166579, expected=10.180000\n",
      "predicted=10.183036, expected=10.180000\n",
      "predicted=10.200140, expected=10.160000\n",
      "predicted=10.190351, expected=10.170000\n",
      "predicted=10.169394, expected=10.140000\n",
      "predicted=10.179272, expected=10.160000\n",
      "predicted=10.178672, expected=10.120000\n",
      "predicted=10.174883, expected=10.140000\n",
      "predicted=10.158797, expected=10.120000\n",
      "predicted=10.157086, expected=10.150000\n",
      "Test RMSE: 0.029\n"
     ]
    },
    {
     "data": {
      "image/png": "[encoded data removed]",
      "text/plain": [
       "<Figure size 432x288 with 1 Axes>"
      ]
     },
     "metadata": {
      "needs_background": "light"
     },
     "output_type": "display_data"
    }
   ],
   "source": [
    "# create and evaluate an updated autoregressive model\n",
    "# split dataset\n",
    "X = series.values\n",
    "train, test = X[0:len(X)-12], X[len(X)-12:]\n",
    "# train autoregression\n",
    "window = 6\n",
    "model = AutoReg(train, lags=6,old_names=False)\n",
    "model_fit = model.fit()\n",
    "coef = model_fit.params\n",
    "# walk forward over time steps in test\n",
    "history = train[len(train)-window:]\n",
    "history = [history[i] for i in range(len(history))]\n",
    "predictions = list()\n",
    "for t in range(len(test)):\n",
    "\tlength = len(history)\n",
    "\tlag = [history[i] for i in range(length-window,length)]\n",
    "\tyhat = coef[0]\n",
    "\tfor d in range(window):\n",
    "\t\tyhat += coef[d+1] * lag[window-d-1]\n",
    "\tobs = test[t]\n",
    "\tpredictions.append(yhat)\n",
    "\thistory.append(obs)\n",
    "\tprint('predicted=%f, expected=%f' % (yhat, obs))\n",
    "rmse = sqrt(mean_squared_error(test, predictions))\n",
    "print('Test RMSE: %.3f' % rmse)\n",
    "# plot\n",
    "plt.plot(test)\n",
    "plt.plot(predictions, color='red')\n",
    "plt.show()"
   ]
  },
  {
   "cell_type": "markdown",
   "id": "renewable-reputation",
   "metadata": {},
   "source": [
    "## Grid Search AR Model Hyperparameters"
   ]
  },
  {
   "cell_type": "code",
   "execution_count": 59,
   "id": "durable-fundamental",
   "metadata": {},
   "outputs": [
    {
     "name": "stdout",
     "output_type": "stream",
     "text": [
      "ARIMA0 RMSE=0.069\n",
      "ARIMA1 RMSE=0.023\n",
      "ARIMA2 RMSE=0.018\n",
      "ARIMA4 RMSE=0.019\n",
      "ARIMA6 RMSE=0.022\n",
      "Best AR2 RMSE=0.018\n"
     ]
    }
   ],
   "source": [
    "# grid search AR parameter for time series\n",
    "def evaluate_ar_model(X, ar_order):\n",
    "\t# prepare training dataset\n",
    "\ttrain_size = 36\n",
    "\ttrain, test = X[0:train_size], X[train_size:]\n",
    "\thistory = [x for x in train]\n",
    "\t# make predictions\n",
    "\tpredictions = list()\n",
    "\tfor t in range(len(test)):\n",
    "\t\tmodel = AutoReg(history, lags=ar_order)\n",
    "\t\tmodel_fit = model.fit()\n",
    "\t\tyhat = model_fit.forecast()[0]\n",
    "\t\tpredictions.append(yhat)\n",
    "\t\thistory.append(test[t])\n",
    "\t# calculate out of sample error\n",
    "\trmse = sqrt(mean_squared_error(test, predictions))\n",
    "\treturn rmse\n",
    "\n",
    "# evaluate p values for an AR model\n",
    "def evaluate_models(dataset, p_values):\n",
    "\tdataset = dataset.astype('float32')\n",
    "\tbest_score, best_cfg = float(\"inf\"), None\n",
    "\tfor p in p_values:\n",
    "            rmse = evaluate_ar_model(dataset, p)\n",
    "            if rmse < best_score:\n",
    "                best_score, best_cfg = rmse, p\n",
    "            print('ARIMA%s RMSE=%.3f' % (p,rmse))\n",
    "\tprint('Best AR%s RMSE=%.3f' % (best_cfg, best_score))\n",
    "\n",
    "# evaluate parameters\n",
    "p_values = [0, 1, 2, 4, 6]\n",
    "warnings.filterwarnings(\"ignore\")\n",
    "evaluate_models(series.values, p_values)"
   ]
  },
  {
   "cell_type": "code",
   "execution_count": 60,
   "id": "editorial-trance",
   "metadata": {},
   "outputs": [
    {
     "data": {
      "text/plain": [
       "array([1, 2])"
      ]
     },
     "execution_count": 60,
     "metadata": {},
     "output_type": "execute_result"
    }
   ],
   "source": [
    "modelp = ar_select_order(train, maxlag=max_tau)\n",
    "modelp.ar_lags"
   ]
  },
  {
   "cell_type": "markdown",
   "id": "contemporary-disaster",
   "metadata": {},
   "source": [
    "Оптимальная задержка p составляет 2."
   ]
  },
  {
   "cell_type": "code",
   "execution_count": 61,
   "id": "written-sequence",
   "metadata": {},
   "outputs": [
    {
     "name": "stdout",
     "output_type": "stream",
     "text": [
      "Coefficients: [-0.15743569  0.41955524  0.59655133]\n",
      "predicted=10.162012, expected=10.150000\n",
      "predicted=10.161086, expected=10.150000\n",
      "predicted=10.167863, expected=10.180000\n",
      "predicted=10.170154, expected=10.180000\n",
      "predicted=10.175158, expected=10.160000\n",
      "predicted=10.178624, expected=10.170000\n",
      "predicted=10.183063, expected=10.140000\n",
      "predicted=10.186993, expected=10.160000\n",
      "predicted=10.191291, expected=10.120000\n",
      "predicted=10.195438, expected=10.140000\n",
      "predicted=10.199742, expected=10.120000\n",
      "predicted=10.204022, expected=10.150000\n",
      "Test RMSE: 0.042\n"
     ]
    },
    {
     "data": {
      "image/png": "[encoded data removed]",
      "text/plain": [
       "<Figure size 432x288 with 1 Axes>"
      ]
     },
     "metadata": {
      "needs_background": "light"
     },
     "output_type": "display_data"
    }
   ],
   "source": [
    "# create and evaluate a static autoregressive model\n",
    "# split dataset\n",
    "X = series.values\n",
    "train, test = X[0:len(X)-12], X[len(X)-12:]\n",
    "# train autoregression\n",
    "model = AutoReg(train, lags=modelp.ar_lags)\n",
    "model_fit = model.fit()\n",
    "print('Coefficients: %s' % model_fit.params)\n",
    "# make predictions\n",
    "predictions = model_fit.predict(start=len(train), end=len(train)+len(test)-1, dynamic=False)\n",
    "for i in range(len(predictions)):\n",
    "\tprint('predicted=%f, expected=%f' % (predictions[i], test[i]))\n",
    "rmse = sqrt(mean_squared_error(test, predictions))\n",
    "print('Test RMSE: %.3f' % rmse)\n",
    "# plot results\n",
    "plt.plot(test)\n",
    "plt.plot(predictions, color='red')\n",
    "plt.show()"
   ]
  },
  {
   "cell_type": "code",
   "execution_count": 62,
   "id": "executed-amber",
   "metadata": {},
   "outputs": [
    {
     "name": "stdout",
     "output_type": "stream",
     "text": [
      "predicted=10.162012, expected=10.150000\n",
      "predicted=10.156046, expected=10.150000\n",
      "predicted=10.156046, expected=10.180000\n",
      "predicted=10.168633, expected=10.180000\n",
      "predicted=10.186529, expected=10.160000\n",
      "predicted=10.178138, expected=10.170000\n",
      "predicted=10.170403, expected=10.140000\n",
      "predicted=10.163782, expected=10.160000\n",
      "predicted=10.154276, expected=10.120000\n",
      "predicted=10.149425, expected=10.140000\n",
      "predicted=10.133954, expected=10.120000\n",
      "predicted=10.137494, expected=10.150000\n",
      "Test RMSE: 0.019\n"
     ]
    },
    {
     "data": {
      "image/png": "[encoded data removed]",
      "text/plain": [
       "<Figure size 432x288 with 1 Axes>"
      ]
     },
     "metadata": {
      "needs_background": "light"
     },
     "output_type": "display_data"
    }
   ],
   "source": [
    "# create and evaluate an updated autoregressive model\n",
    "# split dataset\n",
    "X = series.values\n",
    "train, test = X[0:len(X)-12], X[len(X)-12:]\n",
    "# train autoregression\n",
    "window = 2\n",
    "model = AutoReg(train, lags=2,old_names=False)\n",
    "model_fit = model.fit()\n",
    "coef = model_fit.params\n",
    "# walk forward over time steps in test\n",
    "history = train[len(train)-window:]\n",
    "history = [history[i] for i in range(len(history))]\n",
    "predictions = list()\n",
    "for t in range(len(test)):\n",
    "\tlength = len(history)\n",
    "\tlag = [history[i] for i in range(length-window,length)]\n",
    "\tyhat = coef[0]\n",
    "\tfor d in range(window):\n",
    "\t\tyhat += coef[d+1] * lag[window-d-1]\n",
    "\tobs = test[t]\n",
    "\tpredictions.append(yhat)\n",
    "\thistory.append(obs)\n",
    "\tprint('predicted=%f, expected=%f' % (yhat, obs))\n",
    "rmse = sqrt(mean_squared_error(test, predictions))\n",
    "print('Test RMSE: %.3f' % rmse)\n",
    "# plot\n",
    "plt.plot(test)\n",
    "plt.plot(predictions, color='red')\n",
    "plt.show()"
   ]
  },
  {
   "cell_type": "markdown",
   "id": "stable-hammer",
   "metadata": {},
   "source": [
    "Метод ar_select_order также может искать модели, которые не включают все задержки, если вы установите glob=True. При этом данная функция возвращает модель, которая считается оптимальной с использованием информационных критериев. В частности, по умолчанию используется BIC (Bayesian Information Criterion, байесовский информационный критерий). Обычно мы выбираем модель с наименьшим BIC."
   ]
  },
  {
   "cell_type": "code",
   "execution_count": 66,
   "id": "instructional-auckland",
   "metadata": {},
   "outputs": [
    {
     "data": {
      "text/plain": [
       "array([ 2,  4,  5,  6, 12])"
      ]
     },
     "execution_count": 66,
     "metadata": {},
     "output_type": "execute_result"
    }
   ],
   "source": [
    "modelp = ar_select_order(train, maxlag=max_tau, ic=\"aic\", glob=True)\n",
    "modelp.ar_lags"
   ]
  },
  {
   "cell_type": "code",
   "execution_count": 67,
   "id": "downtown-illustration",
   "metadata": {},
   "outputs": [
    {
     "data": {
      "text/plain": [
       "-7.726017433110175"
      ]
     },
     "execution_count": 67,
     "metadata": {},
     "output_type": "execute_result"
    }
   ],
   "source": [
    "model=AutoReg(endog=train, lags=[2,4,5,6,12])\n",
    "res = model.fit()\n",
    "res.aic"
   ]
  },
  {
   "cell_type": "code",
   "execution_count": 68,
   "id": "adolescent-directive",
   "metadata": {},
   "outputs": [
    {
     "data": {
      "text/plain": [
       "-7.726017433110175"
      ]
     },
     "execution_count": 68,
     "metadata": {},
     "output_type": "execute_result"
    }
   ],
   "source": [
    "model=AutoReg(endog=train, lags=modelp.ar_lags)\n",
    "res = model.fit()\n",
    "res.aic"
   ]
  },
  {
   "cell_type": "code",
   "execution_count": 74,
   "id": "complex-dairy",
   "metadata": {},
   "outputs": [
    {
     "data": {
      "text/plain": [
       "array([2, 5])"
      ]
     },
     "execution_count": 74,
     "metadata": {},
     "output_type": "execute_result"
    }
   ],
   "source": [
    "modelp = ar_select_order(train, maxlag=max_tau, glob=True)\n",
    "modelp.ar_lags"
   ]
  },
  {
   "cell_type": "code",
   "execution_count": 75,
   "id": "chubby-period",
   "metadata": {},
   "outputs": [
    {
     "data": {
      "text/plain": [
       "array([2, 5])"
      ]
     },
     "execution_count": 75,
     "metadata": {},
     "output_type": "execute_result"
    }
   ],
   "source": [
    "modelp = ar_select_order(train, maxlag=max_tau, ic=\"bic\", glob=True)\n",
    "modelp.ar_lags"
   ]
  },
  {
   "cell_type": "code",
   "execution_count": 76,
   "id": "warming-hungarian",
   "metadata": {},
   "outputs": [
    {
     "data": {
      "text/plain": [
       "-7.417259563193276"
      ]
     },
     "execution_count": 76,
     "metadata": {},
     "output_type": "execute_result"
    }
   ],
   "source": [
    "model=AutoReg(endog=train, lags=modelp.ar_lags)\n",
    "res = model.fit()\n",
    "res.bic"
   ]
  },
  {
   "cell_type": "code",
   "execution_count": 77,
   "id": "responsible-light",
   "metadata": {},
   "outputs": [
    {
     "name": "stdout",
     "output_type": "stream",
     "text": [
      "Coefficients: [-0.81924355  0.74785224  0.33450762]\n",
      "predicted=10.167497, expected=10.150000\n",
      "predicted=10.163364, expected=10.150000\n",
      "predicted=10.183140, expected=10.180000\n",
      "predicted=10.180048, expected=10.180000\n",
      "predicted=10.191493, expected=10.160000\n",
      "predicted=10.195034, expected=10.170000\n",
      "predicted=10.202210, expected=10.140000\n",
      "predicted=10.211473, expected=10.160000\n",
      "predicted=10.215806, expected=10.120000\n",
      "predicted=10.226561, expected=10.140000\n",
      "predicted=10.230986, expected=10.120000\n",
      "predicted=10.241430, expected=10.150000\n",
      "Test RMSE: 0.062\n"
     ]
    },
    {
     "data": {
      "image/png": "[encoded data removed]",
      "text/plain": [
       "<Figure size 432x288 with 1 Axes>"
      ]
     },
     "metadata": {
      "needs_background": "light"
     },
     "output_type": "display_data"
    }
   ],
   "source": [
    "# create and evaluate a static autoregressive model\n",
    "# split dataset\n",
    "X = series.values\n",
    "train, test = X[0:len(X)-12], X[len(X)-12:]\n",
    "# train autoregression\n",
    "model = AutoReg(train, lags=modelp.ar_lags)\n",
    "model_fit = model.fit()\n",
    "print('Coefficients: %s' % model_fit.params)\n",
    "# make predictions\n",
    "predictions = model_fit.predict(start=len(train), end=len(train)+len(test)-1, dynamic=False)\n",
    "for i in range(len(predictions)):\n",
    "\tprint('predicted=%f, expected=%f' % (predictions[i], test[i]))\n",
    "rmse = sqrt(mean_squared_error(test, predictions))\n",
    "print('Test RMSE: %.3f' % rmse)\n",
    "# plot results\n",
    "plt.plot(test)\n",
    "plt.plot(predictions, color='red')\n",
    "plt.show()"
   ]
  },
  {
   "cell_type": "markdown",
   "id": "present-glossary",
   "metadata": {},
   "source": [
    "Имитируем пересчет значений по модели при поступлении каждого нового наблюдения. Расчет ведется на основе найденных в ходе обучения коэффициентов и последних наблюдений в количестве, равном лагу."
   ]
  },
  {
   "cell_type": "code",
   "execution_count": 78,
   "id": "linear-madagascar",
   "metadata": {},
   "outputs": [
    {
     "name": "stdout",
     "output_type": "stream",
     "text": [
      "predicted=10.170054, expected=10.150000\n",
      "predicted=10.166709, expected=10.150000\n",
      "predicted=10.166709, expected=10.180000\n",
      "predicted=10.189145, expected=10.180000\n",
      "predicted=10.199180, expected=10.160000\n",
      "predicted=10.184223, expected=10.170000\n",
      "predicted=10.185011, expected=10.140000\n",
      "predicted=10.165921, expected=10.160000\n",
      "predicted=10.170843, expected=10.120000\n",
      "predicted=10.147619, expected=10.140000\n",
      "predicted=10.149195, expected=10.120000\n",
      "predicted=10.140928, expected=10.150000\n",
      "Test RMSE: 0.026\n"
     ]
    },
    {
     "data": {
      "image/png": "[encoded data removed]",
      "text/plain": [
       "<Figure size 432x288 with 1 Axes>"
      ]
     },
     "metadata": {
      "needs_background": "light"
     },
     "output_type": "display_data"
    }
   ],
   "source": [
    "# create and evaluate an updated autoregressive model\n",
    "# split dataset\n",
    "X = series.values\n",
    "train, test = X[0:len(X)-12], X[len(X)-12:]\n",
    "# train autoregression\n",
    "window = 2\n",
    "model = AutoReg(train, lags=modelp.ar_lags,old_names=False)\n",
    "model_fit = model.fit()\n",
    "coef = model_fit.params\n",
    "# walk forward over time steps in test\n",
    "history = train[len(train)-window:]\n",
    "history = [history[i] for i in range(len(history))]\n",
    "predictions = list()\n",
    "for t in range(len(test)):\n",
    "\tlength = len(history)\n",
    "\tlag = [history[i] for i in range(length-window,length)]\n",
    "\tyhat = coef[0]\n",
    "\tfor d in range(window):\n",
    "\t\tyhat += coef[d+1] * lag[window-d-1]\n",
    "\tobs = test[t]\n",
    "\tpredictions.append(yhat)\n",
    "\thistory.append(obs)\n",
    "\tprint('predicted=%f, expected=%f' % (yhat, obs))\n",
    "rmse = sqrt(mean_squared_error(test, predictions))\n",
    "print('Test RMSE: %.3f' % rmse)\n",
    "# plot\n",
    "plt.plot(test)\n",
    "plt.plot(predictions, color='red')\n",
    "plt.show()"
   ]
  },
  {
   "cell_type": "code",
   "execution_count": null,
   "id": "becoming-aggregate",
   "metadata": {},
   "outputs": [],
   "source": []
  }
 ],
 "metadata": {
  "kernelspec": {
   "display_name": "Python 3",
   "language": "python",
   "name": "python3"
  },
  "language_info": {
   "codemirror_mode": {
    "name": "ipython",
    "version": 3
   },
   "file_extension": ".py",
   "mimetype": "text/x-python",
   "name": "python",
   "nbconvert_exporter": "python",
   "pygments_lexer": "ipython3",
   "version": "3.7.4"
  }
 },
 "nbformat": 4,
 "nbformat_minor": 5
}
